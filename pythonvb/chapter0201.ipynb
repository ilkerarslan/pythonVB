{
 "cells": [
  {
   "cell_type": "markdown",
   "metadata": {},
   "source": [
    "# NumPy Paketi\n",
    "\n",
    "Önceki bölümlerde incelediğimiz liste veri yapısı Python’a özel ve son derece kullanışlı bir veri türüdür. Listeleri kullanarak verileri bir arada saklayabilir ve bunlar üzerinde değişiklikler yapabilir, yeni veriler ekleyebilir ya da mevcut verileri çıkarabiliriz. Ancak, liste veri yapısında günlük hayattaki kullanımlarımızda çok ihtiyaç duyacağımız bir özellik yoktur. Liste veri yapısında, veriler üzerinde analizler yapmak, matematiksel ya da istatistiksel işlemler uygulamak mümkün olmamaktadır. Halbuki R ya da Matlab gibi diğer dillerde bu tip işlemler kolaylıkla yapılabilmektedir. \n",
    "\n",
    "Diyelim ki bir sınıftaki öğrencilerin iki sınavdan aldıkları notları iki listede kaydettiniz ve şimdi de ortalamalarını hesaplamak istiyorsunuz. Normalde bunu basit bir şekilde (sinav_1 + sinav_2) / 2 yazarak yapabilmelisiniz. Ancak Python listelerinde bu işlemi yapmak istediğimizde aşağıdaki hata mesajını alıyoruz. Çünkü Python normal liste veri yapıları ile matematik işlemi yapmayı bilmiyor."
   ]
  },
  {
   "cell_type": "code",
   "execution_count": 1,
   "metadata": {},
   "outputs": [],
   "source": [
    "sinav_1 = [100, 84, 76, 48, 36, 77, 90]\n",
    "sinav_2 = [95, 78, 66, 57, 75, 89, 95]"
   ]
  },
  {
   "cell_type": "markdown",
   "metadata": {},
   "source": [
    "```Python\n",
    "(sinav_1 + sinav_2) / 2\n",
    "```\n",
    "\n",
    "```\n",
    "Traceback (most recent call last):\n",
    "  File \"<stdin>\", line 1, in <module>\n",
    "TypeError: unsupported operand type(s) for /: 'list' and 'int'\n",
    "```\n",
    "\n",
    "NumPy paketi listelerde matematiksel işlem yapabilmek için geliştirilmiştir. Paket ismi Numeric Python (Sayısal Python) kelimelerinin kısaltılmasından oluşmuştur. NumPy paketinde temel veri yapısı listeler yerine NumPy dizileridir (NumPy array). Numpy dizilerinin normal listelerden farkı, listeler farklı türde veriler içerebiliyorken, Numpy dizilerinin sadece tek türde veriler içerebilmesidir. Bir Numpy dizisine farklı veri türleri tanımlarsanız, bunların hepsi aynı veri tipine çevrilir. Örneğin, diziye sayısal veriler ve metin verileri tanımlanırsa, metinler sayısal veriye çevrilemeyeceği için tüm sayısal veriler metin veri tipine çevrilir. "
   ]
  },
  {
   "cell_type": "code",
   "execution_count": 3,
   "metadata": {},
   "outputs": [
    {
     "name": "stdout",
     "output_type": "stream",
     "text": [
      "['Adana' '1' 'Adıyaman' '2' 'Afyon' '3']\n"
     ]
    }
   ],
   "source": [
    "import numpy as np\n",
    "\n",
    "numpy_dizi = np.array([\"Adana\", 1, \"Adıyaman\", 2, \"Afyon\", 3])\n",
    "print(numpy_dizi)"
   ]
  },
  {
   "cell_type": "markdown",
   "metadata": {},
   "source": [
    "NumPy paketin kullanabilmek için öncelikle her oturumda paketi içeri aktarmalıyız. "
   ]
  },
  {
   "cell_type": "code",
   "execution_count": 4,
   "metadata": {},
   "outputs": [],
   "source": [
    "import numpy"
   ]
  },
  {
   "cell_type": "markdown",
   "metadata": {},
   "source": [
    "Bir paketi içeri aktardıktan sonra pakette yer alan fonksiyon ve metodları kullanabilmek için paket ismi ve sonrasında nokta (numpy.) yazmak gerektiğini önceki bölümde görmüştük. Her defasında numpy yazmak zor geliyorsa daha kısa bir isim de belirlenebilir. "
   ]
  },
  {
   "cell_type": "code",
   "execution_count": 5,
   "metadata": {},
   "outputs": [
    {
     "data": {
      "text/plain": [
       "array([23, 34, 54, 42, 34, 22, 10, 18, 22])"
      ]
     },
     "execution_count": 5,
     "metadata": {},
     "output_type": "execute_result"
    }
   ],
   "source": [
    "import numpy as np\n",
    "\n",
    "olcum = [23, 34, 54, 42, 34, 22, 10, 18, 22]\n",
    "olcum_np = np.array(olcum)\n",
    "olcum_np = np.array([23, 34, 54, 42, 34, 22, 10, 18, 22])\n",
    "olcum_np"
   ]
  },
  {
   "cell_type": "code",
   "execution_count": 6,
   "metadata": {},
   "outputs": [
    {
     "name": "stdout",
     "output_type": "stream",
     "text": [
      "[23 34 54 42 34 22 10 18 22]\n"
     ]
    }
   ],
   "source": [
    "print(olcum_np)"
   ]
  },
  {
   "cell_type": "markdown",
   "metadata": {},
   "source": [
    "Görüldüğü gibi, numpy array veri tipinin görünüşte listeden hiçbir farkı yoktur. \n",
    "\n",
    "Yukarıda yapmaya çalıştığımız not ortalaması işlemini şimdi numpy array ile yapmaya çalışalım. "
   ]
  },
  {
   "cell_type": "code",
   "execution_count": 7,
   "metadata": {},
   "outputs": [
    {
     "name": "stdout",
     "output_type": "stream",
     "text": [
      "[97.5 81.  71.  52.5 55.5 83.  92.5]\n"
     ]
    }
   ],
   "source": [
    "sinav_1 = [100, 84, 76, 48, 36, 77, 90]\n",
    "sinav_2 = [95, 78, 66, 57, 75, 89, 95]\n",
    "sinav_1_np = np.array(sinav_1)\n",
    "sinav_2_np = np.array(sinav_2)\n",
    "ortalama = (sinav_1_np + sinav_2_np) / 2\n",
    "print(ortalama)"
   ]
  },
  {
   "cell_type": "markdown",
   "metadata": {},
   "source": [
    "Numpy dizilerinde işlemler eleman bazında gerçekleşir. Yukarıdaki örnekte `sinav_1_np` ve `sinav_2_np` arasında toplama işlemi yaptığımızda bunların aynı sıradaki elemanları toplandı. \n",
    "\n",
    "Numpy paketinin matematiksel işlemler yapmak için geliştirilmiş olduğunu belirtmiştik. Bu nedenle listeler için kullanılan metodların bazıları Numpy dizilerinde işe yaramayabilir ya da farklı sonuçlar verebilir. Örneğin, iki listeye `+` işleminin uygulanması, bu iki listeyi birleştirir."
   ]
  },
  {
   "cell_type": "code",
   "execution_count": 8,
   "metadata": {},
   "outputs": [
    {
     "data": {
      "text/plain": [
       "[100, 84, 76, 48, 36, 77, 90, 95, 78, 66, 57, 75, 89, 95]"
      ]
     },
     "execution_count": 8,
     "metadata": {},
     "output_type": "execute_result"
    }
   ],
   "source": [
    "sinav_1 + sinav_2"
   ]
  },
  {
   "cell_type": "markdown",
   "metadata": {},
   "source": [
    " Diğer taraftan iki Numpy dizisine + işlemi uygulanırsa bu, matematiksel toplama anlamına gelir ve iki dizinin aynı sıradaki elemanları aritmetik olarak toplanır. "
   ]
  },
  {
   "cell_type": "code",
   "execution_count": 9,
   "metadata": {},
   "outputs": [
    {
     "data": {
      "text/plain": [
       "array([195, 162, 142, 105, 111, 166, 185])"
      ]
     },
     "execution_count": 9,
     "metadata": {},
     "output_type": "execute_result"
    }
   ],
   "source": [
    "sinav_1_np + sinav_2_np"
   ]
  },
  {
   "cell_type": "markdown",
   "metadata": {},
   "source": [
    "Numpy dizilerinde sıra numarasına göre eleman seçme, normal listelerle aynıdır. "
   ]
  },
  {
   "cell_type": "code",
   "execution_count": 10,
   "metadata": {},
   "outputs": [
    {
     "data": {
      "text/plain": [
       "100"
      ]
     },
     "execution_count": 10,
     "metadata": {},
     "output_type": "execute_result"
    }
   ],
   "source": [
    "sinav_1_np[0]"
   ]
  },
  {
   "cell_type": "code",
   "execution_count": 11,
   "metadata": {},
   "outputs": [
    {
     "data": {
      "text/plain": [
       "57"
      ]
     },
     "execution_count": 11,
     "metadata": {},
     "output_type": "execute_result"
    }
   ],
   "source": [
    "sinav_2_np[3]"
   ]
  },
  {
   "cell_type": "markdown",
   "metadata": {},
   "source": [
    "Numpy dizilerinde istenen şartları taşıyan elemanları seçtirmek de mümkündür. Bunun için mantıksal operatörlerden faydalanılır. Diyelim ki yukarıda hesapladığınız ortalama dizisinde, geçme notu olan 70’in altındaki ortalamaları görmek istiyorsunuz. \n",
    "\n",
    "Önce, hangi sıradaki elemanların istenen şartı sağladığını belirlemeliyiz."
   ]
  },
  {
   "cell_type": "code",
   "execution_count": 12,
   "metadata": {},
   "outputs": [
    {
     "data": {
      "text/plain": [
       "array([False, False, False,  True,  True, False, False])"
      ]
     },
     "execution_count": 12,
     "metadata": {},
     "output_type": "execute_result"
    }
   ],
   "source": [
    "ortalama < 70"
   ]
  },
  {
   "cell_type": "markdown",
   "metadata": {},
   "source": [
    "İncelediğimiz dizi ile aynı uzunlukta bir mantıksal (bool) dizi ürettik. Bu dizinin elemanları aranan şartı sağlıyorsa True, sağlamıyorsa False olacaktır. Şimdi, ortalama dizisinde istediğimiz şartları sağlayan elemanları seçmek için yukarıda yazdığımız mantıksal ifadeyi dizinin kendisine uygulayacağız. "
   ]
  },
  {
   "cell_type": "code",
   "execution_count": 13,
   "metadata": {},
   "outputs": [
    {
     "data": {
      "text/plain": [
       "array([52.5, 55.5])"
      ]
     },
     "execution_count": 13,
     "metadata": {},
     "output_type": "execute_result"
    }
   ],
   "source": [
    "ortalama[ortalama < 70]"
   ]
  },
  {
   "cell_type": "markdown",
   "metadata": {},
   "source": [
    "Numpy modülünde sayı dizileri oluşturmak için `.arange()`, `.linspace()` veya `.logspace()` metodlarını kullanabiliriz. Bunların kullanımlarına ilişkin örneklere bakalım. "
   ]
  },
  {
   "cell_type": "code",
   "execution_count": 14,
   "metadata": {},
   "outputs": [
    {
     "data": {
      "text/plain": [
       "array([ 1,  2,  3,  4,  5,  6,  7,  8,  9, 10])"
      ]
     },
     "execution_count": 14,
     "metadata": {},
     "output_type": "execute_result"
    }
   ],
   "source": [
    "# 1'den 10'a kadar sayılar. Argüman olarak 1 ve 11 yazdığımıza dikkat edin.\n",
    "np.arange(1, 11)"
   ]
  },
  {
   "cell_type": "code",
   "execution_count": 15,
   "metadata": {},
   "outputs": [
    {
     "data": {
      "text/plain": [
       "array([1, 3, 5, 7, 9])"
      ]
     },
     "execution_count": 15,
     "metadata": {},
     "output_type": "execute_result"
    }
   ],
   "source": [
    "# 1'den 10'a kadar sayılar. 2'şer artarak\n",
    "np.arange(1, 11, 2)"
   ]
  },
  {
   "cell_type": "code",
   "execution_count": 16,
   "metadata": {},
   "outputs": [
    {
     "data": {
      "text/plain": [
       "array([-2. , -1.8, -1.6, -1.4, -1.2, -1. , -0.8, -0.6, -0.4, -0.2,  0. ,\n",
       "        0.2,  0.4,  0.6,  0.8,  1. ,  1.2,  1.4,  1.6,  1.8,  2. ])"
      ]
     },
     "execution_count": 16,
     "metadata": {},
     "output_type": "execute_result"
    }
   ],
   "source": [
    "# linspace (linear space): -2 ve 2 arasında 21 adet eşit aralıklı sayı\n",
    "np.linspace(-2, 2, 21)"
   ]
  },
  {
   "cell_type": "code",
   "execution_count": 17,
   "metadata": {},
   "outputs": [
    {
     "data": {
      "text/plain": [
       "array([   1.,   10.,  100., 1000.])"
      ]
     },
     "execution_count": 17,
     "metadata": {},
     "output_type": "execute_result"
    }
   ],
   "source": [
    "# logspace (logaritmic space): dizideki sayıları 10'un üssü olarak yazar.\n",
    "# Aşağıdaki dizide 10^0, 10^1, 10^2 ve 10^3 sayıları üretilir.\n",
    "np.logspace(0, 3, 4)"
   ]
  },
  {
   "cell_type": "markdown",
   "metadata": {},
   "source": [
    "## Çok Boyutlu NumPy Dizileri\n",
    "\n",
    "Şimdiye kadar gördüğümüz liste, sözlük, numpy dizisi gibi veri yapıları hep bir boyutlu nesnelerdi. Bir boyuttan kastımız, bunların sadece uzunluğunun olduğu. Noktaların yan yana gelip tek boyutlu geometrik şekiller olan doğruları oluşturması gibi veriler yan yana gelerek tek boyutlu veri nesnesi olan listeleri veya dizileri meydana getirebilir. Ama, birden fazla boyutu olan veri yapıları da vardır. Örneğin aşağıdaki tablo satır ve sütunlardan yani iki boyuttan oluşmaktadır.\n",
    "\n",
    "![mtcars](figures/mtcars.png)\n",
    "\n",
    "Yukarıdaki tabloda görülen mtcars veri seti iki boyutlu bir veri nesnesine örnek verilebilir. Nasıl ki iki boyutlu geometrik şekillerin eni ve boyu varsa iki boyutlu veri yapılarının da satır ve sütunları vardır. \n",
    " \n",
    "Aynı veya farklı özelliklere sahip iki boyutlu veri tabloları üst üste getirdiğimizi düşünelim. Tabii ki bilgisayar hafızasında veriler bu şekilde saklanmaz. Ancak düşünme kolaylığı olması için yukarıdaki gibi ama farklı veriler içeren 10 tane tabloyu üst üste koyarsak üç boyutlu küpe benzeyen bir veri yapısı ile karşılaşacağız. Veriler iki veya üç boyutlu olabileceği gibi çok daha fazla boyuta da sahip olabilir. \n",
    "\n",
    "Bir veri nesnesinin kaç boyutlu olduğu o veri nesnesindeki herhangi bir veriye erişmek için kaç tane bilgiye ihtiyaç duyduğumuzla da ilgilidir. Örneğin, bir listede herhangi bir veriye ulaşmak için sadece verinin listedeki sıra numarasını (indeksini) bilmek yeterlidir. Yukarıdaki gibi bir tabloda ise herhangi bir veriye erişebilmek için o verinin hangi satırda ve sütunda olduğunu bilmeliyim. Yani iki bilgiye ihtiyacım var. Üç boyutlu bir veri küpünde ise herhangi bir veriye erişebilmek için verinin satır, sütun ve yüksekliğini bilmeliyim. Aynısı, daha yüksek boyutlu veri nesneleri için de geçerlidir.\n",
    "\n",
    "Numpy dizileri aslında n-boyutlu diziler olarak tanımlanmıştır. Bir numpy dizisinin türünü `type()` fonksiyonunu kullanarak görmek istediğimizde `numpy.ndarray` olduğunu görürüz. Bu ifadedeki ndarray ifadesi, n dimensional array yani n boyutlu dizi anlamına gelir."
   ]
  },
  {
   "cell_type": "code",
   "execution_count": 18,
   "metadata": {},
   "outputs": [
    {
     "data": {
      "text/plain": [
       "numpy.ndarray"
      ]
     },
     "execution_count": 18,
     "metadata": {},
     "output_type": "execute_result"
    }
   ],
   "source": [
    "hisse = np.array([3.4, 3.6, 3.9, 4.2, 4.0, 3.8])\n",
    "type(hisse)"
   ]
  },
  {
   "cell_type": "markdown",
   "metadata": {},
   "source": [
    "Numpy paketini kullanarak 2 boyutlu bir veri nesnesi oluşturmak için listelerden oluşan bir listeyi kullanabiliriz. "
   ]
  },
  {
   "cell_type": "code",
   "execution_count": 19,
   "metadata": {},
   "outputs": [
    {
     "name": "stdout",
     "output_type": "stream",
     "text": [
      "[[ 3.57  4.42  5.25 12.5  29.3 ]\n",
      " [ 3.43  4.69  5.   11.   32.12]\n",
      " [ 3.15  4.35  4.95 10.5  29.  ]]\n"
     ]
    }
   ],
   "source": [
    "hisse_fiyat = np.array([[3.57, 4.42, 5.25, 12.50, 29.30],\n",
    "                       [3.43, 4.69, 5.00, 11.00, 32.12],\n",
    "                       [3.15, 4.35, 4.95, 10.50, 29.00]])\n",
    "\n",
    "print(hisse_fiyat)"
   ]
  },
  {
   "cell_type": "markdown",
   "metadata": {},
   "source": [
    "Yukarıda yer alan iki boyutlu hisse_fiyat dizisini aynı zamanda her biri 5 veriden oluşan arka arkaya 3 dizi şeklinde de tarif edebiliriz. Ama veri analizi mantığını oturtmak ve bundan sonraki konular için de kolaylık olması açısından veri nesnesini bir tablo olarak düşünmek daha faydalı olacaktır. \n",
    "\n",
    "Numpy dizilerinde eleman seçmek için genel kural aşağıdaki gibidir:\n",
    "\n",
    "`dizi[başlangıç:bitiş:adım] `\n",
    "\n",
    "Başlangıç, alınacak ilk, bitiş ise son endeks numarasını belirtir. Adım ise kaçar adım atlayarak gidileceğini gösterir. Bu değerlerden herhangi birisi girilmezse varsayılan değerler alınır. Varsayılan değerler, başlangıç için 0, bitiş için dizideki son endeks numarası yani dizinin boyutu, adım içinse 1’dir.\n"
   ]
  },
  {
   "cell_type": "code",
   "execution_count": 21,
   "metadata": {},
   "outputs": [
    {
     "name": "stdout",
     "output_type": "stream",
     "text": [
      "[ 0  1  2  3  4  5  6  7  8  9 10 11 12 13 14 15 16 17 18 19]\n"
     ]
    }
   ],
   "source": [
    "dizi = np.arange(20)\n",
    "print(dizi)"
   ]
  },
  {
   "cell_type": "code",
   "execution_count": 22,
   "metadata": {},
   "outputs": [
    {
     "data": {
      "text/plain": [
       "array([0, 1, 2, 3, 4, 5, 6])"
      ]
     },
     "execution_count": 22,
     "metadata": {},
     "output_type": "execute_result"
    }
   ],
   "source": [
    "# İlk 7 eleman\n",
    "dizi[:7]"
   ]
  },
  {
   "cell_type": "code",
   "execution_count": 23,
   "metadata": {},
   "outputs": [
    {
     "data": {
      "text/plain": [
       "array([10, 11, 12, 13, 14, 15, 16, 17, 18, 19])"
      ]
     },
     "execution_count": 23,
     "metadata": {},
     "output_type": "execute_result"
    }
   ],
   "source": [
    "# 10. endeks numarasından sonraki elemanlar\n",
    "dizi[10:]"
   ]
  },
  {
   "cell_type": "code",
   "execution_count": 24,
   "metadata": {},
   "outputs": [
    {
     "data": {
      "text/plain": [
       "array([5, 6, 7, 8, 9])"
      ]
     },
     "execution_count": 24,
     "metadata": {},
     "output_type": "execute_result"
    }
   ],
   "source": [
    "# 5. endeks numarasından başlayıp 10. endeks numarasına kadar\n",
    "dizi[5:10]"
   ]
  },
  {
   "cell_type": "code",
   "execution_count": 25,
   "metadata": {},
   "outputs": [
    {
     "data": {
      "text/plain": [
       "array([ 0,  3,  6,  9, 12, 15, 18])"
      ]
     },
     "execution_count": 25,
     "metadata": {},
     "output_type": "execute_result"
    }
   ],
   "source": [
    "# Baştan itibaren üçer atlayarak tüm elemanlar\n",
    "dizi[::3]"
   ]
  },
  {
   "cell_type": "markdown",
   "metadata": {},
   "source": [
    "İki veya daha yüksek boyutlu dizilerde aynı kuralı, her boyut için yazdığımız endekslerin arasında virgül koyarak belirtebiliriz. "
   ]
  },
  {
   "cell_type": "code",
   "execution_count": 26,
   "metadata": {},
   "outputs": [
    {
     "data": {
      "text/plain": [
       "array([[ 0,  1,  2,  3,  4],\n",
       "       [ 5,  6,  7,  8,  9],\n",
       "       [10, 11, 12, 13, 14],\n",
       "       [15, 16, 17, 18, 19]])"
      ]
     },
     "execution_count": 26,
     "metadata": {},
     "output_type": "execute_result"
    }
   ],
   "source": [
    "matris = dizi.reshape(4,5)\n",
    "matris"
   ]
  },
  {
   "cell_type": "code",
   "execution_count": 27,
   "metadata": {},
   "outputs": [
    {
     "data": {
      "text/plain": [
       "array([[13]])"
      ]
     },
     "execution_count": 27,
     "metadata": {},
     "output_type": "execute_result"
    }
   ],
   "source": [
    "# İkinci satır, üçüncü sütun\n",
    "matris[2:3, 3:4]"
   ]
  },
  {
   "cell_type": "code",
   "execution_count": 28,
   "metadata": {},
   "outputs": [
    {
     "data": {
      "text/plain": [
       "array([[0, 1, 2],\n",
       "       [5, 6, 7]])"
      ]
     },
     "execution_count": 28,
     "metadata": {},
     "output_type": "execute_result"
    }
   ],
   "source": [
    "# İkinci satıra üçüncü sütuna kadar olan kısım\n",
    "matris[:2, :3]"
   ]
  },
  {
   "cell_type": "markdown",
   "metadata": {},
   "source": [
    "## NumPy Dizileri ile İşlemler\n",
    "\n",
    "Bir numpy dizisinin boyutlarını görmek için .shape() metodunu kullanabiliriz. "
   ]
  },
  {
   "cell_type": "code",
   "execution_count": 29,
   "metadata": {},
   "outputs": [
    {
     "data": {
      "text/plain": [
       "(3, 5)"
      ]
     },
     "execution_count": 29,
     "metadata": {},
     "output_type": "execute_result"
    }
   ],
   "source": [
    "hisse_fiyat.shape"
   ]
  },
  {
   "cell_type": "markdown",
   "metadata": {},
   "source": [
    "Şimdi de üç boyutlu bir dizi oluşturalım. "
   ]
  },
  {
   "cell_type": "code",
   "execution_count": 32,
   "metadata": {},
   "outputs": [
    {
     "name": "stdout",
     "output_type": "stream",
     "text": [
      "[[[ 2  3  4  5]\n",
      "  [ 6  7  8  9]\n",
      "  [10 11 12 13]]\n",
      "\n",
      " [[ 1  2  3  4]\n",
      "  [ 5  6  7  8]\n",
      "  [ 9 10 11 12]]]\n"
     ]
    }
   ],
   "source": [
    "dizi = np.array([[[2, 3, 4, 5],\n",
    "                  [6, 7, 8, 9],\n",
    "                  [10,11,12,13]],\n",
    "                 \n",
    "                 [[1, 2, 3, 4],\n",
    "                  [5, 6, 7, 8],\n",
    "                  [9,10,11,12]]])\n",
    "\n",
    "print(dizi)"
   ]
  },
  {
   "cell_type": "markdown",
   "metadata": {},
   "source": [
    "Üç boyutlu dizinin yüksekliğinin 2, satır sayısının 3 ve sütun sayısının 4 olduğu görülüyor.\n",
    "\n",
    "Bir dizinin transpozunu almak için `.T` metodu kullanılır. Yukarıdaki dizilerin transpozlarını alalım. "
   ]
  },
  {
   "cell_type": "code",
   "execution_count": 33,
   "metadata": {},
   "outputs": [
    {
     "data": {
      "text/plain": [
       "array([[ 3.57,  3.43,  3.15],\n",
       "       [ 4.42,  4.69,  4.35],\n",
       "       [ 5.25,  5.  ,  4.95],\n",
       "       [12.5 , 11.  , 10.5 ],\n",
       "       [29.3 , 32.12, 29.  ]])"
      ]
     },
     "execution_count": 33,
     "metadata": {},
     "output_type": "execute_result"
    }
   ],
   "source": [
    "hisse_fiyat.T"
   ]
  },
  {
   "cell_type": "code",
   "execution_count": 34,
   "metadata": {},
   "outputs": [
    {
     "data": {
      "text/plain": [
       "array([[[ 2,  1],\n",
       "        [ 6,  5],\n",
       "        [10,  9]],\n",
       "\n",
       "       [[ 3,  2],\n",
       "        [ 7,  6],\n",
       "        [11, 10]],\n",
       "\n",
       "       [[ 4,  3],\n",
       "        [ 8,  7],\n",
       "        [12, 11]],\n",
       "\n",
       "       [[ 5,  4],\n",
       "        [ 9,  8],\n",
       "        [13, 12]]])"
      ]
     },
     "execution_count": 34,
     "metadata": {},
     "output_type": "execute_result"
    }
   ],
   "source": [
    "dizi.T"
   ]
  },
  {
   "cell_type": "markdown",
   "metadata": {},
   "source": [
    "Bir numpy dizisinin farklı eksenleri (yükseklik, satır veya sütun) üzerindeki toplamları bulmak için .sum() metodu kullanılır. Toplamı bulmak için istediğimiz eksen numarasını parantez içinde belirtiyoruz. \n",
    "\n",
    "İki boyutlu dizilerde sütun 0, satır ise 1 indeksi ile gösterilir. Üç boyutlu dizilerde ise yükseklik sıfır, sütun bir ve satır ise iki indeks numarası ile gösterilir. "
   ]
  },
  {
   "cell_type": "code",
   "execution_count": 35,
   "metadata": {},
   "outputs": [
    {
     "data": {
      "text/plain": [
       "array([[ 3,  5,  7,  9],\n",
       "       [11, 13, 15, 17],\n",
       "       [19, 21, 23, 25]])"
      ]
     },
     "execution_count": 35,
     "metadata": {},
     "output_type": "execute_result"
    }
   ],
   "source": [
    "dizi.sum(0) # Yükseklik toplamları"
   ]
  },
  {
   "cell_type": "code",
   "execution_count": 37,
   "metadata": {},
   "outputs": [
    {
     "data": {
      "text/plain": [
       "array([[18, 21, 24, 27],\n",
       "       [15, 18, 21, 24]])"
      ]
     },
     "execution_count": 37,
     "metadata": {},
     "output_type": "execute_result"
    }
   ],
   "source": [
    "dizi.sum(1) # Sütun toplamları"
   ]
  },
  {
   "cell_type": "code",
   "execution_count": 38,
   "metadata": {},
   "outputs": [
    {
     "data": {
      "text/plain": [
       "array([[14, 30, 46],\n",
       "       [10, 26, 42]])"
      ]
     },
     "execution_count": 38,
     "metadata": {},
     "output_type": "execute_result"
    }
   ],
   "source": [
    "dizi.sum(2) # Satır toplamları"
   ]
  },
  {
   "cell_type": "markdown",
   "metadata": {},
   "source": [
    "Kaç boyutlu olursa olsun bir numpy dizisinin mutlaka aynı türdeki verilerden meydana gelmesi gerektiğini unutmayın. \n",
    "\n",
    "Aynı şekilde, herhangi bir eksen boyunca birikimli toplamları bulmak için `.cumsum()` metodu kullanılır. "
   ]
  },
  {
   "cell_type": "code",
   "execution_count": 39,
   "metadata": {},
   "outputs": [
    {
     "data": {
      "text/plain": [
       "array([[ 3.57,  7.99, 13.24, 25.74, 55.04],\n",
       "       [ 3.43,  8.12, 13.12, 24.12, 56.24],\n",
       "       [ 3.15,  7.5 , 12.45, 22.95, 51.95]])"
      ]
     },
     "execution_count": 39,
     "metadata": {},
     "output_type": "execute_result"
    }
   ],
   "source": [
    "hisse_fiyat.cumsum(1) # Satırların birikimli toplamları"
   ]
  },
  {
   "cell_type": "markdown",
   "metadata": {},
   "source": [
    "Numpy dizilerinde kullanılabilen diğer metodlar aşağıdaki tabloda açıklanmıştır. \n",
    "\n",
    "| Metod\t                | Açıklama\n",
    "|:----------------------|:---------------------------------------------------------------\n",
    "| dizi.max()\t        | Verilen eksendeki maksimum değerler\n",
    "| dizi.argmax()\t        | Verilen eksendeki maksimum değerlerin sıra numarası\n",
    "| dizi.min()\t        | Verilen eksendeki minimum değerler\n",
    "| dizi.argmin()\t        | Verilen eksendeki minimum değerlerin sıra numarası\n",
    "| dizi.ptp()\t        | Verilen eksendeki maksimum ve minimum değerler arasındaki fark\n",
    "| dizi.clip(min, max)\t| Dizide yer alan min ve max arasındaki değerleri aynen, min’den düşük değerleri min, max’tan yüksek değerleri ise max olarak iletir. \n",
    "| dizi.round(a)\t        | Dizide yer alan sayıları a ondalık basamağa kadar yuvarlar.\n",
    "| dizi.trace()\t        | Dizideki köşegenler toplamını hesaplar\n",
    "| dizi.mean()\t        | Verilen eksen boyunca ortalama değerleri hesaplar\n",
    "| dizi.var()\t        | Verilen eksen boyunca varyans değerlerini hesaplar\n",
    "| dizi.std()\t        | Verilen eksen boyunca standart sapmaları hesaplar\n",
    "| dizi.prod()\t        | Verilen eksendeki sayıların çarpımını hesaplar\n",
    "| dizi.cumprod()\t    | Verilen eksendeki sayıların birikimli çarpımını hesaplar\n",
    "| dizi.sort()\t        | Verilen eksendeki verilerin sıralanmış halini iletir.\n",
    "\n",
    "Bir listenin herhangi bir sırasındaki veriye nasıl ulaşacağımızı daha önce görmüştük. Örneğin listenin 3. sırasındaki elemanın ne olduğunu görmek için `liste[2]` yazmamız yeterlidir. Python’da sıra numaralarının sıfırdan başladığını hatırlayın. Numpy dizileri için de aynı metodu kullanabiliriz. Sadece, dizi kaç boyutlu ise o kadar sayıda bilgiye ihtiyacımız olacaktır. Örneğin yukarıda yer alan hisse_fiyat dizisinin 2. satırının 4. sırasındaki veriye ulaşmak için `hisse_fiyat[1][3]` yazmamız yeterlidir. Burada önce `hisse_fiyat[1]` yazarak ikinci sıradaki satırı seçiyoruz. Sonra da bu satırdaki 4. elemanı seçmek için sonuna `[3]` ekliyoruz. Bunu yapmanın daha kolay bir yolu ise ayrı ayrı köşeli parantezler kullanmak yerine satır ve sütun indeksini tek bir köşeli parantez içinde virgülle ayırarak göstermektir."
   ]
  },
  {
   "cell_type": "code",
   "execution_count": 40,
   "metadata": {},
   "outputs": [
    {
     "data": {
      "text/plain": [
       "11.0"
      ]
     },
     "execution_count": 40,
     "metadata": {},
     "output_type": "execute_result"
    }
   ],
   "source": [
    "hisse_fiyat[1][3]"
   ]
  },
  {
   "cell_type": "code",
   "execution_count": 41,
   "metadata": {},
   "outputs": [
    {
     "data": {
      "text/plain": [
       "11.0"
      ]
     },
     "execution_count": 41,
     "metadata": {},
     "output_type": "execute_result"
    }
   ],
   "source": [
    "hisse_fiyat[1,3]"
   ]
  },
  {
   "cell_type": "markdown",
   "metadata": {},
   "source": [
    "Peki tek bir veri yerine belirli satır ve sütunları seçmek için ne yapmamız gerekir? Örneğin sadece birinci ve ikinci satırları seçmek istersem ne yazmalıyım? "
   ]
  },
  {
   "cell_type": "code",
   "execution_count": 42,
   "metadata": {},
   "outputs": [
    {
     "data": {
      "text/plain": [
       "array([[ 3.57,  4.42,  5.25, 12.5 , 29.3 ],\n",
       "       [ 3.43,  4.69,  5.  , 11.  , 32.12]])"
      ]
     },
     "execution_count": 42,
     "metadata": {},
     "output_type": "execute_result"
    }
   ],
   "source": [
    "hisse_fiyat[0:2, :]"
   ]
  },
  {
   "cell_type": "markdown",
   "metadata": {},
   "source": [
    "Python indeksleme mantığında 0:2 yazdığımızda seçilen 0 indeks numarasına sahip yani ilk sıradaki elemanın seçildiğini ancak 2 indeks numarasına sahip elemanın seçilmediğini unutmayın. Yani, 0:2 yazdığımızda, 0 ve 1 indeks numarasına sahip satırlar seçiliyor. Sütunlar arasında seçim yapmayıp bütün sütunları görmek istediğimiz için virgülden sonra sadece iki nokta (:) koyuyoruz. \n",
    "\n",
    "Şimdi de sadece birince ve ikinci satırların, üçüncü ve dördüncü sütunlarını seçtirelim. Üçüncü ve dördüncü sütunların indeks numaraları 2 ve 3’tür. Bu nedenle biz indeks numaralarını 2, 3 ve 4’ü içerecek şekilde yazmalıyız: 2:4. "
   ]
  },
  {
   "cell_type": "code",
   "execution_count": 43,
   "metadata": {},
   "outputs": [
    {
     "name": "stdout",
     "output_type": "stream",
     "text": [
      "[[ 5.25 12.5 ]\n",
      " [ 5.   11.  ]]\n"
     ]
    }
   ],
   "source": [
    "print(hisse_fiyat[0:2, 2:4])"
   ]
  },
  {
   "cell_type": "markdown",
   "metadata": {},
   "source": [
    "Numpy dizilerinde aritmetik işlemler yapmak da mümkündür. "
   ]
  },
  {
   "cell_type": "code",
   "execution_count": 45,
   "metadata": {},
   "outputs": [],
   "source": [
    "a = np.array([[3, 4, 7, 4],\n",
    "              [2, 9, 4, 2],\n",
    "              [1, 5, 8, 3]])\n",
    "\n",
    "b = np.array([[4, 2, 8, 9],\n",
    "              [6, 3, 6, 1],\n",
    "              [3, 2, 4, 2]])"
   ]
  },
  {
   "cell_type": "code",
   "execution_count": 46,
   "metadata": {},
   "outputs": [
    {
     "data": {
      "text/plain": [
       "array([[ 7,  6, 15, 13],\n",
       "       [ 8, 12, 10,  3],\n",
       "       [ 4,  7, 12,  5]])"
      ]
     },
     "execution_count": 46,
     "metadata": {},
     "output_type": "execute_result"
    }
   ],
   "source": [
    "a + b"
   ]
  },
  {
   "cell_type": "code",
   "execution_count": 47,
   "metadata": {},
   "outputs": [
    {
     "data": {
      "text/plain": [
       "array([[-1,  2, -1, -5],\n",
       "       [-4,  6, -2,  1],\n",
       "       [-2,  3,  4,  1]])"
      ]
     },
     "execution_count": 47,
     "metadata": {},
     "output_type": "execute_result"
    }
   ],
   "source": [
    "a - b"
   ]
  },
  {
   "cell_type": "code",
   "execution_count": 48,
   "metadata": {},
   "outputs": [
    {
     "data": {
      "text/plain": [
       "array([[0.75      , 2.        , 0.875     , 0.44444444],\n",
       "       [0.33333333, 3.        , 0.66666667, 2.        ],\n",
       "       [0.33333333, 2.5       , 2.        , 1.5       ]])"
      ]
     },
     "execution_count": 48,
     "metadata": {},
     "output_type": "execute_result"
    }
   ],
   "source": [
    "a / b"
   ]
  },
  {
   "cell_type": "code",
   "execution_count": 49,
   "metadata": {},
   "outputs": [
    {
     "data": {
      "text/plain": [
       "array([[12,  8, 56, 36],\n",
       "       [12, 27, 24,  2],\n",
       "       [ 3, 10, 32,  6]])"
      ]
     },
     "execution_count": 49,
     "metadata": {},
     "output_type": "execute_result"
    }
   ],
   "source": [
    "a * b"
   ]
  },
  {
   "cell_type": "markdown",
   "metadata": {},
   "source": [
    "İki numpy dizisi arasında matris çarpımı uygulamak için np.matmul() metodu uygulanır. "
   ]
  },
  {
   "cell_type": "code",
   "execution_count": 50,
   "metadata": {},
   "outputs": [
    {
     "data": {
      "text/plain": [
       "array([[3, 4, 7, 4],\n",
       "       [2, 9, 4, 2],\n",
       "       [1, 5, 8, 3]])"
      ]
     },
     "execution_count": 50,
     "metadata": {},
     "output_type": "execute_result"
    }
   ],
   "source": [
    "a"
   ]
  },
  {
   "cell_type": "code",
   "execution_count": 51,
   "metadata": {},
   "outputs": [
    {
     "data": {
      "text/plain": [
       "array([[4, 2, 8, 9],\n",
       "       [6, 3, 6, 1],\n",
       "       [3, 2, 4, 2]])"
      ]
     },
     "execution_count": 51,
     "metadata": {},
     "output_type": "execute_result"
    }
   ],
   "source": [
    "b"
   ]
  },
  {
   "cell_type": "code",
   "execution_count": 53,
   "metadata": {},
   "outputs": [],
   "source": [
    "a = np.array([[3, 4, 7, 4],\n",
    "              [2, 9, 4, 2],\n",
    "              [1, 5, 8, 3]])\n",
    "b = np.array([[4, 6, 3],\n",
    "              [2, 3, 2],\n",
    "              [8, 6, 4],\n",
    "              [9, 1, 2]])"
   ]
  },
  {
   "cell_type": "code",
   "execution_count": 54,
   "metadata": {},
   "outputs": [
    {
     "data": {
      "text/plain": [
       "array([[112,  76,  53],\n",
       "       [ 76,  65,  44],\n",
       "       [105,  72,  51]])"
      ]
     },
     "execution_count": 54,
     "metadata": {},
     "output_type": "execute_result"
    }
   ],
   "source": [
    "np.matmul(a, b)"
   ]
  },
  {
   "cell_type": "markdown",
   "metadata": {},
   "source": [
    "Önceki sayfalarda gösterdiğimiz numpy metodlarını uygulamanın bir başka yolu da istediğimiz metodu `np.metod_ismi()` şeklinde kullanmaktır. Örneğin, bir dizinin istediğimiz satır veya sütununun toplamını bulmak için `np.sum(dizi[:, 1])` metodunu uygulayabiliriz. "
   ]
  },
  {
   "cell_type": "code",
   "execution_count": 55,
   "metadata": {},
   "outputs": [
    {
     "data": {
      "text/plain": [
       "18"
      ]
     },
     "execution_count": 55,
     "metadata": {},
     "output_type": "execute_result"
    }
   ],
   "source": [
    "np.sum(a[:, 1]) \t# İkinci sütundaki sayıların toplamı"
   ]
  },
  {
   "cell_type": "code",
   "execution_count": 56,
   "metadata": {},
   "outputs": [
    {
     "data": {
      "text/plain": [
       "6.333333333333333"
      ]
     },
     "execution_count": 56,
     "metadata": {},
     "output_type": "execute_result"
    }
   ],
   "source": [
    "np.mean(a[:, 2]) \t# Üçüncü sütundaki sayıların ortalaması"
   ]
  },
  {
   "cell_type": "code",
   "execution_count": 57,
   "metadata": {},
   "outputs": [
    {
     "data": {
      "text/plain": [
       "3.0"
      ]
     },
     "execution_count": 57,
     "metadata": {},
     "output_type": "execute_result"
    }
   ],
   "source": [
    "np.median(a[1,:])\t# İkinci satırdaki sayıların medyanı\t"
   ]
  },
  {
   "cell_type": "code",
   "execution_count": 58,
   "metadata": {},
   "outputs": [],
   "source": [
    "dizi = np.array([[2.34, 3.76],\n",
    "                 [4.23, 5.76],\n",
    "                 [1.18, 9.32],\n",
    "                 [7.43, 12.25],\n",
    "                 [3.14, 2.78],\n",
    "                 [11.45,14.32],\n",
    "                 [5.78, 4.43],\n",
    "                 [8.87, 9.43]])"
   ]
  },
  {
   "cell_type": "code",
   "execution_count": 59,
   "metadata": {},
   "outputs": [
    {
     "data": {
      "text/plain": [
       "3.285786625756456"
      ]
     },
     "execution_count": 59,
     "metadata": {},
     "output_type": "execute_result"
    }
   ],
   "source": [
    "np.std(dizi[:, 0])\t# Birinci sütun standart sapma"
   ]
  },
  {
   "cell_type": "code",
   "execution_count": 60,
   "metadata": {},
   "outputs": [
    {
     "data": {
      "text/plain": [
       "array([[1.        , 0.70054776],\n",
       "       [0.70054776, 1.        ]])"
      ]
     },
     "execution_count": 60,
     "metadata": {},
     "output_type": "execute_result"
    }
   ],
   "source": [
    "np.corrcoef(dizi[:,0], dizi[:,1]) # Birinci ve ikinci sütunlar arasındaki korelasyon katsayısı"
   ]
  },
  {
   "cell_type": "markdown",
   "metadata": {},
   "source": [
    "Numpy dizilerine döngü uygularken dikkatli olunması gerekir. Şimdi yukarıda gördüğümüz iki boyutlu hisse_fiyat dizisini ele alalım. Önce bu diziye bir for döngüsü uyguladığımızda ne olduğuna bakalım. "
   ]
  },
  {
   "cell_type": "code",
   "execution_count": 61,
   "metadata": {},
   "outputs": [
    {
     "name": "stdout",
     "output_type": "stream",
     "text": [
      "[[ 3.57  4.42  5.25 12.5  29.3 ]\n",
      " [ 3.43  4.69  5.   11.   32.12]\n",
      " [ 3.15  4.35  4.95 10.5  29.  ]]\n"
     ]
    }
   ],
   "source": [
    "hisse_fiyat = np.array([[3.57, 4.42, 5.25, 12.50, 29.30],\n",
    "                       [3.43, 4.69, 5.00, 11.00, 32.12],\n",
    "                       [3.15, 4.35, 4.95, 10.50, 29.00]])\n",
    "\n",
    "print(hisse_fiyat)"
   ]
  },
  {
   "cell_type": "code",
   "execution_count": 62,
   "metadata": {},
   "outputs": [
    {
     "name": "stdout",
     "output_type": "stream",
     "text": [
      "[ 3.57  4.42  5.25 12.5  29.3 ]\n",
      "[ 3.43  4.69  5.   11.   32.12]\n",
      "[ 3.15  4.35  4.95 10.5  29.  ]\n"
     ]
    }
   ],
   "source": [
    "for i in hisse_fiyat:\n",
    "    print(i)"
   ]
  },
  {
   "cell_type": "markdown",
   "metadata": {},
   "source": [
    "Döngüyü doğrudan doğruya numpy dizisine uyguladığımızda dizi içindeki listeleri ya da diğer bir deyişle satırları görüyoruz. Ancak biz tek tek elemanlara erişmek istiyoruz diyelim. Bunun için yine numpy paketindeki `.nditer()` metodunu kullanmamız gerekir. "
   ]
  },
  {
   "cell_type": "code",
   "execution_count": 63,
   "metadata": {},
   "outputs": [
    {
     "name": "stdout",
     "output_type": "stream",
     "text": [
      "3.57\n",
      "4.42\n",
      "5.25\n",
      "12.5\n",
      "29.3\n",
      "3.43\n",
      "4.69\n",
      "5.0\n",
      "11.0\n",
      "32.12\n",
      "3.15\n",
      "4.35\n",
      "4.95\n",
      "10.5\n",
      "29.0\n"
     ]
    }
   ],
   "source": [
    "for i in np.nditer(hisse_fiyat):\n",
    "    print(i)"
   ]
  },
  {
   "cell_type": "markdown",
   "metadata": {},
   "source": [
    "## Kullanışlı Numpy Metodları\n",
    "\n",
    "Önceki bölümde en çok kullanılan numpy dizilerine örnekler vermiştik. Bu bölümde işlemlerinizde kullanabileceğiniz ve zaman kazandıracak ilave numpy fonksiyon ve metod örnekleri yer almaktadır. Burada aktarılanlar dışında çok sayıda numpy metodu bulunduğunu unutmayın. Burada sadece örnek olarak seçilenler anlatılmaktadır. \n",
    "\n",
    "**np.amax():** Bir numpy dizisinde istenen eksendeki maksimum değerleri iletir. "
   ]
  },
  {
   "cell_type": "code",
   "execution_count": 64,
   "metadata": {},
   "outputs": [
    {
     "data": {
      "text/plain": [
       "array([[48.61843182, 35.51898627,  4.28576878, 14.98545305],\n",
       "       [ 9.84402099, 48.04959948, 40.60244523, 42.27657428],\n",
       "       [ 1.58366803, 33.33210686, 41.35858295, 26.63390086],\n",
       "       [19.33570963, 32.6185838 , 19.77956851,  4.85595683]])"
      ]
     },
     "execution_count": 64,
     "metadata": {},
     "output_type": "execute_result"
    }
   ],
   "source": [
    "x = np.random.uniform(low=1, high=50, size=16).reshape(4,4)\n",
    "x"
   ]
  },
  {
   "cell_type": "code",
   "execution_count": 65,
   "metadata": {},
   "outputs": [
    {
     "data": {
      "text/plain": [
       "array([48.61843182, 48.04959948, 41.35858295, 42.27657428])"
      ]
     },
     "execution_count": 65,
     "metadata": {},
     "output_type": "execute_result"
    }
   ],
   "source": [
    "np.amax(x, axis=0) # Her sütundaki maksimum değer"
   ]
  },
  {
   "cell_type": "code",
   "execution_count": 66,
   "metadata": {},
   "outputs": [
    {
     "data": {
      "text/plain": [
       "array([48.61843182, 48.04959948, 41.35858295, 32.6185838 ])"
      ]
     },
     "execution_count": 66,
     "metadata": {},
     "output_type": "execute_result"
    }
   ],
   "source": [
    "np.amax(x, axis=1) # Her satırdaki maksimum değer"
   ]
  },
  {
   "cell_type": "markdown",
   "metadata": {},
   "source": [
    "**np.amin():** Bir numpy dizisinde istenen eksendeki minimum değerleri iletir. `np.amax()` ile aynı şekilde kullanlır. \n",
    "\n",
    "**np.argsort():** Bir dizinin elemanlarının, dizi küçükten büyüğe sıralandığında kaçıncı sırada olacağını belirtir. "
   ]
  },
  {
   "cell_type": "code",
   "execution_count": 67,
   "metadata": {},
   "outputs": [
    {
     "data": {
      "text/plain": [
       "array([ 4,  2,  1,  6,  9,  3, 15, 11, 10,  7])"
      ]
     },
     "execution_count": 67,
     "metadata": {},
     "output_type": "execute_result"
    }
   ],
   "source": [
    "x = np.array([4, 2, 1, 6, 9, 3, 15, 11, 10, 7])\n",
    "x"
   ]
  },
  {
   "cell_type": "code",
   "execution_count": 68,
   "metadata": {},
   "outputs": [
    {
     "data": {
      "text/plain": [
       "array([2, 1, 5, 0, 3, 9, 4, 8, 7, 6], dtype=int64)"
      ]
     },
     "execution_count": 68,
     "metadata": {},
     "output_type": "execute_result"
    }
   ],
   "source": [
    "x.argsort()"
   ]
  },
  {
   "cell_type": "markdown",
   "metadata": {},
   "source": [
    "**np.concatenate():** İki numpy dizisini istenen eksenlerden birleştirmek için kullanılır. Örneğin iki boyutlu (matris) iki diziyi birleştirirken, `axis = 0` seçilirse satırları yani alt alta, `axis = 1` seçilirse sütunları yani yan yana birleştirme işlemi gerçekleştirilir. "
   ]
  },
  {
   "cell_type": "code",
   "execution_count": 69,
   "metadata": {},
   "outputs": [
    {
     "data": {
      "text/plain": [
       "array([[1, 2],\n",
       "       [3, 4],\n",
       "       [5, 6]])"
      ]
     },
     "execution_count": 69,
     "metadata": {},
     "output_type": "execute_result"
    }
   ],
   "source": [
    "x = np.arange(1, 7).reshape(3,2)\n",
    "y = np.arange(7, 13).reshape(3,2)\n",
    "x"
   ]
  },
  {
   "cell_type": "code",
   "execution_count": 70,
   "metadata": {},
   "outputs": [
    {
     "data": {
      "text/plain": [
       "array([[ 7,  8],\n",
       "       [ 9, 10],\n",
       "       [11, 12]])"
      ]
     },
     "execution_count": 70,
     "metadata": {},
     "output_type": "execute_result"
    }
   ],
   "source": [
    "y"
   ]
  },
  {
   "cell_type": "code",
   "execution_count": 71,
   "metadata": {},
   "outputs": [
    {
     "data": {
      "text/plain": [
       "array([[ 1,  2],\n",
       "       [ 3,  4],\n",
       "       [ 5,  6],\n",
       "       [ 7,  8],\n",
       "       [ 9, 10],\n",
       "       [11, 12]])"
      ]
     },
     "execution_count": 71,
     "metadata": {},
     "output_type": "execute_result"
    }
   ],
   "source": [
    "np.concatenate([x,y], axis=0)"
   ]
  },
  {
   "cell_type": "code",
   "execution_count": 72,
   "metadata": {},
   "outputs": [
    {
     "data": {
      "text/plain": [
       "array([[ 1,  2,  7,  8],\n",
       "       [ 3,  4,  9, 10],\n",
       "       [ 5,  6, 11, 12]])"
      ]
     },
     "execution_count": 72,
     "metadata": {},
     "output_type": "execute_result"
    }
   ],
   "source": [
    "np.concatenate([x,y], axis=1)"
   ]
  },
  {
   "cell_type": "markdown",
   "metadata": {},
   "source": [
    "**np.full():** İstenen boyutta, değerde ve veri türünde numpy dizisi oluşturur. Veri türü argümanı (dtype) seçime bağlıdır, kullanılmayabilir.\n",
    "\n",
    "**shape:** dizinin boyutları, (3,2) gibi\n",
    "\n",
    "**fill_value:** Dizideki elemanların değerleri\n",
    "\n",
    "**dtype:** Dizi elemanlarının veri türleri"
   ]
  },
  {
   "cell_type": "code",
   "execution_count": 73,
   "metadata": {},
   "outputs": [
    {
     "data": {
      "text/plain": [
       "array([[2.5, 2.5],\n",
       "       [2.5, 2.5],\n",
       "       [2.5, 2.5]])"
      ]
     },
     "execution_count": 73,
     "metadata": {},
     "output_type": "execute_result"
    }
   ],
   "source": [
    "np.full((3,2), 2.5)"
   ]
  },
  {
   "cell_type": "markdown",
   "metadata": {},
   "source": [
    "**np.intersect1d():** İki veya daha fazla numpy dizisindeki ortak elemanları seçer. "
   ]
  },
  {
   "cell_type": "code",
   "execution_count": 74,
   "metadata": {},
   "outputs": [
    {
     "data": {
      "text/plain": [
       "array([ 3,  9, 11, 13])"
      ]
     },
     "execution_count": 74,
     "metadata": {},
     "output_type": "execute_result"
    }
   ],
   "source": [
    "x = [1, 3, 5, 7, 9, 11, 13, 15]\n",
    "y = [3, 6, 9, 11, 13]\n",
    "np.intersect1d(x,y)"
   ]
  },
  {
   "cell_type": "markdown",
   "metadata": {},
   "source": [
    "**np.isin():** Aranan elemanların bir liste veya dizide olup olmadığını gösterir. "
   ]
  },
  {
   "cell_type": "code",
   "execution_count": 75,
   "metadata": {},
   "outputs": [
    {
     "data": {
      "text/plain": [
       "array([False,  True,  True, False])"
      ]
     },
     "execution_count": 75,
     "metadata": {},
     "output_type": "execute_result"
    }
   ],
   "source": [
    "x = [1, 3, 5, 7]\n",
    "dizi = [3, 4, 5, 8, 9, 10]\n",
    "np.isin(x, dizi)"
   ]
  },
  {
   "cell_type": "markdown",
   "metadata": {},
   "source": [
    "**np.isnan():** Bir dizideki verilerin NaN (Not a Number: Bir sayı değil) olup olmadığını görmek için kullanılır. "
   ]
  },
  {
   "cell_type": "code",
   "execution_count": 78,
   "metadata": {},
   "outputs": [
    {
     "name": "stderr",
     "output_type": "stream",
     "text": [
      "C:\\Users\\ilker.arslan\\AppData\\Local\\Temp\\ipykernel_41920\\848890117.py:1: RuntimeWarning: invalid value encountered in log\n",
      "  x = np.log([ 3, 4, -5]);\n"
     ]
    },
    {
     "data": {
      "text/plain": [
       "array([False, False,  True])"
      ]
     },
     "execution_count": 78,
     "metadata": {},
     "output_type": "execute_result"
    }
   ],
   "source": [
    "x = np.log([ 3, 4, -5]);\n",
    "\n",
    "np.isnan(x)"
   ]
  },
  {
   "cell_type": "markdown",
   "metadata": {},
   "source": [
    "**np.ones():** Birlerden meydana gelen istenen boyutta numpy dizisi oluşturur. "
   ]
  },
  {
   "cell_type": "code",
   "execution_count": 80,
   "metadata": {},
   "outputs": [
    {
     "data": {
      "text/plain": [
       "array([1., 1., 1.])"
      ]
     },
     "execution_count": 80,
     "metadata": {},
     "output_type": "execute_result"
    }
   ],
   "source": [
    "np.ones(3)"
   ]
  },
  {
   "cell_type": "code",
   "execution_count": 81,
   "metadata": {},
   "outputs": [
    {
     "data": {
      "text/plain": [
       "array([[1., 1.],\n",
       "       [1., 1.],\n",
       "       [1., 1.]])"
      ]
     },
     "execution_count": 81,
     "metadata": {},
     "output_type": "execute_result"
    }
   ],
   "source": [
    "np.ones((3,2))"
   ]
  },
  {
   "cell_type": "markdown",
   "metadata": {},
   "source": [
    "**np.repeat():** Tekrar eden elemanlardan meydana gelen bir dizi oluşturur. "
   ]
  },
  {
   "cell_type": "code",
   "execution_count": 82,
   "metadata": {},
   "outputs": [
    {
     "data": {
      "text/plain": [
       "array([2, 2, 2, 2, 2])"
      ]
     },
     "execution_count": 82,
     "metadata": {},
     "output_type": "execute_result"
    }
   ],
   "source": [
    "np.repeat(2, 5)"
   ]
  },
  {
   "cell_type": "markdown",
   "metadata": {},
   "source": [
    "**np.reshape():** Bir numpy dizisinin boyutlarını yeniden belirlemek için kullanılır. "
   ]
  },
  {
   "cell_type": "code",
   "execution_count": 83,
   "metadata": {},
   "outputs": [
    {
     "data": {
      "text/plain": [
       "array([ 1,  2,  3,  4,  5,  6,  7,  8,  9, 10, 11, 12])"
      ]
     },
     "execution_count": 83,
     "metadata": {},
     "output_type": "execute_result"
    }
   ],
   "source": [
    "x = np.arange(1, 13)\n",
    "x"
   ]
  },
  {
   "cell_type": "code",
   "execution_count": 84,
   "metadata": {},
   "outputs": [
    {
     "data": {
      "text/plain": [
       "array([[ 1,  2,  3,  4],\n",
       "       [ 5,  6,  7,  8],\n",
       "       [ 9, 10, 11, 12]])"
      ]
     },
     "execution_count": 84,
     "metadata": {},
     "output_type": "execute_result"
    }
   ],
   "source": [
    "x.reshape(3, 4)"
   ]
  },
  {
   "cell_type": "markdown",
   "metadata": {},
   "source": [
    "**np.setdiff1d():** Bir dizide olup ikinci dizide olmayan elemanları seçmek için kullanılır. "
   ]
  },
  {
   "cell_type": "code",
   "execution_count": 85,
   "metadata": {},
   "outputs": [
    {
     "data": {
      "text/plain": [
       "array([ 1,  5,  7, 15])"
      ]
     },
     "execution_count": 85,
     "metadata": {},
     "output_type": "execute_result"
    }
   ],
   "source": [
    "x = [1, 3, 5, 7, 9, 11, 13, 15]\n",
    "y = [3, 6, 9, 11, 13]\n",
    "np.setdiff1d(x,y)"
   ]
  },
  {
   "cell_type": "markdown",
   "metadata": {},
   "source": [
    "**np.unique():** Bir dizideki tekil değerleri gösterir. "
   ]
  },
  {
   "cell_type": "code",
   "execution_count": 87,
   "metadata": {},
   "outputs": [
    {
     "data": {
      "text/plain": [
       "array([2, 3, 4, 6])"
      ]
     },
     "execution_count": 87,
     "metadata": {},
     "output_type": "execute_result"
    }
   ],
   "source": [
    "x = np.array([3, 4, 6, 3, 2, 2, 3, 4, 2, 2, 4, 3, 3, 2])\n",
    "np.unique(x)"
   ]
  },
  {
   "cell_type": "markdown",
   "metadata": {},
   "source": [
    "**np.where:** Bir numpy dizisinde istenen şartları sağlayan elemanları seçer. "
   ]
  },
  {
   "cell_type": "code",
   "execution_count": 88,
   "metadata": {},
   "outputs": [
    {
     "data": {
      "text/plain": [
       "(array([  0,  10,  20,  30,  40,  50,  60,  70,  80,  90, 100], dtype=int64),)"
      ]
     },
     "execution_count": 88,
     "metadata": {},
     "output_type": "execute_result"
    }
   ],
   "source": [
    "dizi = np.arange(0, 101)\n",
    "np.where(dizi % 10 == 0)"
   ]
  },
  {
   "cell_type": "markdown",
   "metadata": {},
   "source": [
    "**np.zeros():** Sıfırlardan meydana gelen istenen boyutta numpy dizisi oluşturur. "
   ]
  },
  {
   "cell_type": "code",
   "execution_count": 89,
   "metadata": {},
   "outputs": [
    {
     "data": {
      "text/plain": [
       "array([0., 0., 0.])"
      ]
     },
     "execution_count": 89,
     "metadata": {},
     "output_type": "execute_result"
    }
   ],
   "source": [
    "np.zeros(3)"
   ]
  },
  {
   "cell_type": "code",
   "execution_count": 90,
   "metadata": {},
   "outputs": [
    {
     "data": {
      "text/plain": [
       "array([[0., 0.],\n",
       "       [0., 0.],\n",
       "       [0., 0.]])"
      ]
     },
     "execution_count": 90,
     "metadata": {},
     "output_type": "execute_result"
    }
   ],
   "source": [
    "np.zeros((3,2))"
   ]
  },
  {
   "cell_type": "markdown",
   "metadata": {},
   "source": [
    "## Alıştırmalar\n",
    "\n",
    "1.\t Sadece boolean False değerinden oluşan 4 x 4 boyutunda bir numpy dizisi (numpy array) oluşturun.\n",
    "\n",
    "2.\t1’den 1000’e kadar sayıların olduğu bir numpy array (dizi) oluşturun ve bu dizide 18 ile tam bölünen sayıları seçen bir sorgu yazın. \n",
    "\n",
    "3.\tBir numpy dizisindeki en büyük 3 elemanı seçecek tek satırlık bir kod yazın. \n",
    "\n",
    "4.\tFonksiyonlar bölümünde yazdığınız liste sıralama fonksiyonunu bu defa np.argmin() metodunu kullanarak yazın. "
   ]
  }
 ],
 "metadata": {
  "kernelspec": {
   "display_name": ".venv",
   "language": "python",
   "name": "python3"
  },
  "language_info": {
   "codemirror_mode": {
    "name": "ipython",
    "version": 3
   },
   "file_extension": ".py",
   "mimetype": "text/x-python",
   "name": "python",
   "nbconvert_exporter": "python",
   "pygments_lexer": "ipython3",
   "version": "3.11.4"
  },
  "orig_nbformat": 4
 },
 "nbformat": 4,
 "nbformat_minor": 2
}
