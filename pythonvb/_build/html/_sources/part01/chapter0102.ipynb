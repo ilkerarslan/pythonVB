{
 "cells": [
  {
   "cell_type": "markdown",
   "metadata": {},
   "source": [
    "# Temel İşlemler ve Veri Tipleri\n",
    "## Temel Aritmetik İşlemler\n",
    "\n",
    "Python da tüm programlama dilleri gibi temelde bir hesap makinesidir. En basitinden başlayarak Python'da yapılabilecek matematiksel işlemlere göz atalım. Amacımız tabii ki Python’u bir hesap makinesi olarak kullanmak değil ancak kullandığınız editöre alışmak için alıştırma yapmak. "
   ]
  },
  {
   "cell_type": "code",
   "execution_count": 1,
   "metadata": {},
   "outputs": [
    {
     "data": {
      "text/plain": [
       "25"
      ]
     },
     "execution_count": 1,
     "metadata": {},
     "output_type": "execute_result"
    }
   ],
   "source": [
    "18 + 7"
   ]
  },
  {
   "cell_type": "code",
   "execution_count": 2,
   "metadata": {},
   "outputs": [
    {
     "data": {
      "text/plain": [
       "64"
      ]
     },
     "execution_count": 2,
     "metadata": {},
     "output_type": "execute_result"
    }
   ],
   "source": [
    "81 - 17"
   ]
  },
  {
   "cell_type": "code",
   "execution_count": 3,
   "metadata": {},
   "outputs": [
    {
     "data": {
      "text/plain": [
       "72"
      ]
     },
     "execution_count": 3,
     "metadata": {},
     "output_type": "execute_result"
    }
   ],
   "source": [
    "12 * 6"
   ]
  },
  {
   "cell_type": "code",
   "execution_count": 4,
   "metadata": {},
   "outputs": [
    {
     "data": {
      "text/plain": [
       "8.0"
      ]
     },
     "execution_count": 4,
     "metadata": {},
     "output_type": "execute_result"
    }
   ],
   "source": [
    "96 / 12"
   ]
  },
  {
   "cell_type": "markdown",
   "metadata": {},
   "source": [
    "Bir değeri her defasında tekrar tekrar kullanmak yerine bu değeri bir değişkene atayıp değişkeni kullanmak ve değiştirmek gerekebilir. "
   ]
  },
  {
   "cell_type": "code",
   "execution_count": 5,
   "metadata": {},
   "outputs": [
    {
     "data": {
      "text/plain": [
       "12"
      ]
     },
     "execution_count": 5,
     "metadata": {},
     "output_type": "execute_result"
    }
   ],
   "source": [
    "a = 12\n",
    "a"
   ]
  },
  {
   "cell_type": "code",
   "execution_count": 6,
   "metadata": {},
   "outputs": [
    {
     "data": {
      "text/plain": [
       "144"
      ]
     },
     "execution_count": 6,
     "metadata": {},
     "output_type": "execute_result"
    }
   ],
   "source": [
    "a ** 2"
   ]
  },
  {
   "cell_type": "markdown",
   "metadata": {},
   "source": [
    "Anlaşılacağı üzere \"**\" operatörü üs alma için kullanılır. En son geçerli (hesaplanmış) değeri göstermek ya da kullanmak için alt çizgi \"_\" kullanılır."
   ]
  },
  {
   "cell_type": "code",
   "execution_count": 7,
   "metadata": {},
   "outputs": [
    {
     "data": {
      "text/plain": [
       "144"
      ]
     },
     "execution_count": 7,
     "metadata": {},
     "output_type": "execute_result"
    }
   ],
   "source": [
    "_"
   ]
  },
  {
   "cell_type": "code",
   "execution_count": 8,
   "metadata": {},
   "outputs": [
    {
     "data": {
      "text/plain": [
       "6.0"
      ]
     },
     "execution_count": 8,
     "metadata": {},
     "output_type": "execute_result"
    }
   ],
   "source": [
    "_ / 24"
   ]
  },
  {
   "cell_type": "markdown",
   "metadata": {},
   "source": [
    "Ekrana herhangi bir şey yazdırmak için print () komutu kullanılır. "
   ]
  },
  {
   "cell_type": "code",
   "execution_count": 9,
   "metadata": {},
   "outputs": [
    {
     "name": "stdout",
     "output_type": "stream",
     "text": [
      "Python öğreniyorum\n"
     ]
    }
   ],
   "source": [
    "print(\"Python öğreniyorum\")"
   ]
  },
  {
   "cell_type": "markdown",
   "metadata": {},
   "source": [
    "Python 3'te, Python 2'den farklı olarak print() komutu mutlaka parantez ile birlikte kullanılmalıdır. Python’da kullanılan başlıca matematiksel işlem ve karşılaştırma işaretleri (operatörleri) aşağıdaki gibidir:\n",
    "\n",
    "| Operatör  | Açıklama       |\n",
    "|:---------:|:--------------:|\n",
    "|     +     |  Toplama       |\n",
    "|     -     |  Çıkarma       |\n",
    "|     /     |  Bölme         |\n",
    "|     *     |  Çarpma        |\n",
    "|     %     |  Mod alma      |\n",
    "|    **     |  Üs alma       |\n",
    "|     //    | Tamsayı bölme  |"
   ]
  },
  {
   "cell_type": "code",
   "execution_count": 10,
   "metadata": {},
   "outputs": [
    {
     "data": {
      "text/plain": [
       "49"
      ]
     },
     "execution_count": 10,
     "metadata": {},
     "output_type": "execute_result"
    }
   ],
   "source": [
    "7 ** 2"
   ]
  },
  {
   "cell_type": "code",
   "execution_count": 11,
   "metadata": {},
   "outputs": [
    {
     "data": {
      "text/plain": [
       "True"
      ]
     },
     "execution_count": 11,
     "metadata": {},
     "output_type": "execute_result"
    }
   ],
   "source": [
    "12 == 12"
   ]
  },
  {
   "cell_type": "code",
   "execution_count": 12,
   "metadata": {},
   "outputs": [
    {
     "data": {
      "text/plain": [
       "False"
      ]
     },
     "execution_count": 12,
     "metadata": {},
     "output_type": "execute_result"
    }
   ],
   "source": [
    "13.5 == 12.5"
   ]
  },
  {
   "cell_type": "code",
   "execution_count": 13,
   "metadata": {},
   "outputs": [
    {
     "data": {
      "text/plain": [
       "True"
      ]
     },
     "execution_count": 13,
     "metadata": {},
     "output_type": "execute_result"
    }
   ],
   "source": [
    "2.78 <= 3.14"
   ]
  },
  {
   "cell_type": "markdown",
   "metadata": {},
   "source": [
    "Python yazılan bir matematiksel işlemi değerlendirirken matematiksel kurallara uygun olarak önce parantez içini, sonra üs alma işlemini ve daha sonra da sırasıyla bölme ve çarpma işlemleri ile toplama ve çıkarma işlemlerini dikkate alır. "
   ]
  },
  {
   "cell_type": "code",
   "execution_count": 14,
   "metadata": {},
   "outputs": [
    {
     "data": {
      "text/plain": [
       "36"
      ]
     },
     "execution_count": 14,
     "metadata": {},
     "output_type": "execute_result"
    }
   ],
   "source": [
    "3**2 * 4"
   ]
  },
  {
   "cell_type": "code",
   "execution_count": 15,
   "metadata": {},
   "outputs": [
    {
     "data": {
      "text/plain": [
       "6561"
      ]
     },
     "execution_count": 15,
     "metadata": {},
     "output_type": "execute_result"
    }
   ],
   "source": [
    "3**(2*4)"
   ]
  },
  {
   "cell_type": "code",
   "execution_count": 16,
   "metadata": {},
   "outputs": [
    {
     "data": {
      "text/plain": [
       "7.0"
      ]
     },
     "execution_count": 16,
     "metadata": {},
     "output_type": "execute_result"
    }
   ],
   "source": [
    "5 + 4 / 2"
   ]
  },
  {
   "cell_type": "code",
   "execution_count": 17,
   "metadata": {},
   "outputs": [
    {
     "data": {
      "text/plain": [
       "4.5"
      ]
     },
     "execution_count": 17,
     "metadata": {},
     "output_type": "execute_result"
    }
   ],
   "source": [
    "(5 + 4) / 2"
   ]
  },
  {
   "cell_type": "markdown",
   "metadata": {},
   "source": [
    "Python terminalinde ya da IPython veya Jupyter gibi bir ortamda işlem yapıyorsanız, yazdığınız işlemin sonucu yukarıda olduğu gibi hemen alt satırda görünecektir. Ancak PyCharm gibi entegre bir Python ortamında kod yazıyorsanız, programı çalıştırdığınızda yazdığınız matematiksel işlemin sonucu çıktılar arasında görünmez. Python, işlemi hesaplar ancak çıktıyı yazması gerektiğini bilemez. İşlemin sonucunu yazmasını print() komutu ile söyleyebilirsiniz. \n",
    "\n",
    "```Python\n",
    "12 * 5\n",
    "Process finished with exit code 0\n",
    "print (12*5)\n",
    "60\n",
    "Process finished with exit code 0\n",
    "\n",
    "```"
   ]
  },
  {
   "cell_type": "code",
   "execution_count": 18,
   "metadata": {},
   "outputs": [
    {
     "data": {
      "text/plain": [
       "2.5"
      ]
     },
     "execution_count": 18,
     "metadata": {},
     "output_type": "execute_result"
    }
   ],
   "source": [
    "5 / 2"
   ]
  },
  {
   "cell_type": "code",
   "execution_count": 19,
   "metadata": {},
   "outputs": [
    {
     "data": {
      "text/plain": [
       "3"
      ]
     },
     "execution_count": 19,
     "metadata": {},
     "output_type": "execute_result"
    }
   ],
   "source": [
    "10 // 3"
   ]
  },
  {
   "cell_type": "code",
   "execution_count": 20,
   "metadata": {},
   "outputs": [
    {
     "data": {
      "text/plain": [
       "7"
      ]
     },
     "execution_count": 20,
     "metadata": {},
     "output_type": "execute_result"
    }
   ],
   "source": [
    "23 // 3"
   ]
  },
  {
   "cell_type": "markdown",
   "metadata": {},
   "source": [
    "Python’u terminalden ya da IPython veya Jupyter gibi bir editörden kullanıyorsanız herhangi bir matematiksel işlemin sonucunu görmek için doğrudan işlemi yazmanız yeterli olacaktır. Terminal ve IPython Shell’de işlemi yazdıktan sonra Enter tuşuna, Jupyter notebook dokümanında ise hücre içine kodu yazdıktan sonra Shift + Enter tuşlarına basmanız gerekir. Diğer taraftan PyCharm gibi bir entegre geliştirme ortamında (IDE: Integrated Development Environment) kod dosyası içinde işlemi yazarsanız, program çalıştırdığınızda hiçbir çıktı ile karşılaşmazsınız. Burada bir aritmetik işleminin sonucunu görmek için ilgili işlemi print() fonksiyonu içinde yazmak gerekir. Aşağıdaki örnekte, deneme.py dosyasının içine sadece 5**4 yazdığımızı düşünelim.\n",
    "\n",
    "\n",
    "```python\n",
    "5**4\n",
    "C:\\ProgramData\\Anaconda3\\python.exe \n",
    "C:/Users/PycharmProjects/deneme.py\n",
    "Process finished with exit code 0\n",
    "```"
   ]
  },
  {
   "cell_type": "markdown",
   "metadata": {},
   "source": [
    "Yukarıda deneme.py dosyası çalıştırıldığında çıktı da herhangi bir sonuç görünmemektedir. Aynı kodu print() fonksiyonu kullanarak çalıştırdığımızda ise aşağıdaki sonuç görünmektedir. \n",
    "\n",
    "```python\n",
    "print (5**4)\n",
    "C:\\ProgramData\\Anaconda3\\python.exe \n",
    "C:/Users/PycharmProjects/deneme.py\n",
    "625\n",
    "Process finished with exit code 0\t\n",
    "\n",
    "```\n",
    "Son olarak Python’da açıklama yazmayı görelim. Bütün programlama dillerinde kodların arasında açıklama yazabilmek için belirli kurallar vardır. Yazdığınız programları okuyanların daha kolay anlayabilmesi için kod satırları arasında açıklayıcı cümleler yazmak iyi bir uygulama şeklidir. Siz bile daha önce yazdığınız bir kodu incelerken “Acaba burada ne yapmak istemiştim?” diye düşünebilirsiniz. Yazılan bir açıklama cümlesinin kod parçası olmadığını anlatmanın bir yolu olmalıdır. Python’da bu cümlenin önüne # işareti getirmektir. Python’da, bu işaret görüldüğünde satırın geri kalan kısmı değerlendirmeye alınmaz. \n"
   ]
  },
  {
   "cell_type": "code",
   "execution_count": 21,
   "metadata": {},
   "outputs": [
    {
     "name": "stdout",
     "output_type": "stream",
     "text": [
      "25\n",
      "1\n",
      "3\n"
     ]
    }
   ],
   "source": [
    "print (5**2)  # Üs alma işlemi\n",
    "print(13 % 3) # Mod alma işlemi\n",
    "\n",
    "# Aşağıdaki işlemde tam sayı bölme örneği veriliyor\n",
    "print(15 // 4)"
   ]
  },
  {
   "cell_type": "markdown",
   "metadata": {},
   "source": [
    "Python’da açıklama cümlelerini birden fazla satıra yaymak da mümkündür. Açıklamanın başına ve sonuna üç tane tırnak işareti \"\"\" getirerek açıklamaları birden fazla satırda yazabilirsiniz. "
   ]
  },
  {
   "cell_type": "code",
   "execution_count": 22,
   "metadata": {},
   "outputs": [
    {
     "name": "stdout",
     "output_type": "stream",
     "text": [
      "1764.0\n"
     ]
    }
   ],
   "source": [
    "\"\"\" Birden fazla satıra\n",
    "yayılmış açıklama cümlesi örneği.\n",
    "Verilen sayının karesini yazdırma.\n",
    "\"\"\"\n",
    "x = \"42\"   \n",
    "print (float (x)**2)     # Kullanıcının 42 girdiği durumda"
   ]
  },
  {
   "cell_type": "markdown",
   "metadata": {},
   "source": [
    "## Değişkenler\n",
    "\n",
    "Tüm programlama dillerinin ortak bir özelliği de değişken kullanmalarıdır. Değişken, en basit tanımıyla bir değeri daha sonra da kullanabilmek için bu değere verilen isimdir. Örneğin, e = 2.71828183 yazarsam, bundan sonra her defasında sayıyı uzun uzun yazmak yerine e yazmam yeterli olacaktır. Program, e yazdığımda aslında neyi kast ettiğimi anlayacaktır. \n",
    "\n",
    "Programların çalışması sırasında bilgisayarların hafızasında farklı türde veriler depolanır ve kullanılır. Verilerin depolandığı yerler “nesne” olarak isimlendirilir. Bu nesnelere ulaşmak için de isimlere ihtiyaç duyarız. Bir nesneye verilen isme de “değişken” denir (Stroustrup, Programming Principles and Practice Using C++, Pearson, 2009). Veri nesneleri farklı türlerde olabilir. Bu farklı türlerin neler olduğuna izleyen bölümde değineceğiz. \n",
    "\n",
    "Bir değişken tanımlamak için kullanılacak değişken ismi ve sonrasında = yazıldıktan sonra değişkene atanacak değer yazılır. Bir değişkene basit bir değer atanabileceği gibi daha karmaşık veri yapıları da atanabilir. "
   ]
  },
  {
   "cell_type": "code",
   "execution_count": 23,
   "metadata": {},
   "outputs": [],
   "source": [
    "isim = \"İlker Arslan\"\n",
    "pi = 3.14\n",
    "x = 18"
   ]
  },
  {
   "cell_type": "markdown",
   "metadata": {},
   "source": [
    "Bazı dillerde bir değişkeni kullanmadan önce mutlaka bu değişkeni ve bu değişkenin verinin tipini tanımlamak gerekir. Python’da ise buna gerek yoktur. Ayrıca, bir değişkenin hangi tipte olduğunu da açıkça belirtmeye de gerek yoktur. Python, değişkenin aldığı değere bakarak hangi tipte olduğunu anlayabilir. \n",
    "\n",
    "Python’da değişken isimlerini belirlerken uyulması gereken kurallar aşağıdadır. Bu kurallardan bazılarına uymamak hataya ve programın durmasına yol açabilir. Bazıları ise sadece iyi programlama alışkanlığı olarak önerilmektedir (Matthes, Python Crash Course: A Hands on Project Based Introduction to Programming, San Francisco: No Starch Press, 2015).\t\n",
    "\n",
    "Değişkenler harf, sayı ya da alt çizgi içerebilir. Bir değişken ismi harf veya alt çizgi ile başlayabilir ama sayı ile başlayamaz ve boşluk içeremez. Diğer dillerde değişken isimlerinde nokta da kullanılsa da Python’da buna izin verilmez.\n",
    "\n",
    "Python’da tanımlanmış olan anahtar kelimeleri ve fonksiyon isimlerini değişken ismi olarak kullanmamaya dikkat edin. Örneğin “def”, Python’da fonksiyon tanımlamak için kullanılan bir kelimedir. Bu kelimeyi değişken ismi olarak kullanmak istersek hata mesajı ile karşılaşırız. "
   ]
  },
  {
   "cell_type": "code",
   "execution_count": 26,
   "metadata": {},
   "outputs": [
    {
     "ename": "SyntaxError",
     "evalue": "invalid syntax (2598205195.py, line 1)",
     "output_type": "error",
     "traceback": [
      "\u001b[1;36m  Cell \u001b[1;32mIn[26], line 1\u001b[1;36m\u001b[0m\n\u001b[1;33m    def = 4     # Hata\u001b[0m\n\u001b[1;37m        ^\u001b[0m\n\u001b[1;31mSyntaxError\u001b[0m\u001b[1;31m:\u001b[0m invalid syntax\n"
     ]
    }
   ],
   "source": [
    "def = 4     # Hata"
   ]
  },
  {
   "cell_type": "markdown",
   "metadata": {},
   "source": [
    "Bazı diğer dillerde olmayan bir özellik de birden fazla değişkeni aynı anda tanımlamaya izin verilmesidir. "
   ]
  },
  {
   "cell_type": "code",
   "execution_count": 27,
   "metadata": {},
   "outputs": [
    {
     "name": "stdout",
     "output_type": "stream",
     "text": [
      "3.14\n",
      "2.78\n"
     ]
    }
   ],
   "source": [
    "a, b = 3.14, 2.78\n",
    "print(a)\n",
    "print(b)"
   ]
  },
  {
   "cell_type": "markdown",
   "metadata": {},
   "source": [
    "Birden fazla değişkeni tanımlarken normal veya köşeli parantez de kullanılabilir. "
   ]
  },
  {
   "cell_type": "code",
   "execution_count": 28,
   "metadata": {},
   "outputs": [
    {
     "name": "stdout",
     "output_type": "stream",
     "text": [
      "7\n",
      "8\n",
      "9\n"
     ]
    }
   ],
   "source": [
    "[x, y, z] = [7, 8, 9]\n",
    "print(x)\n",
    "print(y)\n",
    "print(z)"
   ]
  },
  {
   "cell_type": "markdown",
   "metadata": {},
   "source": [
    "Mümkün olduğu kadar kısa ancak aynı zamanda anlaşılır değişken isimlerini her zaman tercih etmeniz önerilir. Örneğin, bir programda müşteri numarası için değişkene ihtiyaç duymanız halinde mn, m_n, gibi pratik ancak anlaşılması zor değişken isimleri yerine musteri_no gibi bir değişken ismini tercih etmelisiniz. \n",
    "\n",
    "Değişkenleri isimlendirme konusunda genel kabul gören birkaç yöntem vardır. Bu şekilde kullanmak mecburi olmamakla birlikte yazdığınız kodların kendi içinde tutarlı olması ve anlaşılabilir olması açısından belirli bir isimlendirme şeklini kullanmayı alışkanlık edinmeniz tavsiye edilir. \n",
    "\n",
    "Öncelikle, değişken isimlerini küçük harflerle tanımlamak, şart olmamakla birlikte tavsiye edilen bir alışkanlıktır. Değişken ismi, birden fazla kelimeden oluşuyorsa kelimeleri alt çizgi ile ayırabilirsiniz ya da ilk kelime küçük harf, sonraki her kelimenin ise sadece ilk harfi büyük olacak şekilde bitişik olarak yazabilirsiniz: musteri_no ya da musteriNo gibi. Diğer dillerde değişkenlerde nokta kullanılması kabul edilse de Python’da değişken isminde nokta kullanılmaz. Bunun sebebini Python metodlarını anlatırken göreceğiz. Son olarak değişken isimlerinin büyük ve küçük harfe duyarlı olduğuna dikkat etmek gerekir. Yani, abc, ABC, Abc, aBc farklı değişken isimlerini temsil eder.  "
   ]
  },
  {
   "cell_type": "markdown",
   "metadata": {},
   "source": [
    "## Temel Veri Tipleri\n",
    "\n",
    "Buraya kadar, bazı sayısal işlemler gerçekleştirdik. Ayrıca ekrana yazı yazdırdık. Bir programlama dilinde ilk öğrenilmesi gereken konulardan birisi de bu dildeki veri tipleridir. Nasıl ki bizler veirleri rakam, sayı, ondalık sayı, harf, kelime gibi farklı sınıflara ayırıyorsak bilgisayar programlarında da veriler farklı türlere ayrılır. Örneğin, 12, 13 tamsayı iken 3.14 gerçel sayı, “Merhaba Python” ise metin tipinde verilerdir. \n",
    "\n",
    "Python’da temel olarak **int** (integer: tamsayı), **float** (gerçel sayı) ve **string** (metin) veri tipleri bulunmaktadır. Bu üç veri tipinin dışında da bir değeri olmayan ve yer tutucu görevi gören **None** (boş) ve sadece True, False (Doğru, Yanlış) değerlerini alabilen **bool** veri tipleri bulunmaktadır. Ayrıca, karmaşık sayıları belirtmek için **complex** veri tipi de mevcuttur. Daha ileride göreceğimiz daha karmaşık veri yapıları bu temel veriler kullanılarak oluşturulmaktadır. \n",
    "\n",
    "### Sayısal Veri Tipleri\n",
    "\n",
    "**Integer:** Tamsayı türündeki verilerdir. Python’da tamsayıları 10’luk sistem dışında ikilik, sekizlik veya 16’lık sistemde yazmak da mümkündür. İkilik sistemde bir tamsayı yazmak için sayının başına **0b** (0 ve binary kelimesinin ilk harfi) getirilir. Benzer şekilde sekizli sayma düzeni için sayının başına **0o**, 16’lı sayma düzeninde bir sayı yazmak için sayının başına **0x** karakterleri getirilir. "
   ]
  },
  {
   "cell_type": "code",
   "execution_count": 29,
   "metadata": {},
   "outputs": [
    {
     "data": {
      "text/plain": [
       "100"
      ]
     },
     "execution_count": 29,
     "metadata": {},
     "output_type": "execute_result"
    }
   ],
   "source": [
    "# Onluk düzende 100 sayısı\n",
    "100"
   ]
  },
  {
   "cell_type": "code",
   "execution_count": 30,
   "metadata": {},
   "outputs": [
    {
     "data": {
      "text/plain": [
       "4"
      ]
     },
     "execution_count": 30,
     "metadata": {},
     "output_type": "execute_result"
    }
   ],
   "source": [
    "# İkili düzende 100 sayısının onluk düzendeki karşılığı\n",
    "0b100"
   ]
  },
  {
   "cell_type": "code",
   "execution_count": 31,
   "metadata": {},
   "outputs": [
    {
     "data": {
      "text/plain": [
       "64"
      ]
     },
     "execution_count": 31,
     "metadata": {},
     "output_type": "execute_result"
    }
   ],
   "source": [
    "# Sekizlik düzendeki 100 sayısının onluk düzendeki karşılığı\n",
    "0o100"
   ]
  },
  {
   "cell_type": "code",
   "execution_count": 32,
   "metadata": {},
   "outputs": [
    {
     "data": {
      "text/plain": [
       "256"
      ]
     },
     "execution_count": 32,
     "metadata": {},
     "output_type": "execute_result"
    }
   ],
   "source": [
    "# Onaltılık düzendeki 100 sayısının onluk düzendeki karşılığı\n",
    "0x100"
   ]
  },
  {
   "cell_type": "markdown",
   "metadata": {},
   "source": [
    "Bir gerçel sayıyı tam sayıya çevirmek için `int()` fonksiyonu kullanılır. Bu fonksiyon, gerçel sayının ondalık bölümünü atar. "
   ]
  },
  {
   "cell_type": "code",
   "execution_count": 33,
   "metadata": {},
   "outputs": [
    {
     "data": {
      "text/plain": [
       "-3"
      ]
     },
     "execution_count": 33,
     "metadata": {},
     "output_type": "execute_result"
    }
   ],
   "source": [
    "int(-3.999)"
   ]
  },
  {
   "cell_type": "code",
   "execution_count": 34,
   "metadata": {},
   "outputs": [
    {
     "data": {
      "text/plain": [
       "4"
      ]
     },
     "execution_count": 34,
     "metadata": {},
     "output_type": "execute_result"
    }
   ],
   "source": [
    "int(4.2)"
   ]
  },
  {
   "cell_type": "code",
   "execution_count": 35,
   "metadata": {},
   "outputs": [
    {
     "data": {
      "text/plain": [
       "-2"
      ]
     },
     "execution_count": 35,
     "metadata": {},
     "output_type": "execute_result"
    }
   ],
   "source": [
    "int(-2.78)"
   ]
  },
  {
   "cell_type": "code",
   "execution_count": 36,
   "metadata": {},
   "outputs": [
    {
     "data": {
      "text/plain": [
       "7"
      ]
     },
     "execution_count": 36,
     "metadata": {},
     "output_type": "execute_result"
    }
   ],
   "source": [
    "int(7.99)"
   ]
  },
  {
   "cell_type": "markdown",
   "metadata": {},
   "source": [
    "`int()` fonksiyonu, metin olarak girilmiş bir sayıyı da tamsayıya çevirebilir. "
   ]
  },
  {
   "cell_type": "code",
   "execution_count": 37,
   "metadata": {},
   "outputs": [
    {
     "data": {
      "text/plain": [
       "1807"
      ]
     },
     "execution_count": 37,
     "metadata": {},
     "output_type": "execute_result"
    }
   ],
   "source": [
    "int(\"1807\")"
   ]
  },
  {
   "cell_type": "markdown",
   "metadata": {},
   "source": [
    "`int()` fonksiyonunu kullanırken, ikinci bir argüman olarak sayının hangi sayma sisteminde olduğunu da belirtebiliriz."
   ]
  },
  {
   "cell_type": "code",
   "execution_count": 38,
   "metadata": {},
   "outputs": [
    {
     "data": {
      "text/plain": [
       "10"
      ]
     },
     "execution_count": 38,
     "metadata": {},
     "output_type": "execute_result"
    }
   ],
   "source": [
    "int(\"1010\", 2)"
   ]
  },
  {
   "cell_type": "code",
   "execution_count": 39,
   "metadata": {},
   "outputs": [
    {
     "data": {
      "text/plain": [
       "160"
      ]
     },
     "execution_count": 39,
     "metadata": {},
     "output_type": "execute_result"
    }
   ],
   "source": [
    "int(\"A0\", 16)"
   ]
  },
  {
   "cell_type": "code",
   "execution_count": 40,
   "metadata": {},
   "outputs": [
    {
     "data": {
      "text/plain": [
       "16"
      ]
     },
     "execution_count": 40,
     "metadata": {},
     "output_type": "execute_result"
    }
   ],
   "source": [
    "int(\"100\", 4)"
   ]
  },
  {
   "cell_type": "markdown",
   "metadata": {},
   "source": [
    "Bir verinin türünü öğrenmek için `type()` fonksiyonu kullanılır. "
   ]
  },
  {
   "cell_type": "code",
   "execution_count": 41,
   "metadata": {},
   "outputs": [
    {
     "data": {
      "text/plain": [
       "int"
      ]
     },
     "execution_count": 41,
     "metadata": {},
     "output_type": "execute_result"
    }
   ],
   "source": [
    "type(17)"
   ]
  },
  {
   "cell_type": "markdown",
   "metadata": {},
   "source": [
    "Bir verinin kaç bit büyüklüğünde olduğunu görmek için `.bit_length()` metodu kullanılır. Bu özelliği tamsayılar için de kullanabiliriz. "
   ]
  },
  {
   "cell_type": "code",
   "execution_count": 42,
   "metadata": {},
   "outputs": [
    {
     "data": {
      "text/plain": [
       "4"
      ]
     },
     "execution_count": 42,
     "metadata": {},
     "output_type": "execute_result"
    }
   ],
   "source": [
    "(10).bit_length()"
   ]
  },
  {
   "cell_type": "code",
   "execution_count": 43,
   "metadata": {},
   "outputs": [
    {
     "data": {
      "text/plain": [
       "30"
      ]
     },
     "execution_count": 43,
     "metadata": {},
     "output_type": "execute_result"
    }
   ],
   "source": [
    "(1000000000).bit_length()"
   ]
  },
  {
   "cell_type": "markdown",
   "metadata": {},
   "source": [
    "**Float:** Gerçel sayılar ya da ondalık sayılar float veri tipi olarak saklanır. Python ondalık kısmı olan her sayıyı **float** olarak kabul eder. "
   ]
  },
  {
   "cell_type": "code",
   "execution_count": 44,
   "metadata": {},
   "outputs": [
    {
     "data": {
      "text/plain": [
       "3.14"
      ]
     },
     "execution_count": 44,
     "metadata": {},
     "output_type": "execute_result"
    }
   ],
   "source": [
    "3.14"
   ]
  },
  {
   "cell_type": "code",
   "execution_count": 45,
   "metadata": {},
   "outputs": [
    {
     "data": {
      "text/plain": [
       "2.7818"
      ]
     },
     "execution_count": 45,
     "metadata": {},
     "output_type": "execute_result"
    }
   ],
   "source": [
    "2.7818"
   ]
  },
  {
   "cell_type": "markdown",
   "metadata": {},
   "source": [
    "Çok büyük sayıları yazmak için bilimsel notasyon da kullanılabilir. Örneğin, $4x10^{12}$ sayısı 4e12 olarak yazılabilir. "
   ]
  },
  {
   "cell_type": "code",
   "execution_count": 46,
   "metadata": {},
   "outputs": [
    {
     "data": {
      "text/plain": [
       "4000000000000.0"
      ]
     },
     "execution_count": 46,
     "metadata": {},
     "output_type": "execute_result"
    }
   ],
   "source": [
    "4e12"
   ]
  },
  {
   "cell_type": "markdown",
   "metadata": {},
   "source": [
    "Tamsayılardaki `int()` fonksiyonu gibi bir veriyi float veri tipine çevirmek için de `float()` fonksiyonu kullanılır. "
   ]
  },
  {
   "cell_type": "code",
   "execution_count": 47,
   "metadata": {},
   "outputs": [
    {
     "data": {
      "text/plain": [
       "11.0"
      ]
     },
     "execution_count": 47,
     "metadata": {},
     "output_type": "execute_result"
    }
   ],
   "source": [
    "float(11)"
   ]
  },
  {
   "cell_type": "code",
   "execution_count": 48,
   "metadata": {},
   "outputs": [
    {
     "data": {
      "text/plain": [
       "18.07"
      ]
     },
     "execution_count": 48,
     "metadata": {},
     "output_type": "execute_result"
    }
   ],
   "source": [
    "float(\"18.07\")"
   ]
  },
  {
   "cell_type": "markdown",
   "metadata": {},
   "source": [
    "**Complex:** Karmaşık sayıları belirtmek üzere kullanılır. Bilindiği gibi karmaşık sayılar bir gerçel, bir de sanal kısımdan oluşan nesnelerdir. Python’da karmaşık sayının sanal kısmı j harfi ile belirtilir. Sanal kısmı belirten $j = \\sqrt{-1}$ olarak tanımlanır. "
   ]
  },
  {
   "cell_type": "code",
   "execution_count": 49,
   "metadata": {},
   "outputs": [
    {
     "data": {
      "text/plain": [
       "(3+4j)"
      ]
     },
     "execution_count": 49,
     "metadata": {},
     "output_type": "execute_result"
    }
   ],
   "source": [
    "3 + 4j"
   ]
  },
  {
   "cell_type": "code",
   "execution_count": 50,
   "metadata": {},
   "outputs": [
    {
     "data": {
      "text/plain": [
       "(2-3j)"
      ]
     },
     "execution_count": 50,
     "metadata": {},
     "output_type": "execute_result"
    }
   ],
   "source": [
    "2 - 3j"
   ]
  },
  {
   "cell_type": "code",
   "execution_count": 51,
   "metadata": {},
   "outputs": [
    {
     "data": {
      "text/plain": [
       "complex"
      ]
     },
     "execution_count": 51,
     "metadata": {},
     "output_type": "execute_result"
    }
   ],
   "source": [
    "type(1 + 2j)"
   ]
  },
  {
   "cell_type": "code",
   "execution_count": 52,
   "metadata": {},
   "outputs": [
    {
     "data": {
      "text/plain": [
       "(8+1j)"
      ]
     },
     "execution_count": 52,
     "metadata": {},
     "output_type": "execute_result"
    }
   ],
   "source": [
    "5 + 3j + 3 - 2j"
   ]
  },
  {
   "cell_type": "markdown",
   "metadata": {},
   "source": [
    "Bir karmaşık sayı tanımlamak için `complex()` fonksiyonu da kullanılabilir. Bu fonksiyon iki argüman alır. İlk argüman oluşturulacak karmaşık sayının gerçel kısmını, ikinci argüman ise sanal kısmını belirtir. "
   ]
  },
  {
   "cell_type": "code",
   "execution_count": 53,
   "metadata": {},
   "outputs": [
    {
     "data": {
      "text/plain": [
       "(4+3j)"
      ]
     },
     "execution_count": 53,
     "metadata": {},
     "output_type": "execute_result"
    }
   ],
   "source": [
    "complex(4, 3)"
   ]
  },
  {
   "cell_type": "code",
   "execution_count": 54,
   "metadata": {},
   "outputs": [
    {
     "data": {
      "text/plain": [
       "(2.7+3.2j)"
      ]
     },
     "execution_count": 54,
     "metadata": {},
     "output_type": "execute_result"
    }
   ],
   "source": [
    "complex(2.7, 3.2)"
   ]
  },
  {
   "cell_type": "markdown",
   "metadata": {},
   "source": [
    "**None:** Herhangi bir değeri olmayan boş bir nesneyi temsil eder. İlk harf mutlaka büyük yazılmalıdır. Python’da herhangi bir değer döndürmeyen fonksiyonlar None nesnesini verir. Python’da genelde bir fonksiyonun opsiyonel argümanlarının varsayılan değeri None olur. Bu şekilde fonksiyon kullanıldığında, opsiyonel argümana bir değer atanıp atanamadığı program tarafından anlaşılır (Zelle, 2009). "
   ]
  },
  {
   "cell_type": "code",
   "execution_count": 55,
   "metadata": {},
   "outputs": [
    {
     "data": {
      "text/plain": [
       "True"
      ]
     },
     "execution_count": 55,
     "metadata": {},
     "output_type": "execute_result"
    }
   ],
   "source": [
    "x = None\n",
    "x is None"
   ]
  },
  {
   "cell_type": "markdown",
   "metadata": {},
   "source": [
    "**Bool:** Sadece **True** (Doğru) veya **False** (Yanlış) değerlerinden birini alabilen mantıksal bir veri türüdür. Sayısal olarak 0 değeri False ve sıfır dışındaki tüm sayılar True kabul edilir. "
   ]
  },
  {
   "cell_type": "code",
   "execution_count": 56,
   "metadata": {},
   "outputs": [
    {
     "data": {
      "text/plain": [
       "False"
      ]
     },
     "execution_count": 56,
     "metadata": {},
     "output_type": "execute_result"
    }
   ],
   "source": [
    "bool(0)"
   ]
  },
  {
   "cell_type": "code",
   "execution_count": 57,
   "metadata": {},
   "outputs": [
    {
     "data": {
      "text/plain": [
       "True"
      ]
     },
     "execution_count": 57,
     "metadata": {},
     "output_type": "execute_result"
    }
   ],
   "source": [
    "bool(-3)"
   ]
  },
  {
   "cell_type": "code",
   "execution_count": 58,
   "metadata": {},
   "outputs": [
    {
     "data": {
      "text/plain": [
       "True"
      ]
     },
     "execution_count": 58,
     "metadata": {},
     "output_type": "execute_result"
    }
   ],
   "source": [
    "bool(4.12)"
   ]
  },
  {
   "cell_type": "markdown",
   "metadata": {},
   "source": [
    "İleride göreceğimiz, tuple, list, dictionary gibi veri yapılarında da veri yapısının hiç elemanı yoksa yani boş ise bool karşılığı False, bir veya daha fazla elemanı varsa True kabul edilir. **None** boş nesnesinin de hiçbir değeri ya da bir özelliği bulunmadığı için **False** bool değerini alır. "
   ]
  },
  {
   "cell_type": "code",
   "execution_count": 59,
   "metadata": {},
   "outputs": [
    {
     "data": {
      "text/plain": [
       "False"
      ]
     },
     "execution_count": 59,
     "metadata": {},
     "output_type": "execute_result"
    }
   ],
   "source": [
    "bool(None)"
   ]
  },
  {
   "cell_type": "markdown",
   "metadata": {},
   "source": [
    "Bool verileri 0 ve 1 olarak kabul edildiğinden bunlarla yapılan matematiksel işlemlerde de 0 ve 1 değerlerini alırlar. "
   ]
  },
  {
   "cell_type": "code",
   "execution_count": 60,
   "metadata": {},
   "outputs": [
    {
     "data": {
      "text/plain": [
       "2"
      ]
     },
     "execution_count": 60,
     "metadata": {},
     "output_type": "execute_result"
    }
   ],
   "source": [
    "True + True"
   ]
  },
  {
   "cell_type": "code",
   "execution_count": 61,
   "metadata": {},
   "outputs": [
    {
     "data": {
      "text/plain": [
       "1"
      ]
     },
     "execution_count": 61,
     "metadata": {},
     "output_type": "execute_result"
    }
   ],
   "source": [
    "True + False"
   ]
  },
  {
   "cell_type": "code",
   "execution_count": 62,
   "metadata": {},
   "outputs": [
    {
     "data": {
      "text/plain": [
       "0"
      ]
     },
     "execution_count": 62,
     "metadata": {},
     "output_type": "execute_result"
    }
   ],
   "source": [
    "True * False"
   ]
  },
  {
   "cell_type": "markdown",
   "metadata": {},
   "source": [
    "### Metin Veri Tipi (String)\n",
    "\n",
    "String, bir veya daha fazla karakter dizisinden oluşan metin tipi veri yapısıdır. String veri tipi Pyhon’da tırnak işareti (“  ”) veya kesme işareti (‘  ’) arasında yazılarak belirtilir. İyi uygulama alışkanlığı açısından bir tanesini kullanmayı alışkanlık edinmekte fayda vardır. Metin veri tipi için iki işareti de kullanabilmenin bir faydası da metnin içinde tırnak veya kesme işareti kullanımına izin vermesidir. "
   ]
  },
  {
   "cell_type": "code",
   "execution_count": 63,
   "metadata": {},
   "outputs": [
    {
     "data": {
      "text/plain": [
       "\"Python, 'Guido van Rossum' tarafından geliştirilmiştir.\""
      ]
     },
     "execution_count": 63,
     "metadata": {},
     "output_type": "execute_result"
    }
   ],
   "source": [
    "\"Python, 'Guido van Rossum' tarafından geliştirilmiştir.\""
   ]
  },
  {
   "cell_type": "markdown",
   "metadata": {},
   "source": [
    "Yukarıdaki metni aşağıdaki şekillerde yazarsanız hata mesajı ile karşılaşırsınız. "
   ]
  },
  {
   "cell_type": "code",
   "execution_count": 64,
   "metadata": {},
   "outputs": [
    {
     "ename": "SyntaxError",
     "evalue": "invalid syntax (161329136.py, line 1)",
     "output_type": "error",
     "traceback": [
      "\u001b[1;36m  Cell \u001b[1;32mIn[64], line 1\u001b[1;36m\u001b[0m\n\u001b[1;33m    \"Python, \"Guido van Rossum\" tarafından geliştirilmiştir.\"       # Hata\u001b[0m\n\u001b[1;37m              ^\u001b[0m\n\u001b[1;31mSyntaxError\u001b[0m\u001b[1;31m:\u001b[0m invalid syntax\n"
     ]
    }
   ],
   "source": [
    "\"Python, \"Guido van Rossum\" tarafından geliştirilmiştir.\"       # Hata"
   ]
  },
  {
   "cell_type": "code",
   "execution_count": 67,
   "metadata": {},
   "outputs": [
    {
     "ename": "SyntaxError",
     "evalue": "invalid syntax (3029422042.py, line 1)",
     "output_type": "error",
     "traceback": [
      "\u001b[1;36m  Cell \u001b[1;32mIn[67], line 1\u001b[1;36m\u001b[0m\n\u001b[1;33m    'Python, 'Guido van Rossum' tarafından geliştirilmiştir.'       # Hata\u001b[0m\n\u001b[1;37m              ^\u001b[0m\n\u001b[1;31mSyntaxError\u001b[0m\u001b[1;31m:\u001b[0m invalid syntax\n"
     ]
    }
   ],
   "source": [
    "'Python, 'Guido van Rossum' tarafından geliştirilmiştir.'       # Hata"
   ]
  },
  {
   "cell_type": "markdown",
   "metadata": {},
   "source": [
    "Yan yana metinleri ayrı tırnak işaretleri içinde yazarsanız Python bunları da bir araya getirir. "
   ]
  },
  {
   "cell_type": "code",
   "execution_count": 68,
   "metadata": {},
   "outputs": [
    {
     "data": {
      "text/plain": [
       "'birinci ikinci üçüncü'"
      ]
     },
     "execution_count": 68,
     "metadata": {},
     "output_type": "execute_result"
    }
   ],
   "source": [
    "\"birinci \" \"ikinci \" \"üçüncü\""
   ]
  },
  {
   "cell_type": "markdown",
   "metadata": {},
   "source": [
    "Python’da, string veri tipi UTF-8 karakter setini desteklemektedir. Bunun bizim için anlamı, Python’da string türü verilerde, Türkçe karakterleri de kullanabiliyor olmamızdır."
   ]
  },
  {
   "cell_type": "code",
   "execution_count": 69,
   "metadata": {},
   "outputs": [
    {
     "name": "stdout",
     "output_type": "stream",
     "text": [
      "İıŞşÖöÜüĞğ\n"
     ]
    }
   ],
   "source": [
    "metin = \"İıŞşÖöÜüĞğ\"\n",
    "print(metin)"
   ]
  },
  {
   "cell_type": "markdown",
   "metadata": {},
   "source": [
    "Bazı programlama dillerinde, tek bir karakterden oluşan veri tipi karakter, birden fazla karakterden oluşan veri tipi ise metin olarak isimlendirilir. Python’da böyle bir ayrım yoktur. Metnin uzunluğu kaç karakter olursa olsun string veri tipindedir. Bir metnin içindeki karakterler 0’dan başlayan sıra numaraları ile numaralandırılmıştır. İlk karakterin sırası sıfır, ikinci sıradaki karakterin sırası iki olmak üzere devam eder. Bir metinde herhangi bir sıradaki karakteri çekmek için köşeli parantez, [ ], içinde sıra numarası yazılır. \n",
    "\n",
    "\n",
    "| P  | y  |  t | h  | o  | n  |    | p  | r  |  o | g  |  r | a  | m  | l  | a  | m  | a  |\n",
    "|:--:|:--:|:--:|:--:|:--:|:--:|:--:|:--:|:--:|:--:|:--:|:--:|:--:|:--:|:--:|:--:|:--:|:--:|\n",
    "| 0  | 1  |  2 | 3  | 4  | 5  |  6 | 7  | 8  | 9  | 10 | 11 | 12 | 13 | 14 | 15 | 16 | 17 | "
   ]
  },
  {
   "cell_type": "code",
   "execution_count": 70,
   "metadata": {},
   "outputs": [
    {
     "data": {
      "text/plain": [
       "'İ'"
      ]
     },
     "execution_count": 70,
     "metadata": {},
     "output_type": "execute_result"
    }
   ],
   "source": [
    "il = \"İzmir\"\n",
    "il[0]"
   ]
  },
  {
   "cell_type": "code",
   "execution_count": 71,
   "metadata": {},
   "outputs": [
    {
     "data": {
      "text/plain": [
       "('z', 'm')"
      ]
     },
     "execution_count": 71,
     "metadata": {},
     "output_type": "execute_result"
    }
   ],
   "source": [
    "il[1], il[2]"
   ]
  },
  {
   "cell_type": "code",
   "execution_count": 72,
   "metadata": {},
   "outputs": [
    {
     "data": {
      "text/plain": [
       "'i'"
      ]
     },
     "execution_count": 72,
     "metadata": {},
     "output_type": "execute_result"
    }
   ],
   "source": [
    "il[3]"
   ]
  },
  {
   "cell_type": "markdown",
   "metadata": {},
   "source": [
    "Sıra numarasının sıfır ile başladığına dikkat etmişsinizdir. Python’da tüm sıralamalar sıfırdan başlar. \n",
    "\n",
    "Diğer yandan, yukarıdaki örnekler bir metnin içeriğinin kısmen değiştirilebileceği anlamına gelmez. Yani bir metni tanımladıktan sonra, metnin sözgelimi 3. karakterini değiştirmek isterseniz bir hata mesajı ile karşılaşırsınız. \n"
   ]
  },
  {
   "cell_type": "code",
   "execution_count": 73,
   "metadata": {},
   "outputs": [
    {
     "ename": "TypeError",
     "evalue": "'str' object does not support item assignment",
     "output_type": "error",
     "traceback": [
      "\u001b[1;31m---------------------------------------------------------------------------\u001b[0m",
      "\u001b[1;31mTypeError\u001b[0m                                 Traceback (most recent call last)",
      "Cell \u001b[1;32mIn[73], line 2\u001b[0m\n\u001b[0;32m      1\u001b[0m ulke \u001b[39m=\u001b[39m \u001b[39m\"\u001b[39m\u001b[39mtürkiye\u001b[39m\u001b[39m\"\u001b[39m\n\u001b[1;32m----> 2\u001b[0m ulke[\u001b[39m0\u001b[39;49m] \u001b[39m=\u001b[39m \u001b[39m\"\u001b[39m\u001b[39mT\u001b[39m\u001b[39m\"\u001b[39m       \u001b[39m# Hata\u001b[39;00m\n",
      "\u001b[1;31mTypeError\u001b[0m: 'str' object does not support item assignment"
     ]
    }
   ],
   "source": [
    "ulke = \"türkiye\"\n",
    "ulke[0] = \"T\"       # Hata"
   ]
  },
  {
   "cell_type": "markdown",
   "metadata": {},
   "source": [
    "Python’da tüm değişkenleri olduğu gibi metinleri de yazdırmanın yolu `print()` fonksiyonunu kullanmaktır. Birden fazla metni bir arada yazdırmak için print fonksiyonu içinde bir araya getirilmek istenen metinler arasında `+` işareti konur. "
   ]
  },
  {
   "cell_type": "code",
   "execution_count": 74,
   "metadata": {},
   "outputs": [
    {
     "name": "stdout",
     "output_type": "stream",
     "text": [
      "Python öğreniyorum!\n"
     ]
    }
   ],
   "source": [
    "print(\"Python \" + \"öğreniyorum\" + \"!\")"
   ]
  },
  {
   "cell_type": "markdown",
   "metadata": {},
   "source": [
    "Bir veriyi metne çevirmenin yolu str() fonksiyonunu kullanmaktır."
   ]
  },
  {
   "cell_type": "code",
   "execution_count": 75,
   "metadata": {},
   "outputs": [],
   "source": [
    "x = 12345"
   ]
  },
  {
   "cell_type": "code",
   "execution_count": 76,
   "metadata": {},
   "outputs": [
    {
     "data": {
      "text/plain": [
       "int"
      ]
     },
     "execution_count": 76,
     "metadata": {},
     "output_type": "execute_result"
    }
   ],
   "source": [
    "type(x)"
   ]
  },
  {
   "cell_type": "code",
   "execution_count": 78,
   "metadata": {},
   "outputs": [
    {
     "data": {
      "text/plain": [
       "'12345'"
      ]
     },
     "execution_count": 78,
     "metadata": {},
     "output_type": "execute_result"
    }
   ],
   "source": [
    "y = str(x)\n",
    "y"
   ]
  },
  {
   "cell_type": "code",
   "execution_count": 79,
   "metadata": {},
   "outputs": [
    {
     "data": {
      "text/plain": [
       "str"
      ]
     },
     "execution_count": 79,
     "metadata": {},
     "output_type": "execute_result"
    }
   ],
   "source": [
    "type(y)"
   ]
  },
  {
   "cell_type": "markdown",
   "metadata": {},
   "source": [
    "Python’da metinleri birden fazla satırda yazmak da mümkündür. Bunun iki yolu vardır. İlk yolu, daha önce açıklama yazımında gördüğümüz gibi, metnin başında ve sonunda üçer adet tırnak ya da kesme işareti kullanmaktır. Arada kalan metni farklı satırlara yazabilirsiniz. "
   ]
  },
  {
   "cell_type": "code",
   "execution_count": 80,
   "metadata": {},
   "outputs": [
    {
     "data": {
      "text/plain": [
       "\"Python'da metinler \\nbirden fazla satıra \\nyazılabilir.\\n\""
      ]
     },
     "execution_count": 80,
     "metadata": {},
     "output_type": "execute_result"
    }
   ],
   "source": [
    "\"\"\"Python'da metinler \n",
    "birden fazla satıra \n",
    "yazılabilir.\n",
    "\"\"\""
   ]
  },
  {
   "cell_type": "markdown",
   "metadata": {},
   "source": [
    "Metnin çıktısı tek satırda verilir ama çıktıdaki “\\n” karakteri dikkatinizi çekmiştir. Bu karakter satır sonu karakteri olarak kullanılır. Program, metin içinde \\n karakteri gördüğünde alt satıra geçer. Aynı şekilde, yukarıdaki gibi Enter tuşuna basılarak alt satıra geçildiğinde program buraya \\n karakterini yerleştirir. "
   ]
  },
  {
   "cell_type": "code",
   "execution_count": 82,
   "metadata": {},
   "outputs": [
    {
     "data": {
      "text/plain": [
       "'Bu metin \\nbirden fazla \\nsatırda yazılmıştır.'"
      ]
     },
     "execution_count": 82,
     "metadata": {},
     "output_type": "execute_result"
    }
   ],
   "source": [
    "metin = \"Bu metin \\nbirden fazla \\nsatırda yazılmıştır.\"\n",
    "metin"
   ]
  },
  {
   "cell_type": "code",
   "execution_count": 83,
   "metadata": {},
   "outputs": [
    {
     "name": "stdout",
     "output_type": "stream",
     "text": [
      "Bu metin \n",
      "birden fazla \n",
      "satırda yazılmıştır.\n"
     ]
    }
   ],
   "source": [
    "print(metin)"
   ]
  },
  {
   "cell_type": "markdown",
   "metadata": {},
   "source": [
    "Yukarıdaki kodda sadece değişken adı ile yazdırılan metinle, print() kullanılarak yazdırılan metin arasındaki farka dikkat edin. Benzer şekilde metin içinde sekme (tab) karakteri koymak için \\t kullanılır. "
   ]
  },
  {
   "cell_type": "code",
   "execution_count": 84,
   "metadata": {},
   "outputs": [
    {
     "name": "stdout",
     "output_type": "stream",
     "text": [
      "Python \t ile \t programlama.\n"
     ]
    }
   ],
   "source": [
    "metin = \"Python \\t ile \\t programlama.\"\n",
    "print(metin)"
   ]
  },
  {
   "cell_type": "markdown",
   "metadata": {},
   "source": [
    "Metin içinde tırnak işareti veya kesme işareti kullanmak için `\\”` ve `\\’` kullanılır. Yukarıda görüldüğü gibi `“\\”` karakterinin özel bir kullanımı olduğundan dosya ve klasör adreslerini yazarken bu karakterin olduğu gibi kullanılması hata mesajı alınmasına yol açabilir. "
   ]
  },
  {
   "cell_type": "code",
   "execution_count": 85,
   "metadata": {},
   "outputs": [
    {
     "ename": "SyntaxError",
     "evalue": "(unicode error) 'unicodeescape' codec can't decode bytes in position 2-3: truncated \\uXXXX escape (2673724834.py, line 1)",
     "output_type": "error",
     "traceback": [
      "\u001b[1;36m  Cell \u001b[1;32mIn[85], line 1\u001b[1;36m\u001b[0m\n\u001b[1;33m    dir = \"C:\\users\\ilker\\Desktop\"\u001b[0m\n\u001b[1;37m                                  ^\u001b[0m\n\u001b[1;31mSyntaxError\u001b[0m\u001b[1;31m:\u001b[0m (unicode error) 'unicodeescape' codec can't decode bytes in position 2-3: truncated \\uXXXX escape\n"
     ]
    }
   ],
   "source": [
    "dir = \"C:\\users\\ilker\\Desktop\""
   ]
  },
  {
   "cell_type": "markdown",
   "metadata": {},
   "source": [
    "Bu hatanın önüne geçmek için yazılacak metnin önüne “r” harfi getirilir. Bu harf “raw” yani ham kelimesinin kısaltmasıdır ve yazılan metnin olduğu gibi alınmasını sağlar. "
   ]
  },
  {
   "cell_type": "code",
   "execution_count": 86,
   "metadata": {},
   "outputs": [
    {
     "data": {
      "text/plain": [
       "'C:\\\\users\\\\ilker\\\\Desktop'"
      ]
     },
     "execution_count": 86,
     "metadata": {},
     "output_type": "execute_result"
    }
   ],
   "source": [
    "dir = r\"C:\\users\\ilker\\Desktop\"\n",
    "dir"
   ]
  },
  {
   "cell_type": "code",
   "execution_count": 87,
   "metadata": {},
   "outputs": [
    {
     "name": "stdout",
     "output_type": "stream",
     "text": [
      "C:\\users\\ilker\\Desktop\n"
     ]
    }
   ],
   "source": [
    "print(dir)"
   ]
  },
  {
   "cell_type": "markdown",
   "metadata": {},
   "source": [
    "Metinleri ya da metin veri tipindeki değişkenleri toplamak da mümkündür. İki veya daha fazla metni, `+` operatörü ile topladığımızda, bu metinler birleştirilir. "
   ]
  },
  {
   "cell_type": "code",
   "execution_count": 89,
   "metadata": {},
   "outputs": [
    {
     "data": {
      "text/plain": [
       "'Guido van Rossum'"
      ]
     },
     "execution_count": 89,
     "metadata": {},
     "output_type": "execute_result"
    }
   ],
   "source": [
    "ad = \"Guido\"\n",
    "soyad = \"van Rossum\"\n",
    "adsoyad = ad + \" \" + soyad \n",
    "adsoyad"
   ]
  },
  {
   "cell_type": "markdown",
   "metadata": {},
   "source": [
    "Nasıl ki metinlerle toplama işlemi yapmak mümkünse, çarpma işlemi de mümkündür. Çarpma işlemi de bir metni yan yana istenen sayıda yazmak için kullanılır. "
   ]
  },
  {
   "cell_type": "code",
   "execution_count": 91,
   "metadata": {},
   "outputs": [
    {
     "data": {
      "text/plain": [
       "'Python Python Python '"
      ]
     },
     "execution_count": 91,
     "metadata": {},
     "output_type": "execute_result"
    }
   ],
   "source": [
    "dil = \"Python \"\n",
    "dil3 = dil * 3 \n",
    "dil3"
   ]
  },
  {
   "cell_type": "markdown",
   "metadata": {},
   "source": [
    "Python’da metinlerle işlem yapmak ve metinleri değiştirebilmek için geliştirilmiş metodlar bulunmaktadır. Aşağıdaki örnekte yer alan `.title()` metodu, metindeki her kelimenin ilk harfini büyük diğerlerini küçük yapar. Metodlar, Python'a özel fonksiyonlar olup ilerleyen bölümlerde ayrıntılı olarak aktarılacaktır."
   ]
  },
  {
   "cell_type": "code",
   "execution_count": 92,
   "metadata": {},
   "outputs": [
    {
     "data": {
      "text/plain": [
       "'Hüseyin Eren Arslan'"
      ]
     },
     "execution_count": 92,
     "metadata": {},
     "output_type": "execute_result"
    }
   ],
   "source": [
    "isim = \"Hüseyin Eren Arslan\"\n",
    "isim.title()"
   ]
  },
  {
   "cell_type": "code",
   "execution_count": 93,
   "metadata": {},
   "outputs": [
    {
     "data": {
      "text/plain": [
       "'Huseyin Eren Arslan'"
      ]
     },
     "execution_count": 93,
     "metadata": {},
     "output_type": "execute_result"
    }
   ],
   "source": [
    "isim = \"HUSEYIN EREN ARSLAN\"\n",
    "isim.title()"
   ]
  },
  {
   "cell_type": "markdown",
   "metadata": {},
   "source": [
    "Yukarıda görülen isim.title() şeklindeki kod, Python’a isim değişkeni üzerinde `.title()` metodunu kullanmasını söylemektedir. \n",
    "Bir metnin sadece ilk harfini büyük, diğerlerini ise küçük yapmak için `.capitalize()` metodu kullanılır. "
   ]
  },
  {
   "cell_type": "code",
   "execution_count": 94,
   "metadata": {},
   "outputs": [
    {
     "data": {
      "text/plain": [
       "'Hüseyin eren arslan'"
      ]
     },
     "execution_count": 94,
     "metadata": {},
     "output_type": "execute_result"
    }
   ],
   "source": [
    "isim = \"Hüseyin Eren Arslan\"\n",
    "isim.capitalize()"
   ]
  },
  {
   "cell_type": "markdown",
   "metadata": {},
   "source": [
    "Benzer şekilde metnin büyük harf yapmak için `upper()`, küçük harf yapmak için `lower()` metodları kullanılabilir. "
   ]
  },
  {
   "cell_type": "code",
   "execution_count": 97,
   "metadata": {},
   "outputs": [
    {
     "data": {
      "text/plain": [
       "'HÜSEYIN EREN ARSLAN'"
      ]
     },
     "execution_count": 97,
     "metadata": {},
     "output_type": "execute_result"
    }
   ],
   "source": [
    "isim = \"HüSeYin ERen ArSLan\"\n",
    "isim.upper()"
   ]
  },
  {
   "cell_type": "code",
   "execution_count": 98,
   "metadata": {},
   "outputs": [
    {
     "data": {
      "text/plain": [
       "'hüseyin eren arslan'"
      ]
     },
     "execution_count": 98,
     "metadata": {},
     "output_type": "execute_result"
    }
   ],
   "source": [
    "isim.lower()"
   ]
  },
  {
   "cell_type": "markdown",
   "metadata": {},
   "source": [
    "Bir metin boşluk içeriyor ve bu metni saklamadan ya da bir işlemden geçirmeden önce metindeki boşlukları ortadan kaldırmanız gerekiyor olabilir. Bunun için, `.rstrip()`, `.lstrip()` ve `.strip()` metodları kullanılır. Bu metodlardan ilk ikisi metnin sağındaki ve solundaki boşlukları kaldırır. Sonuncusu ise metindeki tüm boşlukları kaldırır. "
   ]
  },
  {
   "cell_type": "code",
   "execution_count": 99,
   "metadata": {},
   "outputs": [
    {
     "data": {
      "text/plain": [
       "'     Python öğreniyorum     '"
      ]
     },
     "execution_count": 99,
     "metadata": {},
     "output_type": "execute_result"
    }
   ],
   "source": [
    "metin = \"     Python öğreniyorum     \"\n",
    "metin"
   ]
  },
  {
   "cell_type": "code",
   "execution_count": 100,
   "metadata": {},
   "outputs": [
    {
     "data": {
      "text/plain": [
       "'     Python öğreniyorum'"
      ]
     },
     "execution_count": 100,
     "metadata": {},
     "output_type": "execute_result"
    }
   ],
   "source": [
    "metin.rstrip()    # sağdaki boşlukları kaldır"
   ]
  },
  {
   "cell_type": "code",
   "execution_count": 101,
   "metadata": {},
   "outputs": [
    {
     "data": {
      "text/plain": [
       "'Python öğreniyorum     '"
      ]
     },
     "execution_count": 101,
     "metadata": {},
     "output_type": "execute_result"
    }
   ],
   "source": [
    "metin.lstrip()    #soldaki boşlukları kaldır"
   ]
  },
  {
   "cell_type": "code",
   "execution_count": 102,
   "metadata": {},
   "outputs": [
    {
     "data": {
      "text/plain": [
       "'Python öğreniyorum'"
      ]
     },
     "execution_count": 102,
     "metadata": {},
     "output_type": "execute_result"
    }
   ],
   "source": [
    "metin.strip()    # her iki taraftaki boşlukları kaldır"
   ]
  },
  {
   "cell_type": "markdown",
   "metadata": {},
   "source": [
    "Bir metni kelimelerine ayırmak içinse `.split()` metodunu kullanabiliriz. "
   ]
  },
  {
   "cell_type": "code",
   "execution_count": 103,
   "metadata": {},
   "outputs": [
    {
     "data": {
      "text/plain": [
       "['Python', 'ile', 'programlama', 'öğreniyorum']"
      ]
     },
     "execution_count": 103,
     "metadata": {},
     "output_type": "execute_result"
    }
   ],
   "source": [
    "msj = \"Python ile programlama öğreniyorum\"\n",
    "msj.split()"
   ]
  },
  {
   "cell_type": "markdown",
   "metadata": {},
   "source": [
    "Metnin herhangi bir bölümünde değişiklik yapmak için `.replace()` metodu kullanılabilir. "
   ]
  },
  {
   "cell_type": "code",
   "execution_count": 104,
   "metadata": {},
   "outputs": [
    {
     "data": {
      "text/plain": [
       "'İzmir Ankara Adana İzmir Edirne Kars İzmir'"
      ]
     },
     "execution_count": 104,
     "metadata": {},
     "output_type": "execute_result"
    }
   ],
   "source": [
    "metin = \"İstanbul Ankara Adana İstanbul Edirne Kars İstanbul\"\n",
    "metin.replace(\"İstanbul\", \"İzmir\")"
   ]
  },
  {
   "cell_type": "markdown",
   "metadata": {},
   "source": [
    "İstediğimiz değişikliğin kaç kez yapılacağını da belirtebiliriz. Örneğin, Yukarıdaki örnekte, sadece ilk “İstanbul” kelimesinin değişmesini, diğerlerinin aynı kalmasını istiyorsak aşağıdaki gibi üçüncü bir argüman olarak 1 yazarız. "
   ]
  },
  {
   "cell_type": "code",
   "execution_count": 105,
   "metadata": {},
   "outputs": [
    {
     "data": {
      "text/plain": [
       "'İzmir Ankara Adana İstanbul Edirne Kars İstanbul'"
      ]
     },
     "execution_count": 105,
     "metadata": {},
     "output_type": "execute_result"
    }
   ],
   "source": [
    "metin.replace(\"İstanbul\", \"İzmir\", 1)"
   ]
  },
  {
   "cell_type": "markdown",
   "metadata": {},
   "source": [
    "Bir metinde belirli bir karakter dizisinin kaç kez yer aldığını bulmak için .count() metodu kullanılır. "
   ]
  },
  {
   "cell_type": "code",
   "execution_count": 107,
   "metadata": {},
   "outputs": [
    {
     "data": {
      "text/plain": [
       "3"
      ]
     },
     "execution_count": 107,
     "metadata": {},
     "output_type": "execute_result"
    }
   ],
   "source": [
    "metin = \"İstanbul Ankara Adana İstanbul Edirne Kars İstanbul\"\n",
    "metin.count(\"İstanbul\")"
   ]
  },
  {
   "cell_type": "markdown",
   "metadata": {},
   "source": [
    "Metnin belirtilen bir karakter ya da karakter dizisi ile başlayıp başlamadığını görmek için `.startswith()`, aynı şekilde belirli bir karakter ya da karakter dizisi ile bitip bitmediğini görmek için de `.endswith()` metodu kullanılır. "
   ]
  },
  {
   "cell_type": "code",
   "execution_count": 108,
   "metadata": {},
   "outputs": [
    {
     "data": {
      "text/plain": [
       "True"
      ]
     },
     "execution_count": 108,
     "metadata": {},
     "output_type": "execute_result"
    }
   ],
   "source": [
    "kelime = 'Türkiye'\n",
    "kelime.startswith('T')"
   ]
  },
  {
   "cell_type": "code",
   "execution_count": 109,
   "metadata": {},
   "outputs": [
    {
     "data": {
      "text/plain": [
       "False"
      ]
     },
     "execution_count": 109,
     "metadata": {},
     "output_type": "execute_result"
    }
   ],
   "source": [
    "kelime.endswith('A')"
   ]
  },
  {
   "cell_type": "markdown",
   "metadata": {},
   "source": [
    "Metinde bir karakter ya da karakter dizisinin sırasını bulmak için .find() metodu kullanılır. Bu metod, ilgili harfin metinde ilk kez göründüğü sırayı verir. Metinde aranan harf bulunmazsa sonuç -1 olur. "
   ]
  },
  {
   "cell_type": "code",
   "execution_count": 110,
   "metadata": {},
   "outputs": [
    {
     "data": {
      "text/plain": [
       "1"
      ]
     },
     "execution_count": 110,
     "metadata": {},
     "output_type": "execute_result"
    }
   ],
   "source": [
    "kelime = \"Programlama\"\n",
    "kelime.find(\"r\")"
   ]
  },
  {
   "cell_type": "code",
   "execution_count": 111,
   "metadata": {},
   "outputs": [
    {
     "data": {
      "text/plain": [
       "6"
      ]
     },
     "execution_count": 111,
     "metadata": {},
     "output_type": "execute_result"
    }
   ],
   "source": [
    "kelime.find(\"ml\")"
   ]
  },
  {
   "cell_type": "code",
   "execution_count": 112,
   "metadata": {},
   "outputs": [
    {
     "data": {
      "text/plain": [
       "-1"
      ]
     },
     "execution_count": 112,
     "metadata": {},
     "output_type": "execute_result"
    }
   ],
   "source": [
    "kelime.find(\"f\")"
   ]
  },
  {
   "cell_type": "markdown",
   "metadata": {},
   "source": [
    "Ayrıca, bir metnin belirtilen formatta olup olmadığını kontrol etmek için kullanılan `.isupper()`, `.istitle()`, `.isspace()`, `.isnumeric()`, `.islower()`, `.isdigit()`, `.isdecimal()` yöntemleri bulunmaktadır. "
   ]
  },
  {
   "cell_type": "code",
   "execution_count": 114,
   "metadata": {},
   "outputs": [
    {
     "data": {
      "text/plain": [
       "True"
      ]
     },
     "execution_count": 114,
     "metadata": {},
     "output_type": "execute_result"
    }
   ],
   "source": [
    "x = \"python\"\n",
    "x.islower()"
   ]
  },
  {
   "cell_type": "code",
   "execution_count": 115,
   "metadata": {},
   "outputs": [
    {
     "data": {
      "text/plain": [
       "False"
      ]
     },
     "execution_count": 115,
     "metadata": {},
     "output_type": "execute_result"
    }
   ],
   "source": [
    "x.istitle()"
   ]
  },
  {
   "cell_type": "code",
   "execution_count": 116,
   "metadata": {},
   "outputs": [
    {
     "data": {
      "text/plain": [
       "True"
      ]
     },
     "execution_count": 116,
     "metadata": {},
     "output_type": "execute_result"
    }
   ],
   "source": [
    "x = \"234\"\n",
    "x.isnumeric()"
   ]
  },
  {
   "cell_type": "markdown",
   "metadata": {},
   "source": [
    "**bytes veri tipi:** Python 3’te metin veri tipinden farklı olarak bytes veri tipi kullanıma sunulmuştur. Bytes veri tipi, adından da anlaşılacağı üzere byte’lardan oluşan dizilerdir. Metinlerden farklı olarak bytes veri tipini tanımlarken verinin başına b harfi getirilir. "
   ]
  },
  {
   "cell_type": "code",
   "execution_count": 117,
   "metadata": {},
   "outputs": [
    {
     "data": {
      "text/plain": [
       "b'bytesverisi'"
      ]
     },
     "execution_count": 117,
     "metadata": {},
     "output_type": "execute_result"
    }
   ],
   "source": [
    "b\"bytesverisi\""
   ]
  },
  {
   "cell_type": "code",
   "execution_count": 118,
   "metadata": {},
   "outputs": [
    {
     "data": {
      "text/plain": [
       "b'bytesverisi'"
      ]
     },
     "execution_count": 118,
     "metadata": {},
     "output_type": "execute_result"
    }
   ],
   "source": [
    "b'bytesverisi'"
   ]
  },
  {
   "cell_type": "markdown",
   "metadata": {},
   "source": [
    "Bytes veri tipi ile metin veri tipine uygulanan metodların birçoğu uygulanabilir.  "
   ]
  },
  {
   "cell_type": "code",
   "execution_count": 119,
   "metadata": {},
   "outputs": [
    {
     "data": {
      "text/plain": [
       "[b'Python', b'programlama', b'dili']"
      ]
     },
     "execution_count": 119,
     "metadata": {},
     "output_type": "execute_result"
    }
   ],
   "source": [
    "metin = b\"Python programlama dili\"\n",
    "metin.split()"
   ]
  },
  {
   "cell_type": "markdown",
   "metadata": {},
   "source": [
    "Python’da metin veri tipinin bir karakter standardına uygun karakterlerin yazımına izin verdiğini belirtmiştik. Örneğin, Türkçe karakterler UTF-8 standardında yer almaktadır. Metin veri tipini bytes veri tipine çevirmek için `.encode()`, tersi için de `.decode()` metodunu uygularız. Metodun argümanı olarak da kullanılmasını istediğimiz standardı yazmamız gerekiyor. "
   ]
  },
  {
   "cell_type": "code",
   "execution_count": 120,
   "metadata": {},
   "outputs": [
    {
     "data": {
      "text/plain": [
       "'İ ı Ş ş Ğ ğ Ö ö Ç ç Ü ü'"
      ]
     },
     "execution_count": 120,
     "metadata": {},
     "output_type": "execute_result"
    }
   ],
   "source": [
    "metin = \"İ ı Ş ş Ğ ğ Ö ö Ç ç Ü ü\"\n",
    "metin"
   ]
  },
  {
   "cell_type": "code",
   "execution_count": 121,
   "metadata": {},
   "outputs": [
    {
     "data": {
      "text/plain": [
       "b'\\xc4\\xb0 \\xc4\\xb1 \\xc5\\x9e \\xc5\\x9f \\xc4\\x9e \\xc4\\x9f \\xc3\\x96 \\xc3\\xb6 \\xc3\\x87 \\xc3\\xa7 \\xc3\\x9c \\xc3\\xbc'"
      ]
     },
     "execution_count": 121,
     "metadata": {},
     "output_type": "execute_result"
    }
   ],
   "source": [
    "byte1 = metin.encode(\"utf-8\")\n",
    "byte1"
   ]
  },
  {
   "cell_type": "code",
   "execution_count": 122,
   "metadata": {},
   "outputs": [
    {
     "data": {
      "text/plain": [
       "'İ ı Ş ş Ğ ğ Ö ö Ç ç Ü ü'"
      ]
     },
     "execution_count": 122,
     "metadata": {},
     "output_type": "execute_result"
    }
   ],
   "source": [
    "metin2 = byte1.decode(\"utf-8\")\n",
    "metin2"
   ]
  }
 ],
 "metadata": {
  "kernelspec": {
   "display_name": ".venv",
   "language": "python",
   "name": "python3"
  },
  "language_info": {
   "codemirror_mode": {
    "name": "ipython",
    "version": 3
   },
   "file_extension": ".py",
   "mimetype": "text/x-python",
   "name": "python",
   "nbconvert_exporter": "python",
   "pygments_lexer": "ipython3",
   "version": "3.11.4"
  },
  "orig_nbformat": 4
 },
 "nbformat": 4,
 "nbformat_minor": 2
}
