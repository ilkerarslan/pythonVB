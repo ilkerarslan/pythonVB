{
 "cells": [
  {
   "cell_type": "markdown",
   "metadata": {},
   "source": [
    "# Koşullu İfadeler ve Döngüler\n",
    "\n",
    "## Koşullu İfadeler\n",
    "\n",
    "Bir bilgisayar verilen bir komutu aşağıdaki yöntemlerden birine göre yerine getirir {cite}`malik2011`:\n",
    "\n",
    "- Belirli bir sıraya göre.\n",
    "- Alternatifler arasında seçim yaparak\n",
    "- Aynı işlemi belirli bir şart sağlanana kadar tekrar tekrar gerçekleştirerek\n",
    "\n",
    "Aşağıdaki şekilde bu üç yönteme ilişkin iş akışları verilmiştir. \n",
    "\n",
    "\n",
    "**Sıralı işlem yürütme:**\n",
    "\n",
    "![sirali islem](figures/sirali_islem.png)\n",
    "\n",
    "Bu şekilde bilgisayar programı A noktasından başlar ve verilmiş olan komutları sırasıyla yerine getirir. Son işlemi yerine getirdikten sonra B noktasında programı sonlandırır. \n",
    "\n",
    "**Koşullu işlem yürütme:**\n",
    "\n",
    "![koşullu işlem](figures/kosullu_islem.png)\n",
    "\n",
    "Buradaki iş akışında ise bir koşul ifadesi sınanır. İstenen koşul sağlanıyorsa “İşlem 1”, sağlanmıyorsa “İşlem 2” yerine getirilir ve B noktasında program sonlandırılır. Koşullu ifadeler üç farklı türde olabilir.\n",
    "\n",
    "- İstenen koşul sağlanıyorsa “İşlem 1”i yerine getir. Sağlanmıyorsa hiçbir şey yapmadan çık. Örneğin elimizde bir sınıftaki öğrencilerin not listesi olsun. Sınav notu 85’in üzerinde olan öğrenciler geçti olarak belirtmek isteyelim ve sadece geçen öğrencilerle ilgilenelim.\n",
    "\n",
    "```Python\n",
    "öğrenci notu > 85 ise:\n",
    " \töğrenci geçti\n",
    "```\n",
    "\n",
    "- İstenen koşul sağlanıyorsa “İşlem1”i yerine getir. Sağlanmıyorsa “İşlem 2”yi yap. Yukarıdaki örneği düşünelim ancak bu defa notu 85’in üzerinde olanları geçti, olmayanları kaldı olarak işaretlemek isteyelim.\n",
    "\n",
    "```Python\n",
    "öğrenci notu > 85 ise:\n",
    "\töğrenci geçti\n",
    "aksi halde:\n",
    "\töğrenci kaldı\n",
    "```\n",
    "\n",
    "- İstenen 1. koşul sağlanıyorsa “İşlem 1”i yerine getir. Sağlanmıyorsa koşul 2’yi sına.  \n",
    "    * Koşul 2 sağlanıyorsa “İşlem 2”yi yerine getir. Sağlanmıyorsa koşul 3’ü sına. \n",
    "    * Koşul 3 sağlanıyorsa “İşlem 3”ü yerine getir. Sağlanmıyorsa koşul 4’ü sına.\n",
    "\n",
    "Sonuncu türdeki sınama istenen sayıda koşulu test etmeye izin verir. Örneğin, yine sınav notları ile işlem yapmak istiyor olalım ancak 100 üzerinden alınan notları harf notuna çeviren bir program yazıyor olalım. Programın algoritması şu şekilde olacaktır.\n",
    "\n",
    "```Python\n",
    "öğrenci notu > 85 ise:\n",
    "\tnot A\n",
    "aksi halde öğrenci notu > 70 ise:\n",
    "\tnot B\n",
    "aksi halde öğrenci notu > 60 ise:\n",
    "\tnot C\n",
    "aksi halde öğrenci notu > 50 ise:\n",
    "\tnot D\n",
    "aksi halde:\n",
    "\tnot E\n",
    "```\n",
    "\n",
    "**Tekrarlayan (döngüsel) işlem yürütme:**\n",
    "\n",
    "![koşullu işlem](figures/dongusel_islem.png)\n",
    "\n",
    "Buradaki akış ise döngü olarak isimlendirilir.  Bu iş akışında program istenen bir şart sağlanana (ya da sağlanmayana) kadar verilen işlemi yapmaya devam eder. Döngülere izleyen bölümde ayrıntılı olarak yer vereceğiz. \n",
    "\n",
    "Bir defada birden fazla koşulun hepsinin, birinin ya da bazılarının sağlanıp sağlanmadığı da test edilmek istenebilir. Bu da VE ile VEYA kullanılarak yapılır. Örneğin, bir sayı dizisindeki 50’den büyük çift sayıları bulmak istiyorsak (x çift VE  x > 50) şartını yazabiliriz. Her defasında eldeki sayının verilen iki şartı da yerine getirip getirmediği test edilir. Diğer bir örnek olarak da sayı dizisindeki tek veya üçe bölünebilen sayıları bulmak istiyor olalım. Bunun için de (x tek VEYA x üçün katı) koşulunu yazarız. Koşulun doğrulanması için eldeki sayının iki şarttan birini yerine getirmesi yeterli olacaktır. \n",
    "\n",
    "Koşullu ifadelerde doğruluğu sınanan koşullar sonucu doğru ya da yanlış (True, False) olan mantıksal ifadelerdir. Mantıksal sınamalara örnek olarak iki sayının eşit olması ya da bir sayının diğerinden küçük, büyük, küçük eşit ya da büyük eşit olmasını verebiliriz. Python’da kullanılan mantıksal sınamalara ilişkin operatörler aşağıdaki gibidir. \n",
    "\n",
    "\n",
    "|Operatör  | Anlamı               |\n",
    "|:--------:|:---------------------|\n",
    "|  ==      | Eşit mi?             |\n",
    "|  !=      | Farklı mı?           |\n",
    "|  <       | Küçük mü?            |\n",
    "|  <=      | Küçük ya da eşit mi? |\n",
    "|  >       | Büyük mü?            |\n",
    "|  >=      | Büyük ya da eşit mi? |\n",
    "\n",
    "Python’da mantıksal sınama operatörlerini kullanımına ilişkin aşağıdaki örnekleri inceleyin. Kendiniz de farklı koşullar yazıp sonucuna bakabilirsiniz. "
   ]
  },
  {
   "cell_type": "code",
   "execution_count": 1,
   "metadata": {},
   "outputs": [
    {
     "data": {
      "text/plain": [
       "True"
      ]
     },
     "execution_count": 1,
     "metadata": {},
     "output_type": "execute_result"
    }
   ],
   "source": [
    "5 == 5\t\t# 5, 5’e eşit mi?"
   ]
  },
  {
   "cell_type": "code",
   "execution_count": 2,
   "metadata": {},
   "outputs": [
    {
     "data": {
      "text/plain": [
       "False"
      ]
     },
     "execution_count": 2,
     "metadata": {},
     "output_type": "execute_result"
    }
   ],
   "source": [
    "6 == 5\t\t# 6, 5’e eşit mi?"
   ]
  },
  {
   "cell_type": "code",
   "execution_count": 3,
   "metadata": {},
   "outputs": [
    {
     "data": {
      "text/plain": [
       "True"
      ]
     },
     "execution_count": 3,
     "metadata": {},
     "output_type": "execute_result"
    }
   ],
   "source": [
    "6 != 5\t\t# 6, 5’ten farklı mı?"
   ]
  },
  {
   "cell_type": "code",
   "execution_count": 4,
   "metadata": {},
   "outputs": [
    {
     "data": {
      "text/plain": [
       "True"
      ]
     },
     "execution_count": 4,
     "metadata": {},
     "output_type": "execute_result"
    }
   ],
   "source": [
    "4 < 7\t\t# 4, 7’den küçük mü?"
   ]
  },
  {
   "cell_type": "code",
   "execution_count": 5,
   "metadata": {},
   "outputs": [
    {
     "data": {
      "text/plain": [
       "True"
      ]
     },
     "execution_count": 5,
     "metadata": {},
     "output_type": "execute_result"
    }
   ],
   "source": [
    "2.78 <= 3.14 \t# 2.78, 3.14’ten küçük ya da ona eşit mi?"
   ]
  },
  {
   "cell_type": "markdown",
   "metadata": {},
   "source": [
    "Birden fazla mantıksal sınamayı bir arada test etmek için “ve” (AND) ile “veya” (OR) operatörlerini kullanmamız gerektiğini belirtmiştik. Python’da “ve” için “&”, “veya” içinse ( | ) operatörleri kullanılır. Bu operatörlerin sonucu aşağıdaki gibidir.\n",
    "\n",
    "|  x   |  y   | x & y | x \\| y  |\n",
    "|:----:|:----:|:-----:|:-------:|\n",
    "| True | True |  True |  True   |\n",
    "| True | False|  False|  True   |\n",
    "| False| True |  False|  True   |\n",
    "| False| False|  False|  False  | "
   ]
  },
  {
   "cell_type": "code",
   "execution_count": 6,
   "metadata": {},
   "outputs": [
    {
     "data": {
      "text/plain": [
       "False"
      ]
     },
     "execution_count": 6,
     "metadata": {},
     "output_type": "execute_result"
    }
   ],
   "source": [
    "True & False"
   ]
  },
  {
   "cell_type": "code",
   "execution_count": 7,
   "metadata": {},
   "outputs": [
    {
     "data": {
      "text/plain": [
       "True"
      ]
     },
     "execution_count": 7,
     "metadata": {},
     "output_type": "execute_result"
    }
   ],
   "source": [
    "True & True"
   ]
  },
  {
   "cell_type": "code",
   "execution_count": 10,
   "metadata": {},
   "outputs": [
    {
     "data": {
      "text/plain": [
       "True"
      ]
     },
     "execution_count": 10,
     "metadata": {},
     "output_type": "execute_result"
    }
   ],
   "source": [
    "(6 > 4) & (5 < 10)    # 6, 4’ten büyük VE 5, 10’dan küçük mü?"
   ]
  },
  {
   "cell_type": "code",
   "execution_count": 11,
   "metadata": {},
   "outputs": [
    {
     "data": {
      "text/plain": [
       "True"
      ]
     },
     "execution_count": 11,
     "metadata": {},
     "output_type": "execute_result"
    }
   ],
   "source": [
    "(5 == 4) | (3 != 4)    # 5, 4’e eşit veya 3, 4’ten farklı mı?"
   ]
  },
  {
   "cell_type": "code",
   "execution_count": 13,
   "metadata": {},
   "outputs": [
    {
     "data": {
      "text/plain": [
       "True"
      ]
     },
     "execution_count": 13,
     "metadata": {},
     "output_type": "execute_result"
    }
   ],
   "source": [
    "x = 45\n",
    "(x>50) | (x%3==0)    # 50’den büyük veya üçe tam bölünebilir mi?"
   ]
  },
  {
   "cell_type": "markdown",
   "metadata": {},
   "source": [
    "Artık, Python’da koşullu ifadelerin yazılışına geçebiliriz. Tüm yüksek seviye programlama dillerinde olduğu gibi Python’da da koşullu ifadeler “if…else” ifadeleri ile yazılır. Python’da if…else ifadesinin yazım şekli aşağıdaki gibidir:\n",
    "\n",
    "```Python\n",
    "if koşul:\n",
    "    gerçekleştirilecek işlem\n",
    "```\n",
    "\n",
    "  Öncelikle ifade `if` ile başlamalıdır. Sonrasında test edilmek istenen koşul yazılı ve satır sonunda `:` konulur. Bir alt satırda daha önce aktardığımız üzere içeriden başlanmalıdır. Birçok Python editörü bunu zaten otomatik olarak yapar. "
   ]
  },
  {
   "cell_type": "code",
   "execution_count": 14,
   "metadata": {},
   "outputs": [
    {
     "name": "stdout",
     "output_type": "stream",
     "text": [
      "Koşul sağlanıyor!\n"
     ]
    }
   ],
   "source": [
    "if 5 > 4:\n",
    "    print(\"Koşul sağlanıyor!\")"
   ]
  },
  {
   "cell_type": "code",
   "execution_count": 16,
   "metadata": {},
   "outputs": [],
   "source": [
    "if 7 == 8:\n",
    "    print(\"Koşul sağlanıyor!\")"
   ]
  },
  {
   "cell_type": "code",
   "execution_count": 17,
   "metadata": {},
   "outputs": [
    {
     "name": "stdout",
     "output_type": "stream",
     "text": [
      "Öğrenci geçti!\n"
     ]
    }
   ],
   "source": [
    "puan = 90\n",
    "if puan > 85:\n",
    "    print(\"Öğrenci geçti!\")"
   ]
  },
  {
   "cell_type": "markdown",
   "metadata": {},
   "source": [
    "İlk örnekte sınanan şart doğru olduğu için alt program alt satırdaki işlemi gerçekleştiriyor. İkinci örnekte ise 7, 8’e eşit olmadığı yani sınanan şart doğru olmadığı için program bir alt satırı atlayarak hiçbir şey yapmıyor. Son örnekte puan değeri 85’ten büyük olduğu için istenilen işlem gerçekleştiriliyor.  \n",
    "\n",
    "Python’da 0 ve None dışında tüm değişkenlerin bool karşılığının True olduğunu belirtmiştik. Bu nedenle if satırına mantıksal sınama yerine sayısal bir değer ya da metin de girilebilir. Ancak bu tür kullanımla çok sık karşılaşılmaz."
   ]
  },
  {
   "cell_type": "code",
   "execution_count": 18,
   "metadata": {},
   "outputs": [
    {
     "name": "stdout",
     "output_type": "stream",
     "text": [
      "Bir değer girildi!\n"
     ]
    }
   ],
   "source": [
    "if 100:\n",
    "    print(\"Bir değer girildi!\")"
   ]
  },
  {
   "cell_type": "code",
   "execution_count": 19,
   "metadata": {},
   "outputs": [],
   "source": [
    "if 0:\n",
    "    print(\"Bir değer girildi!\")"
   ]
  },
  {
   "cell_type": "code",
   "execution_count": 20,
   "metadata": {},
   "outputs": [
    {
     "name": "stdout",
     "output_type": "stream",
     "text": [
      "Bir değer girildi!\n"
     ]
    }
   ],
   "source": [
    "if \"metin\":\n",
    "    print(\"Bir değer girildi!\")"
   ]
  },
  {
   "cell_type": "markdown",
   "metadata": {},
   "source": [
    "İlk ve son örnekte, “if”ten sonraki değerin bool karşılığı True olduğundan alt satırdaki işlem gerçekleştirilir. İkinci örnekte ise 0’ın bool değeri False olduğu için alt satırdaki işlem atlanır. \n",
    "Şimdi de `if...else` kullanımına ilişkin bir örnek görelim. \n"
   ]
  },
  {
   "cell_type": "code",
   "execution_count": 21,
   "metadata": {},
   "outputs": [
    {
     "name": "stdout",
     "output_type": "stream",
     "text": [
      "Öğrenci kaldı!\n"
     ]
    }
   ],
   "source": [
    "puan = 70\n",
    "\n",
    "if puan > 85:\n",
    "    print(\"Öğrenci geçti!\")\n",
    "else:\n",
    "    print(\"Öğrenci kaldı!\")"
   ]
  },
  {
   "cell_type": "markdown",
   "metadata": {},
   "source": [
    "İlk satırda istenen şart sağlanmadığı için buradaki işlem atlanıyor. Else ifadesi, istenen koşulun sağlanmaması halinde yapılması istenen işlemi veriyor. Öğrencinin notu 85’in altında olduğu için istenen koşul sağlanamıyor ve else ile belirtilen işlem gerçekleştiriliyor.\n",
    "\n",
    "Şimdi de üçüncü tip if…else ifadelerine geçelim. Yukarıdaki iki örnekte sadece bir koşula bakılıyor ve bu koşulun doğruluğuna göre işlem yapılıyor. Sınanmak istenen koşul sayısı iki veya daha fazla da olabilir. "
   ]
  },
  {
   "cell_type": "code",
   "execution_count": 22,
   "metadata": {},
   "outputs": [
    {
     "name": "stdout",
     "output_type": "stream",
     "text": [
      "C\n"
     ]
    }
   ],
   "source": [
    "puan = 65\n",
    "if puan > 85:\n",
    "     karne_notu = \"A\"\n",
    "else:\n",
    "    if puan > 70:\n",
    "        karne_notu = \"B\"\n",
    "    else:\n",
    "        if puan > 60:\n",
    "            karne_notu = \"C\"\n",
    "        else:\n",
    "            if puan > 50:\n",
    "                karne_notu = \"D\"\n",
    "            else:\n",
    "                karne_notu = \"F\"\n",
    "\n",
    "print(karne_notu)"
   ]
  },
  {
   "cell_type": "markdown",
   "metadata": {},
   "source": [
    "Yukarıdaki kodu incelediğimizde iç içe geçmiş if…else ifadeleri olduğunu görüyoruz. Önce puan’ın 85’ten yüksek olup olmadığını sınayan bir if…else ifadesi var. Bu sınama yanlışsa puanın 70’ten büyük olup olmadığını kontrol eden ikinci bir if…else ifadesi geliyor ve bu şekilde devam ediyor. Her if…else ifadesinin bir önceki “else:” satırına göre daha içeriden başladığına dikkat edin. \n",
    "\n",
    "Yukarıda görülen yazım şekli yanlış olmamakla birlikte çok fazla koşulun test edildiği bir kodda içeri doğru girintileri çok artıracak ve kod yazma ve okumayı zorlaştıracaktır. Bu nedenle Python’da else: if ifadesi yerine `elif` anahtar kelimesi geliştirilmiştir. Şimdi yukarıdaki kodu elif anahtar kelimesini kullanarak nasıl yazdığımızı inceleyelim. Görüldüğü gibi kod bu şekilde daha derli toplu ve okunabilir hale geliyor. "
   ]
  },
  {
   "cell_type": "code",
   "execution_count": 23,
   "metadata": {},
   "outputs": [
    {
     "name": "stdout",
     "output_type": "stream",
     "text": [
      "C\n"
     ]
    }
   ],
   "source": [
    "puan = 65\n",
    "\n",
    "if puan > 85:\n",
    "    karne_notu = \"A\"\n",
    "elif puan > 70:\n",
    "    karne_notu = \"B\"\n",
    "elif puan > 60:\n",
    "    karne_notu = \"C\"\n",
    "elif puan > 50:\n",
    "    karne_notu = \"D\"\n",
    "else:\n",
    "    karne_notu = \"F\"\n",
    "\n",
    "print(karne_notu)"
   ]
  },
  {
   "cell_type": "markdown",
   "metadata": {},
   "source": [
    "## Döngüler\n",
    "\n",
    "Önceki bölümde döngülerden kısaca bahsetmiştik. Döngüler, belirli bir şart sağlanana ya da sağlanmayana kadar tekrar edilen işlemlerdir. Python’da kullanılan iki tür döngü vardır: “while” ve “for” döngüleri. \n",
    "\n",
    "### While Döngüsü"
   ]
  },
  {
   "cell_type": "code",
   "execution_count": null,
   "metadata": {},
   "outputs": [],
   "source": []
  }
 ],
 "metadata": {
  "kernelspec": {
   "display_name": ".venv",
   "language": "python",
   "name": "python3"
  },
  "language_info": {
   "codemirror_mode": {
    "name": "ipython",
    "version": 3
   },
   "file_extension": ".py",
   "mimetype": "text/x-python",
   "name": "python",
   "nbconvert_exporter": "python",
   "pygments_lexer": "ipython3",
   "version": "3.11.4"
  },
  "orig_nbformat": 4
 },
 "nbformat": 4,
 "nbformat_minor": 2
}
