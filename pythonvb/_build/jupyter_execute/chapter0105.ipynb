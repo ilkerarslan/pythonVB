{
 "cells": [
  {
   "cell_type": "markdown",
   "metadata": {},
   "source": [
    "# Fonksiyon\n",
    "\n",
    "Siz veya bir arkadaşınızın bilgisayarda aynı işi sürekli olarak tekrarladığına birçok kez tanık olmuşsunuzdur. Aslında, bir çoğumuzun işinin önemli bir parçası, rutin işleri tekrarlamaktan ibarettir. Birçok çalışanın örneğin excel programını kullanarak günlük, haftalık, aylık aralıklarda aynı işleri tekrar tekrar aynı şekilde yapması iş hayatında sık görülen bir durumdur. Bu sadece excel için değil programlama dilleri için de geçerli olabilir. Aynı iş için aynı kodları tekrar tekrar yazıyor ya da daha önce yazdığınız kodları kopyala yapıştır yöntemi ile alıp varsa gerekli değişiklikleri yaptıktan sonra kullanıyor olabilirsiniz. \n",
    "\n",
    "Bir işlemi aynı şekilde tekrar tekrar yapıyorsanız, en mantıklı olan bu işi otomatikleştirmektir. Örneğin, işinizin bir parçası, txt a da excel gibi farklı formatlarda kaydedilmiş dosyaları açıp buradaki belirli bilgileri kullanarak bir takım hesaplama veya raporlamalar yapmak olabilir. Bunun için her defasında aynı işlemleri tekrarlamak yerine bunları otomatik olarak yapacak bir kod yazmak işinizi çok daha hızlı hale getirecek ve size zaman kazandıracaktır. Aslında, aynı işi ikiden fazla defa tekrarlayacaksanız, en mantıklısı bu işi sizin yerinize yapacak bir kod yazmaktır. Bunun için de fonksiyonlardan faydalanmanız gerekir.\n",
    "\n",
    "Fonksiyon farklı şekillerde tanımlanabilir. Programcılıkta kullanılan fonksiyon tanımı matematikteki tanımına benzer. Fonksiyon, bir A kümesinin her elemanını bir B kümesinin bir ve yalnız bir elemanına eşleyen ilişki olarak tanımlanır. Bir diğer deyişle, fonksiyon aldığı her bir girdiden tek bir çıktı üreten ilişkidir.\n",
    "\n",
    "Programcılıkta da fonksiyon aynı görevi görür. Bir fonksiyon, kendisine iletilen verileri alır ve bu verileri istenilen işlemlerden geçirdikten sonra ürettiği çıktıyı iletir. \n",
    "\n",
    "![fonksiyonlar](figures/fonksiyon.png)\n",
    "\n",
    "Çok basit bir örnek düşünelim. Amacımız, bir sayı dizisindeki sayıların ortalamasının bulunması olsun. "
   ]
  },
  {
   "cell_type": "code",
   "execution_count": 1,
   "metadata": {},
   "outputs": [
    {
     "data": {
      "text/plain": [
       "[3, 5, 6, 7, 8, 9, 12, 15, 20]"
      ]
     },
     "execution_count": 1,
     "metadata": {},
     "output_type": "execute_result"
    }
   ],
   "source": [
    "x = [3, 5, 6, 7, 8, 9, 12, 15, 20]\n",
    "x"
   ]
  },
  {
   "cell_type": "markdown",
   "metadata": {},
   "source": [
    "Ortalamayı hesaplamanın en basit yöntemi tabii ki sayıları tek tek toplayıp toplamı da sayı adedine bölmektir. "
   ]
  },
  {
   "cell_type": "code",
   "execution_count": 2,
   "metadata": {},
   "outputs": [
    {
     "data": {
      "text/plain": [
       "9.444444444444445"
      ]
     },
     "execution_count": 2,
     "metadata": {},
     "output_type": "execute_result"
    }
   ],
   "source": [
    "(3 + 5 + 6 + 7 + 8 + 9 + 12 + 15 + 20) / 9"
   ]
  },
  {
   "cell_type": "markdown",
   "metadata": {},
   "source": [
    "Ya da sayı dizisinde kaç sayı olduğunu biliyorsak sayıları tek tek yazmak yerine liste indeksini kullanabiliriz. "
   ]
  },
  {
   "cell_type": "code",
   "execution_count": 3,
   "metadata": {},
   "outputs": [
    {
     "data": {
      "text/plain": [
       "9.444444444444445"
      ]
     },
     "execution_count": 3,
     "metadata": {},
     "output_type": "execute_result"
    }
   ],
   "source": [
    "(x[0] + x[1] + x[2] + x[3] + x[4] + x[5] + x[6] + x[7] + x[8]) / 9"
   ]
  },
  {
   "cell_type": "markdown",
   "metadata": {},
   "source": [
    "Bunun için tabii ki Python’a ihtiyacımız yok. Kâğıt kalem ya da hesap makinesi ile de yapabiliriz. Peki ya dokuz tane değil de 200 tane sayı olsaydı ne yapacaktık?\n",
    "\n",
    "Python’dan biraz yardım isteyelim. Yukarıda ortalamayı üç adımda bulduk. Önce listedeki sayıları topladık. Daha sonra kaç adet sayı olduğunu bulduk. Bu iki adım farklı sırada veya aynı anda da olabilir. Son olarak bulduğumuz toplamı sayı adedine bölerek ortalama değeri bulduk. Bu işlemleri bizim yerimize yapacak bir program yazalım. "
   ]
  },
  {
   "cell_type": "code",
   "execution_count": 4,
   "metadata": {},
   "outputs": [
    {
     "name": "stdout",
     "output_type": "stream",
     "text": [
      "9.444444444444445\n"
     ]
    }
   ],
   "source": [
    "x = [3, 5, 6, 7, 8, 9, 12, 15, 20]\n",
    "adet = 0\n",
    "toplam = 0\n",
    "\n",
    "for i in x:\n",
    "    adet += 1\n",
    "    toplam += i\n",
    "\n",
    "print (toplam/adet)"
   ]
  },
  {
   "cell_type": "markdown",
   "metadata": {},
   "source": [
    "Yukarıdaki program zaten son derece kolay ve anlaşılır. Bu program kullanarak liste ne kadar uzun olursa olsun kolaylıkla ortalama değeri bulabiliriz. Ama hala bir sorunumuz var. Her defasında aynı kodu tekrar yazmak ya da kopyalayıp yapıştırmak gerekiyor. Yukarıdaki örnekte yazığımız kod sadece 6 satır olduğu için çok fazla problem olmayabilir ama aynı işi yapmak için yüzlerce satırlık bir kodu her defasında kopyalayıp yapıştırmak da verimli bir yöntem olmayacaktır. \n",
    "\n",
    "Bunun çözümü de yukarıdaki kodu bir fonksiyonun içine almak ve istediğimiz zaman fonksiyonu kullanmaktır. Bu anlamda fonksiyonu belirli bir işlemi gerçekleştiren ve tekrar tekrar kullanılabilen program olarak tanımlayabiliriz. Örneğin yazacağımız bir ortalama fonksiyonunu kullanarak x listesindeki sayıların ortalama değerini bulabilmeliyiz. Örneğin, fonksiyonumuzun adı ortalama() ise yukarıdaki kodu tekrar yazmadan ortalama(x) yazmak bize istediğimiz sonucu vermeli. Yazdığımız bir fonksiyonu farklı programlardan çağırma konusunu izleyen bölümde göreceğiz. \n",
    "\n",
    "Aslında şimdiye kadar hazır Python fonksiyonlarından bir kısmını kullandık. Önceki bölümlerde gördüğümüz, help(), print(), str(), bool(), max(), len() komutları birer fonksiyon örneğidir. Python’da bu şekilde çok sayıda yerleşik (built-in) fonksiyon mevcuttur. "
   ]
  },
  {
   "cell_type": "markdown",
   "metadata": {},
   "source": [
    "## Fonksiyon Tanımlama\n",
    "\n",
    "Python’da fonksiyonlar def anahtar kelimesi kullanılarak tanımlanır. Satır başına def yazdıktan sonra kullanacağımız fonksiyonun adını ve parantez içinde argümanların yani girdilerin adlarını yazmalıyız. Bir fonksiyon hiç girdi almayabilir, bir adet girdi alabilir ya da birden fazla sayıda girdi alabilir. Satır sonuna, döngülerde olduğu gibi iki nokta `(:)` koyduktan sonra alt satırda aynı şekilde içeriden başlıyoruz. \n",
    "\n",
    "Hiç argüman almayan fonksiyon da tanımlayabileceğimizi belirtmiştik. Önce en basit fonksiyon tipi olarak tanımlayabileceğimiz hiç argüman almayan bir fonksiyon yazalım. "
   ]
  },
  {
   "cell_type": "code",
   "execution_count": 5,
   "metadata": {},
   "outputs": [],
   "source": [
    "def tebrikler():\n",
    "    print (\"Tebrikler! İlk Python fonksiyonunuzu yazdınız.\")"
   ]
  },
  {
   "cell_type": "code",
   "execution_count": 6,
   "metadata": {},
   "outputs": [
    {
     "name": "stdout",
     "output_type": "stream",
     "text": [
      "Tebrikler! İlk Python fonksiyonunuzu yazdınız.\n"
     ]
    }
   ],
   "source": [
    "tebrikler()"
   ]
  },
  {
   "cell_type": "markdown",
   "metadata": {},
   "source": [
    "Fonksiyonun hiç argümanı olmasa dahi fonksiyon adından sonra mutlaka parantez olması gerektiğine dikkat edin. \n",
    "\n",
    "Şimdi de girdi olarak bir sayıyı kabul eden fonksiyon örneği düşünelim. Örneğin, verilen herhangi bir sayıyı 5 ile çarpan bir fonksiyon yazabiliriz. "
   ]
  },
  {
   "cell_type": "code",
   "execution_count": 7,
   "metadata": {},
   "outputs": [],
   "source": [
    "def bes_kati(x):\n",
    "    y = 5 * x\n",
    "    print(y)"
   ]
  },
  {
   "cell_type": "code",
   "execution_count": 8,
   "metadata": {},
   "outputs": [
    {
     "name": "stdout",
     "output_type": "stream",
     "text": [
      "60\n"
     ]
    }
   ],
   "source": [
    "bes_kati(12)"
   ]
  },
  {
   "cell_type": "markdown",
   "metadata": {},
   "source": [
    "Fonksiyonda x, argüman ya da girdi olarak isimlendirilir. Parantez içine x yazarak fonksiyonun herhangi bir sayıyı girdi olarak kabul edebileceğini belirtmiş oluyoruz. Bu fonksiyon, verilen bir sayının beş katını hesaplayıp yazdırıyor. Ama herhangi bir sonuç üretmiyor. Çoğu zaman bir fonksiyonun bulduğu sonucu saklayıp tekrar kullanmak isteyebilirim. Örneğin, yukarıdaki örnekte fonksiyon verilen sayının beş katını hesapladıktan sonra bulunan sonucu program içinde tekrar kullanmak isteyebilirim. Bir fonksiyonun ürettiği sonucun saklanabilir olması için return anahtar kelimesini kullanmalıyım. Böylece fonksiyonun hesapladığı sonucu başka bir değişkene atayarak saklayabilir ve daha sonra kullanabilirim. Bulunan sonucu daha sonra tekrar kullanmanın yolu ise onu bir değişkene atamaktır. "
   ]
  },
  {
   "cell_type": "code",
   "execution_count": 9,
   "metadata": {},
   "outputs": [],
   "source": [
    "def bes_kati(x):\n",
    "    y = 5 * x\n",
    "    return y"
   ]
  },
  {
   "cell_type": "code",
   "execution_count": 10,
   "metadata": {},
   "outputs": [
    {
     "name": "stdout",
     "output_type": "stream",
     "text": [
      "60\n"
     ]
    }
   ],
   "source": [
    "k = bes_kati(12)\n",
    "print(k)"
   ]
  },
  {
   "cell_type": "markdown",
   "metadata": {},
   "source": [
    "Bir fonksiyonun argümanı sayısal ya da metin tipinde tek bir veri olabileceği gibi liste veya sözlük gibi bir veri yapısı da olabilir."
   ]
  },
  {
   "cell_type": "code",
   "execution_count": 11,
   "metadata": {},
   "outputs": [],
   "source": [
    "def ortalama(liste):\n",
    "    adet = 0\n",
    "    toplam = 0\n",
    "\n",
    "    for i in liste:\n",
    "            adet += 1\n",
    "            toplam += i\n",
    "    orta = toplam / adet\n",
    "    return orta"
   ]
  },
  {
   "cell_type": "markdown",
   "metadata": {},
   "source": [
    "Fonksiyonu kullanmak içinse fonksiyon adı ve parantez içinde kullanmak istediğimiz argümanı yazmamız gerekiyor. Buradaki örnekte x listesinde yer alan sayıların ortalamasını alacağımız için parantez argüman olarak x yazmalıyız. "
   ]
  },
  {
   "cell_type": "code",
   "execution_count": 12,
   "metadata": {},
   "outputs": [
    {
     "data": {
      "text/plain": [
       "9.444444444444445"
      ]
     },
     "execution_count": 12,
     "metadata": {},
     "output_type": "execute_result"
    }
   ],
   "source": [
    "ortalama(x)"
   ]
  },
  {
   "cell_type": "code",
   "execution_count": 13,
   "metadata": {},
   "outputs": [
    {
     "data": {
      "text/plain": [
       "9.444444444444445"
      ]
     },
     "execution_count": 13,
     "metadata": {},
     "output_type": "execute_result"
    }
   ],
   "source": [
    "y = ortalama(x)\n",
    "y"
   ]
  },
  {
   "cell_type": "markdown",
   "metadata": {},
   "source": [
    "Yukarıda da belirttiğimiz gibi bir fonksiyonun sonucunu değişkene atamak mümkündür. Örneğin, bir program içinde bir listedeki en büyük değeri bulan bir fonksiyonu kullanarak bulunan sonucu başka bir değişkene atayarak kullanabiliriz. "
   ]
  },
  {
   "cell_type": "code",
   "execution_count": 14,
   "metadata": {},
   "outputs": [],
   "source": [
    "liste = [1, 4, 6, 7, 12, -5]\n",
    "x = max(liste)\n",
    "y = min(liste)"
   ]
  },
  {
   "cell_type": "markdown",
   "metadata": {},
   "source": [
    "## Değişken Argümanlar\n",
    "\n",
    "Şimdiye kadar tanımladığımız fonksiyonlar sadece bir argüman alıyordu. Aşağıda önce sadece bir argüman alan fonksiyonla başlayalım."
   ]
  },
  {
   "cell_type": "code",
   "execution_count": 15,
   "metadata": {},
   "outputs": [],
   "source": [
    "def kare_al(x):\n",
    "    return x**2"
   ]
  },
  {
   "cell_type": "code",
   "execution_count": 16,
   "metadata": {},
   "outputs": [
    {
     "name": "stdout",
     "output_type": "stream",
     "text": [
      "144\n"
     ]
    }
   ],
   "source": [
    "print(kare_al(12))"
   ]
  },
  {
   "cell_type": "markdown",
   "metadata": {},
   "source": [
    "Fonksiyonu bu şekilde tanımlarsak verilen bir sayının sadece karesini alabiliriz. Sayının, üçüncü, dördüncü ve başka sayılarla üssünü hesaplamak için ayrı ayrı fonksiyonlar mı tanımlamak gerekiyor? Tabii ki hayır. Öyle bir fonksiyon yazalım ki verilen bir sayının, istenen herhangi bir sayıya göre üssünü hesaplasın. Bunun için fonksiyona iki argüman tanımlamak gerekiyor. Üssünü almak istediğimiz sayı ve üs derecesi. Neyse ki Python bir fonksiyonun istediğimiz kadar argüman almasına izin veriyor."
   ]
  },
  {
   "cell_type": "code",
   "execution_count": 17,
   "metadata": {},
   "outputs": [],
   "source": [
    "def us_alma(x,y):\n",
    "    return x**y"
   ]
  },
  {
   "cell_type": "code",
   "execution_count": 18,
   "metadata": {},
   "outputs": [
    {
     "name": "stdout",
     "output_type": "stream",
     "text": [
      "64\n"
     ]
    }
   ],
   "source": [
    "print(us_alma(x = 4,y = 3))"
   ]
  },
  {
   "cell_type": "markdown",
   "metadata": {},
   "source": [
    "Fonksiyonu kullanırken parantez içinde değişkenlere atanacak argümanları `x = 4` ve `y = 3` olarak belirttik. Ancak burada mutlaka `x` ve `y` yazmak zorunda değiliz. Bunun yerine `us_alma(4, 3)` şeklinde de yazabilirdik. Fonksiyonu tanımlarken değişkenlerin sırasını `x`, `y` olarak yazmıştık. Bu nedenle, fonksiyonu çağırdığımızda yazdığımız argüman değerleri de bu sırada alınır ve ilk sıradaki argüman x, ikinci sıradaki argüman da y olarak kabul edilir."
   ]
  },
  {
   "cell_type": "code",
   "execution_count": 19,
   "metadata": {},
   "outputs": [
    {
     "data": {
      "text/plain": [
       "64"
      ]
     },
     "execution_count": 19,
     "metadata": {},
     "output_type": "execute_result"
    }
   ],
   "source": [
    "us_alma(4, 3)"
   ]
  },
  {
   "cell_type": "markdown",
   "metadata": {},
   "source": [
    "Böylece, bir sayının sadece ikinci dereceden değil istediğimiz herhangi bir dereceden üssünü almak mümkün olabilir. Ama diyelim ki bu fonksiyonu çok fazla kullanıyorum ve çoğu zaman da ikinci dereceden üs alıyorum. Diğer dereceleri nadiren kullanıyorum. Öyle bir fonksiyon olsun ki y için herhangi bir değer girmezsem sayının karesini alsın. Ancak başka bir derece kullanmak istersem y yerine bir sayı gireyim.\n",
    "\n",
    "Python, argümanlar için varsayılan değer belirlenmesine de izin vermektedir. Yukarıdaki fonksiyonu aşağıdaki şekilde tanımlarsam fonksiyonu her kullandığımda y yerine bir değer girmek zorunda kalmam. Bu durumda Python, y argümanının için varsayılan değer yani ikiye eşit olduğunu kabul eder. Ancak y için bir değer girersem bu değeri esas alır. Argümanlar için varsayılan değer atamanın faydası özellikle çok sayıda argüman alan fonksiyonlarda ortaya çıkmaktadır. Kimi zaman çok sayıda argümanı olan fonksiyonlar kullanmak zorunda kalabiliriz. Bu fonksiyonlarda her defasında her argüman için bir değer yazmak zorunda kalmamak için mümkün olan argümanlara varsayılan değer atamak sonraki kullanımlarda zaman kazandıracaktır. "
   ]
  },
  {
   "cell_type": "code",
   "execution_count": 20,
   "metadata": {},
   "outputs": [],
   "source": [
    "def us_alma(x, y = 2):\n",
    "    return x**y"
   ]
  },
  {
   "cell_type": "code",
   "execution_count": 21,
   "metadata": {},
   "outputs": [
    {
     "name": "stdout",
     "output_type": "stream",
     "text": [
      "169\n"
     ]
    }
   ],
   "source": [
    "print(us_alma(13))"
   ]
  },
  {
   "cell_type": "code",
   "execution_count": 22,
   "metadata": {},
   "outputs": [
    {
     "name": "stdout",
     "output_type": "stream",
     "text": [
      "27\n"
     ]
    }
   ],
   "source": [
    "print(us_alma(3,3))"
   ]
  },
  {
   "cell_type": "markdown",
   "metadata": {},
   "source": [
    "Varsayılan argümanların yanı sıra Python’un bir başka özelliği de esnek argümanlara izin vermesidir. Diyelim ki bir fonksiyon yazacağız ama fonksiyon farklı sayıda ya da türde argümanı kabul edebilsin istiyoruz. Python buna izin vermektedir. Bir fonksiyonda esnek argümanlar kullanabilmek için fonksiyonu tanımlarken argüman olarak `*args` yazmamız gerekiyor. Örnek olarak verilen tüm sayıları çarpan bir fonksiyon yazmak isteyelim. "
   ]
  },
  {
   "cell_type": "code",
   "execution_count": 23,
   "metadata": {},
   "outputs": [],
   "source": [
    "def carpim(*args):\n",
    "    sonuc = 1\n",
    "    for sayi in args:\n",
    "        sonuc = sonuc * sayi\n",
    "    print(sonuc)"
   ]
  },
  {
   "cell_type": "code",
   "execution_count": 24,
   "metadata": {},
   "outputs": [
    {
     "name": "stdout",
     "output_type": "stream",
     "text": [
      "24\n"
     ]
    }
   ],
   "source": [
    "carpim(2,3,4)"
   ]
  },
  {
   "cell_type": "code",
   "execution_count": 25,
   "metadata": {},
   "outputs": [
    {
     "name": "stdout",
     "output_type": "stream",
     "text": [
      "720\n"
     ]
    }
   ],
   "source": [
    "carpim(2,3,4,5,6)"
   ]
  },
  {
   "cell_type": "markdown",
   "metadata": {},
   "source": [
    "Yukarıdaki örnekte de görüldüğü gibi esnek sayıda argüman tanımlamak istiyorsak fonksiyon tanımında argüman olarak `*args` yazmamız gerekiyor. Ancak fonksiyon gövdesinde argümanı kullanırken sadece args yazmamız gerekiyor. \n",
    "\n",
    "Şimdi de yazdığımız kelimeleri birleştirecek bir fonksiyon yazalım. Ancak ilerde fonksiyonu kullanırken her defasında farklı sayıda kelime kullanacağımız için istediğimiz kadar kelime yazabilelim istiyoruz. Bunun için de yine `*args` argümanını kullanmamız gerekiyor. "
   ]
  },
  {
   "cell_type": "code",
   "execution_count": 26,
   "metadata": {},
   "outputs": [],
   "source": [
    "def birlestir(*args):\n",
    "    sonuc = \"\"\n",
    "    for kelime in args:\n",
    "        sonuc = sonuc + kelime\n",
    "    return sonuc"
   ]
  },
  {
   "cell_type": "code",
   "execution_count": 27,
   "metadata": {},
   "outputs": [
    {
     "name": "stdout",
     "output_type": "stream",
     "text": [
      "Millet Meclisi\n"
     ]
    }
   ],
   "source": [
    "print(birlestir(\"Millet \", \"Meclisi\"))"
   ]
  },
  {
   "cell_type": "code",
   "execution_count": 28,
   "metadata": {},
   "outputs": [
    {
     "name": "stdout",
     "output_type": "stream",
     "text": [
      "Büyük Millet Meclisi\n"
     ]
    }
   ],
   "source": [
    "print(birlestir(\"Büyük \", \"Millet \", \"Meclisi\"))"
   ]
  },
  {
   "cell_type": "code",
   "execution_count": 29,
   "metadata": {},
   "outputs": [
    {
     "name": "stdout",
     "output_type": "stream",
     "text": [
      "Türkiye Büyük Millet Meclisi\n"
     ]
    }
   ],
   "source": [
    "print(birlestir(\"Türkiye \", \"Büyük \", \"Millet \", \"Meclisi\"))"
   ]
  },
  {
   "cell_type": "markdown",
   "metadata": {},
   "source": [
    "Normal argüman ile esnek argüman arasındaki farkı bir başka örnekle görmeye çalışalım."
   ]
  },
  {
   "cell_type": "code",
   "execution_count": 30,
   "metadata": {},
   "outputs": [],
   "source": [
    "def yaz(ilk, *args):\n",
    "    print(\"İlk argüman: \" + ilk)\n",
    "    for kelime in args:\n",
    "        print(\"Esnek argüman: \" + kelime)"
   ]
  },
  {
   "cell_type": "code",
   "execution_count": 31,
   "metadata": {},
   "outputs": [
    {
     "name": "stdout",
     "output_type": "stream",
     "text": [
      "İlk argüman: İlker\n"
     ]
    }
   ],
   "source": [
    "yaz(\"İlker\")"
   ]
  },
  {
   "cell_type": "code",
   "execution_count": 32,
   "metadata": {},
   "outputs": [
    {
     "name": "stdout",
     "output_type": "stream",
     "text": [
      "İlk argüman: İlker\n",
      "Esnek argüman: Eren\n"
     ]
    }
   ],
   "source": [
    "yaz(\"İlker\", \"Eren\")"
   ]
  },
  {
   "cell_type": "code",
   "execution_count": 33,
   "metadata": {},
   "outputs": [
    {
     "name": "stdout",
     "output_type": "stream",
     "text": [
      "İlk argüman: İlker\n",
      "Esnek argüman: Hüseyin\n",
      "Esnek argüman: Eren\n"
     ]
    }
   ],
   "source": [
    "yaz(\"İlker\", \"Hüseyin\", \"Eren\")"
   ]
  },
  {
   "cell_type": "markdown",
   "metadata": {},
   "source": [
    "Yukarıdaki programla ilgili olarak bir konuya dikkat çekmek istiyorum. Argüman sayısındaki esnekliği sağlayan args kelimesi değil önüne getirilen `*` işaretidir. Biz de programımızda hem genel kullanıma uyumlu olması hem de akılda kalıcı olması nedeniyle `*args` şeklinde kullandık. Ancak programı `*args` yerine `*abcd` yazsanız da aynı sonucu alırsınız.\n",
    "\n",
    "Python’da kullanılan bir diğer esnek argüman yapısı da değişken eleman sayısına sahip sözlük veri yapılarını işleyebilmek için kullanılan `**kwargs` argümanıdır. Anlaşılacağı üzere `*args` değişken argüman sayısı için kullanılırken `**kwargs`, değişken sayıda elemanı olan sözlük yapısındaki argümanları temsil eder. Bir başka deyişle anahtar kelimeleri olan argümanlar olarak da düşünebilirsiniz."
   ]
  },
  {
   "cell_type": "code",
   "execution_count": 34,
   "metadata": {},
   "outputs": [],
   "source": [
    "def not_yazdir(**kwargs):\n",
    "    for key, value in kwargs.items():\n",
    "        print(key + \" : \" + value)"
   ]
  },
  {
   "cell_type": "code",
   "execution_count": 35,
   "metadata": {},
   "outputs": [
    {
     "name": "stdout",
     "output_type": "stream",
     "text": [
      "Ad : Eren\n",
      "Soyad : Arslan\n"
     ]
    }
   ],
   "source": [
    "not_yazdir(Ad=\"Eren\", Soyad=\"Arslan\")"
   ]
  },
  {
   "cell_type": "code",
   "execution_count": 36,
   "metadata": {},
   "outputs": [
    {
     "name": "stdout",
     "output_type": "stream",
     "text": [
      "Ad : Eren\n",
      "Soyad : Arslan\n",
      "Meslek : Öğrenci\n"
     ]
    }
   ],
   "source": [
    "not_yazdir(Ad=\"Eren\", Soyad=\"Arslan\", Meslek=\"Öğrenci\")"
   ]
  },
  {
   "cell_type": "markdown",
   "metadata": {},
   "source": [
    "Görüldüğü gibi `**kwargs` yapısı ile sözlük veri yapıları üzerinde eleman sayısını bilmesek dahil fonksiyon tanımlayabiliyoruz.\n",
    "\n",
    "Python’un sunduğu kolaylıklardan birisi de birden fazla değer döndürebilen fonksiyonlar yazmaya izin vermesidir. Yani, Python’da yazdığımız bir fonksiyon iki veya daha fazla sonuç üretebilir. Bunun için daha önce gördüğümüz tuple veri yapısını kullanacağız. \n",
    "\n",
    "Şimdi yukarıda tanımladığımız us_alma fonksiyonunu tekrar düşünelim. Fonksiyonda küçük bir değişiklik yapalım ve istenen sayının farklı iki sayıya göre üssünün ayrı ayrı üretilmesini sağlayalım. Yani öyle bir fonksiyon yazalım ki herhangi bir sayının örneğin hem karesini hem de küpünü hesaplasın ve döndürsün. Bu fonksiyon girdi olarak üç değişken kabul etmeli: taban, birinci üs ve ikinci üs. Fonksiyon gövdesinde de iki farklı hesaplama yapmalıyız: tabanın birinci değere göre üssü ve tabanın ikinci değere göre üssü. Nihayet, fonksiyon hesapladığı iki sonucu bir tuple veri nesnesi olarak iletmeli."
   ]
  },
  {
   "cell_type": "code",
   "execution_count": 37,
   "metadata": {},
   "outputs": [],
   "source": [
    "def us_alma(x, a, b):\n",
    "    us1 = x ** a\n",
    "    us2 = x ** b\n",
    "    sonuc = (us1, us2)\n",
    "    return(sonuc)"
   ]
  },
  {
   "cell_type": "code",
   "execution_count": 38,
   "metadata": {},
   "outputs": [
    {
     "name": "stdout",
     "output_type": "stream",
     "text": [
      "(9, 81)\n"
     ]
    }
   ],
   "source": [
    "print(us_alma(3, 2, 4))"
   ]
  },
  {
   "cell_type": "code",
   "execution_count": 39,
   "metadata": {},
   "outputs": [
    {
     "name": "stdout",
     "output_type": "stream",
     "text": [
      "9 81\n"
     ]
    }
   ],
   "source": [
    "t, k = us_alma(3,2,4)\n",
    "print(t, k)"
   ]
  },
  {
   "cell_type": "markdown",
   "metadata": {},
   "source": [
    "Fonksiyonun çıktısı olan tuple veri yapısını da bir başka değişkene atamak mümkündür. "
   ]
  },
  {
   "cell_type": "code",
   "execution_count": 40,
   "metadata": {},
   "outputs": [
    {
     "data": {
      "text/plain": [
       "(9, 81)"
      ]
     },
     "execution_count": 40,
     "metadata": {},
     "output_type": "execute_result"
    }
   ],
   "source": [
    "sonuc = (t, k) = us_alma(3, 2, 4)\n",
    "sonuc"
   ]
  },
  {
   "cell_type": "markdown",
   "metadata": {},
   "source": [
    "İç içe fonksiyonlar tanımlamak da mümkündür. İç içe geçmiş fonksiyonlara basit bir örnek vermek için sıcaklık dereceleri arasındaki dönüşümü örnek olarak alalım. Hepimiz ilkokulda Kelvin, Celsius ve Fahrenheit sıcaklık dereceleri arasındaki dönüşüm formüllerini görmüşüzdür. Bu sıcaklık dereceleri birbirlerine aşağıdaki formüllere göre dönüşürler. \n",
    "\n",
    "```\n",
    "celsius = kelvin + 273.15\n",
    "fahrenheit = 1.8 * celsius + 32\n",
    "```\n",
    "\n",
    "Şimdi Kelvin cinsinden verilen bir sıcaklığı Fahrenheit’e çevirecek bir program yazalım. Örneğimizi verebilmek için Kelvin’den doğrudan doğruya Fahrenheit’e çevirmeyi bilmediğimizi düşünmemiz gerekiyor. "
   ]
  },
  {
   "cell_type": "code",
   "execution_count": 41,
   "metadata": {},
   "outputs": [],
   "source": [
    "def kelvin_fahrenheit(derece):\n",
    "\n",
    "    def kelvin_celsius(kelvin_derece):\n",
    "        celsius_derece = kelvin_derece - 273.15\n",
    "        return celsius_derece\n",
    "\n",
    "    fahrenheit = 1.8 * kelvin_celsius(derece) + 32\n",
    "    return fahrenheit"
   ]
  },
  {
   "cell_type": "markdown",
   "metadata": {},
   "source": [
    "Sadece elimizdeki iki formülü kullanarak Kelvin’den Fahrenheit’e dönüştürmek için önce Kelvin’den Celsius’a, sonra da Celsius’tan Fahrenheit’e dönüşüm işlemini gerçekleştirmemiz gerekiyor. Bu nedenle ana fonksiyonun içinde önce Kelvin’den Fahrenheit’e dönüşümü yapacak bir fonksiyon yazdık (satır 3). Sonra da ana fonksiyon içinde Celsius’tan Fahrenheit’e dönüşüm formülünü yazıyoruz. Satır 7’de belirtilen kelvin_celsius(derece) ifadesi Kelvin cinsinden derecenin Celsius karşılığını veriyor. Bunun için de ana fonksiyonun içindeki diğer fonksiyonu kullanıyor. \n",
    "\n",
    "İç içe fonksiyonlara bir başka örnek verelim. Daha önce üs alma ile ilgili fonksiyon yazmıştık. Aşağıda daha farklı bir üs alma fonksiyonu yer alıyor. "
   ]
  },
  {
   "cell_type": "code",
   "execution_count": 42,
   "metadata": {},
   "outputs": [],
   "source": [
    "def us_al(n):\n",
    "\n",
    "    def ussu(x):\n",
    "        sonuc = x ** n\n",
    "        return sonuc\n",
    "    \n",
    "    return ussu"
   ]
  },
  {
   "cell_type": "markdown",
   "metadata": {},
   "source": [
    "Örnekte, ana fonksiyona argüman olarak üs olacak sayıyı veriyoruz. Ancak tabanı alt fonksiyonda belirtiyoruz. Ana fonksiyon ise alt fonksiyonu döndürüyor. Bu fonksiyondan, istediğimiz kuvvette üsler alacak fonksiyonlar üretebiliriz. Aşağıda görüldüğü gibi kare ve kup değişkenlerini tanımlayarak aslında iki yeni fonksiyon üretiyoruz. "
   ]
  },
  {
   "cell_type": "code",
   "execution_count": 43,
   "metadata": {},
   "outputs": [
    {
     "name": "stdout",
     "output_type": "stream",
     "text": [
      "25\n",
      "125\n"
     ]
    }
   ],
   "source": [
    "kare = us_al(2)\n",
    "kup = us_al(3)\n",
    "print(kare(5))\n",
    "print(kup(5))"
   ]
  },
  {
   "cell_type": "markdown",
   "metadata": {},
   "source": [
    "## Lambda Fonksiyonları\n",
    "\n",
    "Konu hakkında daha önce bilgi sahibi değilseniz muhtemelen okuduğunuz başlık size hiçbir şey çağrıştırmamıştır. Python’da anlık fonksiyonlar tanımlayıp kullanmak mümkündür. Bir başka deyişle bunlara satır içi fonksiyonlar da diyebiliriz. Program içinde hızlıca kısa bir fonksiyon tanımlamamız gerekirse bu yönteme başvurabiliriz. Hatta lambda fonksiyonlarına isim vermemiz bile gerekmez. Ancak, lambda fonksiyonların kullanımı her zaman önerilmez. Örneğin karmaşık bir fonksiyon kullanacaksanız, fonksiyonda koşul ifadeleri ya da döngüler kullanacaksanız muhtemelen lambda fonksiyonu çok kullanışlı olmayacaktır. Lambda fonksiyonu genel olarak aşağıdaki şekilde yazılır.\n",
    "\n",
    "`lambda argümanlar\t:    fonksiyon ifadesi`\n",
    "\n",
    "Argümanlar birden fazla ise aralarına virgül konulur. Aşağıda bazı lambda fonksiyonu örnekleri verilmiştir. "
   ]
  },
  {
   "cell_type": "code",
   "execution_count": 44,
   "metadata": {},
   "outputs": [
    {
     "data": {
      "text/plain": [
       "25"
      ]
     },
     "execution_count": 44,
     "metadata": {},
     "output_type": "execute_result"
    }
   ],
   "source": [
    "kare = lambda x : x**2\n",
    "kare(5)"
   ]
  },
  {
   "cell_type": "code",
   "execution_count": 45,
   "metadata": {},
   "outputs": [
    {
     "data": {
      "text/plain": [
       "64"
      ]
     },
     "execution_count": 45,
     "metadata": {},
     "output_type": "execute_result"
    }
   ],
   "source": [
    "us = lambda x,y : x**y\n",
    "us(4,3)"
   ]
  },
  {
   "cell_type": "code",
   "execution_count": 46,
   "metadata": {},
   "outputs": [
    {
     "data": {
      "text/plain": [
       "95.0"
      ]
     },
     "execution_count": 46,
     "metadata": {},
     "output_type": "execute_result"
    }
   ],
   "source": [
    "fahrenheit_cevir = lambda C : 1.8 * C + 32\n",
    "fahrenheit_cevir(35)"
   ]
  },
  {
   "cell_type": "code",
   "execution_count": 47,
   "metadata": {},
   "outputs": [
    {
     "data": {
      "text/plain": [
       "'Python Python Python '"
      ]
     },
     "execution_count": 47,
     "metadata": {},
     "output_type": "execute_result"
    }
   ],
   "source": [
    "tekrarla = lambda kelime, adet : kelime * adet\n",
    "tekrarla(\"Python \", 3)"
   ]
  },
  {
   "cell_type": "markdown",
   "metadata": {},
   "source": [
    "Lambda fonksiyonlarının en çok kullanışlı olduğu kullanım alanı, bunları `map()`, `reduce()` ve `filter()` fonksiyonları ile birlikte kullanmaktır. Lambda fonksiyonlarının bu fonksiyonlarla birlikte kullanımına geçmeden önce bunların kullanımını görelim. \n",
    "\n",
    "`map()` fonksiyonu, verilen bir listedeki bütün elemanlara aynı fonksiyonu uygulamak için kullanılır. Bu fonksiyon iki argüman alır: bir fonksiyon ve bu fonksiyonun uygulanacağı bir dizi. Map, dizideki her elemanı alır ve bu elemanı verilen fonksiyondan geçirir. \n",
    "\n",
    "`map(fonksiyon,girdi)`\n",
    "\n",
    "![map fonksiyonu](figures/map.png)\n",
    "\n",
    "Örneğin bir listedeki bütün elemanların karesini almamız gerekiyorsa, bunun için for ya da while döngüsü uygulamak yerine hızlıca map fonksiyonu uygulayabiliriz. "
   ]
  },
  {
   "cell_type": "code",
   "execution_count": 48,
   "metadata": {},
   "outputs": [
    {
     "name": "stdout",
     "output_type": "stream",
     "text": [
      "[4, 9, 16, 25]\n"
     ]
    }
   ],
   "source": [
    "def kare(x):\n",
    "    return x**2\n",
    "\n",
    "sayilar = [2,3,4,5]\n",
    "\n",
    "sonuc = map(kare, sayilar)\n",
    "sonuc_listesi = list(sonuc)\n",
    "\n",
    "print(sonuc_listesi)"
   ]
  },
  {
   "cell_type": "markdown",
   "metadata": {},
   "source": [
    "Yukarıdaki örnekte birinci ve ikinci satırlarda `kare()` adında basit bir fonksiyon tanımladık. Dördüncü satırda ise fonksiyonu kullanmak istediğimiz diziyi tanımladık. Bu bir liste olabileceği gibi bir tuple ya da başka bir dizi de olabilir. Altınca satırda kullandığımız `map()` fonksiyonunun sonucunu bir değişkene atıyoruz. Map fonksiyonu bir map nesnesi üretir. Ne yazık ki map nesnesi doğrudan yazdırılabilir ya da erişilebilir bir nesne değildir. Üretilen sonucu kullanabilmek için bunu bir küme veya listeye çevirmek gerekir. Bunu da `set()` ya da `list()` fonksiyonları ile gerçekleştirebiliriz (7. Satır). Satır 6 ve 7’yi aşağıdaki şekilde de birleştirebilirdik. \n",
    "\n",
    "`sonuc = list(map(kare, sayilar))`\n",
    "\n",
    "Şimdi de map fonksiyonu içinde lambda fonksiyonunu nasıl kullanabileceğimizi görelim. Yine yukarıdaki örnekte görüldüğü gibi kullandığımız kare fonksiyonu aslında çok basit bir fonksiyon. Bunun için def anahtar kelimesini kullanarak ayrı bir fonksiyon tanımlamak yerine map() fonksiyonu içinde satır arasında hızlıca bir lambda fonksiyonu tanımlayabiliriz."
   ]
  },
  {
   "cell_type": "code",
   "execution_count": 49,
   "metadata": {},
   "outputs": [
    {
     "name": "stdout",
     "output_type": "stream",
     "text": [
      "[4, 9, 16, 25]\n"
     ]
    }
   ],
   "source": [
    "sayilar = [2,3,4,5]\n",
    "sonuc = list(map(lambda x : x**2, sayilar))\n",
    "print(sonuc)"
   ]
  },
  {
   "cell_type": "markdown",
   "metadata": {},
   "source": [
    "Bir diğer kullanışlı fonksiyon olan `filter()` fonksiyonu, adından da anlaşılacağı üzere veriler arasında filtreleme yapmak yani belirli bir şartı sağlayan verileri bulmak için kullanılır. Filter fonksiyonu da map fonksiyonu gibi iki argüman alır: doğru ya da yanlış (True, False) değerler üreten bir fonksiyon ve bu fonksiyonun uygulanacağı bir dizi.\n",
    "\n",
    "`filter(fonksiyon, dizi)`\n",
    "\n",
    "![filter fonksiyonu](figures/filter.png)"
   ]
  },
  {
   "cell_type": "code",
   "execution_count": 50,
   "metadata": {},
   "outputs": [],
   "source": [
    "def teksayi(x):\n",
    "    if x % 2 == 0:\n",
    "        return False\n",
    "    else:\n",
    "        return True"
   ]
  },
  {
   "cell_type": "code",
   "execution_count": 51,
   "metadata": {},
   "outputs": [
    {
     "name": "stdout",
     "output_type": "stream",
     "text": [
      "[3, 7, 17, 43, 29, 81]\n"
     ]
    }
   ],
   "source": [
    "sayilar = [3, 7, 12, 17, 43, 16, 29, 81, 64, 42]\n",
    "tekler = list(filter(teksayi,sayilar))\n",
    "print(tekler)"
   ]
  },
  {
   "cell_type": "markdown",
   "metadata": {},
   "source": [
    "Aynı kodu bu defa lambda fonksiyonu kullanarak yazmaya çalışalım. "
   ]
  },
  {
   "cell_type": "code",
   "execution_count": 52,
   "metadata": {},
   "outputs": [
    {
     "name": "stdout",
     "output_type": "stream",
     "text": [
      "[3, 7, 17, 43, 29, 81]\n"
     ]
    }
   ],
   "source": [
    "sayilar = [3, 7, 12, 17, 43, 16, 29, 81, 64, 42]\n",
    "tekler = list(filter(lambda x: x % 2 == 1, sayilar))\n",
    "print(tekler)"
   ]
  },
  {
   "cell_type": "markdown",
   "metadata": {},
   "source": [
    "Aşağıdaki örnekte de verilen kelimeler arasında belirli bir uzunluktan fazla olanları buluyoruz. "
   ]
  },
  {
   "cell_type": "code",
   "execution_count": 53,
   "metadata": {},
   "outputs": [
    {
     "name": "stdout",
     "output_type": "stream",
     "text": [
      "['Adıyaman', 'Balıkesir', 'Kahramanmaraş']\n"
     ]
    }
   ],
   "source": [
    "liste = ['Adıyaman', 'Ankara', 'Balıkesir', 'Kahramanmaraş', 'Iğdır']\n",
    "iller = list(filter(lambda x: len(x) > 7, liste))\n",
    "print(iller)"
   ]
  },
  {
   "cell_type": "markdown",
   "metadata": {},
   "source": [
    "Son olarak da `reduce()` fonksiyonunu görelim. Reduce fonksiyonu da `map()` gibi verilen bir üzerinde bir fonksiyon uygular. Ancak, map fonksiyonundan farklı olarak reduce fonksiyonu verilen liste üzerinde bir işlem uyguladıktan sonra tek bir sonuç iletir. Yalnız, diğer iki fonksiyondan farklı olarak reduce fonksiyonunu functools paketinden aktarmak gerekmektedir. Ayrıca, bu fonksiyonun ürettiği nesneyi doğrudan yazdırabiliyoruz. Diğerlerinde olduğu gibi önce `list()` veya `set()` ile yazdırılabilir bir nesneye çevirmemize gerek yok.\n",
    "\n",
    "```Python\n",
    "from functools import reduce\n",
    "reduce(fonksiyon, dizi)\n",
    "```\n",
    "\n",
    "![reduce fonksiyonu](figures/reduce.png)\n",
    "\n",
    "Artık `map()`, `filter()` ve `reduce()` fonksiyonlarının nasıl çalıştığını gördüğümüze göre reduce fonksiyonunun kullanımına bir örnek verebiliriz. "
   ]
  },
  {
   "cell_type": "code",
   "execution_count": 54,
   "metadata": {},
   "outputs": [
    {
     "name": "stdout",
     "output_type": "stream",
     "text": [
      "Ayten, Ali, Mehmet, Yağız, Baran, Özlem\n"
     ]
    }
   ],
   "source": [
    "from functools import reduce\n",
    "\n",
    "ekip = ['Ayten', 'Ali', 'Mehmet', 'Yağız', 'Baran', 'Özlem']\n",
    "butun_ekip = reduce(lambda ekip1, ekip2: ekip1 + \", \" + ekip2, ekip)\n",
    "print(butun_ekip)"
   ]
  },
  {
   "cell_type": "markdown",
   "metadata": {},
   "source": [
    "Benzer şekilde bir dizideki elemanların toplamını ya da çarpımını bulmak için de reduce ve lambda fonksiyonlarını kullanabiliriz. "
   ]
  },
  {
   "cell_type": "code",
   "execution_count": 55,
   "metadata": {},
   "outputs": [
    {
     "name": "stdout",
     "output_type": "stream",
     "text": [
      "4200\n"
     ]
    }
   ],
   "source": [
    "from functools import reduce\n",
    "\n",
    "sayilar = [5, 7, 8, 3, 5]\n",
    "\n",
    "carpim = reduce(lambda x1, x2: x1*x2, sayilar)\n",
    "print(carpim)"
   ]
  },
  {
   "cell_type": "markdown",
   "metadata": {},
   "source": [
    "Gördüğünüz gibi doğru kullanıldığında lambda fonksiyonları, map, filter ve reduce fonksiyonları ile birlikte bizi for ve while döngüleri kullanmadan birçok işi çok daha hızlı bir şekilde yapmamızı sağlayabilir."
   ]
  },
  {
   "cell_type": "markdown",
   "metadata": {},
   "source": [
    "## Fonksiyonlarda Kapsama\n",
    "\n",
    "Fonksiyonları anlatırken değinmeden geçmememiz gereken önemli bir konu da fonksiyonlarda kapsam konusudur. Kapsamdan kastımız, bir Python programında tanımlanan ya da kullanılan nesnelerin programın hangi bölümlerinden erişilebilir olduğudur. Programda kullanılan tüm nesnelere programın her yerinden erişilemez. \n",
    "\n",
    "Bir Python programında üç tür kapsamadan söz edebiliriz. \n",
    "\n",
    "- Genel Kapsam (Global Scope): Nesnelerden bir kısmı yazdığımız programın ana gövdesinden erişilebilir nesnelerdir. Bu nesneler genel gövdede tanımlanmıştır.\n",
    "\n",
    "- Yerel Kapsam (Local Scope): Bir fonksiyonun içinde tanımlanan ve yine fonksiyon içinden erişilebilen nesneler yerel kapsamdaki nesnelerdir. Bir fonksiyonun içinde tanımlanan değişkenler sadece fonksiyon içinde kullanılır ve fonksiyonun kullanılması bittiğinde de ortadan kalkar. \n",
    "\n",
    "- Gömülü Kapsam (Built-in Scope): Python standart kütüphanesinde yer alan builtins modülünde yer alan nesnelerdir. Python’da tanımlanmış olan tüm fonksiyonlar, örneğin, help(), max(), min() gibi fonksiyonlar gömülü (built-in) kapsamdaki nesnelerdir.\n",
    "\n",
    "Şimdi önceki bölümde de kullandığımız aşağıdaki fonksiyona bakalım. \n",
    "\n",
    "```Python\n",
    "def us_alma(x, y):\n",
    "    sonuc = x ** y\n",
    "    return sonuc\n",
    "\n",
    "print(sonuc)\n",
    "NameError: name 'sonuc' is not defined\n",
    "```\n",
    "\n",
    "Görüldüğü gibi fonksiyon içinde tanımladığımız sonuc değişkenine fonksiyon dışından erişmeye çalıştığımızda hata mesajı ile karşılaşıyoruz. Bu değişkene sadece yerel kapsama alanından ulaşabiliyoruz.\n",
    "\n",
    "Bu duruma bir başka örnek verelim. Fonksiyonu çağırmadan önce bir sonuc değişkeni tanımlayım değişkene bir değer atayalım. "
   ]
  },
  {
   "cell_type": "code",
   "execution_count": 56,
   "metadata": {},
   "outputs": [],
   "source": [
    "sonuc = 50\n",
    "\n",
    "def us_alma(x, y):\n",
    "    sonuc = x ** y\n",
    "    return sonuc"
   ]
  },
  {
   "cell_type": "code",
   "execution_count": 57,
   "metadata": {},
   "outputs": [
    {
     "name": "stdout",
     "output_type": "stream",
     "text": [
      "125\n"
     ]
    }
   ],
   "source": [
    "print(us_alma(5, 3))"
   ]
  },
  {
   "cell_type": "code",
   "execution_count": 58,
   "metadata": {},
   "outputs": [
    {
     "name": "stdout",
     "output_type": "stream",
     "text": [
      "50\n"
     ]
    }
   ],
   "source": [
    "print(sonuc)"
   ]
  },
  {
   "cell_type": "markdown",
   "metadata": {},
   "source": [
    "Görüldüğü gibi `print(sonuc)` komutunu verdiğimizde fonksiyon içinde hesaplanan sonuc değeri değil, fonksiyon dışında tanımladığımız sonuc değeri yazdırılıyor. Yerel kapsamda tanımlanan bir nesneye genel kapsamdan ulaşılamadığını görmüş olduk. Ancak bunun tersi doğru değildir. Genel kapsamda tanımlanan bir nesneye yerel kapsamdan yani bir fonksiyon ya da modülün içinden ulaşılabilir. Bir fonksiyonun içinde kullandığımız bir nesne önce fonksiyon içinde aranır. Burada bulunamaz ise genel kapsama bakılır. Genel kapsamda da bulunamaz ise gömülü kapsama bakılır. Şimdi yukarıdaki fonksiyonu biraz değiştirerek aşağıdaki gibi yazalım. "
   ]
  },
  {
   "cell_type": "code",
   "execution_count": 59,
   "metadata": {},
   "outputs": [],
   "source": [
    "us = 3\n",
    "\n",
    "def us_alma(x):\n",
    "    sonuc = x ** us\n",
    "    return sonuc"
   ]
  },
  {
   "cell_type": "code",
   "execution_count": 60,
   "metadata": {},
   "outputs": [
    {
     "name": "stdout",
     "output_type": "stream",
     "text": [
      "125\n"
     ]
    }
   ],
   "source": [
    "print(us_alma(5))"
   ]
  },
  {
   "cell_type": "markdown",
   "metadata": {},
   "source": [
    "Fonksiyon içinde us değişkeni kullanılıyor. Ancak fonksiyonun ne tanımında ne de gövdesinde us değişkeni tanımlanmış değil. Bu nedenle, genel kapsama bakılıyor. Genel kapsamda tanımlanmış bir us değişkeni bulunuyor ve hesaplamada bu değişken kullanılıyor. \n",
    "\n",
    "Fonksiyon metni içinde genel kapsamdaki bir nesneyi değiştirmek istersek global anahtar kelimesini kullanmamız gerekiyor.  Bu durumda fonksiyon içinden yapılan değişiklik genel kapsamda de geçerli olur."
   ]
  },
  {
   "cell_type": "code",
   "execution_count": 61,
   "metadata": {},
   "outputs": [],
   "source": [
    "us = 3\n",
    "\n",
    "def us_alma(x):\n",
    "    global us\n",
    "    us = us + 1\n",
    "    sonuc = x ** us\n",
    "    return sonuc"
   ]
  },
  {
   "cell_type": "code",
   "execution_count": 62,
   "metadata": {},
   "outputs": [
    {
     "name": "stdout",
     "output_type": "stream",
     "text": [
      "625\n"
     ]
    }
   ],
   "source": [
    "print(us_alma(5))"
   ]
  },
  {
   "cell_type": "code",
   "execution_count": 63,
   "metadata": {},
   "outputs": [
    {
     "name": "stdout",
     "output_type": "stream",
     "text": [
      "4\n"
     ]
    }
   ],
   "source": [
    "print(us)"
   ]
  },
  {
   "cell_type": "markdown",
   "metadata": {},
   "source": [
    "Gömülü kapsamdaki nesneleri görmek için builtins modülünü içeri aktarmamız gerekir. Aşağıda bu nesnelerin bir kısmı gösterilmiştir. "
   ]
  },
  {
   "cell_type": "code",
   "execution_count": 64,
   "metadata": {},
   "outputs": [
    {
     "data": {
      "text/plain": [
       "['ArithmeticError',\n",
       " 'AssertionError',\n",
       " 'AttributeError',\n",
       " 'BaseException',\n",
       " 'BaseExceptionGroup',\n",
       " 'BlockingIOError',\n",
       " 'BrokenPipeError',\n",
       " 'BufferError',\n",
       " 'BytesWarning',\n",
       " 'ChildProcessError',\n",
       " 'ConnectionAbortedError',\n",
       " 'ConnectionError',\n",
       " 'ConnectionRefusedError',\n",
       " 'ConnectionResetError',\n",
       " 'DeprecationWarning',\n",
       " 'EOFError',\n",
       " 'Ellipsis',\n",
       " 'EncodingWarning',\n",
       " 'EnvironmentError',\n",
       " 'Exception',\n",
       " 'ExceptionGroup',\n",
       " 'False',\n",
       " 'FileExistsError',\n",
       " 'FileNotFoundError',\n",
       " 'FloatingPointError',\n",
       " 'FutureWarning',\n",
       " 'GeneratorExit',\n",
       " 'IOError',\n",
       " 'ImportError',\n",
       " 'ImportWarning',\n",
       " 'IndentationError',\n",
       " 'IndexError',\n",
       " 'InterruptedError',\n",
       " 'IsADirectoryError',\n",
       " 'KeyError',\n",
       " 'KeyboardInterrupt',\n",
       " 'LookupError',\n",
       " 'MemoryError',\n",
       " 'ModuleNotFoundError',\n",
       " 'NameError',\n",
       " 'None',\n",
       " 'NotADirectoryError',\n",
       " 'NotImplemented',\n",
       " 'NotImplementedError',\n",
       " 'OSError',\n",
       " 'OverflowError',\n",
       " 'PendingDeprecationWarning',\n",
       " 'PermissionError',\n",
       " 'ProcessLookupError',\n",
       " 'RecursionError',\n",
       " 'ReferenceError',\n",
       " 'ResourceWarning',\n",
       " 'RuntimeError',\n",
       " 'RuntimeWarning',\n",
       " 'StopAsyncIteration',\n",
       " 'StopIteration',\n",
       " 'SyntaxError',\n",
       " 'SyntaxWarning',\n",
       " 'SystemError',\n",
       " 'SystemExit',\n",
       " 'TabError',\n",
       " 'TimeoutError',\n",
       " 'True',\n",
       " 'TypeError',\n",
       " 'UnboundLocalError',\n",
       " 'UnicodeDecodeError',\n",
       " 'UnicodeEncodeError',\n",
       " 'UnicodeError',\n",
       " 'UnicodeTranslateError',\n",
       " 'UnicodeWarning',\n",
       " 'UserWarning',\n",
       " 'ValueError',\n",
       " 'Warning',\n",
       " 'WindowsError',\n",
       " 'ZeroDivisionError',\n",
       " '__IPYTHON__',\n",
       " '__build_class__',\n",
       " '__debug__',\n",
       " '__doc__',\n",
       " '__import__',\n",
       " '__loader__',\n",
       " '__name__',\n",
       " '__package__',\n",
       " '__spec__',\n",
       " 'abs',\n",
       " 'aiter',\n",
       " 'all',\n",
       " 'anext',\n",
       " 'any',\n",
       " 'ascii',\n",
       " 'bin',\n",
       " 'bool',\n",
       " 'breakpoint',\n",
       " 'bytearray',\n",
       " 'bytes',\n",
       " 'callable',\n",
       " 'chr',\n",
       " 'classmethod',\n",
       " 'compile',\n",
       " 'complex',\n",
       " 'copyright',\n",
       " 'credits',\n",
       " 'delattr',\n",
       " 'dict',\n",
       " 'dir',\n",
       " 'display',\n",
       " 'divmod',\n",
       " 'enumerate',\n",
       " 'eval',\n",
       " 'exec',\n",
       " 'execfile',\n",
       " 'filter',\n",
       " 'float',\n",
       " 'format',\n",
       " 'frozenset',\n",
       " 'get_ipython',\n",
       " 'getattr',\n",
       " 'globals',\n",
       " 'hasattr',\n",
       " 'hash',\n",
       " 'help',\n",
       " 'hex',\n",
       " 'id',\n",
       " 'input',\n",
       " 'int',\n",
       " 'isinstance',\n",
       " 'issubclass',\n",
       " 'iter',\n",
       " 'len',\n",
       " 'license',\n",
       " 'list',\n",
       " 'locals',\n",
       " 'map',\n",
       " 'max',\n",
       " 'memoryview',\n",
       " 'min',\n",
       " 'next',\n",
       " 'object',\n",
       " 'oct',\n",
       " 'open',\n",
       " 'ord',\n",
       " 'pow',\n",
       " 'print',\n",
       " 'property',\n",
       " 'range',\n",
       " 'repr',\n",
       " 'reversed',\n",
       " 'round',\n",
       " 'runfile',\n",
       " 'set',\n",
       " 'setattr',\n",
       " 'slice',\n",
       " 'sorted',\n",
       " 'staticmethod',\n",
       " 'str',\n",
       " 'sum',\n",
       " 'super',\n",
       " 'tuple',\n",
       " 'type',\n",
       " 'vars',\n",
       " 'zip']"
      ]
     },
     "execution_count": 64,
     "metadata": {},
     "output_type": "execute_result"
    }
   ],
   "source": [
    "import builtins\n",
    "dir(builtins)"
   ]
  },
  {
   "cell_type": "markdown",
   "metadata": {},
   "source": [
    "Önceki bölümde iç içe fonksiyonlarda bahsetmiştik. İç içe fonksiyonlarda da kapsama mantığı aynıdır. Örneğin önceki bölümde kullandığımız Kelvin’den Fahrenheit sıcaklık derecesine dönüşüm programını dikkate alalım. "
   ]
  },
  {
   "cell_type": "code",
   "execution_count": 65,
   "metadata": {},
   "outputs": [],
   "source": [
    "def kelvin_fahrenheit(derece):\n",
    "\n",
    "    def kelvin_celsius(kelvin_derece):\n",
    "        celsius_derece = kelvin_derece - 273.15\n",
    "        return celsius_derece\n",
    "\n",
    "    fahrenheit = 1.8 * kelvin_celsius(derece) + 32\n",
    "    print(celsius_derece)\n",
    "    return fahrenheit"
   ]
  },
  {
   "cell_type": "markdown",
   "metadata": {},
   "source": [
    "Yukarıdaki fonksiyonda celsius_derece değişkeni alt fonksiyon içinde tanımlanmıştır. Bu fonksiyona ana fonksiyon içinden erişmeye çalışırsak (satır 8) aşağıdaki hata mesajı ile karşılaşırız. Görüldüğü gibi program alt fonksiyonda tnaımlanmış bir değişkene ana fonksiyon içinden erişemiyor.\n",
    "\n",
    "`NameError: name 'celsius_derece' is not defined` \n",
    "\n",
    "Diğer yandan, alt fonksiyon içinden bir değişken çağrıldığında, program bu değişkeni önce alt fonksiyon gövdesinde arar. Burada bulamazsa sırayla ana fonksiyona, varsa onun ana fonksiyonlarına ve Global Kapsama alanına bakar. \n"
   ]
  },
  {
   "cell_type": "markdown",
   "metadata": {},
   "source": [
    "## Metodlar\n",
    "\n",
    "Python’da metod (method) adı verilen özel bir tip fonksiyon da söz konusudur. Metodlar, belirli bir sınıfa dahil fonksiyonlardır. Metodlar sadece belirli bir sınıf için geçerli olup bu sınıfa dahil nesnelerle kullanılabilir. Bu bağlamda, her metod bir fonksiyondur ancak her fonksiyon bir metod değildir. Aslında önceki bölümlerde metod örneklerine rastlamıştık.\n",
    "\n",
    "Python’un nesne yönelimli bir programlama dili olduğunu daha önce duymuş olabilirsiniz. Nesne yönelimli programlama, ileride daha ayrıntılı olarak aktarılacaktır. Ancak şimdilik basitçe her verinin ya da veri yapısının bir nesne olduğunu düşünebiliriz. Metin, tamsayı, liste ya da sözlük türünde bir veri aynı zamanda bir nesnedir. Gerçek hayatta olduğu gibi programlamada da nesnelerin farklı özellikleri vardır ve nesnelere çeşitli işlemler uygulanabilir. Örneğin, otomobil dediğimiz zaman bir araç sınıfından bahsediyoruz. Bu sınıfa dahil çeşitli özelliklere sahip çok sayıda otomobil vardır. Bu otomobillerin her biri, tek bir otomobil ise bu sınıfa dahil bir nesnedir. Bir sınıfın genel özellikleri vardır. Her otomobilin, motoru, koltukları, direksiyonu vitesi, kaporta boyası vardır. Ama bu özellikler her otomobil için farklı farklıdır. Kimi arabanın rengi kırmızıyken kimisi mavi, bazıları büyük motorlu iken bazıları küçük motorludur. Programlamada da nesneler çok benzerdir. Liste sınıfına dahil nesnelerin ortak özellikleri vardır ancak bu özellikler her liste için farklıdır.  İşte, metodlar da sadece belirli bir sınıfa dahil nesnelere özel fonksiyonlardır.\n",
    "\n",
    "Her nesne tipine uygulanabilecek metodlar farklıdır. Örneğin, .replace(), .upper() metodları sadece metin (string) veri tipindeki nesnelere uygulanabilirken .append() metodu ise liste veri yapılarına uygulanabilir. Farklı sınıflar için uygulanan aynı ismi taşıyan metodlar da bulunabilir. Ancak, bu metodlar uygulandıkları sınıfa göre farklı davranabilirler. \n",
    "\n",
    "Bazı metodlar uygulandıkları nesnede herhangi bir değişiklik yapmazken bazıları uygulandıkları nesneyi değiştirir. Örneğin, listeye uygulanan `.append()` metodu, listeye yeni bir eleman ekler, `.reverse()` metodu listenin elemanlarını sondan başa yeniden sıralar. Diğer yandan `.index()` metodu sadece listedeki bir elemanın sıra numarasını verir ve listeyi değiştirmez."
   ]
  },
  {
   "cell_type": "code",
   "execution_count": 66,
   "metadata": {},
   "outputs": [
    {
     "data": {
      "text/plain": [
       "'PYTHON ILE PROGRAMLAMA ÖĞRENIYORUM'"
      ]
     },
     "execution_count": 66,
     "metadata": {},
     "output_type": "execute_result"
    }
   ],
   "source": [
    "metin = \"python ile programlama öğreniyorum\"\n",
    "metin.upper()\n"
   ]
  },
  {
   "cell_type": "code",
   "execution_count": 67,
   "metadata": {},
   "outputs": [
    {
     "data": {
      "text/plain": [
       "[3, 7, 13, 17, 21, 37]"
      ]
     },
     "execution_count": 67,
     "metadata": {},
     "output_type": "execute_result"
    }
   ],
   "source": [
    "liste = [3, 7, 13, 17, 21]\n",
    "liste.append(37)\n",
    "liste"
   ]
  },
  {
   "cell_type": "markdown",
   "metadata": {},
   "source": [
    "Görüldüğü gibi bir nesneye herhangi bir metod uygulamak için nesne ismi yanına nokta `(.)` konarak metod ismi yazılır. Tıpkı fonksiyonlarda olduğu gibi bazı metodlar hiç argüman almazken (`.upper()` gibi), bazıları argüman alır (`.append()` gibi). "
   ]
  },
  {
   "cell_type": "markdown",
   "metadata": {},
   "source": [
    "## Üreteç Fonksiyonları\n",
    "\n",
    "Önceki bölümde gördüğümüz liste döngülerini hatırlayalım. Önceki bölümde yazdığımız, verilen listedeki sayıların küplerini hesaplayan liste döngüsünü düşünelim. "
   ]
  },
  {
   "cell_type": "code",
   "execution_count": 68,
   "metadata": {},
   "outputs": [
    {
     "name": "stdout",
     "output_type": "stream",
     "text": [
      "[64, 216, 8, 1728, 1331, 343]\n"
     ]
    }
   ],
   "source": [
    "liste = [4, 6, 2, 12, 11, 7]\n",
    "liste_kup = [i**3 for i in liste]\n",
    "print(liste_kup)"
   ]
  },
  {
   "cell_type": "markdown",
   "metadata": {},
   "source": [
    "Şimdi de çok uzun bir dosya ya da listeden veri okuyup işlediğimizi düşünelim. Hesapladığımız liste yukarıdaki gibi altı elemanlı değil de milyonlarca elemanı olan bir liste olsa hem hafıza hem de hız açısından sorun yaşayacağız. Bu problemi aşmanın bir yöntemi üreteçleri kullanmaktır. Üreteçler, aynı liste döngüleri gibi çalışır. Ancak, istenen listeyi üretmez bunun yerine kullanılabilecek bir yinelenen nesne üretir. Yazılış olarak üreteçlerin liste döngülerinden farkı köşeli parantez yerine normal parantez kullanmasıdır. Şimdi yukarıdaki işlemi köşeli parantez yerine normal parantez ile yapalım."
   ]
  },
  {
   "cell_type": "code",
   "execution_count": 69,
   "metadata": {},
   "outputs": [
    {
     "name": "stdout",
     "output_type": "stream",
     "text": [
      "<generator object <genexpr> at 0x0000019C2B90A190>\n"
     ]
    }
   ],
   "source": [
    "liste = [4, 6, 2, 12, 11, 7]\n",
    "liste_kup = (i**3 for i in liste)\n",
    "print(liste_kup)"
   ]
  },
  {
   "cell_type": "markdown",
   "metadata": {},
   "source": [
    "Görüldüğü gibi işlemi köşeli parantez yerine normal parantez ile gerçekleştirdiğimizde yazdırılabilir formatta bir liste değil bir üreteç nesnesi (generator object) oluşturuluyor. Üreteç, bir liste oluşturmadığı için hafızada gereksiz yer de işgal etmez. Bunun yerine listenin elemanlarını üretmek için kullanılabilecek yinelenen bir nesne oluşturuluyor. Üreteç elemanlarını görmek için for döngüsü kullanabiliriz ya da üreteç nesnesini `list()` fonksiyonunu kullanarak liste haline getirebiliriz. "
   ]
  },
  {
   "cell_type": "code",
   "execution_count": 70,
   "metadata": {},
   "outputs": [
    {
     "name": "stdout",
     "output_type": "stream",
     "text": [
      "64\n",
      "216\n",
      "8\n",
      "1728\n",
      "1331\n",
      "343\n"
     ]
    }
   ],
   "source": [
    "for x in liste_kup:\n",
    "    print(x)"
   ]
  },
  {
   "cell_type": "markdown",
   "metadata": {},
   "source": [
    "Yukarıdaki ifade yerine `print(list(liste_kup))` da yazabilirdik."
   ]
  },
  {
   "cell_type": "markdown",
   "metadata": {},
   "source": [
    "Tüm yineleyicilerde olduğu gibi üreteçlerde de `next()` fonksiyonu kullanarak işlem yapabiliriz. "
   ]
  },
  {
   "cell_type": "code",
   "execution_count": 71,
   "metadata": {},
   "outputs": [],
   "source": [
    "liste = [4, 6, 2, 12, 11, 7]\n",
    "liste_kup = (i**3 for i in liste)"
   ]
  },
  {
   "cell_type": "code",
   "execution_count": 72,
   "metadata": {},
   "outputs": [
    {
     "name": "stdout",
     "output_type": "stream",
     "text": [
      "64\n"
     ]
    }
   ],
   "source": [
    "print(next(liste_kup))"
   ]
  },
  {
   "cell_type": "code",
   "execution_count": 73,
   "metadata": {},
   "outputs": [
    {
     "name": "stdout",
     "output_type": "stream",
     "text": [
      "216\n"
     ]
    }
   ],
   "source": [
    "print(next(liste_kup))"
   ]
  },
  {
   "cell_type": "code",
   "execution_count": 74,
   "metadata": {},
   "outputs": [
    {
     "name": "stdout",
     "output_type": "stream",
     "text": [
      "8\n"
     ]
    }
   ],
   "source": [
    "print(next(liste_kup))"
   ]
  },
  {
   "cell_type": "markdown",
   "metadata": {},
   "source": [
    "Yukarıda, üreteç oluşturan ifadeler yazdık. Benzer şekilde üreteç fonksiyonları da yazabiliriz. Şimdiye kadar gördüğümüz fonksiyonlar genelde tek bir değer üretiyorlardı. Üreteç fonksiyonları ise bir tek değer yerine bir dizi değeri aynı anda üretmek için kullanılır. Bu nedenle normal fonksiyonlarda kullanılan return anahtar kelimesi yerine üreteç fonksiyonlarında yield anahtar kelimesi kullanılır. Bir noktaya dikkat çekelim. Üreteç fonksiyonları da diğer üreteçler gibi sonucun kendisini değil sonuç değerleri üzerinde gezinmeyi sağlayan yinelenen nesneyi üretir. Üreteç fonksiyonlarının en önemli faydası, çok büyük hacimli verilerle işlem yapmayı kolaylaştırmasıdır. \n",
    "\n",
    "Şimdi, verilen sayıdan geriye doğru sayabilen bir üreteç fonksiyonu yazalım {cite}`beazley2009`."
   ]
  },
  {
   "cell_type": "code",
   "execution_count": 75,
   "metadata": {},
   "outputs": [],
   "source": [
    "def geri_say(n):\n",
    "    print(\"Geri Sayım: \")\n",
    "    while n > 0:\n",
    "        yield n\n",
    "        n -= 1"
   ]
  },
  {
   "cell_type": "markdown",
   "metadata": {},
   "source": [
    "Üreteç fonksiyonu da yukarıdaki üreteç örneklerinde olduğu gibi elemanları takip edilebilen bir yinelenen nesne üretir. Bu nesne üzerinde diğer yinelenen nesnelerdeki gibi işlem yapabiliriz. Örneğin, `next()` metodunu kullanabiliriz. "
   ]
  },
  {
   "cell_type": "code",
   "execution_count": 76,
   "metadata": {},
   "outputs": [
    {
     "name": "stdout",
     "output_type": "stream",
     "text": [
      "Geri Sayım: \n",
      "5\n"
     ]
    }
   ],
   "source": [
    "say = geri_say(5)\n",
    "print(next(say))"
   ]
  },
  {
   "cell_type": "code",
   "execution_count": 77,
   "metadata": {},
   "outputs": [
    {
     "name": "stdout",
     "output_type": "stream",
     "text": [
      "4\n"
     ]
    }
   ],
   "source": [
    "print(next(say))"
   ]
  },
  {
   "cell_type": "markdown",
   "metadata": {},
   "source": [
    "Şimdi de verilen bir listedeki kelimelerin harf sayısını veren bir üreteç fonksiyonu yazalım. Örneğimizde kısa bir liste kullanacağız. Ama bir kitap uzunluğundaki metinlerle çalıştığınızda üreteç fonksiyonlarının ne kadar etkili olabileceğini düşünün. "
   ]
  },
  {
   "cell_type": "code",
   "execution_count": 78,
   "metadata": {},
   "outputs": [],
   "source": [
    "yer_isimleri = ['İstanbul', 'İzmir', 'Türkiye', 'Asya', 'Afrika', 'Dünya']"
   ]
  },
  {
   "cell_type": "code",
   "execution_count": 79,
   "metadata": {},
   "outputs": [
    {
     "name": "stdout",
     "output_type": "stream",
     "text": [
      "8\n",
      "5\n",
      "7\n",
      "4\n",
      "6\n",
      "5\n"
     ]
    }
   ],
   "source": [
    "def uzunluk_bul(liste):\n",
    "    \"\"\"Verilen listedeki kelimelerin uzunluklarını\n",
    "    bulan bir üreteç fonksiyonu yazıyoruz\"\"\"\n",
    "\n",
    "    for kelime in liste:\n",
    "        yield(len(kelime))\n",
    "\n",
    "# kelimeler listesindeki kelimelerin uzunluklarını bulalım.\n",
    "for sozcuk in uzunluk_bul(yer_isimleri):\n",
    "    print(sozcuk)"
   ]
  },
  {
   "cell_type": "markdown",
   "metadata": {},
   "source": [
    "## Alıştırmalar\n",
    "\n",
    "1.\tVerilen bir tamsayının tek mi çift mi olduğunu yazan bir fonksiyon yazın. \n",
    "\n",
    "2.\tVerilen bir kelimedeki harfleri tersten yazan bir fonksiyon yazın. Aynısını bir liste için yapın. \n",
    "\n",
    "3.\tVerilen iki kelimeyi birleştirerek yazdıran bir fonksiyon yazın. Ancak verilen kelimeleri büyük harfe çevirerek birleştirmelisiniz. Büyük harfe çevirme için de ana fonksiyonun içinde bir alt fonksiyon yazın. \n",
    "\n",
    "4.\tSıfırdan 100’e kadar çift sayıları üreten bir üreteç yazın. Oluşan üreteç nesnesinin ilk 3 elemanını next() fonksiyonu kullanarak yazdırın.\n",
    "\n",
    "5.\tKullanıcıdan üç sayı girmesini isteyen ve bu çarpımını yazan bir fonksiyon oluşturun. \n",
    "\n",
    "6.\tHer sayının kendinden önceki iki sayının toplamına eşit olduğu seriye Fibonacci serisi denir. Fibonacci serisi 1, 1, 2, 3, 5, 8, 13, 21, 34 şeklinde devam eder. Fibonacci serisinin istenen sırasındaki elemanını gösteren bir fonksiyon yazın. Fonksiyon argümanı sadece pozitif tamsayı olmalı aksi halde hata mesajı vermelidir. İstenen sıra örneğin 7 ise sonuç 13 olmalıdır. \n",
    "\n",
    "7.\tAşağıda tanımlanmış değişkenlerin içeriklerini tahmin etmeye çalışın. Sonra da bunları yazdırarak sonucu görün.\n",
    "\n",
    "```\n",
    "A = dict(zip(('i','l','k','e','r'),(1,2,3,4,5)))\n",
    "B = range(10)\n",
    "C = sorted([A[i] for i in A])\n",
    "D = [i for i in B if i in C]\n",
    "E = {i:i*i for i in B}\n",
    "F = [[i,i*i] for i in B]\n",
    "```\n",
    "\n",
    "8.\tSayısal verilerden oluşan bir listenin elemanlarını küçükten büyüğe sıralayan bir fonksiyon yazın. "
   ]
  }
 ],
 "metadata": {
  "kernelspec": {
   "display_name": ".venv",
   "language": "python",
   "name": "python3"
  },
  "language_info": {
   "codemirror_mode": {
    "name": "ipython",
    "version": 3
   },
   "file_extension": ".py",
   "mimetype": "text/x-python",
   "name": "python",
   "nbconvert_exporter": "python",
   "pygments_lexer": "ipython3",
   "version": "3.11.4"
  }
 },
 "nbformat": 4,
 "nbformat_minor": 2
}