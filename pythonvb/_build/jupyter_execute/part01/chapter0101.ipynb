{
 "cells": [
  {
   "cell_type": "markdown",
   "metadata": {},
   "source": [
    "# Bilgisayarlar ve Programlama\n",
    "\n",
    "Bundan 20 yıl önce çok az sayıda insanın kullandığı bir araç olan bilgisayarlar önce her eve sonra da hepimizin her anına girdi. Peki sürekli kullandığımız, kullanmak bir yana artık neredeyse 24 saat birlikte onunla yaşadığımız bilgisayar nedir? Klasik bir giriş yaparak kelime anlamıyla başlayalım. Türk Dil Kurumu, bilgisayarı aşağıdaki gibi tanımlıyor:\n",
    "\n",
    "> Çok sayıda aritmetiksel veya mantıksal işlemlerden oluşan bir işi, önceden verilmiş bir programa göre yapıp sonuçlandıran elektronik araç, elektronik beyin.\n",
    "\n",
    "Cambridge Sözlüğünün tanımı ise aşağıdaki gibi:\n",
    "\n",
    "> Kelime, sayı ve resimleri saklama, düzenleme ve bulmak, hesaplama yapmak ve diğer makineleri kontrol etmek için kullanılan bir elektronik makine.\n",
    "\n",
    "Son olarak Oxford Sözlüğünün tanımı ise aşağıdaki gibi:\n",
    "\n",
    "> Bilgiyi (veriyi) belirli bir şekilde alarak önceden belirlenmiş fakat değişebilir bir dizi işlemden (program) geçiren ve bunun sonucunda da bilgi veya sinyal üretebilen elektronik alet.\n",
    "\n",
    "Basitçe özetleyecek olursak bilgisayarlar, verileri okuyabilen, bunlar üzerinde önceden tanımlanmış işlemleri gerçekleştiren ve sonucunda da istenen bir çıktıyı üreten aletlerdir diyebiliriz. Burada, veri sayısal bir tablo olabileceği gibi, bir komut, fotoğraf, video, sıcaklık gibi çok farklı girdiler olabilir. Bu girdileri kullanıp işlemeye yarayan, bir başka deyişle bilgisayara ne yapması gerektiğini söyleyen talimatlar dizisine ise program deniyor. Bilgisayar bu talimatları takip ederek istenen çıktıyı üretir. Bilgisayarların istenen görevi yerine getirmesi için kullandığımız dile ise program ya da programlama dili diyoruz. Bu açıdan baktığımızda basit bir hesap makinesi de aslında bir bilgisayardır. Hesap makinesine iki veya daha fazla sayıyı girip bu sayılarla hangi işlemi yapması gerektiğini söyleriz. Bir mikro dalga fırınına yiyeceği koyup 30 dakikaya kurduğumuz zaman, fırın, 30 dakika boyunca çalışıp sonra durması gerektiğini anlar. Bu açıdan bakıldığında, kullandığımız akıllı telefonlar, akıllı saatler, trafik ışıkları özel birer bilgisayardır.\n",
    "\n",
    "Yukarıda yer alan son tanımdaki diğer bir önemli nokta da programın değişebilir olmasıdır. Bir bilgisayar algıladığı, okuduğu verilerle ne yapması gerektiğini programlar ile iletilen talimatlar sayesinde bilir. Aslında bir bilgisayar, kendisine verilen talimatı adım adım izlemekten başka bir şey yapmaz. Bu talimatları, yani programı değiştirdiğimiz zaman bilgisayar farklı adımlar takip edecek ve büyük ihtimalle farklı çıktılar üretecektir. Bu da genel anlamıyla kullandığımız ve anladığımız bilgisayarı, hesap makinesi, mikro dalga fırın ya da trafik ışığı gibi özel bilgisayarlardan ayıran noktadır {cite}`zelle2009`. \n",
    "\n",
    "Günümüzde artık bilgisayarlar, kullandığımız telefonlardan kolumuzdaki saatlere, otomobil, gemi ve uçaklardan, televizyonlara kadar her yerde karşımızdalar. \n",
    "\n",
    "## Bilgisayarların Tarihi\n",
    "\n",
    "Kitabımız bilgisayar tarihi kitabı değil ancak bilgisayarlar ve programcılık ile ilgilenen herkesin bilgisayarın gelişimi konusunda genel de olsa bilgi sahibi olması gerektiğini düşünüyorum. Bizler, zamanımızın neredeyse tümünü bilgisayarlarla geçirdiğimiz için bilgisayarsız bir hayatı düşünemez hale geldik. Buna karşın, bilgisayarlar oldukça uzun bir tarihsel gelişim sürecinden sonra bugünkü hale geldiler. Bu bölümde bilgisayar tarihini çok genel olarak anlatıyoruz. Konuya ilgi duyan okuyucular bu konudaki kaynaklara göz atabilirler {cite}`ceruzzi2003, levy2010, aspray2013, levy2010`.\n",
    "\n",
    "Tarihte bilinen ilk hesap makinesinin, Asya'da icat edilen abaküs olduğu kabul edilir. Basit toplama ve çıkarma işlemleri yapmak için kullanılan abaküs Orta Çağın sonlarına kadar kullanılmıştır. \n",
    "\n",
    "Fransız filozof ve matematikçi Blaise Pascal’ın 1642 yılında icat ettiği ve Pascaline ismini verdiği hesap makinesi, sekiz basamağa kadar toplama işlemi yapılmasında kullanılabiliyordu."
   ]
  },
  {
   "cell_type": "markdown",
   "metadata": {},
   "source": []
  },
  {
   "cell_type": "markdown",
   "metadata": {},
   "source": [
    "\n",
    "\n",
    "```{bibliography}\n",
    "```"
   ]
  },
  {
   "cell_type": "markdown",
   "metadata": {},
   "source": []
  }
 ],
 "metadata": {
  "kernelspec": {
   "display_name": ".venv",
   "language": "python",
   "name": "python3"
  },
  "language_info": {
   "codemirror_mode": {
    "name": "ipython",
    "version": 3
   },
   "file_extension": ".py",
   "mimetype": "text/x-python",
   "name": "python",
   "nbconvert_exporter": "python",
   "pygments_lexer": "ipython3",
   "version": "3.11.4"
  }
 },
 "nbformat": 4,
 "nbformat_minor": 2
}