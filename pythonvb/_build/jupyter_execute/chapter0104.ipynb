{
 "cells": [
  {
   "cell_type": "markdown",
   "metadata": {},
   "source": [
    "# Koşullu İfadeler ve Döngüler\n",
    "\n",
    "## Koşullu İfadeler\n",
    "\n",
    "Bir bilgisayar verilen bir komutu aşağıdaki yöntemlerden birine göre yerine getirir {cite}`malik2011`:\n",
    "\n",
    "- Belirli bir sıraya göre.\n",
    "- Alternatifler arasında seçim yaparak\n",
    "- Aynı işlemi belirli bir şart sağlanana kadar tekrar tekrar gerçekleştirerek\n",
    "\n",
    "Aşağıdaki şekilde bu üç yönteme ilişkin iş akışları verilmiştir. \n",
    "\n",
    "\n",
    "**Sıralı işlem yürütme:**\n",
    "\n",
    "![sirali islem](figures/sirali_islem.png)\n",
    "\n",
    "Bu şekilde bilgisayar programı A noktasından başlar ve verilmiş olan komutları sırasıyla yerine getirir. Son işlemi yerine getirdikten sonra B noktasında programı sonlandırır. \n",
    "\n",
    "**Koşullu işlem yürütme:**\n",
    "\n",
    "![koşullu işlem](figures/kosullu_islem.png)\n",
    "\n",
    "Buradaki iş akışında ise bir koşul ifadesi sınanır. İstenen koşul sağlanıyorsa “İşlem 1”, sağlanmıyorsa “İşlem 2” yerine getirilir ve B noktasında program sonlandırılır. Koşullu ifadeler üç farklı türde olabilir.\n",
    "\n",
    "- İstenen koşul sağlanıyorsa “İşlem 1”i yerine getir. Sağlanmıyorsa hiçbir şey yapmadan çık. Örneğin elimizde bir sınıftaki öğrencilerin not listesi olsun. Sınav notu 85’in üzerinde olan öğrenciler geçti olarak belirtmek isteyelim ve sadece geçen öğrencilerle ilgilenelim.\n",
    "\n",
    "```\n",
    "öğrenci notu > 85 ise:\n",
    " \töğrenci geçti\n",
    "```\n",
    "\n",
    "- İstenen koşul sağlanıyorsa “İşlem1”i yerine getir. Sağlanmıyorsa “İşlem 2”yi yap. Yukarıdaki örneği düşünelim ancak bu defa notu 85’in üzerinde olanları geçti, olmayanları kaldı olarak işaretlemek isteyelim.\n",
    "\n",
    "```\n",
    "öğrenci notu > 85 ise:\n",
    "\töğrenci geçti\n",
    "aksi halde:\n",
    "\töğrenci kaldı\n",
    "```\n",
    "\n",
    "- İstenen 1. koşul sağlanıyorsa “İşlem 1”i yerine getir. Sağlanmıyorsa koşul 2’yi sına.  \n",
    "    * Koşul 2 sağlanıyorsa “İşlem 2”yi yerine getir. Sağlanmıyorsa koşul 3’ü sına. \n",
    "    * Koşul 3 sağlanıyorsa “İşlem 3”ü yerine getir. Sağlanmıyorsa koşul 4’ü sına.\n",
    "\n",
    "Sonuncu türdeki sınama istenen sayıda koşulu test etmeye izin verir. Örneğin, yine sınav notları ile işlem yapmak istiyor olalım ancak 100 üzerinden alınan notları harf notuna çeviren bir program yazıyor olalım. Programın algoritması şu şekilde olacaktır.\n",
    "\n",
    "```\n",
    "öğrenci notu > 85 ise:\n",
    "\tnot A\n",
    "aksi halde öğrenci notu > 70 ise:\n",
    "\tnot B\n",
    "aksi halde öğrenci notu > 60 ise:\n",
    "\tnot C\n",
    "aksi halde öğrenci notu > 50 ise:\n",
    "\tnot D\n",
    "aksi halde:\n",
    "\tnot E\n",
    "```\n",
    "\n",
    "**Tekrarlayan (döngüsel) işlem yürütme:**\n",
    "\n",
    "![koşullu işlem](figures/dongusel_islem.png)\n",
    "\n",
    "Buradaki akış ise döngü olarak isimlendirilir.  Bu iş akışında program istenen bir şart sağlanana (ya da sağlanmayana) kadar verilen işlemi yapmaya devam eder. Döngülere izleyen bölümde ayrıntılı olarak yer vereceğiz. \n",
    "\n",
    "Bir defada birden fazla koşulun hepsinin, birinin ya da bazılarının sağlanıp sağlanmadığı da test edilmek istenebilir. Bu da VE ile VEYA kullanılarak yapılır. Örneğin, bir sayı dizisindeki 50’den büyük çift sayıları bulmak istiyorsak (x çift VE  x > 50) şartını yazabiliriz. Her defasında eldeki sayının verilen iki şartı da yerine getirip getirmediği test edilir. Diğer bir örnek olarak da sayı dizisindeki tek veya üçe bölünebilen sayıları bulmak istiyor olalım. Bunun için de (x tek VEYA x üçün katı) koşulunu yazarız. Koşulun doğrulanması için eldeki sayının iki şarttan birini yerine getirmesi yeterli olacaktır. \n",
    "\n",
    "Koşullu ifadelerde doğruluğu sınanan koşullar sonucu doğru ya da yanlış (True, False) olan mantıksal ifadelerdir. Mantıksal sınamalara örnek olarak iki sayının eşit olması ya da bir sayının diğerinden küçük, büyük, küçük eşit ya da büyük eşit olmasını verebiliriz. Python’da kullanılan mantıksal sınamalara ilişkin operatörler aşağıdaki gibidir. \n",
    "\n",
    "\n",
    "|Operatör  | Anlamı               |\n",
    "|:--------:|:---------------------|\n",
    "|  ==      | Eşit mi?             |\n",
    "|  !=      | Farklı mı?           |\n",
    "|  <       | Küçük mü?            |\n",
    "|  <=      | Küçük ya da eşit mi? |\n",
    "|  >       | Büyük mü?            |\n",
    "|  >=      | Büyük ya da eşit mi? |\n",
    "\n",
    "Python’da mantıksal sınama operatörlerini kullanımına ilişkin aşağıdaki örnekleri inceleyin. Kendiniz de farklı koşullar yazıp sonucuna bakabilirsiniz. "
   ]
  },
  {
   "cell_type": "code",
   "execution_count": 1,
   "metadata": {},
   "outputs": [
    {
     "data": {
      "text/plain": [
       "True"
      ]
     },
     "execution_count": 1,
     "metadata": {},
     "output_type": "execute_result"
    }
   ],
   "source": [
    "5 == 5\t\t# 5, 5’e eşit mi?"
   ]
  },
  {
   "cell_type": "code",
   "execution_count": 2,
   "metadata": {},
   "outputs": [
    {
     "data": {
      "text/plain": [
       "False"
      ]
     },
     "execution_count": 2,
     "metadata": {},
     "output_type": "execute_result"
    }
   ],
   "source": [
    "6 == 5\t\t# 6, 5’e eşit mi?"
   ]
  },
  {
   "cell_type": "code",
   "execution_count": 3,
   "metadata": {},
   "outputs": [
    {
     "data": {
      "text/plain": [
       "True"
      ]
     },
     "execution_count": 3,
     "metadata": {},
     "output_type": "execute_result"
    }
   ],
   "source": [
    "6 != 5\t\t# 6, 5’ten farklı mı?"
   ]
  },
  {
   "cell_type": "code",
   "execution_count": 4,
   "metadata": {},
   "outputs": [
    {
     "data": {
      "text/plain": [
       "True"
      ]
     },
     "execution_count": 4,
     "metadata": {},
     "output_type": "execute_result"
    }
   ],
   "source": [
    "4 < 7\t\t# 4, 7’den küçük mü?"
   ]
  },
  {
   "cell_type": "code",
   "execution_count": 5,
   "metadata": {},
   "outputs": [
    {
     "data": {
      "text/plain": [
       "True"
      ]
     },
     "execution_count": 5,
     "metadata": {},
     "output_type": "execute_result"
    }
   ],
   "source": [
    "2.78 <= 3.14 \t# 2.78, 3.14’ten küçük ya da ona eşit mi?"
   ]
  },
  {
   "cell_type": "markdown",
   "metadata": {},
   "source": [
    "Birden fazla mantıksal sınamayı bir arada test etmek için “ve” (AND) ile “veya” (OR) operatörlerini kullanmamız gerektiğini belirtmiştik. Python’da “ve” için “&”, “veya” içinse ( | ) operatörleri kullanılır. Bu operatörlerin sonucu aşağıdaki gibidir.\n",
    "\n",
    "|  x   |  y   | x & y | x \\| y  |\n",
    "|:----:|:----:|:-----:|:-------:|\n",
    "| True | True |  True |  True   |\n",
    "| True | False|  False|  True   |\n",
    "| False| True |  False|  True   |\n",
    "| False| False|  False|  False  | "
   ]
  },
  {
   "cell_type": "code",
   "execution_count": 6,
   "metadata": {},
   "outputs": [
    {
     "data": {
      "text/plain": [
       "False"
      ]
     },
     "execution_count": 6,
     "metadata": {},
     "output_type": "execute_result"
    }
   ],
   "source": [
    "True & False"
   ]
  },
  {
   "cell_type": "code",
   "execution_count": 7,
   "metadata": {},
   "outputs": [
    {
     "data": {
      "text/plain": [
       "True"
      ]
     },
     "execution_count": 7,
     "metadata": {},
     "output_type": "execute_result"
    }
   ],
   "source": [
    "True & True"
   ]
  },
  {
   "cell_type": "code",
   "execution_count": 8,
   "metadata": {},
   "outputs": [
    {
     "data": {
      "text/plain": [
       "True"
      ]
     },
     "execution_count": 8,
     "metadata": {},
     "output_type": "execute_result"
    }
   ],
   "source": [
    "(6 > 4) & (5 < 10)    # 6, 4’ten büyük VE 5, 10’dan küçük mü?"
   ]
  },
  {
   "cell_type": "code",
   "execution_count": 9,
   "metadata": {},
   "outputs": [
    {
     "data": {
      "text/plain": [
       "True"
      ]
     },
     "execution_count": 9,
     "metadata": {},
     "output_type": "execute_result"
    }
   ],
   "source": [
    "(5 == 4) | (3 != 4)    # 5, 4’e eşit veya 3, 4’ten farklı mı?"
   ]
  },
  {
   "cell_type": "code",
   "execution_count": 10,
   "metadata": {},
   "outputs": [
    {
     "data": {
      "text/plain": [
       "True"
      ]
     },
     "execution_count": 10,
     "metadata": {},
     "output_type": "execute_result"
    }
   ],
   "source": [
    "x = 45\n",
    "(x>50) | (x%3==0)    # 50’den büyük veya üçe tam bölünebilir mi?"
   ]
  },
  {
   "cell_type": "markdown",
   "metadata": {},
   "source": [
    "Artık, Python’da koşullu ifadelerin yazılışına geçebiliriz. Tüm yüksek seviye programlama dillerinde olduğu gibi Python’da da koşullu ifadeler “if…else” ifadeleri ile yazılır. Python’da if…else ifadesinin yazım şekli aşağıdaki gibidir:\n",
    "\n",
    "```\n",
    "if koşul:\n",
    "    gerçekleştirilecek işlem\n",
    "```\n",
    "\n",
    "  Öncelikle ifade `if` ile başlamalıdır. Sonrasında test edilmek istenen koşul yazılı ve satır sonunda `:` konulur. Bir alt satırda daha önce aktardığımız üzere içeriden başlanmalıdır. Birçok Python editörü bunu zaten otomatik olarak yapar. "
   ]
  },
  {
   "cell_type": "code",
   "execution_count": 11,
   "metadata": {},
   "outputs": [
    {
     "name": "stdout",
     "output_type": "stream",
     "text": [
      "Koşul sağlanıyor!\n"
     ]
    }
   ],
   "source": [
    "if 5 > 4:\n",
    "    print(\"Koşul sağlanıyor!\")"
   ]
  },
  {
   "cell_type": "code",
   "execution_count": 12,
   "metadata": {},
   "outputs": [],
   "source": [
    "if 7 == 8:\n",
    "    print(\"Koşul sağlanıyor!\")"
   ]
  },
  {
   "cell_type": "code",
   "execution_count": 13,
   "metadata": {},
   "outputs": [
    {
     "name": "stdout",
     "output_type": "stream",
     "text": [
      "Öğrenci geçti!\n"
     ]
    }
   ],
   "source": [
    "puan = 90\n",
    "if puan > 85:\n",
    "    print(\"Öğrenci geçti!\")"
   ]
  },
  {
   "cell_type": "markdown",
   "metadata": {},
   "source": [
    "İlk örnekte sınanan şart doğru olduğu için alt program alt satırdaki işlemi gerçekleştiriyor. İkinci örnekte ise 7, 8’e eşit olmadığı yani sınanan şart doğru olmadığı için program bir alt satırı atlayarak hiçbir şey yapmıyor. Son örnekte puan değeri 85’ten büyük olduğu için istenilen işlem gerçekleştiriliyor.  \n",
    "\n",
    "Python’da 0 ve None dışında tüm değişkenlerin bool karşılığının True olduğunu belirtmiştik. Bu nedenle if satırına mantıksal sınama yerine sayısal bir değer ya da metin de girilebilir. Ancak bu tür kullanımla çok sık karşılaşılmaz."
   ]
  },
  {
   "cell_type": "code",
   "execution_count": 14,
   "metadata": {},
   "outputs": [
    {
     "name": "stdout",
     "output_type": "stream",
     "text": [
      "Bir değer girildi!\n"
     ]
    }
   ],
   "source": [
    "if 100:\n",
    "    print(\"Bir değer girildi!\")"
   ]
  },
  {
   "cell_type": "code",
   "execution_count": 15,
   "metadata": {},
   "outputs": [],
   "source": [
    "if 0:\n",
    "    print(\"Bir değer girildi!\")"
   ]
  },
  {
   "cell_type": "code",
   "execution_count": 16,
   "metadata": {},
   "outputs": [
    {
     "name": "stdout",
     "output_type": "stream",
     "text": [
      "Bir değer girildi!\n"
     ]
    }
   ],
   "source": [
    "if \"metin\":\n",
    "    print(\"Bir değer girildi!\")"
   ]
  },
  {
   "cell_type": "markdown",
   "metadata": {},
   "source": [
    "İlk ve son örnekte, “if”ten sonraki değerin bool karşılığı True olduğundan alt satırdaki işlem gerçekleştirilir. İkinci örnekte ise 0’ın bool değeri False olduğu için alt satırdaki işlem atlanır. \n",
    "Şimdi de `if...else` kullanımına ilişkin bir örnek görelim. \n"
   ]
  },
  {
   "cell_type": "code",
   "execution_count": 17,
   "metadata": {},
   "outputs": [
    {
     "name": "stdout",
     "output_type": "stream",
     "text": [
      "Öğrenci kaldı!\n"
     ]
    }
   ],
   "source": [
    "puan = 70\n",
    "\n",
    "if puan > 85:\n",
    "    print(\"Öğrenci geçti!\")\n",
    "else:\n",
    "    print(\"Öğrenci kaldı!\")"
   ]
  },
  {
   "cell_type": "markdown",
   "metadata": {},
   "source": [
    "İlk satırda istenen şart sağlanmadığı için buradaki işlem atlanıyor. Else ifadesi, istenen koşulun sağlanmaması halinde yapılması istenen işlemi veriyor. Öğrencinin notu 85’in altında olduğu için istenen koşul sağlanamıyor ve else ile belirtilen işlem gerçekleştiriliyor.\n",
    "\n",
    "Şimdi de üçüncü tip if…else ifadelerine geçelim. Yukarıdaki iki örnekte sadece bir koşula bakılıyor ve bu koşulun doğruluğuna göre işlem yapılıyor. Sınanmak istenen koşul sayısı iki veya daha fazla da olabilir. "
   ]
  },
  {
   "cell_type": "code",
   "execution_count": 18,
   "metadata": {},
   "outputs": [
    {
     "name": "stdout",
     "output_type": "stream",
     "text": [
      "C\n"
     ]
    }
   ],
   "source": [
    "puan = 65\n",
    "if puan > 85:\n",
    "     karne_notu = \"A\"\n",
    "else:\n",
    "    if puan > 70:\n",
    "        karne_notu = \"B\"\n",
    "    else:\n",
    "        if puan > 60:\n",
    "            karne_notu = \"C\"\n",
    "        else:\n",
    "            if puan > 50:\n",
    "                karne_notu = \"D\"\n",
    "            else:\n",
    "                karne_notu = \"F\"\n",
    "\n",
    "print(karne_notu)"
   ]
  },
  {
   "cell_type": "markdown",
   "metadata": {},
   "source": [
    "Yukarıdaki kodu incelediğimizde iç içe geçmiş if…else ifadeleri olduğunu görüyoruz. Önce puan’ın 85’ten yüksek olup olmadığını sınayan bir if…else ifadesi var. Bu sınama yanlışsa puanın 70’ten büyük olup olmadığını kontrol eden ikinci bir if…else ifadesi geliyor ve bu şekilde devam ediyor. Her if…else ifadesinin bir önceki “else:” satırına göre daha içeriden başladığına dikkat edin. \n",
    "\n",
    "Yukarıda görülen yazım şekli yanlış olmamakla birlikte çok fazla koşulun test edildiği bir kodda içeri doğru girintileri çok artıracak ve kod yazma ve okumayı zorlaştıracaktır. Bu nedenle Python’da else: if ifadesi yerine `elif` anahtar kelimesi geliştirilmiştir. Şimdi yukarıdaki kodu elif anahtar kelimesini kullanarak nasıl yazdığımızı inceleyelim. Görüldüğü gibi kod bu şekilde daha derli toplu ve okunabilir hale geliyor. "
   ]
  },
  {
   "cell_type": "code",
   "execution_count": 19,
   "metadata": {},
   "outputs": [
    {
     "name": "stdout",
     "output_type": "stream",
     "text": [
      "C\n"
     ]
    }
   ],
   "source": [
    "puan = 65\n",
    "\n",
    "if puan > 85:\n",
    "    karne_notu = \"A\"\n",
    "elif puan > 70:\n",
    "    karne_notu = \"B\"\n",
    "elif puan > 60:\n",
    "    karne_notu = \"C\"\n",
    "elif puan > 50:\n",
    "    karne_notu = \"D\"\n",
    "else:\n",
    "    karne_notu = \"F\"\n",
    "\n",
    "print(karne_notu)"
   ]
  },
  {
   "cell_type": "markdown",
   "metadata": {},
   "source": [
    "## Döngüler\n",
    "\n",
    "Önceki bölümde döngülerden kısaca bahsetmiştik. Döngüler, belirli bir şart sağlanana ya da sağlanmayana kadar tekrar edilen işlemlerdir. Python’da kullanılan iki tür döngü vardır: “while” ve “for” döngüleri. \n",
    "\n",
    "### While Döngüsü\n",
    "\n",
    "While döngüsünün yapısı aşağıdaki gibidir. \n",
    "\n",
    "```\n",
    "while koşul:\n",
    "    gerçekleştirilecek işlem\n",
    "```\n",
    "\n",
    "Örneğin 1’den 9’a kadar sayıları yazdıran bir program yazalım. "
   ]
  },
  {
   "cell_type": "code",
   "execution_count": 20,
   "metadata": {},
   "outputs": [
    {
     "name": "stdout",
     "output_type": "stream",
     "text": [
      "1\n",
      "2\n",
      "3\n",
      "4\n",
      "5\n",
      "6\n",
      "7\n",
      "8\n",
      "9\n"
     ]
    }
   ],
   "source": [
    "x = 1\n",
    "\n",
    "while x < 10:\n",
    "    print(x)\n",
    "    x = x + 1"
   ]
  },
  {
   "cell_type": "markdown",
   "metadata": {},
   "source": [
    "Önce x değişkenini 1’e eşitliyoruz. Daha sonra x’in değeri 10’dan küçük olduğu sürece x’in yazdırılması komutunu veriyoruz. \n",
    "\n",
    "Döngü yazarken dikkat edilmesi gereken en önemli nokta, işlemin her gerçekleşmesinden sonra sınanacak verinin güncellendiğinden emin olmaktır. Bu nokta ihmal edilirse sınanan koşul her zaman doğru olacağı için program sonsuz döngüye girecektir. Yukarıdaki örnekte, x = x + 1 satırını yazmamış olsaydık x’in değeri hep 1’de kalacağı için (x < 10) şartı her zaman geçerli olacak ve program sonsuza (ya da durdurulana) kadar ekrana x’in değerini yani 1’i yazacaktı. Terminal ekranında sonsuz döngüye girerseniz Ctrl + C kısayolu ile döngüden çıkabilirsiniz. \n",
    "\n",
    "Yukarıdaki kodda görülen x = x + 1 ifadesi daha kısa bir şekilde x += 1 olarak da yazılabilir. Bu ifade x = x + 1 ile aynı anlama gelir. Python’da kullanılan bu tür ifadelere aşağıda yer verilmiştir. \n",
    "\n",
    "| Operatör | Kullanımı | Açıklama  |\n",
    "|:--------:|:---------:|:---------:|\n",
    "|  +=      |  x += c   | x = x + c |\n",
    "|  -=      |  x -= c   | x = x - c |\n",
    "|  *=      |  x *= c   | x = x * c |\n",
    "|  /=      |  x /= c   | x = x / c |\n",
    "|  **=     |  x **= c  | x = x ** c|\n",
    "|  %=      |  x %= c   | x = x % c |\n",
    "\n",
    "Döngü sırasında herhangi bir koşulun sağlanması durumunda döngünün durdurulmasını isteyebiliriz. Bu durumda “break” anahtar kelimesini kullanmamız gerekir. Aşağıdaki örnekte, while döngüsü, koşul1 sağlandığı sürece devam eder. Ancak, koşul1’in sağlandığı sırada, koşul2 de doğru olursa while döngüsü sona erecektir. \n",
    "\n",
    "```\n",
    ">>> while koşul1:\n",
    "…        if koşul2:\n",
    "…             break\n",
    "…        işlem1\n",
    "```\n",
    "\n",
    "Aşağıdaki örnekte, kullanıcıdan bir sayı girmesi isteniyor. Ancak girilen sayının sıfır olması durumunda while döngüsü sonlandırılıyor.  \n"
   ]
  },
  {
   "cell_type": "markdown",
   "metadata": {},
   "source": [
    "```Python\n",
    "while True:\n",
    "    cevap = input(\"Bir sayi girin (Cikmak için 0 girin): \")\n",
    "    print (\"Girdiğiniz sayi: \" + cevap)\n",
    "    if int (cevap) == 0:\n",
    "        break\n",
    "```"
   ]
  },
  {
   "cell_type": "markdown",
   "metadata": {},
   "source": [
    "### For Döngüsü\n",
    "\n",
    "Bir işlemi belirli bir sayıda ya da bir dizi boyunca yapmak için for döngüsü kullanılır. Örneğin, bir listedeki bütün elemanları karesini alacak bir program yazmak isteyelim. Bunun için izlenecek yol aşağıdaki gibidir. \n",
    "\n",
    "```\n",
    "x, 1 ile listenin eleman sayısı arasında olmak üzere:\n",
    "\tlistenin x. elemanının karesini al\n",
    "```\n",
    "\n",
    "Bu işlemde x, 1’den başlar. Listenin 1. elemanının karesi alınır. Sonra, x’in değeri 1 artırılır. Listenin 2. elemanının karesi alınır. İşlem, x’in listenin eleman sayısına eşit olmasından sonra biter. \n",
    "\n",
    "For döngülerinin mantığı bu şekildedir. For döngüsünde bir değişken, bir de değişkenin sırayla izlediği bir dizi vardır. Değişken dizinin ilk elemanından son elemanına kadar bütün elemanları birer birer alır ve bu elemanlara istenilen işlemleri uygular. \n",
    "\n",
    "```\n",
    "for değişken in dizi:\n",
    "\tişlem\n",
    "```\n",
    "\n",
    "Görüldüğü gibi, Python’da birçok konuda olduğu gibi döngüleri kullanmak da son derece basittir. Daha düşük seviyedeki programlama dillerinde for döngüsü aşağıdaki şekilde tanımlanır. \n",
    "\n",
    "```\n",
    "for(int i = 1; i < 10; i = i + 1){\n",
    "\tdöngü içeriği\n",
    "}\n",
    "```\n",
    "\n",
    "Yukarıdaki döngünün ilk satırına baktığımızda üç şartın sağlanmış olması gerektiğini görüyoruz. Önce döngü çalışırken her defasında artırılacak değişken tanımlanmalıdır (int i = 1). Daha sonra döngünün geçerli olduğu aralık verilmelidir (i < 10). Son olarak da döngünün her çalışmasından sonra ilgili değişkenin güncellenmesi gerekmektedir (i = i +1). Python’da ise bu kadar ayrıntıya gerek kalmadan çok basit bir şekilde döngü yazılabilmektedir.   Döngü değişkeninin (i) veri tipini ve her döngüden sonra değişkenin nasıl güncelleneceğini belirtmeye gerek yoktur. \n",
    "\n",
    "Aşağıdaki örnekte 1’den 5’e kadar olan sayıların karelerini yazdırıyoruz. Bunun için kullanılan range() fonksiyonu, ilk sayı ile ikinci sayı arasında, ikinci sayının dahil olmadığı bir sayı dizisi oluşturur. range(1, 5), 1,2,3,4 tamsayı dizisini üretir. Fonksiyonda tek sayı kullanırsak sıfırdan bu sayının bir eksiğine kadar olan sayılar üretilir. \n",
    "\n"
   ]
  },
  {
   "cell_type": "code",
   "execution_count": 21,
   "metadata": {},
   "outputs": [
    {
     "name": "stdout",
     "output_type": "stream",
     "text": [
      "1\n",
      "4\n",
      "9\n",
      "16\n",
      "25\n"
     ]
    }
   ],
   "source": [
    "for i in range(1, 6):\n",
    "    print (i**2)"
   ]
  },
  {
   "cell_type": "markdown",
   "metadata": {},
   "source": [
    "Aşağıdaki örnekte, listede yazan öğrenci isimlerini for döngüsü ile yazdırıyoruz. "
   ]
  },
  {
   "cell_type": "code",
   "execution_count": 22,
   "metadata": {},
   "outputs": [
    {
     "name": "stdout",
     "output_type": "stream",
     "text": [
      "İlhan\n",
      "Ali\n",
      "Mehmet\n",
      "Yağız\n",
      "Baran\n",
      "Özlem\n"
     ]
    }
   ],
   "source": [
    "liste = [\"İlhan\", \"Ali\", \"Mehmet\", \"Yağız\", \"Baran\", \"Özlem\"]\n",
    "\n",
    "for ogrenci in liste:\n",
    "    print (ogrenci)"
   ]
  },
  {
   "cell_type": "markdown",
   "metadata": {},
   "source": [
    "Bir liste üzerinde for döngüsü uygularken liste elemanlarının yanı sıra bunların sıralarına da erişmek isteyebiliriz. Python for döngüleri buna da izin vermektedir. Bunun için enumerate() fonksiyonu kullanılabilir. Bir dizi, liste ya da sözlük gibi sıralı veri yapılarına uygulanabilen enumerate() fonksiyonu uygulandığı dizideki sıra numarası ve bu sıradaki elemanı birlikte verir. Örneğin enumerate fonksiyonunu bir liste üzerinde uygularsak, sonuç `(0, liste[0]), (1, liste[1]), (2, liste[2]),…` olacaktır. \n",
    "\n",
    "Şimdi yukarıdaki listeye enumerate fonksiyonunu ve for döngüsünü birlikte uygulayalım. "
   ]
  },
  {
   "cell_type": "code",
   "execution_count": 23,
   "metadata": {},
   "outputs": [
    {
     "name": "stdout",
     "output_type": "stream",
     "text": [
      "0 : İlhan\n",
      "1 : Ali\n",
      "2 : Mehmet\n",
      "3 : Yağız\n",
      "4 : Baran\n",
      "5 : Özlem\n"
     ]
    }
   ],
   "source": [
    "liste = [\"İlhan\", \"Ali\", \"Mehmet\", \"Yağız\", \"Baran\", \"Özlem\"]\n",
    "\n",
    "for sira, ogrenci in enumerate(liste):\n",
    "    print(str(sira) + \" : \" + str(ogrenci))"
   ]
  },
  {
   "cell_type": "markdown",
   "metadata": {},
   "source": [
    "Sıra numarasının sıfır yerine birden başlaması için döngüde `str(sira)` yerine `str(sira + 1)` yazmak yeterli olacaktır.\n",
    "\n",
    "`enumerate()` fonksiyonunun bir başka kullanım alanı da tuple veri nesneleridir. Bu fonksiyon yardımı ile listelerde olduğu gibi tuple veri nesnelerinde indeks numaralarına ve bu numaralara denk gelen verilere erişmek mümkündür. "
   ]
  },
  {
   "cell_type": "code",
   "execution_count": 24,
   "metadata": {},
   "outputs": [
    {
     "name": "stdout",
     "output_type": "stream",
     "text": [
      "0 Türkiye Ankara\n",
      "1 İtalya Roma\n",
      "2 İspanya Madrid\n",
      "3 Portekiz Lizbon\n",
      "4 Fransa Paris\n"
     ]
    }
   ],
   "source": [
    "ulkeler = ['Türkiye', 'İtalya', 'İspanya', 'Portekiz', 'Fransa']\n",
    "baskentler = ['Ankara', 'Roma', 'Madrid', 'Lizbon', 'Paris']\n",
    "\n",
    "ulke_baskent = zip(ulkeler, baskentler)\n",
    "\n",
    "for sira, veri in enumerate(ulke_baskent):\n",
    "    ulke, baskent = veri\n",
    "    print(sira, ulke, baskent)"
   ]
  },
  {
   "cell_type": "markdown",
   "metadata": {},
   "source": [
    "Bazı listelerin yine listelerden meydana gelebildiğini daha önce görmüştük. Örneğin, aşağıdaki örnekte, listeler bölümünde de kullandığımız notlar listesi görülmektedir. Bu listenin her bir elemanı yine bir listedir ve öğrenci adı ile aldığı notu içermektedir. "
   ]
  },
  {
   "cell_type": "code",
   "execution_count": 25,
   "metadata": {},
   "outputs": [
    {
     "name": "stdout",
     "output_type": "stream",
     "text": [
      "Eren: 100\n",
      "Ilhan: 99\n",
      "Ali: 98\n",
      "Erman: 97\n",
      "Mehmet: 96\n"
     ]
    }
   ],
   "source": [
    "notlar = [['Eren',100],\n",
    "              ['Ilhan',99],\n",
    "              ['Ali',98],\n",
    "              ['Erman',97],\n",
    "              ['Mehmet',96]]\n",
    "\n",
    "for i in notlar:\n",
    "    print(str(i[0]) + \": \" + str(i[1]))"
   ]
  },
  {
   "cell_type": "markdown",
   "metadata": {},
   "source": [
    "Döngüdeki i notlar listesini elemanlarını göstermektedir. Bu durumda her alt listedeki ismi `i[0]`, notu da `i[1]` ile gösterebiliriz. Bu örnekte, alt listelerin eleman sayısını biliyorduk. Peki, alt listelerin her biri farklı sayıda elemandan oluşuyorsa bu durumda ne yapabiliriz?"
   ]
  },
  {
   "cell_type": "code",
   "execution_count": 26,
   "metadata": {},
   "outputs": [
    {
     "name": "stdout",
     "output_type": "stream",
     "text": [
      "Sınıf:1\n",
      "   1 : İlhan\n",
      "   2 : Ali\n",
      "Sınıf:2\n",
      "   1 : Yağız\n",
      "   2 : Baran\n",
      "   3 : Tuğçe\n",
      "   4 : Mehmet\n",
      "Sınıf:3\n",
      "   1 : Selin\n",
      "   2 : Umut\n",
      "   3 : Lara\n",
      "   4 : Ayten\n",
      "   5 : Murat\n"
     ]
    }
   ],
   "source": [
    "siniflar = [[\"İlhan\", \"Ali\"],\n",
    "             [\"Yağız\", \"Baran\", \"Tuğçe\", \"Mehmet\"],\n",
    "             [\"Selin\", \"Umut\", \"Lara\", \"Ayten\", \"Murat\"]]\n",
    "\n",
    "for sinif, i in enumerate(siniflar):\n",
    "    print(\"Sınıf\" + \":\" + str(sinif+1))\n",
    "    for sira, ogrenci in enumerate(i):\n",
    "        print(\"   \" + str(str(sira+1) + \" : \" + str(ogrenci)))"
   ]
  },
  {
   "cell_type": "markdown",
   "metadata": {},
   "source": [
    "Şimdi de öğrenci ismi ve notlardan oluşan bir sözlük (dict) veri yapısından anahtar ve değerleri yazdıralım. "
   ]
  },
  {
   "cell_type": "code",
   "execution_count": 27,
   "metadata": {},
   "outputs": [
    {
     "name": "stdout",
     "output_type": "stream",
     "text": [
      "İlhan 75\n",
      "Ali 98\n",
      "Mehmet 83\n",
      "Yağız 99\n",
      "Baran 68\n",
      "Özlem 89\n",
      "Ayten 74\n"
     ]
    }
   ],
   "source": [
    "not_listesi = {'İlhan': 75, 'Ali': 98,\n",
    "               'Mehmet': 83, 'Yağız': 99, \n",
    "               'Baran': 68, 'Özlem': 89, \n",
    "               'Ayten': 74}\n",
    "\n",
    "for ogrenci in not_listesi:\n",
    "    print (ogrenci, not_listesi[ogrenci])"
   ]
  },
  {
   "cell_type": "markdown",
   "metadata": {},
   "source": [
    "Sözlük veri yapısında for döngüsü uygulamanın bir başka yolu da döngüyü `dict.items()` üzerinde uygulamaktır. Aşağıdaki kod da yukarıdaki örnekle aynı sonucu verecektir. \n",
    "\n",
    "`\n",
    "for anahtar, deger in not_listesi.items():\n",
    "    print(anahtar + \" : \" + str(deger))\n",
    "`\n",
    "\n",
    "Yukarıdaki döngüyü not_listesi sözlük yapısı üzerinde uygulamaya kalkarsanız bir hata mesajı ile karşılaşırsınız. Ancak bunun yerine `not_listesi.items()` üzerinde uyguladığınızda anahtar (key) ve değere (value) ayrı ayrı erişebilirsiniz. \n",
    "\n",
    "Şimdi önceki bölümde gördüğümüz liste, tuple ve sözlük veri yapılarını kullanarak biraz daha ileri seviye bir örnek üzerinden ilerleyelim. Çoğu zaman bir veri yapısı oluşturduğumuzda, içerdiği veri sayısını biliriz. Ancak zaman zaman programın başında oluşturduğumuz liste veya sözlükteki değerlerin sayısına ilişkin bir bilgimiz bulunmayabilir. Örneğin, farklı dokümanlardaki kelimeleri ve her kelimenin sayısını okuyacak bir metin analizi programı üzerinde çalışıyorsanız oluşturacağınız liste ya da sözlüğün uzunluğu hakkında en başta fikir yürütmeniz mümkün değildir. \n",
    "\n",
    "Bu durumda nasıl bir kod yazacağımız göstermek için aşağıdaki örneği inceleyelim. Elimizde, bir listede her bir öğrencinin sınıfı, adı ve numarası tuple verisi olarak yer alıyor. Fazla yer kapsamaması için listeyi kısa tuttum. Bizden istenen bu listedeki verileri alıp her sınıftaki öğrencileri ayrıştırmamız. Bunun için anahtarların sınıf, değerlerin ise öğrenci listesi olduğu biz sözlük oluşturabiliriz. Ancak işimiz burada da bitmiyor. Öğrenci listesinin elemanları da öğrenci adı ve numarasından oluşan tuple verileri olacak. "
   ]
  },
  {
   "cell_type": "code",
   "execution_count": 28,
   "metadata": {},
   "outputs": [
    {
     "name": "stdout",
     "output_type": "stream",
     "text": [
      "{'A': [('Ali', '0001'), ('Can', '0002'), ('Eren', '0003')], 'B': [('Ayşe', '0004'), ('İlhan', '0005'), ('Baran', '0006')], 'C': [('Mehmet', '0007'), ('Yağız', '0008'), ('Özlem', '0009')]}\n"
     ]
    }
   ],
   "source": [
    "# Öğrenci listesi\n",
    "ogrenciler = [('A', 'Ali', '0001'),\n",
    "              ('A', 'Can', '0002'),\n",
    "              ('A', 'Eren', '0003'),\n",
    "              ('B', 'Ayşe', '0004'),\n",
    "              ('B', 'İlhan', '0005'),\n",
    "              ('B', 'Baran', '0006'),\n",
    "              ('C', 'Mehmet', '0007'),\n",
    "              ('C', 'Yağız', '0008'),\n",
    "              ('C', 'Özlem', '0009')]\n",
    "\n",
    "# Boş bir sınıflar sözlüğü oluşuralım.\n",
    "siniflar = {}\n",
    "\n",
    "# Öğrenciler listesini izleyecek bir for döngüsü yazalım.\n",
    "# Listenin elemanı olan tuple verilerini de sinif, ogrenci ve numara olarak ayrıştıralım.\n",
    "for sinif, ogrenci, numara in ogrenciler:\n",
    "    # Sınıflar sözlüğünde bu sınıfa ait bir anahar yoksa yenisini oluştur.\n",
    "    # Bu nahtara karşılık gelen değer boş bir liste olsun.\n",
    "    if sinif not in siniflar:\n",
    "        siniflar[sinif] = []\n",
    "    # öğrenci ve numara verilerini tuple haline getir ve ilgili sınıfın listesine ekle \n",
    "    siniflar[sinif].append((ogrenci, numara))\n",
    "\n",
    "# Sınıfları yazdır\n",
    "print(siniflar)"
   ]
  },
  {
   "cell_type": "markdown",
   "metadata": {},
   "source": [
    "Bu örneği gerçekleştirmenin farklı bir yolu da Python standart kütüphanesinde yer alan `collections` modülündeki `defaultdict` yapısını kullanmaktır. `defaultdict` yapısı ile yazdığımız kod biraz daha kısalacaktır. "
   ]
  },
  {
   "cell_type": "code",
   "execution_count": 29,
   "metadata": {},
   "outputs": [
    {
     "name": "stdout",
     "output_type": "stream",
     "text": [
      "defaultdict(<class 'list'>, {'A': [('Ali', '0001'), ('Can', '0002'), ('Eren', '0003')], 'B': [('Ayşe', '0004'), ('İlhan', '0005'), ('Baran', '0006')], 'C': [('Mehmet', '0007'), ('Yağız', '0008'), ('Özlem', '0009')]})\n"
     ]
    }
   ],
   "source": [
    "# collections modülünden defaultdict yapısını aktaralım\n",
    "from collections import defaultdict\n",
    "\n",
    "# Yine bir siniflar sözlüğü oluşturuyoruz ama bu defa defaultdict yapısında olduğunu ve değerlerin liste olduğunu belirtiyoruz.\n",
    "siniflar = defaultdict(list)\n",
    "\n",
    "# anahtarın yani sınıfın sözlükte olup olmadığını kontrol etmemize gerek olmadan öğrenci, numara ikilisini ilgili anahtarı kullanarak sözlüğe ekleyebiliyoruz. \n",
    "for sinif, ogrenci, numara in ogrenciler:\n",
    "    siniflar[sinif].append((ogrenci, numara))\n",
    "\n",
    "print(siniflar)"
   ]
  },
  {
   "cell_type": "markdown",
   "metadata": {},
   "source": [
    "Tüm programlama dillerinde olduğu gibi Python’da da for döngüleri oldukça önemlidir. Ancak, bu noktada bir uyarı yapmamız gerekiyor. Özellikle daha önce farklı programlama dillerini kullanmış olanlar, yazdıkları programlarda for döngüsü kullanmaya daha fazla yatkın olabilir. Ancak, yazdığınız bir programda for (veya while) döngüsü kullanmak başvuracağınız en son yöntem olmalıdır. Öncesinde, Python’da for döngüsü yerine kullanabileeğiniz bir metod ya da fonksiyon olup olmadığını araştırmanız önerilir. \n",
    "\n",
    "Python, vektörel bir programlama dilidir . Bunun anlamını aşağıdaki örneklerle ifade edelim.\n",
    "\n",
    "```\n",
    "[3,4,5,6,7] + [10,9,8,7,6] = [3+10, 4+9, 5+8, 6+7, 7+6]\n",
    "\n",
    "[3,4,5,6,7] + 2 = [3+3, 4+3, 5+3, 6+3, 7+3]\n",
    "```"
   ]
  },
  {
   "cell_type": "markdown",
   "metadata": {},
   "source": [
    "Gördüğünüz gibi Python’da dizilere uygulanan işlemler o dizinin elemanlarına tek tek uygulanır.  İlk örnekte, 5 elemanlı iki listeyi topladığımızda, her iki listenin aynı sıradaki elemanları toplanır. İkinci örnekte ise bir liste ile skaler değeri topluyoruz. Burada da Python, skaler değeri listedeki her elemanla tek tek topluyor. Çok basit gibi görünen bu örnek bize yazdığımız programlarda çok fazla zaman kazandırabilir. "
   ]
  },
  {
   "cell_type": "code",
   "execution_count": 30,
   "metadata": {},
   "outputs": [
    {
     "name": "stdout",
     "output_type": "stream",
     "text": [
      "For döngüsü: 214.45631980895996 ms\n"
     ]
    }
   ],
   "source": [
    "import numpy as np\n",
    "import time\n",
    "\n",
    "x = np.random.rand(1000000)\n",
    "y = np.random.rand(1000000)\n",
    "\n",
    "z = 0\n",
    "tic = time.time()\n",
    "for i in range(1000000):\n",
    "    z += x[i] * y[i]\n",
    "toc = time.time()\n",
    "\n",
    "print('For döngüsü: ' + str(1000*(toc-tic)) + ' ms')"
   ]
  },
  {
   "cell_type": "code",
   "execution_count": 31,
   "metadata": {},
   "outputs": [
    {
     "name": "stdout",
     "output_type": "stream",
     "text": [
      "Vektörel çözüm: 10.267972946166992 ms\n"
     ]
    }
   ],
   "source": [
    "tic = time.time()\n",
    "z = np.dot(x,y)\n",
    "toc = time.time()\n",
    "\n",
    "print('Vektörel çözüm: ' + str(1000*(toc-tic)) + ' ms')"
   ]
  },
  {
   "cell_type": "markdown",
   "metadata": {},
   "source": [
    "Yukarıdaki örnekte 1 milyon sayıdan oluşan iki dizinin vektör çarpımlarını önce for döngüsü kullanarak sonra da Python numpy modülündeki `np.dot()` metodunu kullanarak hesaplıyoruz. İlk yöntemde işlem 583 ms sürerken ikincisinde sadece1 ms sürdü. `Numpy` modülünü ve ilerleyen bölümlerde göreceğiz bu nedenle kodun bı kısmını anlamadıysanız endişe etmeyin. Burada, önemli olan Python’a özgü metodların döngülere göre ne kadar hızlı olabileceğini görmektir. "
   ]
  },
  {
   "cell_type": "markdown",
   "metadata": {},
   "source": [
    "## Yineleyiciler (Iterators)\n",
    "\n",
    "Python’da döngülerden, özellikle de for döngülerinden bahsetmişken açıklamamız gereken bir başka konu Python’da yer alan yineleyici  yapısıdır. Şimdiye kadar metin, sözlük, liste, tuple gibi sıralı elemanlardan oluşan çok farklı dizilerle karşılaştık. Çalışmalarımızda kullanacağımız özellikle for döngülerinin çoğu böyle bir diziyi alıp bunun elemanlarına aynı işlemi uygulamaktan ibaret olacaktır. Önceki bölümde yer alan örneklere tekrar bakarsanız, yazdığımız for döngülerinin bir listenin ya da farklı bir dizinin elemanlarını sırayla ve tek tek alıp bunlara yazdırma ya da karelerini alma gibi işlemler uyguladığımızı görürsünüz. Örnekleri daha da artırabiliriz, bir listedeki bütün isimleri büyük harfle yazdırmak, bir dosyada yer alan belirli şartı sağlayan kayıtları seçmek, bir dizide yer alan sayıların toplamını bulmak gibi. Bu dizilerin özellikleri her elemanın bir sıra numarasına sahip olmalarıdır. \n",
    "\n",
    "Sıralı elemanlardan oluşan ve elemanlarına yukarıda tanımladığımız şekilde sırayla ve birer birer işlem uygulanabilen diziler yinelenen **(iterable)** yapılar olarak isimlendirilir. Bir liste, sözlük ya da tuple gibi yinelenen nesne üzerinde for döngüsü uyguladığımızda bu nesne üzerinde yinelenen bir işlem gerçekleştirmiş oluyoruz. Bu nesneler üzerinde yinelenebilen işlemler yapabilmemizin nedeni bunların yinelenen nesne özelliğine sahip olmalarıdır. Liste, sözlük veya tuple gibi üzerinde işlem yapılan, örneğin satırları tek tek okunan bir dosya da yinelenen nesnedir. \n",
    "\n",
    "Yinelenen bir dizideki bir elemanı belirten ve istediğimiz işlemleri sırayla gerçekleştirmemize izin veren nesneler ise yineleyici **(iterator)** olarak isimlendirilir. Python’da, bir yinelenen veri yapısını işaret eden yineleyici oluşturmak için **iter()** fonksiyonu kullanılır. Aslında, yinelenen nesneleri üzerlerinde iter() metodu uygulanabilen nesneler olarak da görebiliriz. Aslında, önceki bölümde gördüğümüz for döngüsünün yaptığı da tam olarak budur. Yinelenen bir nesneyi alır, buna ilişkin bir yineleyici oluşturur ve bu yineleyici yardımı ile yinelenen üzerinde istenen işlemi gerçekleştirir. Yineleyici de benzer biçimde üzerinde next() metodu uygulanabilen nesne olarak tanımlanabilir.\n",
    "Buraya kadar çok fazla terim gördük. Bu kadar terim arasında kafamızın karışmış olması normaldir. Şimdi buraya kadar anlattıklarımızı aşağıdaki şekilde özetleyelim. \n",
    "\n",
    "![yineleyiciler](figures/yineleyici.png)\n",
    "\n",
    "Şekilde de görüldüğü gibi yinelenen bir nesne üzerinde `iter()` metodu ile yineleyici oluşturuluyor. Bu yineleyici de `next()` metodunu kullanarak yinelenen nesnedeki elemanlara sırayla ulaşıyor. \n",
    "\n",
    "Aşağıdaki örnekte yinelenen olarak bir kelimelik bir metin nesnesi oluşturalım ve bunun üzerinde `iter()` ve `next()` metodlarını deneyelim. "
   ]
  },
  {
   "cell_type": "code",
   "execution_count": 32,
   "metadata": {},
   "outputs": [
    {
     "data": {
      "text/plain": [
       "'İ'"
      ]
     },
     "execution_count": 32,
     "metadata": {},
     "output_type": "execute_result"
    }
   ],
   "source": [
    "sehir = \"İzmir\"\n",
    "yine = iter(sehir)\n",
    "next(yine)"
   ]
  },
  {
   "cell_type": "code",
   "execution_count": 33,
   "metadata": {},
   "outputs": [
    {
     "data": {
      "text/plain": [
       "'z'"
      ]
     },
     "execution_count": 33,
     "metadata": {},
     "output_type": "execute_result"
    }
   ],
   "source": [
    "next(yine)"
   ]
  },
  {
   "cell_type": "code",
   "execution_count": 34,
   "metadata": {},
   "outputs": [
    {
     "data": {
      "text/plain": [
       "'m'"
      ]
     },
     "execution_count": 34,
     "metadata": {},
     "output_type": "execute_result"
    }
   ],
   "source": [
    "next(yine)"
   ]
  },
  {
   "cell_type": "code",
   "execution_count": 35,
   "metadata": {},
   "outputs": [
    {
     "data": {
      "text/plain": [
       "'i'"
      ]
     },
     "execution_count": 35,
     "metadata": {},
     "output_type": "execute_result"
    }
   ],
   "source": [
    "next(yine)"
   ]
  },
  {
   "cell_type": "code",
   "execution_count": 36,
   "metadata": {},
   "outputs": [
    {
     "data": {
      "text/plain": [
       "'r'"
      ]
     },
     "execution_count": 36,
     "metadata": {},
     "output_type": "execute_result"
    }
   ],
   "source": [
    "next(yine)"
   ]
  },
  {
   "cell_type": "markdown",
   "metadata": {},
   "source": [
    "```Python\n",
    "next(yine)\n",
    "\n",
    "StopIteration:\n",
    "```"
   ]
  },
  {
   "cell_type": "markdown",
   "metadata": {},
   "source": [
    "Oluşturduğumuz metin üzerinde `iter()` fonksiyonunu kullanarak bir yineleyici oluşturuyoruz. Yineleyicinin ismini de yine yaptık. Sonraki adımda, oluşturduğumuz yineleyici üzerinde her `next()` fonksiyonunu kullandığımızda metin nesnesi üzerindeki bir sonraki elemana ulaşıyoruz. Bizim örneğimizde elemanlar harfler ancak bu bir dosyanın satırları, bir listenin elemanları, bir sözlüğün değerleri gibi çok farklı türde veri yapıları olabilir. Örnekteki son adımda, `next()` metodu ile `r` harfine ulaştıktan sonra artık ulaşılabilecek bir eleman kalmıyor. Bu nedenle fonksiyonu tekrar kullandığımızda `StopIteration` hata mesajını alıyoruz. \n",
    "\n",
    "Bir yinelenen nesnedeki tüm elemanlara aynı anda ulaşmak için yineleyicinin önüne * işareti getirerek kullanabiliriz. Yukarıdaki örneğimizde tüm harfleri aynı anda yazdırmayı deneyelim. "
   ]
  },
  {
   "cell_type": "code",
   "execution_count": 37,
   "metadata": {},
   "outputs": [
    {
     "name": "stdout",
     "output_type": "stream",
     "text": [
      "İ z m i r\n"
     ]
    }
   ],
   "source": [
    "sehir = \"İzmir\"\n",
    "yine = iter(sehir)\n",
    "print(*yine)"
   ]
  },
  {
   "cell_type": "markdown",
   "metadata": {},
   "source": [
    "Ancak son işlemden sonra `print(*yine)` komutunu tekrar uygularsak herhangi bir sonuç alamayız. Çünkü artık yineleyici, yinelenin sonuna gelmiş oluyor. \n",
    "\n",
    "Bazen, bir yinelenen nesne yerine belirli sayıda işlemi arka arkaya yapmak gerekebilir. Örneğin, aynı cümleyi 5 defa yazdırmak isteyebilirim. Bu durumda iş yarayabilecek bir fonksiyon `range()` nesnesidir. Kabaca, `range(x)`, 0’dan x-1’e kadar tamsayılardan oluşan bir liste oluşturuyor gibi düşünebiliriz. Esasında, `range()` fonksiyonu gerçekten bir sayı listesi oluşturmaz. Sadece sayı listesini işaret eden bir yineleyicisi olan bir nesne oluşturur. Bu fonksiyonu iki argümanlı olarak da yazdırmak mümkündür. `range(x,y)` yazdığımızda, x ile başlayan ve y-1 ile son bulan ardışık tamsayılara işaret eden bir yineleyici üretilir. "
   ]
  },
  {
   "cell_type": "code",
   "execution_count": 38,
   "metadata": {},
   "outputs": [
    {
     "name": "stdout",
     "output_type": "stream",
     "text": [
      "0\n",
      "1\n",
      "2\n",
      "3\n",
      "4\n"
     ]
    }
   ],
   "source": [
    "for i in range(5):\n",
    "    print(i)"
   ]
  },
  {
   "cell_type": "code",
   "execution_count": 39,
   "metadata": {},
   "outputs": [
    {
     "name": "stdout",
     "output_type": "stream",
     "text": [
      "4\n",
      "5\n",
      "6\n",
      "7\n"
     ]
    }
   ],
   "source": [
    "for i in range(4, 8):\n",
    "    print(i)"
   ]
  },
  {
   "cell_type": "markdown",
   "metadata": {},
   "source": [
    "Oluşturulan bir range nesnesinin içeriğini yazdırmak isterseniz yazdırılan sonuç çok da bilgi verici olmayacaktır. "
   ]
  },
  {
   "cell_type": "code",
   "execution_count": 40,
   "metadata": {},
   "outputs": [
    {
     "name": "stdout",
     "output_type": "stream",
     "text": [
      "range(10, 20)\n"
     ]
    }
   ],
   "source": [
    "sayilar = range(10,20)\n",
    "print(sayilar)"
   ]
  },
  {
   "cell_type": "markdown",
   "metadata": {},
   "source": [
    "Range nesnesinin işaret ettiği sayıları görebilmek için bunları `list()` veya `set()` gibi bir fonksiyonla dizi haline getirmek gerekir. "
   ]
  },
  {
   "cell_type": "code",
   "execution_count": 41,
   "metadata": {},
   "outputs": [
    {
     "name": "stdout",
     "output_type": "stream",
     "text": [
      "[10, 11, 12, 13, 14, 15, 16, 17, 18, 19]\n"
     ]
    }
   ],
   "source": [
    "sayilar = range(10,20)\n",
    "sayi_listesi = list(sayilar)\n",
    "print(sayi_listesi)"
   ]
  },
  {
   "cell_type": "markdown",
   "metadata": {},
   "source": [
    "Aslında, `list()`, `sum()`, `set()` gibi birçok fonksiyon argüman olarak yineleyicileri kullanır. \n",
    "\n",
    "For döngülerini anlatırken `enumerate()` fonksiyonundan bahsetmiştik. Şimdi bu bölümde öğrendiklerimizle birlikte `enumerate()` fonksiyonuna tekrar bakalım. Bu fonksiyon, herhangi bir yinelenen nesneyi argüman olarak alır ve özel bir enumerate nesnesi üretir. Bu nesnenin kendisi de bir yinelenen nesnedir. "
   ]
  },
  {
   "cell_type": "code",
   "execution_count": 42,
   "metadata": {},
   "outputs": [
    {
     "name": "stdout",
     "output_type": "stream",
     "text": [
      "<class 'enumerate'>\n"
     ]
    }
   ],
   "source": [
    "liste = ['A', 'B', 'C', 'D']\n",
    "\n",
    "enum= enumerate(liste)\n",
    "print(type(enum))"
   ]
  },
  {
   "cell_type": "markdown",
   "metadata": {},
   "source": [
    "Bu nesne kullandığımız listedeki (veya bir başka yinelenen nesnedeki) elemanları, bunların indeks numaraları ile birlikte tutar. Bunu görebilmek için yine `list()` fonksiyonunu kullanalım. "
   ]
  },
  {
   "cell_type": "code",
   "execution_count": 43,
   "metadata": {},
   "outputs": [
    {
     "data": {
      "text/plain": [
       "[(0, 'A'), (1, 'B'), (2, 'C'), (3, 'D')]"
      ]
     },
     "execution_count": 43,
     "metadata": {},
     "output_type": "execute_result"
    }
   ],
   "source": [
    "list(enum)"
   ]
  },
  {
   "cell_type": "markdown",
   "metadata": {},
   "source": [
    "Bu yapı sayesinde, for döngülerinde belirttiğimiz gibi bir yinelenen nesnedeki elemanlara bunların sıra numaraları ile birlikte erişmek (örneğin bunları yazdırmak) mümkündür. "
   ]
  },
  {
   "cell_type": "code",
   "execution_count": 44,
   "metadata": {},
   "outputs": [
    {
     "name": "stdout",
     "output_type": "stream",
     "text": [
      "0 A\n",
      "1 B\n",
      "2 C\n",
      "3 D\n"
     ]
    }
   ],
   "source": [
    "liste = ['A', 'B', 'C', 'D']\n",
    "for indeks, deger in enumerate(liste):\n",
    "    print(indeks, deger)"
   ]
  },
  {
   "cell_type": "markdown",
   "metadata": {},
   "source": [
    "Enumerate, fonksiyonuna start argümanı girilerek yinelenen nesnenin istenen sıra numarasından başlanılması sağlanabilir. "
   ]
  },
  {
   "cell_type": "code",
   "execution_count": 45,
   "metadata": {},
   "outputs": [
    {
     "name": "stdout",
     "output_type": "stream",
     "text": [
      "2 A\n",
      "3 B\n",
      "4 C\n",
      "5 D\n"
     ]
    }
   ],
   "source": [
    "for indeks, deger in enumerate(liste, start = 2):\n",
    "    print(indeks, deger)"
   ]
  },
  {
   "cell_type": "markdown",
   "metadata": {},
   "source": [
    "Yineleyiciler konusunda çok bilinen bir başka fonksiyon da `zip()` fonksiyonudur. Zip fonksiyonu, bir veya daha fazla sayıda yinelenen nesneyi argüman olarak alır ve tuple nesnelerinden oluşan bir dizi üretir. Bir zip nesnesinde, n. sıradaki tuple, aldığı bütün argümanların n. sıradaki nesnelerinden oluşan bir tuple nesnesidir. Tanım biraz karışık gelmiş olabilir. Aşağıdaki örneğe bakalım. "
   ]
  },
  {
   "cell_type": "code",
   "execution_count": 46,
   "metadata": {},
   "outputs": [
    {
     "name": "stdout",
     "output_type": "stream",
     "text": [
      "('Türkiye', 'Ankara') ('Japonya', 'Tokyo') ('İtalya', 'Roma')\n"
     ]
    }
   ],
   "source": [
    "ulkeler = ['Türkiye', 'Japonya', 'İtalya']\n",
    "baskentler = ['Ankara', 'Tokyo', 'Roma']\n",
    "ulke_baskent = zip(ulkeler, baskentler)\n",
    "print(*ulke_baskent)"
   ]
  },
  {
   "cell_type": "markdown",
   "metadata": {},
   "source": [
    "ya da"
   ]
  },
  {
   "cell_type": "code",
   "execution_count": 47,
   "metadata": {},
   "outputs": [
    {
     "name": "stdout",
     "output_type": "stream",
     "text": [
      "Türkiye Ankara\n",
      "Japonya Tokyo\n",
      "İtalya Roma\n"
     ]
    }
   ],
   "source": [
    "for ulke, baskent in zip(ulkeler, baskentler):\n",
    "    print(ulke, baskent)"
   ]
  },
  {
   "cell_type": "markdown",
   "metadata": {},
   "source": [
    "Yinelenen nesneler ile ilgili olarak bir noktayı hatırlatmakta fayda görüyorum. Enumerate ya da zip gibi bir yineleme fonksiyonunu bir defa kullandığımızda oluşturulan yineleyici, yinelenen nesnenin sonuna geliyor. Bu nedenle aynı fonksiyonu tekrar çağırdığımızda herhangi bir sonuç alamayız. Örneğin, yukarıdaki örnekte yer alan for döngüsünü bird aha çağırırsak herhangi sonuç belirmeyecektir. Bu nedenle bir daha kullanabilmek için yineleyiciyi tekrar oluşturmak gerekmektedir. \n",
    "\n",
    "`zip()` fonksiyonu ile oluşturulmuş bir nesneyi tekrar kendisini oluşturan bileşenlere ayırmak için * operatörünü kullanabiliriz. Aşağıdaki örnekte, oluşturulmuş olan ulke_baskent nesnesini tekrar bileşenlerine ayırmak için bu nesneyi zip() fonksiyonu içinde önüne * getirerek yazıyoruz. "
   ]
  },
  {
   "cell_type": "code",
   "execution_count": 48,
   "metadata": {},
   "outputs": [
    {
     "name": "stdout",
     "output_type": "stream",
     "text": [
      "('Türkiye', 'Japonya', 'Amerika', 'İspanya', 'İtalya')\n"
     ]
    }
   ],
   "source": [
    "ulkeler = ['Türkiye', 'Japonya', 'Amerika', 'İspanya', 'İtalya']\n",
    "baskentler = ['Ankara', 'Tokyo', 'New York', 'Madrid', 'Roma']\n",
    "ulke_baskent = zip(ulkeler, baskentler)\n",
    "ulke, baskent = zip(*ulke_baskent)\n",
    "print(ulke)"
   ]
  },
  {
   "cell_type": "code",
   "execution_count": 49,
   "metadata": {},
   "outputs": [
    {
     "name": "stdout",
     "output_type": "stream",
     "text": [
      "('Ankara', 'Tokyo', 'New York', 'Madrid', 'Roma')\n"
     ]
    }
   ],
   "source": [
    "print(baskent)"
   ]
  },
  {
   "cell_type": "markdown",
   "metadata": {},
   "source": [
    "## Liste Döngüleri\n",
    "\n",
    "Liste döngüleri, İngilizce’de **List Comprehension** olarak kullanılıyor. Bu terimin Türkçe’deki tam karşılığını bulamadım. Türkçe kaynaklarda farklı kullanımlar bulunmakta. “Liste Döngüsü” terimin birebir çevirisi olmamakla birlikte kullanım açısından uygun olduğunu düşünüyorum.\n",
    "\n",
    "Önceki bölümlerde for döngüleri ile liste oluşturmanın yöntemlerini gördük. Örneğin 1’den 10’a kadar olan sayıların karelerinden meydana gelen bir liste oluşturalım. Bunun için bir for döngüsü kullanabiliriz. "
   ]
  },
  {
   "cell_type": "code",
   "execution_count": 50,
   "metadata": {},
   "outputs": [
    {
     "name": "stdout",
     "output_type": "stream",
     "text": [
      "[1, 4, 9, 16, 25, 36, 49, 64, 81, 100]\n"
     ]
    }
   ],
   "source": [
    "kareler = []\n",
    "\n",
    "for i in range(1,11):\n",
    "    kareler.append(i**2)\n",
    "\n",
    "print(kareler)"
   ]
  },
  {
   "cell_type": "markdown",
   "metadata": {},
   "source": [
    "Veya diyelim ki bir listede yer alan elemanlarla belirli bir işlem örneğin 2 ile çarpma işlemini yapıp bunlardan yeni bir liste oluşturmak istiyoruz. "
   ]
  },
  {
   "cell_type": "code",
   "execution_count": 51,
   "metadata": {},
   "outputs": [
    {
     "name": "stdout",
     "output_type": "stream",
     "text": [
      "[6, 8, 10, 14, 20, 24]\n"
     ]
    }
   ],
   "source": [
    "liste1 = [3, 4, 5, 7, 10, 12]\n",
    "liste2 = []\n",
    "\n",
    "for i in liste1:\n",
    "        liste2.append(i*2)\n",
    "\n",
    "print(liste2)"
   ]
  },
  {
   "cell_type": "markdown",
   "metadata": {},
   "source": [
    "Listelerde işlem yaparken döngüler yerine kullanabileceğimiz bir başka yöntem liste döngüleridir. Liste döngülerini kullanarak yukarıdaki for döngülerinin yaptığını tek satırda gerçekleştirebiliriz.\n",
    "\n",
    "Döngüler, çoğu zaman oldukça etkili programlama teknikleri olmakla birlikte özellikle büyük verilerle çalışırken döngülerin yavaş ve verimsiz olduğunu görürsünüz. Büyük verilerde döngü kullanmak işlem hızını oldukça yavaşlatabilmektedir. Bunun için mümkün oldukça döngüler yerine vektörlerle çalışmayı tercih etmeniz önerilir. Bu konuya ileride ayrıntılı olarak değineceğiz. \n",
    "\n",
    "Şimdi yukarıda gördüğümüz 1’den 10’a kadar sayıların karelerinden oluşan listeyi tek satırda oluşturalım. "
   ]
  },
  {
   "cell_type": "code",
   "execution_count": 52,
   "metadata": {},
   "outputs": [
    {
     "name": "stdout",
     "output_type": "stream",
     "text": [
      "[1, 4, 9, 16, 25, 36, 49, 64, 81, 100]\n"
     ]
    }
   ],
   "source": [
    "kareler = [i**2 for i in range(1,11)]\n",
    "print(kareler)"
   ]
  },
  {
   "cell_type": "code",
   "execution_count": 53,
   "metadata": {},
   "outputs": [
    {
     "name": "stdout",
     "output_type": "stream",
     "text": [
      "[1, 4, 9, 16, 25, 36, 49, 64, 81, 100]\n"
     ]
    }
   ],
   "source": [
    "kareler = [i**2 for i in range(1,11)]\n",
    "print(kareler)"
   ]
  },
  {
   "cell_type": "markdown",
   "metadata": {},
   "source": [
    "Bir liste döngüsü basitçe, iki köşeli parantez arasındaki bir for döngüsü olarak isimlendirilebilir. Liste döngüsünün genel yapısı şu şekildedir:\n",
    "\n",
    "`[çıktı ifadesi for yineleyici değişken in yinelenen nesne]`\n",
    "\n",
    "Şimdi de ikinci örneği liste döngüsü yöntemi ile tekrarlayalım. \n"
   ]
  },
  {
   "cell_type": "code",
   "execution_count": 54,
   "metadata": {},
   "outputs": [
    {
     "name": "stdout",
     "output_type": "stream",
     "text": [
      "[6, 8, 10, 14, 20, 24]\n"
     ]
    }
   ],
   "source": [
    "liste1 = [3, 4, 5, 7, 10, 12]\n",
    "\n",
    "liste2 = [i*2 for i in liste1]\n",
    "\n",
    "print(liste2)\n"
   ]
  },
  {
   "cell_type": "markdown",
   "metadata": {},
   "source": [
    "Aşağıdaki örnekte listede ay isimleri yer alıyor. Fazla yer kaplamaması için ayları ilk üç harfleri ile göstermek istiyoruz. Bunu bir liste döngüsü ile kolayca yapabiliriz. "
   ]
  },
  {
   "cell_type": "code",
   "execution_count": 55,
   "metadata": {},
   "outputs": [
    {
     "name": "stdout",
     "output_type": "stream",
     "text": [
      "['Oca', 'Şub', 'Mar', 'Nis', 'May', 'Haz', 'Tem', 'Ağu', 'Eyl', 'Eki', 'Kas', 'Ara']\n"
     ]
    }
   ],
   "source": [
    "aylar = ['Ocak', 'Şubat', 'Mart', 'Nisan', 'Mayıs', 'Haziran',\n",
    "         'Temmuz', 'Ağustos', 'Eylül', 'Ekim', 'Kasım', 'Aralık']\n",
    "\n",
    "aylar_kisa = [ay[0:3] for ay in aylar]\n",
    "print(aylar_kisa)"
   ]
  },
  {
   "cell_type": "markdown",
   "metadata": {},
   "source": [
    "Liste döngülerine koşul ekleyerek istenen şartları taşıyan elemanların seçilebilmesi de olanaklıdır. Bu durumda köşeli parantez içindeki ifade aşağıdaki şekli alır.\n",
    "\n",
    "`[çıktı ifadesi for yineleyici değişken in yinelenen nesne if koşul]`\n",
    "\n",
    "Varsayalım ki yukarıdaki örnekte sadece M harfi ile başlayan ayların ilk üç harflerini seçtirmek istiyoruz. "
   ]
  },
  {
   "cell_type": "code",
   "execution_count": 56,
   "metadata": {},
   "outputs": [
    {
     "name": "stdout",
     "output_type": "stream",
     "text": [
      "['Mar', 'May']\n"
     ]
    }
   ],
   "source": [
    "aylar = ['Ocak', 'Şubat', 'Mart', 'Nisan', 'Mayıs', 'Haziran', \n",
    "         'Temmuz', 'Ağustos', 'Eylül', 'Ekim', 'Kasım', 'Aralık']\n",
    "\n",
    "aylar_kisa = [ay[0:3] for ay in aylar if ay[0] == \"M\"]\n",
    "print(aylar_kisa)"
   ]
  },
  {
   "cell_type": "markdown",
   "metadata": {},
   "source": [
    "Örnekte yer alan if `ay[0] == \"M\"`  ifadesi, for döngüsünü uygularken aynı zamanda ilk harfi \"M\" olanları seçmektedir.\n",
    "\n",
    "Şimdi de 1’den 10’a kadar olan tek sayıların küpünü aynı yapıyı kullanarak hesaplayalım. "
   ]
  },
  {
   "cell_type": "code",
   "execution_count": 57,
   "metadata": {},
   "outputs": [
    {
     "name": "stdout",
     "output_type": "stream",
     "text": [
      "[1, 27, 125, 343, 729]\n"
     ]
    }
   ],
   "source": [
    "kup_tek = [i**3 for i in range(0,11) if i % 2 == 1]\n",
    "print(kup_tek)"
   ]
  },
  {
   "cell_type": "markdown",
   "metadata": {},
   "source": [
    "Liste döngüsüne koşullu ifade olarak if ekleyebiliyorsak else de ekleyebilmeliyiz. Bunu da aşağıdaki gibi gerçekleştirebiliriz. Aynı örneklerden devam edelim. Bu defa 1’den 10’a kadar olan sayılardan tek olanların küpünü, çift olanların ise karesini alalım. If ifadesinin yanına else de geldiğinde sıralamada küçük bir değişiklik olduğuna dikkat edin. "
   ]
  },
  {
   "cell_type": "code",
   "execution_count": 58,
   "metadata": {},
   "outputs": [
    {
     "name": "stdout",
     "output_type": "stream",
     "text": [
      "[0, 1, 4, 27, 16, 125, 36, 343, 64, 729, 100]\n"
     ]
    }
   ],
   "source": [
    "sartli_dongu = [i**3 if i % 2 == 1 else i**2 for i in range(0,11)]\n",
    "print(sartli_dongu)"
   ]
  },
  {
   "cell_type": "markdown",
   "metadata": {},
   "source": [
    "Burada sıralama aşağıdaki gibi oldu: \n",
    "\n",
    "`Koşul Doğru ise İşlem | Koşul | Koşul Doğru Değilse İşlem | For Döngüsü`"
   ]
  },
  {
   "cell_type": "markdown",
   "metadata": {},
   "source": [
    "## Sözlük Döngüleri\n",
    "\n",
    "Liste döngüleri ile aynı yapıyı kullanarak sözlük döngüleri yardımı ile sözlükler oluşturmak da mümkündür. Sözlük döngülerinde köşeli parantez yerine küme parantezi kullanıyoruz ve anahtar, değer ikilisini iki nokta `(:)` ile ayırıyoruz. \n",
    "\n",
    "Aşağıdaki örnekte, listede yer alan kelimelerin anahtar, bunların harf sayısının değer oluğu bir sözlük oluşturuyoruz. \n"
   ]
  },
  {
   "cell_type": "code",
   "execution_count": 59,
   "metadata": {},
   "outputs": [
    {
     "name": "stdout",
     "output_type": "stream",
     "text": [
      "{'İstanbul': 8, 'Ankara': 6, 'İzmir': 5, 'Eskişehir': 9, 'Bursa': 5}\n"
     ]
    }
   ],
   "source": [
    "sehirler = ['İstanbul', 'Ankara', 'İzmir', 'Eskişehir', 'Bursa']\n",
    "sehir_sozluk = {sehir : len(sehir) for sehir in sehirler}\n",
    "print(sehir_sozluk)"
   ]
  },
  {
   "cell_type": "markdown",
   "metadata": {},
   "source": [
    "## Alıştırmalar\n",
    "\n",
    "1.\tAşağıdaki listeyi kullanarak önce bu listenin elemanlarını yazdıran bir for döngüsü oluşturun. \n",
    "\n",
    "```\n",
    "prg_dilleri = ['Python', 'R', 'Matlab', 'C++', 'C', 'Java', 'JavaScript']\n",
    "```\n",
    "\n",
    "Şimdi de sırayla aşağıdaki işlemleri yapın:\n",
    "\n",
    "- Listeyi işaret eden bir yineleyici oluşturun. \n",
    "- Bu yineleyiciyi kullanarak listedeki programlama dillerini yazdırın. \n",
    "\n",
    "İpucu: Hangi iki fonksiyonu kullanmanız gerektiğini düşünün?\n",
    "\n",
    "2.\tAşağıdaki matrisi oluşturacak bir liste döngüsü yazın. İpucu: İç içe iki liste döngüsü kullanmalısınız. Yazacağınız kod, `[[…………..] ………..]` formatında olmalı.\n",
    "\n",
    "```\n",
    "[[0, 1, 2, 3, 4],\n",
    " [0, 1, 2, 3, 4],\n",
    " [0, 1, 2, 3, 4],\n",
    " [0, 1, 2, 3, 4],\n",
    " [0, 1, 2, 3, 4]]\n",
    "```\n",
    "\n",
    "3.\tAşağıdaki listede, uzunluğu 5’ten fazla olan kelimeleri yazdıran bir for döngüsü oluşturun. \n",
    "\n",
    "`ulkeler = [‘Türkiye’, ‘İspanya’, ‘Çin’, ‘Irak’, ‘İtalya’, ‘Çad’]` \n",
    "\n",
    "İkinci olarak harf sayısı beşten fazla olan ülkeleri aynı bırakan ancak diğerlerini `*` karakteri ile değiştiren bir döngü yazın. \n",
    "\n",
    "4.\tAşağıdaki ders ve öğretmen isimlerinden oluşan dersler ve ogretmenler listelerini `zip()` fonksiyonunu kullanarak bir tuple veri nesnesine dönüştürün. Oluşturduğunuz tuple nesnesinin adı ders_ogretmen olsun. Şimdi de bu tuple nesnesindeki her ders ve öğretmen çiftini sıra numarası ile birlikte yazdıracak bir for döngüsü yazın. Kolaylık olması için ilgili komutların bir bölümü sizin için oluşturulmuş ve doldurmanız gereken yerler boş bırakılmıştır. \n",
    "\n",
    "```\n",
    "dersler = ['Matematik', 'Fizik', 'Kimya']\n",
    "ogretmenler = ['Cahit Arf', 'Mete Atatüre', 'Aziz Sancar']\n",
    "\n",
    "ders_ogretmen = ___(_____, _____)\n",
    "\n",
    "for sira, cift in _____(_____):\n",
    "\tprint('Ders No {}: Ders: {}, Öğretmen: {}'.format(____, ____, ____))\n",
    "```\n",
    "\n",
    "5.\tDöngüleri kullanarak işlem yapmak her zaman en etkin çözüm olmayabilir. Aşağıdaki fonksiyonu listeye for döngüsü kullanmadan uygulamanın yollarını bulun. \n",
    "\n",
    "\n",
    "$$\n",
    "    f(x)= \n",
    "\\begin{cases}\n",
    "    0   & x < \\text{ise}\\\\\n",
    "    x   & x \\geq \\text{ise}\n",
    "\\end{cases}\n",
    "$$\n",
    "\n",
    "6.\tHaftalık çalışma saati ve saat ücretini alarak haftalık toplam ücreti hesaplayan bir program yazın. Haftalık çalışma süresi 40 saatten fazla ise 40’ın üzerindeki saatler için normal ücretin bir buçuk katı ödensin. \n",
    "\n",
    "7.\tVerilen bir metindeki büyük harflerin sayısını veren bir for döngüsü yazın. Daha sonra aynı işi yapan tek satırlık bir for döngüsü yazın."
   ]
  }
 ],
 "metadata": {
  "kernelspec": {
   "display_name": ".venv",
   "language": "python",
   "name": "python3"
  },
  "language_info": {
   "codemirror_mode": {
    "name": "ipython",
    "version": 3
   },
   "file_extension": ".py",
   "mimetype": "text/x-python",
   "name": "python",
   "nbconvert_exporter": "python",
   "pygments_lexer": "ipython3",
   "version": "3.11.4"
  }
 },
 "nbformat": 4,
 "nbformat_minor": 2
}