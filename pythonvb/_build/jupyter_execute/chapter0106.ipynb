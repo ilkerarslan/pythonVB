{
 "cells": [
  {
   "cell_type": "markdown",
   "metadata": {},
   "source": [
    "# Modüller ve Nesne Yönelimli Programlama\n",
    "\n",
    "## Modüller\n",
    "\n",
    "Python terminalini kapattığınız zaman yazdığınız kodlar ve çalışmalarınız da kaybolur. Bu nedenle terminalde uzun programlar yazmak çok kolay olmayabilir. Bunun için önceki bölümde aktarılan Python editörlerinden birini kullanmak daha uygundur. Bir Python editörü kullanarak yazdığınız kodları kaydedebilirsiniz. Yazdığınız programlar uzadıkça programı parçalara ayırmak da isteyebilirsiniz. Bazen, yazdığınız bir kod ya da fonksiyonu farklı programlarda kullanmak da isteyebilirsiniz. Bunun için kullanmak istediğiniz Python kodunu kaydedip her kullanışta dosyayı açmak ve yeni programın içine kopyalamak programlamayı gereksiz yere uzatacaktır. Bunun yerine modüllerden faydalanabiliriz. Python’da oldukça önemli bir yer tutan modüller sayesinde yazdığımız fonksiyonları yeniden yazmaya ya da bir programdan diğerine kopyalamaya gerek kalmadan tekrar tekrar kullanabiliriz. \n",
    "\n",
    "Bir modülü kullanabilmek için önce `import` kelimesini kullanarak modülü program içine aktarmamız gerekir. Örneğin, birçok matematiksel fonksiyonu barındıran math  modülünü kullanacağımızı düşünelim. Bunun için önce `import math` yazmamız gerekir. Bu şekilde, `math` modülündeki fonksiyonlar program içinde kullanılabilir hale gelir. Örneğin, math modülü içindeki faktöriyel fonksiyonunu kullanacağımızı düşünelim. "
   ]
  },
  {
   "cell_type": "code",
   "execution_count": 1,
   "metadata": {},
   "outputs": [
    {
     "data": {
      "text/plain": [
       "24"
      ]
     },
     "execution_count": 1,
     "metadata": {},
     "output_type": "execute_result"
    }
   ],
   "source": [
    "import math \n",
    "math.factorial(4)"
   ]
  },
  {
   "cell_type": "markdown",
   "metadata": {},
   "source": [
    "Yukarıda görüldüğü gibi bir modül içinde tanımlanmış olan bir fonksiyonu kullanmak için önce modül isminden sonra nokta getirilerek istenen fonksiyon adı yazılır. Bu, birçok nesne yönelimli programlama dilinde ortak bir özelliktir. \n",
    "\n",
    "Birbirleri ile ilgili fonksiyonlar tekrar tekrar kullanılabilmek üzere bir araya getirilip kaynak kodu dosyası olarak kaydedilebilir. Bu dosyalar modül olarak isimlendirilir. Modüller, diğer modüllerin ya da programların içinde kullanılabilir. Kitabın ileri bölümlerinde Python’da modüllerin ne kadar önemli olduğunu göreceğiz. Python’un günümüzde bu denli popüler olmasının bir sebebi de geliştirilmiş olan çok çeşitli sayıda kullanışlı modüllerin varlığıdır.\n",
    "\n",
    "Python için geliştirilmiş ve tüm Python programcılarının kullanımına sunulmuş çok sayıda modül vardır. Bu modüller paket olarak isimlendirilir. Paketler sayesinde, istediğimiz bir programı en baştan yazmak yerine daha önce geliştirilmiş hazır programları kullanabiliriz. Geliştirilmiş olan tüm paketleri Python kurulumu içinde yüklemek çok zordur. Python’u ilk kurduğunuzda sadece temel Python dağılımındaki fonksiyonları kullanabilirsiniz. Diğer yandan Python için geliştirilmiş çok sayıdaki paketi kullanmak için bunları önce kullanılabilir hale getirmeniz gerekir. En çok kullanılan paketler, bir kısmını bu kitapta da anlatacağımız, `numpy`, `pandas`, `matplotlib`, `scikit-learn`, `scipy` gibi paketlerdir. \n",
    "\n",
    "Paket ya da modülleri `import` komutu ile kullanıma hazır hale getirebilmek için öncelikle bunları kurmuş olmamız gerekir. Python paketleri https://pypi.org/ ya da https://anaconda.org/anaconda/repo sayfalarından yayınlanır. Bir Python paketini terminal etkranında `pip install` ya da Anaconda platformu kullanıyorsanız  `conda install` komutu ile kurabilirsiniz. Şimdi MS VSCode'da `pip install` ile paket kurulumunu adım adım görelim. Bunu yaparken, çalışmalarınızda prensip edinmenizi tavsiye ettiğim `virtual environment` (sanal ortam) kullanımını da göstereceğim. \n",
    "\n",
    "Normalde, yeni bir paket kurduğunuzda, bu paket Python'un kurulu olduğu dizinde yer alır. Ve sonrasında bu paketi kullanmak istediğinizde `import` komutu paketi buradan çağırır. Ancak, birbirinden farklı özellik ve ölçeklerde projelerde çalışacaksınız. Her projenin paket gereksinimleri ayrı olacak. Tek başınıza çalıştığınızda bu çok da önemli olmayabilir ancak geliştirdiğiniz bir modelin canlı uygulamaya alındığını düşünün. Modelin hangi paketleri kullandığı, hatta bu paketlerin hangi versiyonlarının kullanıldığı gibi konular oldukça önem kazanacak. Bunların takibini kolaylıkla yapabilmek için her bir proje için yeni bir sanal ortam oluşturmak ve bu projeye ilişkin paketleri bu ortama kurmak size ileride çok fazla zaman ve kazanduracaktır. Bu nedenle, aşağıda anlatacağım adımları küçük ya da büyük her projenizde uygulamayı ve bunu alışkanlık haline getirmenizi tavsiye ederim. \n",
    "\n",
    " ### Sanal Ortam Oluşturma ve Paket Kurma\n",
    "\n",
    "Şimdi yeni bir proje ve sanal ortam oluşturmaya başlayabiliriz. Öncelikle boş bir VSCode ekranı açalım.\n",
    "\n",
    "![Boş VSCode ekranı](figures/vscode_env_01.png)\n",
    "\n",
    "Şimdi `Open Folder` butonuna tıklayarak yeni bir klasör oluşturalım. Oluşturacağınız proje klasörünün yer alacağı klasöre gittikten sonra yukarıda yer alan `New Folder` butonu ile yeni bir klasör oluşturun. Örneğimizde oluşturduğumuz projeye \"PythonProje\" ismini verdik. \n",
    "\n",
    "![Yeni Proje](figures/vscode_env_02.png)\n",
    "\n",
    "Sonraki adımda `Select Folder` diyerek VSCode ekranına geri dönüyoruz.\n",
    "\n",
    "Şimdi menüden Terminal --> New Terminal ya da `Ctrl + Shift + P` tuşlarına aynı anda bastıktan sonra yukarıda açılan ekrana `Terminal:` yazın ve seçenekler arasından `Terminal: Create New Terminal (In Active Workspace)` seçeneğine tıklayın.\n",
    "\n",
    "![Terminal](figures/vscode_env_03.png)\n",
    "\n",
    "Şimdi, tekrar `Ctrl+Shift+P` diyerek `Python: Create Environment` yazmaya başlayın. Sonra da çıkan seçenekler arasından `Venv creates a '.venv' virtual environment in the current workspce` ile devam edin. Son aşamada sizden bilgisayarınızda kurulu olan Python sürümleri arasından seçim yapmanız istenecektir. Bu adımdan sonra `virtual environment` kurulmaya başlar.\n",
    "\n",
    "![virtual environment](figures/vscode_env_04.png)\n",
    "\n",
    "\n",
    "Kurulum tamamlandıktan sonra `EXPLORER` sekmesinde `.venv` isminde bir klasör oluşturulduğunu görürsünüz. Kuracağımız paketler, bu klasörün altındaki `Lib` klasörüne kurulacak. Şimdi, daha önce açtığımız terminal ekranına giderek aşağıdaki komutu yazın\n",
    "\n",
    "```\n",
    "PS D:\\007Github\\PythonProje> .\\.venv\\Scripts\\activate\n",
    "```\n",
    "\n",
    "Terminal promptunun aşağıdaki şekilde değiştiğini göreceksiniz:\n",
    "\n",
    "```\n",
    "(.venv) PS D:\\007Github\\PythonProje> \n",
    "```\n",
    "\n",
    "Bu, kurduğumuz sanal ortamın (virtual environment) aktif hale geldiğini ve bundan sonraki komutlarımızın bu ortamda çalışacağını gösterir. Şimdi örnek bir paket kuralım. `(.venv)` promptu geçerliyken `pip install matplotlib` yazın. Bu komut, sanal ortama matplotlib paketini kuracaktır.\n",
    "\n",
    "Kurulum tamamlandıktan sonra `.venv\\Lib` klasöründe Matplotlib klasörünün oluşturulduğunu göreceksiniz.\n",
    "\n",
    "### Paketleri Kullanma\n",
    "\n",
    "Daha önce de belirtildiği üzere bir paketi kurduktan sonra, kullanabilmek için `import` komutu ve ardından paket ismi yazılır. "
   ]
  },
  {
   "cell_type": "code",
   "execution_count": 2,
   "metadata": {},
   "outputs": [],
   "source": [
    "import numpy"
   ]
  },
  {
   "cell_type": "markdown",
   "metadata": {},
   "source": [
    "Bir paketteki kullanılabilir fonksiyonları görmek için `help(paket_adı)` kullanılabilir.\n",
    "\n",
    "Bir paketi içeri aktardıktan sonra bu pakette yer alan bir fonksiyonu kullanmak için önüne aşağıdaki şekilde nokta ve sonrasında paket ismi getirilmelidir. Örneğin, `math` paketinde yer alan `log10()` fonksiyonunu kullanmak istediğimizi varsayalım. Bu fonksiyonu tek başına `log10(1000)` şeklinde kullanırsak hata mesajı alırız. Bu nedenle fonksiyonu önünde paket ismi ile birlikte yani `math.log10(1000)` şeklinde kullanmalıyız. "
   ]
  },
  {
   "cell_type": "code",
   "execution_count": 3,
   "metadata": {},
   "outputs": [
    {
     "data": {
      "text/plain": [
       "3.0"
      ]
     },
     "execution_count": 3,
     "metadata": {},
     "output_type": "execute_result"
    }
   ],
   "source": [
    "import math \n",
    "math.log10(1000)"
   ]
  },
  {
   "cell_type": "markdown",
   "metadata": {},
   "source": [
    "Son olarak içeri aktardığımız modül veya fonksiyona yeni bir isim verip programda bu isimle kullanabiliriz. Bu şekilde fonksiyonun önüne paket ismi yazmamıza gerek kalmaz. Örneğin, "
   ]
  },
  {
   "cell_type": "code",
   "execution_count": 4,
   "metadata": {},
   "outputs": [
    {
     "data": {
      "text/plain": [
       "2.0"
      ]
     },
     "execution_count": 4,
     "metadata": {},
     "output_type": "execute_result"
    }
   ],
   "source": [
    "import math as mt \n",
    "mt.log10(100)"
   ]
  },
  {
   "cell_type": "markdown",
   "metadata": {},
   "source": [
    "Paketin içinden bir fonksiyonu sıklıkla kullanacaksak ve her defasında `math.` yazmak istemiyorsak aşağıdaki gibi `from ... import ...` formatını kullanabiliriz. Bu şekilde `log10()` fonksiyonunu tek başına da kullanabiliriz. "
   ]
  },
  {
   "cell_type": "code",
   "execution_count": 5,
   "metadata": {},
   "outputs": [
    {
     "data": {
      "text/plain": [
       "5.0"
      ]
     },
     "execution_count": 5,
     "metadata": {},
     "output_type": "execute_result"
    }
   ],
   "source": [
    "from math import log10 \n",
    "log10(100) + log10(1000)"
   ]
  },
  {
   "cell_type": "markdown",
   "metadata": {},
   "source": [
    "Paketleri kendi istediğimiz isimlerle kullanabildiğimiz gibi paket içindeki fonksiyonları da aynı şekilde `as` kullanarak istediğimiz isimler kullanıma alabiliriz. Aşağıdaki örnekte, `math` paketi içindeki `log10()` fonksiyonunu `lg` olarak kullanıoruz."
   ]
  },
  {
   "cell_type": "code",
   "execution_count": 6,
   "metadata": {},
   "outputs": [
    {
     "data": {
      "text/plain": [
       "3.0"
      ]
     },
     "execution_count": 6,
     "metadata": {},
     "output_type": "execute_result"
    }
   ],
   "source": [
    "from math import log10 as lg \n",
    "lg(10) + lg(100)"
   ]
  },
  {
   "cell_type": "markdown",
   "metadata": {},
   "source": [
    "Özetlemek gerekirse, bir modülü içeri aktarmak için `import modül` kalıbını kullanıyoruz. Modül içinden istediğimiz fonksiyonu içeri aktarmak içinse `from modül import fonksiyon` yazıyoruz. Son olarak modül ya da fonksiyonu kendi istediğimiz bir isimle içeri aktarmak için `import modül as isim` ya da `from modül import fonksiyon as isim` kalıplarını kullanıyoruz.\n",
    "\n",
    "Aslında bir modül, Python kodlarından ve tanımlarından (fonksiyon) oluşan .py uzantılı bir dosyadan başka bir şey değildir. Siz de sık kullandığınız fonksiyonları `.py` uzantılı bir dosyada kaydederek daha sonra farklı programlarınızda bu modülü içeri aktarıp içindeki fonksiyonları kullanabilirsiniz. Örneğin aşağıdaki gibi çok basit bir modül oluşturalım.\n",
    "\n",
    "\n",
    "```Python\n",
    "def kare_al(x):\n",
    "    return x ** 2\n",
    "\n",
    "def kup_al(x):\n",
    "    return x ** 3\n",
    "\n",
    "def kok_al(x):\n",
    "    return x ** 0.5\n",
    "\n",
    "def us_al(x,y):\n",
    "    return x ** y\n",
    "```\n",
    "Yukarıdaki modülü `usal.py` olarak kaydedelim. Bir başka programın içinde yukarıdaki fonksiyonları kullanmak istersek aşağıdaki şekilde import ile birlikte kullanabiliriz. \n",
    "\n",
    "```Python\n",
    "import usal\n",
    "\n",
    "usalma.kare_al(5)\n",
    "\n",
    "usalma.kup_al(4)\n",
    "\n",
    "usalma.us_al(5,3)\n",
    "\n",
    "usalma.kok_al(16)\n",
    "\n",
    "```"
   ]
  },
  {
   "cell_type": "markdown",
   "metadata": {},
   "source": [
    "## Nesneler ve Sınıflar\n",
    "\n",
    "Programlama tarihsel olarak belirli girdilerin alınıp, önceden tanımlanan işlemlere tabi tutulduktan sonra çıktıların üretildiği doğrusal bir süreç olarak geliştirilmiştir. Bu süreci bir fabrikadaki üretim tek bir üretim bandı gibi de düşünebiliriz. Bu tip programlamada süreç; girdi, fonksiyon, çıktı sırasıyla ilerlediği için bu şekildeki programlama “fonksiyonel programlama” olarak da isimlendirilir. Fonksiyonel programlama, birçok uygulamada çok faydalı olmakla birlikte her uygulamada yeterli olmayabilir. Özellikle çok büyük ölçekli programlarda yapılmak istenen işi küçük parçalara bölüp gerçekleştirmek tercih edilebilir. Bu durumda veri ve fonksiyonları, nesne adı verilen bir paketin içinde birleştirebiliriz. Nesne yönelimli programlama, bu ihtiyaçtan doğmuştur. Bu yöntemle, tekrar tekrar kullanılabilir programlar üretmek de mümkündür.\n",
    "\n",
    "Nesne yönelimli programlama, fikrini gerçek hayatta etrafımızda gördüğümüz nesnelerden ve sınıflardan almaktadır. Konuyu daha iyi anlayabilmek için programlama kitaplarında en çok kullanılan bir örnekten alıntı yapmak istiyorum {cite}`deitel2015, deitel2016, matthes2015`. Bir otomobilin üretilebilmesi için önce çizim planlarının olması gerekir. Şüphesiz, çizim planları otomobilin kendisi değildir. Ancak, işi bilen birisi otomobilin çizim planlarına bakarak bir araba yapabilir. Arabanın gaz pedalı, freni ve direksiyonu vardır. Arabayı hızlandırmak isteyen sürücü gaz pedalına basarak motora bir komut verir. Sürücünün bunu yaparken motorun nasıl çalıştığını, gaz pedalının hangi motor parçalarını harekete geçirdiğini bilmesine gerek yoktur. Sadece gaz pedalına basmanın arabayı hızlandıracağını bilir. Nesne yönelimli programlamada bu işleme metod denir.  Örneğin, önceki modülleri anlatırken usalma isminde bir modül ve bu modülde `kup_al()` isminde bir fonksiyon yazdık. Bu fonksiyonu çağıran kullanıcının sadece fonksiyonun işlevini bilmesi yeterlidir. Fonksiyon içindeki kodları bilmesine gerek yoktur.\n",
    "\n",
    "Otomobil örneğine geri dönecek olursak, bir defa otomobilin teknik çizimlerini (otomobil sınıfını) oluşturduktan sonra bu çizimlere bakan bir usta yeni bir otomobil nesnesi yapabilir. Üretilen her yeni otomobil nesnesinin gaza basma, frene basma, direksiyonu çevirme gibi ortak metodları olacaktır. \n",
    "\n",
    "Nesnelerin metodları dışında, özellikleri de vardır. Örneğin hepsi aynı sınıfta olsa da her otomobilin, renk, kapı sayısı, motor büyüklüğü gibi farklı özellikleri vardır. Programlamada da yeni oluşturulan nesnelerin, ait oldukları sınıfa ait özelliklerini tanımlayabiliriz.\n",
    "\n",
    "Özetleyecek olursak nesne yönelimli programlamada önce sınıfları `(class)` tanımlarız. Daha sonra bu sınıfa ait istediğimiz kadar farklı nesne `(object)` tanımlayabiliriz. Bir nesne başlangıçta, ait olduğu sınıfın genel özelliklerini taşır. Ancak daha sonra nesneleri, özelliklerini değiştirerek farklılaştırabiliriz. Sınıflar ve nesneler, nesne yönelimli programlamanın en önemli iki tarafıdır. Bir kez nesnelerle düşünmeye alıştığımız zaman her şeyi sınıf ve nesne çerçevesinden görebiliriz. Örneğin, tamsayıları int sınıfına, metinleri de string sınıfına ait nesneler olarak görebiliriz. Nesneler kendilerine ait alan adı verilen değişkenlerde veri tutabilir, metod adı verilen fonksiyonlar ile sadece o sınıfa ait işlemler gerçekleştirebilir.\n",
    "\n",
    "Bir banka için müşteri hesapları programı yazdığımızı düşünelim. Önce müşteri hesabı sınıfı oluşturmamız gerekir. Bir müşteri hesabına ait hangi özellikler olabilir? Müşteri numarası, müşterinin adı, soyadı, hesap açılış tarihi, hesabın açıldığı para birimi, hesap bakiyesi akla gelen ilk özellikler. Diğer yandan bir hesapta para çekme, para yatırma ve hesap kapatma gibi metodlar olabilir.\n",
    "\n",
    "Şimdi örnek uygulama olarak Python’da bir banka hesabı programı yazalım. Önce bir banka hesabı sınıfı oluşturmamız ve istediğimiz özellik ve metodları tanımlamamız gerekiyor. Bir defa bunu yaptıktan sonra istediğimiz kadar banka hesabı oluşturup bunlarla istediğimiz işlemleri yapabiliriz. İşlemi basit tutalım ve sadece üç özellikle başlayalım: hesap no, hesap sahibi ve açılış tutarı."
   ]
  },
  {
   "cell_type": "code",
   "execution_count": 7,
   "metadata": {},
   "outputs": [],
   "source": [
    "class Banka_Hesabi():\n",
    "    \"\"\"\"Banka hesap programı \"\"\"\n",
    "\n",
    "    def __init__(self, hesap_no, hesap_sahibi, tutar):\n",
    "        \"\"\"Yeni açılan hesaba gerekli değerleri atar\"\"\"\n",
    "        self.hesap_no = hesap_no\n",
    "        self.hesap_sahibi = hesap_sahibi\n",
    "        self.tutar = tutar\n",
    "\n",
    "    def para_cek(self, cekilen):\n",
    "        self.tutar -= cekilen\n",
    "\n",
    "    def para_yatir(self, yatan):\n",
    "        self.tutar += yatan"
   ]
  },
  {
   "cell_type": "code",
   "execution_count": null,
   "metadata": {},
   "outputs": [],
   "source": []
  }
 ],
 "metadata": {
  "kernelspec": {
   "display_name": ".venv",
   "language": "python",
   "name": "python3"
  },
  "language_info": {
   "codemirror_mode": {
    "name": "ipython",
    "version": 3
   },
   "file_extension": ".py",
   "mimetype": "text/x-python",
   "name": "python",
   "nbconvert_exporter": "python",
   "pygments_lexer": "ipython3",
   "version": "3.11.4"
  }
 },
 "nbformat": 4,
 "nbformat_minor": 2
}