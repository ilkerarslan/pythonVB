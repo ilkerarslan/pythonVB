{
 "cells": [
  {
   "cell_type": "markdown",
   "metadata": {},
   "source": [
    "# Hata Ayıklama\n",
    "\n",
    "Python’da hatalı bir işlem yaptığımız, örneğin tanımlanmamış bir değişkeni kullanmaya çalıştığımızda, bir fonksiyona hatalı veri tipinde argüman girdiğimizde, hatanın nerden kaynaklandığını belirten mesajlarla karşılaşırız. Örneğin daha önce tanımlanmamış olan bir x değişkenini kullanmaya çalıştığımızda aşağıdaki gibi bir mesajla karşılaşırız. \n",
    "\n",
    "```Python\n",
    "print(x)\n",
    "----------------------------------------------------------------\n",
    "NameError                                 Traceback (most recent call last)\n",
    "<ipython-input-2-81745ac23551> in <module>()\n",
    "----> 1 print(x)\n",
    "\n",
    "NameError: name 'x' is not defined\n",
    "```\n",
    "\n",
    "Hata mesajındaki son satır, hatanın neden kaynaklandığını belirtmektedir. Buradaki mesaj, (NameError: İsim Hatası) ‘x’ değişkeninin tanımlanmamış olduğunu söylüyor. Aynı şekilde herhangi bir pakette yer alan fonksiyonu, paketi ya da ilgili fonksiyonu içeri aktarmaksızın kullanmaya kalkarsak da aynı mesajla karşılaşırız. \n",
    "\n",
    "```Python\n",
    "reduce(lambda x1,x2: x1 + x2, [3, 5, 7, 9])\n",
    "NameError: name 'reduce' is not defined\n",
    "```\n",
    "\n",
    "Ya da program çalışırken sir sayıyı sıfırla bölmeye çalışırsak buna ilişkin bir hata mesajıyla karşılaşırız ve programın çalışması durur. ZeroDivisionError, sıfırla bölme hatası anlamına geliyor.\n",
    "\n",
    "```Python\n",
    "5 / 0\n",
    "ZeroDivisionError: division by zero\n",
    "```\n",
    "\n",
    "Şimdi de sayısal bir değer kullanmamız gereken yerde metin tipinde bir değişken kullanalım. Görüldüğü gibi sayısal değer kullanmamız gereken bir fonksiyonda str (metin) tipinde veri kullandığımız için TypeError (Tür Hatası) ile karşılaşıyoruz. \n",
    "\n",
    "\n",
    "```Python\n",
    "us = 'iki'\n",
    "5 ** us\n",
    "TypeError: unsupported operand type(s) for ** or pow(): 'int' and 'str'\n",
    "```\n",
    "\n",
    "Son bir örnek olarak bilinmeyen bir paketi içeri aktarmaya çalışalım. Burada da `ModuleNotFound` yani modül bulunamadı hatası ile karşılaşıyoruz. \n",
    "\n",
    "```Python\n",
    "import yeni_paket\n",
    "ModuleNotFoundError: No module named 'yeni_paket'\n",
    "```\n",
    "\n",
    "Yukarıda örneklerini gördüğümüz, NameError, ZeroDivisionError, ModuleNotFoundError gibi mesajlara istisna (exeption) denir. Python’da yer karşılaşılabilecek hatalar için geliştirilmiş çok sayıda istisna mesajı vardır. Bunların https://docs.python.org/3/library/exceptions.html adresinden ulaşılabilir. \n",
    "\n",
    "Biz de yazdığımız programlarda kullanıcı hatalarına karşı uygun istisna mesajları yazarak olası hataların önüne geçebiliriz. Python’da hata yakalamanın bir yolu `try – except` anahtar kelimelerini kullanmaktır. `Try` kelimesinden sonra, çalıştırılmak istenen kod, `except` kelimesinden sonra da bu kod çalışmazsa verilecek mesaj yer alır. Örnek olarak verilen değerin karekökünü bulan bir fonksiyon yazalım."
   ]
  },
  {
   "cell_type": "code",
   "execution_count": 1,
   "metadata": {},
   "outputs": [],
   "source": [
    "def karekok(girdi):\n",
    "    try:\n",
    "        return girdi ** 0.5\n",
    "    except:\n",
    "        print('Argüman sayısal bir değer olmalı!!!')"
   ]
  },
  {
   "cell_type": "code",
   "execution_count": 2,
   "metadata": {},
   "outputs": [
    {
     "name": "stdout",
     "output_type": "stream",
     "text": [
      "4.0\n"
     ]
    }
   ],
   "source": [
    "print(karekok(16))"
   ]
  },
  {
   "cell_type": "code",
   "execution_count": 3,
   "metadata": {},
   "outputs": [
    {
     "name": "stdout",
     "output_type": "stream",
     "text": [
      "Argüman sayısal bir değer olmalı!!!\n",
      "None\n"
     ]
    }
   ],
   "source": [
    "print(karekok('dort'))"
   ]
  },
  {
   "cell_type": "markdown",
   "metadata": {},
   "source": [
    "Tanımladığımız fonksiyon önce verilen değerin karekökünü bulmayı deniyor (2. ve 3. satırlar). Burada bir hata ile karşılaşırsa `except` anahtar kelimesi ile gösterilen kısma geçiyor ve belirtilen hata mesajını veriyor. \n",
    "\n",
    "Örnek olarak basit bir başka fonksiyona bakalım. Şimdi de bir bölme fonksiyonu yazalım. Tabii ki böyle bir fonksiyona hiçbir zaman ihtiyacımız olmayacak ama `try, except` yapısının nasıl çalıştığını görmek için bu fonksiyonu kullanabiliriz."
   ]
  },
  {
   "cell_type": "code",
   "execution_count": 4,
   "metadata": {},
   "outputs": [],
   "source": [
    "def bolme(x,y):\n",
    "    try:\n",
    "        return x / y\n",
    "    except:\n",
    "        print(\"Sıfırla bölme hatası\")"
   ]
  },
  {
   "cell_type": "code",
   "execution_count": 5,
   "metadata": {},
   "outputs": [
    {
     "name": "stdout",
     "output_type": "stream",
     "text": [
      "2.5\n"
     ]
    }
   ],
   "source": [
    "print(bolme(10, 4))"
   ]
  },
  {
   "cell_type": "code",
   "execution_count": 6,
   "metadata": {},
   "outputs": [
    {
     "name": "stdout",
     "output_type": "stream",
     "text": [
      "Sıfırla bölme hatası\n",
      "None\n"
     ]
    }
   ],
   "source": [
    "print(bolme(5, 0))"
   ]
  },
  {
   "cell_type": "markdown",
   "metadata": {},
   "source": [
    "Beklediğimiz gibi bölen sıfır olduğunda program istediğimiz hatayı veriyor ve None değerini döndürüyor. \n",
    "\n",
    "Son olarak metin girilmesi gerektiği halde girilmeyen bir fonksiyon için `try – except` yapısı kuralım."
   ]
  },
  {
   "cell_type": "code",
   "execution_count": 7,
   "metadata": {},
   "outputs": [],
   "source": [
    "def tekrar_et(kelime, sayi):\n",
    "     try:\n",
    "        print(\"Sonuc: \" + kelime * sayi)\n",
    "     except:\n",
    "         print(\"Argüman olarak bir metin ve bir tamsayı girin!!!\")"
   ]
  },
  {
   "cell_type": "code",
   "execution_count": 8,
   "metadata": {},
   "outputs": [
    {
     "name": "stdout",
     "output_type": "stream",
     "text": [
      "Sonuc: deneme deneme deneme \n",
      "None\n"
     ]
    }
   ],
   "source": [
    "print(tekrar_et(\"deneme \", 3))"
   ]
  },
  {
   "cell_type": "code",
   "execution_count": 9,
   "metadata": {},
   "outputs": [
    {
     "name": "stdout",
     "output_type": "stream",
     "text": [
      "Argüman olarak bir metin ve bir tamsayı girin!!!\n",
      "None\n"
     ]
    }
   ],
   "source": [
    "print(tekrar_et(5, 3))"
   ]
  },
  {
   "cell_type": "markdown",
   "metadata": {},
   "source": [
    "İstersek türünü bildiğimiz hatalardan biri veya daha fazlası ile karşılaşıldığında da belirli bir hata mesajı verilmesini sağlayabiliriz. Yukarıdaki karekök alma örneğinde sayısal bir değer yerine metin tipindeki verinin girilmesinin `TypeError` olduğunu biliyoruz. Bu nedenle programa `TypeError` ile karşılaştığında nasıl bir mesaj vermesi gerektiğini söyleyebiliriz. "
   ]
  },
  {
   "cell_type": "code",
   "execution_count": 10,
   "metadata": {},
   "outputs": [],
   "source": [
    "def karekok(girdi):\n",
    "    try:\n",
    "        return girdi ** 0.5\n",
    "    except TypeError:\n",
    "        print('Argüman sayısal bir değer olmalı!!!')"
   ]
  },
  {
   "cell_type": "code",
   "execution_count": 11,
   "metadata": {},
   "outputs": [
    {
     "name": "stdout",
     "output_type": "stream",
     "text": [
      "Argüman sayısal bir değer olmalı!!!\n",
      "None\n"
     ]
    }
   ],
   "source": [
    "print(karekok(\"yirmi\"))"
   ]
  },
  {
   "cell_type": "markdown",
   "metadata": {},
   "source": [
    "Yazdığımız kodun belirli durumlarda hata ya da uyarı mesajı vermesini de isteyebiliriz. Yukarıda verdiğimiz karekök bulma örneğinde eğer eksi bir sayı girilirse normalde program karmaşık bir sayı üretecektir."
   ]
  },
  {
   "cell_type": "code",
   "execution_count": 12,
   "metadata": {},
   "outputs": [
    {
     "name": "stdout",
     "output_type": "stream",
     "text": [
      "(2.4492935982947064e-16+4j)\n"
     ]
    }
   ],
   "source": [
    "print(karekok(-16))"
   ]
  },
  {
   "cell_type": "markdown",
   "metadata": {},
   "source": [
    "Ancak, eksi bir sayı girildiğinde uyarı mesajı verilmesini istiyor olalım. "
   ]
  },
  {
   "cell_type": "code",
   "execution_count": 13,
   "metadata": {},
   "outputs": [],
   "source": [
    "def karekok(girdi):\n",
    "    if girdi < 0:\n",
    "        raise ValueError(\"Eksi bir sayı girdiniz!!!\")\n",
    "    try:\n",
    "        return girdi ** 0.5\n",
    "    except TypeError:\n",
    "        print('Argüman sayısal bir değer olmalı!!!')"
   ]
  },
  {
   "cell_type": "markdown",
   "metadata": {},
   "source": [
    "```Python\n",
    "print(karekok(-16))\n",
    "```\n",
    "\n",
    "```\n",
    "---------------------------------------------------------------------------\n",
    "ValueError                                Traceback (most recent call last)\n",
    "Cell In[15], line 1\n",
    "----> 1 print(karekok(-16))\n",
    "\n",
    "Cell In[14], line 3, in karekok(girdi)\n",
    "      1 def karekok(girdi):\n",
    "      2     if girdi < 0:\n",
    "----> 3         raise ValueError(\"Eksi bir sayı girdiniz!!!\")\n",
    "      4     try:\n",
    "      5         return girdi ** 0.5\n",
    "\n",
    "ValueError: Eksi bir sayı girdiniz!!!\n",
    "\n",
    "```"
   ]
  },
  {
   "cell_type": "code",
   "execution_count": 14,
   "metadata": {},
   "outputs": [],
   "source": [
    "def tekrar_et(kelime, sayi):\n",
    "     if sayi < 0:\n",
    "         raise ValueError(\"Sayı sıfırdan küçük olamaz!!!\")\n",
    "     try:\n",
    "        print(\"Sonuc: \" + kelime * sayi)\n",
    "     except:\n",
    "         print(\"Argüman olarak bir metin ve bir tamsayı girin!!!\")"
   ]
  },
  {
   "cell_type": "markdown",
   "metadata": {},
   "source": [
    "```Python\n",
    "print(tekrar_et(\"deneme\", -3))\n",
    "```\n",
    "\n",
    "```\n",
    "---------------------------------------------------------------------------\n",
    "ValueError                                Traceback (most recent call last)\n",
    "Cell In[19], line 1\n",
    "----> 1 print(tekrar_et(\"deneme\", -3))\n",
    "\n",
    "Cell In[18], line 3, in tekrar_et(kelime, sayi)\n",
    "      1 def tekrar_et(kelime, sayi):\n",
    "      2      if sayi < 0:\n",
    "----> 3          raise ValueError(\"Sayı sıfırdan küçük olamaz!!!\")\n",
    "      4      try:\n",
    "      5         print(\"Sonuc: \" + kelime * sayi)\n",
    "\n",
    "ValueError: Sayı sıfırdan küçük olamaz!!!\n",
    "```"
   ]
  }
 ],
 "metadata": {
  "kernelspec": {
   "display_name": ".venv",
   "language": "python",
   "name": "python3"
  },
  "language_info": {
   "codemirror_mode": {
    "name": "ipython",
    "version": 3
   },
   "file_extension": ".py",
   "mimetype": "text/x-python",
   "name": "python",
   "nbconvert_exporter": "python",
   "pygments_lexer": "ipython3",
   "version": "3.11.4"
  }
 },
 "nbformat": 4,
 "nbformat_minor": 2
}