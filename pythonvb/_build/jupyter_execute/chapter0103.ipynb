{
 "cells": [
  {
   "cell_type": "markdown",
   "metadata": {},
   "source": [
    "# Veri Yapıları\n",
    "\n",
    "Önceki bölümde, integer, string gibi temel veri türlerini gördük. Bunlar tekil verilerin alabileceği türleri ifade ediyor. Yani bu veri türleri, tek bir verinin hangi tipte olabileceğini gösterir. Gerçekte, neredeyse hiçbir zaman tek tek verilerle uğraşmayız. Verilerin bir araya gelerek oluşturduğu veri yapıları ile çalışırız. Bu veri yapıları, dizi, tablo küme hatta yığın şeklinde olabilir. Bu nedenle, birden fazla veriyi bir arada tutmak için kullanılan veri yapıları vardır. Bunları basitçe veri dizileri olarak isimlendirebiliriz. Veri dizilerini çok sayıda veriyi bir arada tutmak ve bunlarla istediğimiz işlemleri gerçekleştirmek için kullanabiliriz. Veri dizilerinin bir kısmı oluşturulduktan sonra değiştirilebilirken (mutable) bazı veri dizileri ise bir defa oluşturulduktan sonra değiştirilemez (immutable). Örneğin, liste, küme ve  sözlük veri yapıları değiştirilebilir veri dizileri iken tuple veri yapıları değiştirilemez türde verilerdir. \n",
    "\n",
    "Bir sınıftaki öğrencilerin notlarını aşağıdaki gibi farklı değişkenlere atayarak saklayabiliriz. "
   ]
  },
  {
   "cell_type": "code",
   "execution_count": 1,
   "metadata": {},
   "outputs": [],
   "source": [
    "not_Eren = 100\n",
    "not_Ilhan = 99\n",
    "not_Ali = 98\n",
    "not_Erman = 97\n",
    "not_Mehmet = 96"
   ]
  },
  {
   "cell_type": "markdown",
   "metadata": {},
   "source": [
    "Tahmin edeceğiniz gibi verilerle bu şekilde işlem yapmak çok zor. Veri sayısı arttıkça zorluk da artacaktır. Sözgelimi 1000 öğrencinin notunu saklamak ve incelemek için 1000 farklı değişken tanımlamak son derece güç olacaktır. Bunun yerine, tüm notları bir arada tutacak bir veri yapısına ihtiyacımız var. Bu veri yapılarının belirli bir biçimde olması da gerçekleştireceğimiz işlem ve analizleri kolaylaştıracaktır. Örneğin, notları aşağıdaki gibi farklı biçimlerde saklamayı deneyebiliriz. "
   ]
  },
  {
   "cell_type": "code",
   "execution_count": 2,
   "metadata": {},
   "outputs": [],
   "source": [
    "notlar =(not_Eren, not_Ilhan, not_Ali, not_Erman, not_Mehmet)\n",
    "isimler = {\"Eren\", \"Ilhan\", \"Ali\", \"Erman\", \"Mehmet\"}\n",
    "notlar = [100, 99, 98, 97, 96]"
   ]
  },
  {
   "cell_type": "markdown",
   "metadata": {},
   "source": [
    "veya"
   ]
  },
  {
   "cell_type": "code",
   "execution_count": 3,
   "metadata": {},
   "outputs": [],
   "source": [
    "notlar = {\"Eren\": 100, \"Ilhan\": 99, \"Ali\": 98, \"Erman\":97, \"Mehmet\":96}"
   ]
  },
  {
   "cell_type": "markdown",
   "metadata": {},
   "source": [
    "ya da\n",
    "\n",
    "| İsim      |  Not    |\n",
    "|:----------|--------:|\n",
    "| Eren      | 100     |\n",
    "| Ilhan     | 99      |\n",
    "| Ali       | 98      |\n",
    "| Erman     | 97      |\n",
    "| Mehmet    | 96      |\n",
    "\n",
    "Verileri bu şekilde gruplayarak her bir veriye değişken atamak yerine tüm verilerin bir arada olduğu veri yapısına bir değişken ismi atayabiliriz. Ayrıca, veriler üzerindeki işlemleri her birine ayrı ayrı değil topluca gerçekleştirebiliriz.\n",
    "\n",
    "Her programlama dilinin kendine özgü veri yapıları vardır. Bu ve bundan sonraki bölümlerde Python’da kullanılan veri yapılarını tanıyacağız. Bunlardan ilki de list yani liste veri yapısıdır. \n",
    "\n",
    "## List (Liste) Veri Yapısı\n",
    "\n",
    "Liste, isminden de anlaşılacağı üzere sıralı nesnelerden oluşan liste ya da dizilerdir. Listelerde yer alan veriler köşeli parantez [ ] içinde ve virgülle ayrılarak gösterilir. Listeler veriyi eklenme sırasına göre tutan ve içeriği sonradan değiştirilebilen veri yapılarıdır. Bir listeyi tanımladıktan sonra listenin bir veya daha fazla elemanını güncellemek mümkündür. \n",
    "\n",
    "Listenin elemanları önceki bölümde gördüğümüz veri tiplerinden herhangi birisi olabilir. Bir listenin elemanları farklı veri tipinde de olabilir. Hatta, bir listenin elemanları farklı listeler de olabilir. "
   ]
  },
  {
   "cell_type": "code",
   "execution_count": 4,
   "metadata": {},
   "outputs": [
    {
     "data": {
      "text/plain": [
       "[41, 42, 43, 44, 45]"
      ]
     },
     "execution_count": 4,
     "metadata": {},
     "output_type": "execute_result"
    }
   ],
   "source": [
    "liste1 = [41, 42, 43, 44, 45]\n",
    "liste1"
   ]
  },
  {
   "cell_type": "code",
   "execution_count": 5,
   "metadata": {},
   "outputs": [
    {
     "data": {
      "text/plain": [
       "['abc', 'def', 'xyz', 'ijk']"
      ]
     },
     "execution_count": 5,
     "metadata": {},
     "output_type": "execute_result"
    }
   ],
   "source": [
    "liste2 = [\"abc\", \"def\", \"xyz\", \"ijk\"]\n",
    "liste2"
   ]
  },
  {
   "cell_type": "code",
   "execution_count": 6,
   "metadata": {},
   "outputs": [
    {
     "data": {
      "text/plain": [
       "[123, 456, 'klm', 'xyz']"
      ]
     },
     "execution_count": 6,
     "metadata": {},
     "output_type": "execute_result"
    }
   ],
   "source": [
    "liste3 = [123, 456, \"klm\", \"xyz\"]\n",
    "liste3"
   ]
  },
  {
   "cell_type": "markdown",
   "metadata": {},
   "source": [
    "Bölüm başında verdiğimiz notlar örneğini bir liste içinde aşağıdaki şekillerde yazmak da mümkündür. "
   ]
  },
  {
   "cell_type": "code",
   "execution_count": 7,
   "metadata": {},
   "outputs": [
    {
     "data": {
      "text/plain": [
       "['Eren', 100, 'Ilhan', 99, 'Ali', 98, 'Erman', 97, 'Mehmet', 96]"
      ]
     },
     "execution_count": 7,
     "metadata": {},
     "output_type": "execute_result"
    }
   ],
   "source": [
    "notlar1 = [\"Eren\",100, \"Ilhan\",99, \"Ali\",98, \"Erman\",97, \"Mehmet\",96]\n",
    "notlar1"
   ]
  },
  {
   "cell_type": "code",
   "execution_count": 8,
   "metadata": {},
   "outputs": [
    {
     "data": {
      "text/plain": [
       "[['Eren', 100], ['Ilhan', 99], ['Ali', 98], ['Erman', 97], ['Mehmet', 96]]"
      ]
     },
     "execution_count": 8,
     "metadata": {},
     "output_type": "execute_result"
    }
   ],
   "source": [
    "notlar2 = [['Eren',100], \n",
    "          ['Ilhan',99],\n",
    "          ['Ali',98],\n",
    "          ['Erman',97],\n",
    "          ['Mehmet',96]]\n",
    "\n",
    "notlar2"
   ]
  },
  {
   "cell_type": "code",
   "execution_count": 9,
   "metadata": {},
   "outputs": [
    {
     "data": {
      "text/plain": [
       "[['Eren', 'Ilhan', 'Ali', 'Erman', 'Mehmet'], [100, 99, 98, 97, 96]]"
      ]
     },
     "execution_count": 9,
     "metadata": {},
     "output_type": "execute_result"
    }
   ],
   "source": [
    "notlar3 = [[\"Eren\", \"Ilhan\", \"Ali\", \"Erman\", \"Mehmet\"],\n",
    "           [100, 99, 98, 97, 96]]\n",
    "\n",
    "notlar3"
   ]
  },
  {
   "cell_type": "markdown",
   "metadata": {},
   "source": [
    "Yukarıda verilen örneklerde, birinci liste tamsayı, ikinci liste metin, üçüncü liste ise hem tamsayı hem de metin tipi verilerden oluşmaktadır. Boş bir liste oluşturmak için içi boş köşeli parantezler kullanılır: liste = [] gibi. \n",
    "\n",
    "Liste içinde değişken ismi de kullanabiliriz."
   ]
  },
  {
   "cell_type": "code",
   "execution_count": 10,
   "metadata": {},
   "outputs": [],
   "source": [
    "notlar = [not_Eren, not_Ilhan, not_Ali, not_Erman, not_Mehmet]"
   ]
  },
  {
   "cell_type": "code",
   "execution_count": 11,
   "metadata": {},
   "outputs": [],
   "source": [
    "notlar = [\"Eren\", not_Eren, \"Ilhan\", not_Ilhan, \"Ali\", not_Ali, \n",
    "          \"Erman\", not_Erman, \"Mehmet\", not_Mehmet]"
   ]
  },
  {
   "cell_type": "markdown",
   "metadata": {},
   "source": [
    "Bir listenin veri tipi list olarak belirtilir. Bunu `type()` fonksiyonu ile görebiliriz. "
   ]
  },
  {
   "cell_type": "code",
   "execution_count": 12,
   "metadata": {},
   "outputs": [
    {
     "name": "stdout",
     "output_type": "stream",
     "text": [
      "<class 'list'>\n",
      "9\n"
     ]
    }
   ],
   "source": [
    "liste = [12, 33, 45, 76, 35, 43, 18, 6, 7]\n",
    "print(type(liste))\n",
    "print(len(liste))\n"
   ]
  },
  {
   "cell_type": "markdown",
   "metadata": {},
   "source": [
    "Peki, listede yer alan verilerin bir kısmına nasıl erişebiliriz. Bir listenin elemanları sıfırdan başlayacak şekilde numaralandırılmıştır. Bir verinin listedeki sıra numarasına verinin indeksi de denir. \n",
    "\n",
    "Dikkat edilmesi gereken bir nokta, Python’da sıra numaralarının sıfır ile başlamasıdır. Bir listenin ilk elemanı 0, ikinci elemanı 1, üçüncü elemanı 2 sıra sayısını alır. Python’da sıfırla başlayan sıralama düzeni konusunda dikkatli olunmalıdır. Bir listenin herhangi bir sıradaki elemanını görmek için liste yanında köşeli parantez içinde sıra numarası yazılır. Yukarıdaki liste3 listesini ele alalım. "
   ]
  },
  {
   "cell_type": "code",
   "execution_count": 13,
   "metadata": {},
   "outputs": [
    {
     "data": {
      "text/plain": [
       "123"
      ]
     },
     "execution_count": 13,
     "metadata": {},
     "output_type": "execute_result"
    }
   ],
   "source": [
    "liste3[0]"
   ]
  },
  {
   "cell_type": "code",
   "execution_count": 14,
   "metadata": {},
   "outputs": [
    {
     "data": {
      "text/plain": [
       "456"
      ]
     },
     "execution_count": 14,
     "metadata": {},
     "output_type": "execute_result"
    }
   ],
   "source": [
    "liste3[1]"
   ]
  },
  {
   "cell_type": "code",
   "execution_count": 15,
   "metadata": {},
   "outputs": [
    {
     "data": {
      "text/plain": [
       "'klm'"
      ]
     },
     "execution_count": 15,
     "metadata": {},
     "output_type": "execute_result"
    }
   ],
   "source": [
    "liste3[2]"
   ]
  },
  {
   "cell_type": "code",
   "execution_count": 16,
   "metadata": {},
   "outputs": [
    {
     "data": {
      "text/plain": [
       "'xyz'"
      ]
     },
     "execution_count": 16,
     "metadata": {},
     "output_type": "execute_result"
    }
   ],
   "source": [
    "liste3[3]"
   ]
  },
  {
   "cell_type": "code",
   "execution_count": 17,
   "metadata": {},
   "outputs": [
    {
     "data": {
      "text/plain": [
       "int"
      ]
     },
     "execution_count": 17,
     "metadata": {},
     "output_type": "execute_result"
    }
   ],
   "source": [
    "type(liste3[0])"
   ]
  },
  {
   "cell_type": "code",
   "execution_count": 18,
   "metadata": {},
   "outputs": [
    {
     "data": {
      "text/plain": [
       "str"
      ]
     },
     "execution_count": 18,
     "metadata": {},
     "output_type": "execute_result"
    }
   ],
   "source": [
    "type(liste3[2])"
   ]
  },
  {
   "cell_type": "markdown",
   "metadata": {},
   "source": [
    "Bir listenin elemanlarına liste sonundan başlayarak da erişebiliriz. Listenin ilk elemanının sıra numarasının sıfır olduğunu söylemiştik. Liste elemanlarını sondan başa numaralandırmak içinse sondaki eleman -1, ondan bir önceki eleman -2, bir önceki -3 sıra numarası veririz."
   ]
  },
  {
   "cell_type": "code",
   "execution_count": 19,
   "metadata": {},
   "outputs": [
    {
     "data": {
      "text/plain": [
       "19"
      ]
     },
     "execution_count": 19,
     "metadata": {},
     "output_type": "execute_result"
    }
   ],
   "source": [
    "liste = [4, 7, 9, 12, 15, 19]\n",
    "liste[-1]"
   ]
  },
  {
   "cell_type": "code",
   "execution_count": 20,
   "metadata": {},
   "outputs": [
    {
     "data": {
      "text/plain": [
       "15"
      ]
     },
     "execution_count": 20,
     "metadata": {},
     "output_type": "execute_result"
    }
   ],
   "source": [
    "liste[-2]"
   ]
  },
  {
   "cell_type": "code",
   "execution_count": 21,
   "metadata": {},
   "outputs": [
    {
     "data": {
      "text/plain": [
       "12"
      ]
     },
     "execution_count": 21,
     "metadata": {},
     "output_type": "execute_result"
    }
   ],
   "source": [
    "liste[-3]"
   ]
  },
  {
   "cell_type": "markdown",
   "metadata": {},
   "source": [
    "Şimdiye kadar sadece listedeki bir elemana erişmek için gerekli yazım şeklini gördük. Peki birden fazla elemana erişmek için ne yazmamız gerekir? Örneğin, listedeki 2 ve 5 sıra sayısına sahip elemanları çekmek için ne yazmamız gerekir? Ardışık sıra numaralarını belirtmek için iki nokta (`:`) işareti kullanılır. \n",
    "\n",
    "Ancak, listede : işaretini kullanarak birden fazla elemana erişirken bir noktaya çok dikkat edilmelidir. Örneğin yukarıdaki listeyi ele alalım. Listenin 2, 3, ve 4 sıra numarasına sahip elemanlarını görmek için ne yazmalıyız? İlk verinin sıra numarasının 0 olduğunu unutmayın. Bu durumda listedeki 2,3 ve 4 sıra numarasına sahip veriler 9, 12 ve 15 oluyor? Akla gelen ilk cevap liste[2:4] yazmaktır. Ancak aşağıda liste[2:4] yazdığımızda ne çıktığına bakalım. "
   ]
  },
  {
   "cell_type": "code",
   "execution_count": 22,
   "metadata": {},
   "outputs": [
    {
     "data": {
      "text/plain": [
       "[9, 12]"
      ]
     },
     "execution_count": 22,
     "metadata": {},
     "output_type": "execute_result"
    }
   ],
   "source": [
    "liste = [4, 7, 9, 12, 15, 19]\n",
    "liste[2:4]"
   ]
  },
  {
   "cell_type": "markdown",
   "metadata": {},
   "source": [
    "Bir listeden ardışık elemanları çekerken liste[a:b] yazdığımızda a sıra numarası ile başlayan ve b sıra numarası ile biten verilerin gelmesini bekleriz. Ancak, b sıra numarasındaki veri işleme dahil edilmez. Ondan bir önceki veri alınır. Yani, liste[2:4] yazdığımızda 2. ve 3. sıradaki elemanlar gelir ama 4. sıradaki eleman dahil edilmez. Bu nedenle istediğimiz en son sıranın bir fazlasını yazmamız gerekir. Örneğin, yukarıdaki listenin ilk 3 elemanını almak için hangi indeks numaralarını yazmak gerekir? İlk üç elemanın indeks numaraları 0, 1 ve 2’dir. İstediğimiz ilk elemanın indeks numarasını ve son elemanın indeks numarasının bir fazlasını yazmamız gerektiğini hatırlayalım. "
   ]
  },
  {
   "cell_type": "code",
   "execution_count": 23,
   "metadata": {},
   "outputs": [
    {
     "data": {
      "text/plain": [
       "[4, 7, 9]"
      ]
     },
     "execution_count": 23,
     "metadata": {},
     "output_type": "execute_result"
    }
   ],
   "source": [
    "liste[0:3]"
   ]
  },
  {
   "cell_type": "markdown",
   "metadata": {},
   "source": [
    "(:) işaretinin soluna herhangi bir sayı yazılmazsa, burada sıfır olduğu varsayılır. Yani liste[:3] ile liste[0:3] aynı anlama gelmektedir. "
   ]
  },
  {
   "cell_type": "code",
   "execution_count": 24,
   "metadata": {},
   "outputs": [
    {
     "data": {
      "text/plain": [
       "True"
      ]
     },
     "execution_count": 24,
     "metadata": {},
     "output_type": "execute_result"
    }
   ],
   "source": [
    "liste[:3] == liste[0:3]"
   ]
  },
  {
   "cell_type": "markdown",
   "metadata": {},
   "source": [
    "Benzer şekilde (:) işaretinin sağına herhangi bir sayı yazılmazsa, listenin sonuna kadar bütün veriler alınır. Örneğin, liste[3: ] yazıldığında, 3 sıra numarasına sahip veriden başlayarak liste sonuna kadar tüm veriler çekilir. "
   ]
  },
  {
   "cell_type": "code",
   "execution_count": 25,
   "metadata": {},
   "outputs": [
    {
     "data": {
      "text/plain": [
       "[12, 15, 19]"
      ]
     },
     "execution_count": 25,
     "metadata": {},
     "output_type": "execute_result"
    }
   ],
   "source": [
    "liste[3:]"
   ]
  },
  {
   "cell_type": "markdown",
   "metadata": {},
   "source": [
    "Üçüncü olarak sayıların kaçar atlanarak seçileceğini gösteren bir sayı yazabiliriz. Örneğin, liste[a:b:k] yazdığımızda, a sıra numarasından başlayıp b-1 sıra numarasında biten ve k atlayarak giden bir seçim yapılmasını isteriz. Aşağıdaki örnekte, listede 3. sıra numarasında başlayıp 11. sıra numarasına kadar, ikişer atlayarak giden bir seçim yapıyoruz.  "
   ]
  },
  {
   "cell_type": "code",
   "execution_count": 26,
   "metadata": {},
   "outputs": [
    {
     "data": {
      "text/plain": [
       "[12, 19, 6, 12, 11]"
      ]
     },
     "execution_count": 26,
     "metadata": {},
     "output_type": "execute_result"
    }
   ],
   "source": [
    "liste = [4, 7, 9, 12, 15, 19, 3, 6, 8, 12, 13, 11, 2, 5, 9]\n",
    "liste[3:12:2]"
   ]
  },
  {
   "cell_type": "markdown",
   "metadata": {},
   "source": [
    "Şimdi de daha önceki örneklerde gördüğümüz listelerden oluşmuş listeyi dikkate alalım. Listenin içindeki listelerin elemanlarına nasıl erişebiliriz?"
   ]
  },
  {
   "cell_type": "code",
   "execution_count": 27,
   "metadata": {},
   "outputs": [
    {
     "data": {
      "text/plain": [
       "['Eren', 100]"
      ]
     },
     "execution_count": 27,
     "metadata": {},
     "output_type": "execute_result"
    }
   ],
   "source": [
    "notlar = [['Eren', 100],\n",
    "          ['Ilhan', 99],\n",
    "          ['Ali', 98],\n",
    "          ['Erman', 97],\n",
    "          ['Mehmet', 96]]\n",
    "\n",
    "notlar[0]"
   ]
  },
  {
   "cell_type": "code",
   "execution_count": 28,
   "metadata": {},
   "outputs": [
    {
     "data": {
      "text/plain": [
       "['Ali', 98]"
      ]
     },
     "execution_count": 28,
     "metadata": {},
     "output_type": "execute_result"
    }
   ],
   "source": [
    "notlar[2]"
   ]
  },
  {
   "cell_type": "code",
   "execution_count": 29,
   "metadata": {},
   "outputs": [
    {
     "data": {
      "text/plain": [
       "['Mehmet', 96]"
      ]
     },
     "execution_count": 29,
     "metadata": {},
     "output_type": "execute_result"
    }
   ],
   "source": [
    "notlar[-1]"
   ]
  },
  {
   "cell_type": "markdown",
   "metadata": {},
   "source": [
    "Liste ismi ile endekslediğimizde beklenen şekilde liste içindeki listelere erişiyoruz. Peki, örneğin 2. sıradaki listenin ikinci elemanına erişmek istersek ne yapmamız gerekir? Dikkat ederseniz, notlar[1] şeklinde belirtilen verinin kendisi de bir listedir. O halde bu listenin içindeki bir elemana erişmek için yanına bir [ ] daha getirmek gerekir. Diyelim ki ana listenin 2. sırasındaki alt listedeki ismi ve notu görmek istiyoruz. İkinci sıradaki elemanın indeks değerinin 1 olduğunu hatırlayalım. "
   ]
  },
  {
   "cell_type": "code",
   "execution_count": 30,
   "metadata": {},
   "outputs": [
    {
     "data": {
      "text/plain": [
       "'Ilhan'"
      ]
     },
     "execution_count": 30,
     "metadata": {},
     "output_type": "execute_result"
    }
   ],
   "source": [
    "notlar[1][0]"
   ]
  },
  {
   "cell_type": "code",
   "execution_count": 31,
   "metadata": {},
   "outputs": [
    {
     "data": {
      "text/plain": [
       "99"
      ]
     },
     "execution_count": 31,
     "metadata": {},
     "output_type": "execute_result"
    }
   ],
   "source": [
    "notlar[1][1]"
   ]
  },
  {
   "cell_type": "code",
   "execution_count": 32,
   "metadata": {},
   "outputs": [
    {
     "data": {
      "text/plain": [
       "'Ilhan'"
      ]
     },
     "execution_count": 32,
     "metadata": {},
     "output_type": "execute_result"
    }
   ],
   "source": [
    "(isim, puan) = (notlar[1][0], notlar[1][1])\n",
    "isim"
   ]
  },
  {
   "cell_type": "code",
   "execution_count": 33,
   "metadata": {},
   "outputs": [
    {
     "data": {
      "text/plain": [
       "99"
      ]
     },
     "execution_count": 33,
     "metadata": {},
     "output_type": "execute_result"
    }
   ],
   "source": [
    "puan"
   ]
  },
  {
   "cell_type": "markdown",
   "metadata": {},
   "source": [
    "Yukarıda da bahsettiğimiz gibi bir listenin elemanları değiştirilebilir. Yani, herhangi bir sıradaki değeri farklı bir değerle değiştirebiliriz. String ya da bytes veri tipinde bunun mümkün olmadığını hatırlayalım. Bir listenin herhangi bir elemanını değiştirmek için basitçe liste adı ile birlikte köşeli parantez içinde ilgili sıra numarasını yazdıktan sonra eşittir işareti kullanarak buraya atamak istediğimiz değeri yazarız. "
   ]
  },
  {
   "cell_type": "code",
   "execution_count": 34,
   "metadata": {},
   "outputs": [
    {
     "data": {
      "text/plain": [
       "[1, 2, 3, 10]"
      ]
     },
     "execution_count": 34,
     "metadata": {},
     "output_type": "execute_result"
    }
   ],
   "source": [
    "liste = [1, 2, 3, 4]\n",
    "liste[3] = 10\n",
    "liste"
   ]
  },
  {
   "cell_type": "code",
   "execution_count": 35,
   "metadata": {},
   "outputs": [
    {
     "data": {
      "text/plain": [
       "['sayılar', 2, 3, 10]"
      ]
     },
     "execution_count": 35,
     "metadata": {},
     "output_type": "execute_result"
    }
   ],
   "source": [
    "liste[0] = \"sayılar\"\n",
    "liste"
   ]
  },
  {
   "cell_type": "markdown",
   "metadata": {},
   "source": [
    "Bir listedeki herhangi bir elemanın hangi sırada olduğunu yani indeks numarasını öğrenmek için `.index()` metodunu kullanabiliriz. "
   ]
  },
  {
   "cell_type": "code",
   "execution_count": 36,
   "metadata": {},
   "outputs": [
    {
     "data": {
      "text/plain": [
       "4"
      ]
     },
     "execution_count": 36,
     "metadata": {},
     "output_type": "execute_result"
    }
   ],
   "source": [
    "notlar = ['Eren', 100, 'Ilhan', 99, \n",
    "          'Ali', 98, 'Erman', 97, \n",
    "          'Mehmet', 96]\n",
    "notlar.index('Ali')"
   ]
  },
  {
   "cell_type": "code",
   "execution_count": 37,
   "metadata": {},
   "outputs": [
    {
     "data": {
      "text/plain": [
       "5"
      ]
     },
     "execution_count": 37,
     "metadata": {},
     "output_type": "execute_result"
    }
   ],
   "source": [
    "notlar.index(98)"
   ]
  },
  {
   "cell_type": "markdown",
   "metadata": {},
   "source": [
    "Belirli bir sıradaki elemanı listeden silmenin bir yöntemi de .pop() yöntemini kullanmaktır. Bu metod istenen elemanı listeden çıkarırken aynı zamanda elemanı farklı bir değişken adı ile kaydetmeye de izin verir. "
   ]
  },
  {
   "cell_type": "code",
   "execution_count": 38,
   "metadata": {},
   "outputs": [
    {
     "name": "stdout",
     "output_type": "stream",
     "text": [
      "liste:  ['A', 'B', 'C', 'D', 'E']\n",
      "silinen değer:  D\n",
      "liste:  ['A', 'B', 'C', 'E']\n"
     ]
    }
   ],
   "source": [
    "liste = ['A', 'B', 'C', 'D', 'E']\n",
    "print(\"liste: \", liste)\n",
    "sil = liste.pop(3)\n",
    "print(\"silinen değer: \", sil)\n",
    "print(\"liste: \", liste)"
   ]
  },
  {
   "cell_type": "markdown",
   "metadata": {},
   "source": [
    "Bir listedeki herhangi bir elemanın sayısını görmek için `.count()` metodu kullanılabilir. Aşağıdaki örnekte, olçum_degerleri listesinde 3 adet 4 sayısının yer aldığı görülmektedir. "
   ]
  },
  {
   "cell_type": "code",
   "execution_count": 39,
   "metadata": {},
   "outputs": [
    {
     "data": {
      "text/plain": [
       "3"
      ]
     },
     "execution_count": 39,
     "metadata": {},
     "output_type": "execute_result"
    }
   ],
   "source": [
    "olcum = [1, 3, 6, 9, 3, 4, 4, 7, 8, 2, 4, 2, 1]\n",
    "olcum.count(4)"
   ]
  },
  {
   "cell_type": "markdown",
   "metadata": {},
   "source": [
    "Listede olmayan bir sıra numarasına atama yapmayı denerseniz aşağıdaki gibi bir hata mesajı alırsınız. \n",
    "\n",
    "```Python\n",
    "liste[4] = 15\n",
    "\n",
    "Traceback (most recent call last):\n",
    "  File \"<stdin>\", line 1, in <module>\n",
    "IndexError: list assignment index out of range\n",
    "```\n",
    "\n",
    "Bu örnekte gördüğümüz gibi listenin olmayan sıradaki elemanına doğrudan atama yapmak mümkün değildir. Ancak bir listeye yeni eleman atamak için `.append()` metodu kullanılabilir. "
   ]
  },
  {
   "cell_type": "code",
   "execution_count": 40,
   "metadata": {},
   "outputs": [
    {
     "name": "stdout",
     "output_type": "stream",
     "text": [
      "liste:  ['A', 'B', 'C', 'E']\n",
      "liste:  ['A', 'B', 'C', 'E', 12]\n",
      "liste:  ['A', 'B', 'C', 'E', 12, 15]\n"
     ]
    }
   ],
   "source": [
    "print(\"liste: \", liste)\n",
    "liste.append (12)\n",
    "print(\"liste: \", liste)\n",
    "liste.append (15)\n",
    "print(\"liste: \", liste)"
   ]
  },
  {
   "cell_type": "markdown",
   "metadata": {},
   "source": [
    "Listeye yeni veri eklemenin daha kolay bir yolu da `+` operatörünü kullanmaktır. İki liste arasında `+` işareti kullanıldığında, Python bu iki listeyi arka arkaya ekleyip yeni bir liste oluşturur. "
   ]
  },
  {
   "cell_type": "code",
   "execution_count": 41,
   "metadata": {},
   "outputs": [
    {
     "name": "stdout",
     "output_type": "stream",
     "text": [
      "[3, 7, 12, 15]\n"
     ]
    },
    {
     "data": {
      "text/plain": [
       "[3, 7, 12, 15, 19, 23]"
      ]
     },
     "execution_count": 41,
     "metadata": {},
     "output_type": "execute_result"
    }
   ],
   "source": [
    "sayilar = [3, 7, 12, 15]\n",
    "print(sayilar)\n",
    "sayilar + [19, 23]"
   ]
  },
  {
   "cell_type": "code",
   "execution_count": 42,
   "metadata": {},
   "outputs": [
    {
     "data": {
      "text/plain": [
       "['Eren', 100, 'Ilhan', 99, 'Ali', 98, 'Erman', 97, 'Mehmet', 96, 'İlker', 76]"
      ]
     },
     "execution_count": 42,
     "metadata": {},
     "output_type": "execute_result"
    }
   ],
   "source": [
    "notlar + [\"İlker\", 76]"
   ]
  },
  {
   "cell_type": "markdown",
   "metadata": {},
   "source": [
    "İki listeyi birleştirmenin bir başka yolu da `.extend()` metodunu kullanmaktır. "
   ]
  },
  {
   "cell_type": "code",
   "execution_count": 43,
   "metadata": {},
   "outputs": [
    {
     "name": "stdout",
     "output_type": "stream",
     "text": [
      "[1, 2, 3, 4, 'bir', 'iki', 'üç', 'dört']\n"
     ]
    }
   ],
   "source": [
    "liste1 = [1, 2, 3, 4]\n",
    "liste2 = ['bir', 'iki', 'üç', 'dört']\n",
    "liste1.extend(liste2)\n",
    "print(liste1)"
   ]
  },
  {
   "cell_type": "markdown",
   "metadata": {},
   "source": [
    "Görüldüğü gibi `.extend()` metodu `+` operatöründen farklı olarak uygulandığı listeyi otomatik olarak güncelliyor. \n",
    "\n",
    "Bir listedeki elemanı silmek içinse `del()` fonksiyonu kullanılır. "
   ]
  },
  {
   "cell_type": "code",
   "execution_count": 44,
   "metadata": {},
   "outputs": [
    {
     "data": {
      "text/plain": [
       "[3, 7, 12, 15]"
      ]
     },
     "execution_count": 44,
     "metadata": {},
     "output_type": "execute_result"
    }
   ],
   "source": [
    "sayilar"
   ]
  },
  {
   "cell_type": "code",
   "execution_count": 45,
   "metadata": {},
   "outputs": [
    {
     "data": {
      "text/plain": [
       "[3, 7, 12]"
      ]
     },
     "execution_count": 45,
     "metadata": {},
     "output_type": "execute_result"
    }
   ],
   "source": [
    "del(sayilar[3])\n",
    "sayilar"
   ]
  },
  {
   "cell_type": "markdown",
   "metadata": {},
   "source": [
    "Listeden eleman silmenin bir başka yolu da `.remove()` metodunu kullanmaktır. Bu metod, verilen elemanı listede ilk gördüğü yerde siler. Burada dikkat edilmesi gereken nokta eğer silinmesi istenen eleman listede birden fazla ise sadece ilki silinir. Diğerlerine dokunulmaz. "
   ]
  },
  {
   "cell_type": "code",
   "execution_count": 46,
   "metadata": {},
   "outputs": [
    {
     "data": {
      "text/plain": [
       "[93, 86, 78, 52, 45, 95, 100]"
      ]
     },
     "execution_count": 46,
     "metadata": {},
     "output_type": "execute_result"
    }
   ],
   "source": [
    "notlar = [100, 93, 86, 78, 52, 45, 95, 100]\n",
    "notlar.remove(100)\n",
    "notlar"
   ]
  },
  {
   "cell_type": "markdown",
   "metadata": {},
   "source": [
    "Liste elemanlarını sıralamak için `sorted()` fonksiyonu kullanılır. "
   ]
  },
  {
   "cell_type": "code",
   "execution_count": 47,
   "metadata": {},
   "outputs": [
    {
     "data": {
      "text/plain": [
       "[2, 3, 3, 4, 5, 7, 7, 9, 11, 18]"
      ]
     },
     "execution_count": 47,
     "metadata": {},
     "output_type": "execute_result"
    }
   ],
   "source": [
    "liste = [3, 7, 2, 11, 3, 7, 9, 5, 18, 4]\n",
    "sorted(liste)"
   ]
  },
  {
   "cell_type": "markdown",
   "metadata": {},
   "source": [
    "Sıralamayı büyükten küçüğe yapmak içinse fonksiyonda `reverse = True` argümanı kullanılır."
   ]
  },
  {
   "cell_type": "code",
   "execution_count": 48,
   "metadata": {},
   "outputs": [
    {
     "data": {
      "text/plain": [
       "[18, 11, 9, 7, 7, 5, 4, 3, 3, 2]"
      ]
     },
     "execution_count": 48,
     "metadata": {},
     "output_type": "execute_result"
    }
   ],
   "source": [
    "sorted(liste, reverse=True)"
   ]
  },
  {
   "cell_type": "markdown",
   "metadata": {},
   "source": [
    "Bir listenin elemanlarını tersten yazdırmak için `.reverse()` metodu kullanılır. "
   ]
  },
  {
   "cell_type": "code",
   "execution_count": 49,
   "metadata": {},
   "outputs": [
    {
     "data": {
      "text/plain": [
       "[100, 95, 45, 52, 78, 86, 93]"
      ]
     },
     "execution_count": 49,
     "metadata": {},
     "output_type": "execute_result"
    }
   ],
   "source": [
    "notlar.reverse()\n",
    "notlar"
   ]
  },
  {
   "cell_type": "markdown",
   "metadata": {},
   "source": [
    "Python’da bir liste oluşturduğumuzda bu liste bilgisayar hafızasında saklanır. Bu listeye isim verdiğimizde, bu isim aslında listedeki verileri içermez. Listedeki verilerin geçici hafızada saklandığı adresi gösteren bir işaret görevi görür. \n",
    "\n",
    "\n",
    "![Liste Yapisi](figures/liste_yapisi.png)\n",
    "\n",
    "Diyelim ki yeni bir liste oluşturup **sayilar** listesini bu listeye atamak istiyoruz."
   ]
  },
  {
   "cell_type": "code",
   "execution_count": 50,
   "metadata": {},
   "outputs": [
    {
     "data": {
      "text/plain": [
       "[3, 7, 12]"
      ]
     },
     "execution_count": 50,
     "metadata": {},
     "output_type": "execute_result"
    }
   ],
   "source": [
    "numaralar = sayilar\n",
    "numaralar"
   ]
  },
  {
   "cell_type": "markdown",
   "metadata": {},
   "source": [
    "Bu durumda, **sayilar** listesi ile aynı adresi gösteren bir **numaralar** listesi oluşturmuş oluyoruz. \n",
    "\n",
    "![Listeye yeni isim atama](figures/liste_yapisi_2.png)\n",
    "\n",
    "Peki bunun anlamı nedir? Bu iki liste aynı adresi işaret ettiğinden, bunlardan birinde yapılan bir değişiklik diğerini de etkiler. Örneğin sayılar listesinin ilk elemanını 5 yapalım. Bu durumda numaralar listesinin de ilk elemanı 5 olur. Çünkü iki değişken de aynı adresi göstermektedir. "
   ]
  },
  {
   "cell_type": "code",
   "execution_count": 51,
   "metadata": {},
   "outputs": [
    {
     "name": "stdout",
     "output_type": "stream",
     "text": [
      "[999, 7, 12]\n"
     ]
    }
   ],
   "source": [
    "sayilar[0] = 999             # listenin ilk elemanını 999 yaptık\n",
    "print(sayilar)               # sayilar listesi değişti"
   ]
  },
  {
   "cell_type": "code",
   "execution_count": 52,
   "metadata": {},
   "outputs": [
    {
     "name": "stdout",
     "output_type": "stream",
     "text": [
      "[999, 7, 12]\n"
     ]
    }
   ],
   "source": [
    "print(numaralar)            # ama numaralar da değişti"
   ]
  },
  {
   "cell_type": "markdown",
   "metadata": {},
   "source": [
    "Bir listeyi aynı şekilde başka bir listeye kopyalamak ve iki değişkenin farklı listeleri göstermesini istersek ne yapabiliriz? Listeyi farklı bir adreste aşağıdaki gibi kopyalamamız gerekiyor.  \n",
    "\n",
    "![Listeyi yeni adrese kopyalama](figures/liste_yapisi_3.png)\n",
    "\n",
    "Listenin yukarıdaki şekilde yeni bir kopyasını oluşturmanın iki yolu vardır. "
   ]
  },
  {
   "cell_type": "code",
   "execution_count": 53,
   "metadata": {},
   "outputs": [],
   "source": [
    "numaralar = sayilar[:]\n",
    "numaralar = list(sayilar)"
   ]
  },
  {
   "cell_type": "markdown",
   "metadata": {},
   "source": [
    "Listenin kopyasını yukarıdaki şekilde oluşturduğumuzda, listeler farklı adresleri gösterir. Bu nedenle bunlardan birinde yapılan değişiklik diğerini etkilemez. "
   ]
  },
  {
   "cell_type": "code",
   "execution_count": 54,
   "metadata": {},
   "outputs": [
    {
     "data": {
      "text/plain": [
       "[0, 7, 12]"
      ]
     },
     "execution_count": 54,
     "metadata": {},
     "output_type": "execute_result"
    }
   ],
   "source": [
    "sayilar[0] = 0\n",
    "sayilar"
   ]
  },
  {
   "cell_type": "code",
   "execution_count": 55,
   "metadata": {},
   "outputs": [
    {
     "data": {
      "text/plain": [
       "[999, 7, 12]"
      ]
     },
     "execution_count": 55,
     "metadata": {},
     "output_type": "execute_result"
    }
   ],
   "source": [
    "numaralar"
   ]
  },
  {
   "cell_type": "markdown",
   "metadata": {},
   "source": [
    "## Tuple (Demet) Veri Yapısı\n",
    "\n",
    "Bir başka veri yapısı olan tuple, listelere çok benzer. Listeler gibi verileri aldıkları sırada saklar ve saklanan veriye indeks numarası ile erişmek mümkündür. Ancak listelerden farklı olarak bir defa tanımlandıktan sonra tuple veri yapısındaki değerleri değiştirmek mümkün değildir. Bu nedenle, oluşturulan bir verinin kesinlikle değiştirilmemesi gereken zamanlardan tuple veri yapısı daha güvenilirdir. Bu özellik, veri güvenliği ve korunmasının gerekli olduğu işlerde çok faydalıdır. Yaptığınız işlerde veya projelerde, bilinçli veya bilinçsiz olarak değiştirilmesini istemediğiniz verileri tuple verisi olarak tanımlayıp olası hataların önüne geçebilirsiniz. \n",
    "\n",
    "Tuple veri yapısının listelerden bir diğer farkı da listeler köşeli parantezle gösterilirken, tuple veri yapısının normal parantezle tanımlanmasıdır. Tuple veri yapısı tıpkı listeler gibi ancak normal parantez kullanılarak oluşturulur. "
   ]
  },
  {
   "cell_type": "code",
   "execution_count": 56,
   "metadata": {},
   "outputs": [],
   "source": [
    "tuple1 = (3.14, 2.78, 5.67, 2.18)\n",
    "tuple2 = (\"İstanbul\", \"Ankara\", \"İzmir\", \"Bursa\", \"Adana\")\n",
    "tuple3 = (\"Fizik\", \"Matematik\", \"Kimya\", 100, 99, 97)"
   ]
  },
  {
   "cell_type": "markdown",
   "metadata": {},
   "source": [
    "Görüldüğü gibi tuple veri yapısı da listeler gibi farklı türde verileri içerebilir. Tuple veri yapısı da diğer Python’daki diğer verilerde olduğu gibi sıfır indeks numarası ile başlar. "
   ]
  },
  {
   "cell_type": "code",
   "execution_count": 57,
   "metadata": {},
   "outputs": [
    {
     "name": "stdout",
     "output_type": "stream",
     "text": [
      "3.14\n",
      "('Ankara', 'İzmir')\n"
     ]
    }
   ],
   "source": [
    "print(tuple1[0])\n",
    "print(tuple2[1:3])"
   ]
  },
  {
   "cell_type": "markdown",
   "metadata": {},
   "source": [
    "Yukarıda da belirttiğimiz gibi tuple verilerini tanımladıktan sonra bunlarda değişiklik yapmak mümkün değildir. Aynı şekilde tuple nesnelerine veri eklemek ya da bunlardan veri silmek de mümkün değildir.\n",
    "\n",
    "```Python\n",
    "tuple2[4] = \"Mersin\"\n",
    "TypeError: 'tuple' object does not support item assignment\n",
    "```\n",
    "\n",
    "Bir tuple nesnesinin içeriğini de farklı değişkenlere atamak mümkündür. "
   ]
  },
  {
   "cell_type": "code",
   "execution_count": 58,
   "metadata": {},
   "outputs": [
    {
     "name": "stdout",
     "output_type": "stream",
     "text": [
      "3.14\n",
      "2.78\n"
     ]
    }
   ],
   "source": [
    "tuple1 = (3.14, 2.78)\n",
    "pi, e = tuple1            # ya da pi, e = 3.14, 2.78\n",
    "print(pi)\n",
    "print(e)"
   ]
  },
  {
   "cell_type": "markdown",
   "metadata": {},
   "source": [
    "Yukarıdaki örnekte dikkat etmemiz gereken nokta tuple nesnesindeki veri sayısı kadar değişken kullanmamız gerektiğidir. Daha az veya daha fazla sayıda değişken girersek hata mesajı ile karşılaşırız. \n",
    "\n",
    "```Python\n",
    "tuple2 = (7,8,9)\n",
    "a, b = tuple2\n",
    "ValueError: too many values to unpack (expected 2)\n",
    "\n",
    "\n",
    "\n",
    "a, b, c, d = tuple2\n",
    "ValueError: not enough values to unpack (expected 4, got 3)\n",
    "```"
   ]
  },
  {
   "cell_type": "markdown",
   "metadata": {},
   "source": [
    "## Set (Küme) Veri Yapısı\n",
    "\n",
    "Veri nesnelerini herhangi bir sıralama olmaksızın ve her nesneden sadece bir tane olacak şekilde kaydetmek istersek set (küme) veri yapısını kullanabiliriz. Set veri yapısı adını matematikteki küme tanımından almıştır. Tıpkı matematikteki küme tanımı gibi bu veri yapılarında her veriden sadece bir tane bulunur ve verilerin sırası önemli değildir. Set veri yapısı da Listeler gibi sonradan değiştirilebilir (mutable) verilerdir. Set (küme) veri yapısı oluşturmak için `set()` fonksiyonu kullanılır. Örneğin, alışveriş listenizi bir set veri yapısı olarak kaydettiğinizi varsayalım. "
   ]
  },
  {
   "cell_type": "code",
   "execution_count": 59,
   "metadata": {},
   "outputs": [],
   "source": [
    "alisveris_listesi = set(['ekmek', 'süt', 'yoğurt', 'pirinç', 'bal', 'meyve', 'ekmek', 'süt', 'bal'])"
   ]
  },
  {
   "cell_type": "code",
   "execution_count": 60,
   "metadata": {},
   "outputs": [
    {
     "name": "stdout",
     "output_type": "stream",
     "text": [
      "{'meyve', 'yoğurt', 'pirinç', 'süt', 'bal', 'ekmek'}\n"
     ]
    }
   ],
   "source": [
    "alisveris = set(alisveris_listesi)\n",
    "print(alisveris)"
   ]
  },
  {
   "cell_type": "markdown",
   "metadata": {},
   "source": [
    "Gördüğünüz gibi orijinal listede tekrar eden elemanlar olduğu halde `set()` fonksiyonu ile oluşturduğunuz küme verisinde bunlar birer kez yazılıyor. Ayrıca, yukarıdaki kodu birkaç kez çalıştırırsanız, sıralamanın her defasında farklı olduğunu görürsünüz. \n",
    "\n",
    "Bir kümeye yeni bir eleman eklemek için .add() metodu kullanılır. Hazırladığınız alışveriş listesinde eksik bir şey olduğunuz fark ettiniz ve bu malzemeyi eklemeniz gerekiyor. "
   ]
  },
  {
   "cell_type": "code",
   "execution_count": 61,
   "metadata": {},
   "outputs": [
    {
     "name": "stdout",
     "output_type": "stream",
     "text": [
      "{'meyve', 'yoğurt', 'pirinç', 'süt', 'deterjan', 'bal', 'ekmek'}\n"
     ]
    }
   ],
   "source": [
    "alisveris.add('deterjan')\n",
    "print(alisveris)"
   ]
  },
  {
   "cell_type": "markdown",
   "metadata": {},
   "source": [
    "Sonradan eklediğiniz malzemenin en sonda çıkmadığına dikkat etmişsinizdir. Çünkü küme veri yapılarında listeler ve demetlerin aksine sıralama önemli değildir. Bu nedenle, `.add()` metodu ile zaten kümede olan bir veriyi eklemek isterseniz küme içeriğinde herhangi bir değişiklik meydana gelmez. \n",
    "\n",
    "Kümeye, birden fazla eleman eklemek için `.update()` metodu kullanılır. Bu metodla kümeye bir liste iletilir. Listedeki elemanlar kümede yoksa eklenir, zaten varsa herhangi bir değişiklik olmaz. "
   ]
  },
  {
   "cell_type": "code",
   "execution_count": 62,
   "metadata": {},
   "outputs": [
    {
     "name": "stdout",
     "output_type": "stream",
     "text": [
      "{'gazete', 'pirinç', 'süt', 'meyve', 'yoğurt', 'dergi', 'bal', 'ekmek', 'deterjan', 'sebze'}\n"
     ]
    }
   ],
   "source": [
    "yeni_malzemeler = ['sebze', 'gazete', 'dergi']\n",
    "alisveris.update(yeni_malzemeler)\n",
    "print(alisveris)"
   ]
  },
  {
   "cell_type": "markdown",
   "metadata": {},
   "source": [
    "Listeden bir eleman çıkarmak için `.discard()` metodu kullanılır. Markete gittiniz ve girişte bulunan reyondan ekmek aldınız. Listeyi güncellemeniz gerekiyor. "
   ]
  },
  {
   "cell_type": "code",
   "execution_count": 63,
   "metadata": {},
   "outputs": [
    {
     "name": "stdout",
     "output_type": "stream",
     "text": [
      "{'gazete', 'pirinç', 'süt', 'meyve', 'yoğurt', 'dergi', 'bal', 'deterjan', 'sebze'}\n"
     ]
    }
   ],
   "source": [
    "alisveris.discard('ekmek')\n",
    "print(alisveris)"
   ]
  },
  {
   "cell_type": "markdown",
   "metadata": {},
   "source": [
    "Şimdi de alışveriş kümesinden rastgele bir ürün seçip onu satın almak istiyorsunuz. Seçilen ürün aynı zamanda alışveriş kümesinden çıksın. Bunun için daha önce de gördüğümüz `.pop()` fonksiyonu kullanılır. "
   ]
  },
  {
   "cell_type": "code",
   "execution_count": 64,
   "metadata": {},
   "outputs": [
    {
     "name": "stdout",
     "output_type": "stream",
     "text": [
      "gazete\n",
      "{'pirinç', 'süt', 'meyve', 'yoğurt', 'dergi', 'bal', 'deterjan', 'sebze'}\n"
     ]
    }
   ],
   "source": [
    "print(alisveris.pop())\n",
    "print(alisveris)"
   ]
  },
  {
   "cell_type": "markdown",
   "metadata": {},
   "source": [
    "Küme veri yapısının matematikteki küme tanımına çok benzediğini söylemiştik. Buradan hareketle kümelerde yapılan bileşim, kesişim gibi işlemler Python’da küme verileri için de geliştirilmiştir. İki küme verisinin bileşimini bulmak için `.union()` işlemi kullanılır. "
   ]
  },
  {
   "cell_type": "code",
   "execution_count": 65,
   "metadata": {},
   "outputs": [
    {
     "data": {
      "text/plain": [
       "{'bal', 'ekmek', 'peynir', 'süt', 'tuz', 'yoğurt', 'şeker'}"
      ]
     },
     "execution_count": 65,
     "metadata": {},
     "output_type": "execute_result"
    }
   ],
   "source": [
    "alisveris1 = set(['ekmek', 'süt', 'yoğurt', 'peynir'])\n",
    "alisveris2 = set(['bal', 'şeker', 'tuz', 'ekmek', 'süt'])\n",
    "\n",
    "alisveris1.union(alisveris2)"
   ]
  },
  {
   "cell_type": "markdown",
   "metadata": {},
   "source": [
    "Benzer şekilde iki kümenin kesişimini bulmak için de `.intersection()` metodu kullanılır. "
   ]
  },
  {
   "cell_type": "code",
   "execution_count": 66,
   "metadata": {},
   "outputs": [
    {
     "data": {
      "text/plain": [
       "{'ekmek', 'süt'}"
      ]
     },
     "execution_count": 66,
     "metadata": {},
     "output_type": "execute_result"
    }
   ],
   "source": [
    "alisveris1.intersection(alisveris2)"
   ]
  },
  {
   "cell_type": "markdown",
   "metadata": {},
   "source": [
    "Son olarak iki kümenin farkını bulmak için `.difference()` metodu kullanılır."
   ]
  },
  {
   "cell_type": "code",
   "execution_count": 67,
   "metadata": {},
   "outputs": [
    {
     "name": "stdout",
     "output_type": "stream",
     "text": [
      "{'peynir', 'yoğurt'}\n",
      "{'şeker', 'bal', 'tuz'}\n"
     ]
    }
   ],
   "source": [
    "print(alisveris1.difference(alisveris2))\n",
    "\n",
    "print(alisveris2.difference(alisveris1))"
   ]
  },
  {
   "cell_type": "markdown",
   "metadata": {},
   "source": [
    "## Dictionary (Sözlük) Veri Yapısı\n",
    "\n",
    "Dictionary ya da sözlük veri yapısı adından da anlaşılacağı üzere anahtar kelimelere değerlerin atandığı sözlük benzeri yapılardır. Diğer dillerde çok fazla rastlanmasa da sözlükler Python’da en fazla kullanılan veri yapılarındandır. Nasıl ki bir sözlükte her sözcüğün karşısında bir açıklama yazıyorsa dict veri yapısında da her bir anahtar kelimenin karşısında yazan bir değer vardır. Diğer bir deyişle, dictionary, her bir değere bağlı bir anahtar kelimenin olduğu yapılardır. Hem anahtarlar hem de veriler herhangi bir veri tipinde olabilir. Hatta anahtar : değer ikilisindeki değer bir başka sözlük de olabilir. Sözlüklerin anahtar : değer ikilileri ayrıca birer tuple veri nesnesi oluşturur. Sözlük veri yapısının avantajı bu tür veri yapıları ile çok hızlı işlem yapılabilmesidir. \n",
    "\n",
    "Bir sözlük veri nesnesi oluşturmak için `dict()` fonksiyonu ya da küme parantezi, { }, kullanılabilir. Hisse senedi fiyatlarını takip ettiğimizi ve hisse isimlerini bir listede, hisse fiyatlarını da farklı bir listede kaydettiğimizi varsayalım. "
   ]
  },
  {
   "cell_type": "code",
   "execution_count": 68,
   "metadata": {},
   "outputs": [],
   "source": [
    "hisse = ['ABCD', 'KLMN', 'ZTLM', 'XYZT']\n",
    "fiyat = [17.70, 9.59, 28.70, 7.05]"
   ]
  },
  {
   "cell_type": "markdown",
   "metadata": {},
   "source": [
    "Bir hisse senedinin fiyatını görmek ya da fiyatta değişiklik yapmak için önce bu hisse senedinin hisse listesindeki sıra numarasını bulmak, sonra da fiyat listesindeki bu sıra numarasına denk gelen kayda ulaşmak gerekiyor. Bu da zaman kaybına yol açan bir işlem olacaktır. Bunun yerine hisse isimleri ile fiyatlarını bir arada tutmaya izin veren sözlük veri yapısını kullanabiliriz. Tanımlayacağımız sözlükte hisse isimleri anahtar, fiyatları ise değer olarak yer alacaktır. \n",
    "\n",
    "Listelerin köşeli parantezler ile oluşturulduğunu önceki bölümde görmüştük. Sözlükler ise küme parantezleri { } kullanılarak oluşturulur. Küme parantezi içinde, anahtar kelime tırnak işareti içinde yazılıp iki noktadan sonra anahtar kelimenin aldığı değer yazılır. Farklı anahtar – değer ikilileri de birbirlerinden virgülle ayrılır. \n",
    "\n",
    "Yukarıda tanımladığımız hisse ve fiyat listelerini tek bir sözlük içinde tanımlayalım. "
   ]
  },
  {
   "cell_type": "code",
   "execution_count": 69,
   "metadata": {},
   "outputs": [
    {
     "data": {
      "text/plain": [
       "{'ABCD': 17.7, 'KLMN': 9.59, 'ZTLM': 28.7, 'XYZT': 7.05}"
      ]
     },
     "execution_count": 69,
     "metadata": {},
     "output_type": "execute_result"
    }
   ],
   "source": [
    "hisseler = {\n",
    "    'ABCD' : 17.70,\n",
    "    'KLMN' : 9.59,\n",
    "    'ZTLM' : 28.70,\n",
    "    'XYZT' : 7.05\n",
    "}\n",
    "\n",
    "hisseler"
   ]
  },
  {
   "cell_type": "markdown",
   "metadata": {},
   "source": [
    "Bir anahtarın sözlükte yer alıp almadığını görmek için `'anahtar' in sozluk` yazımını kullanabiliriz. Bu kod `True` ya da `False` sonucunu verir. "
   ]
  },
  {
   "cell_type": "code",
   "execution_count": 70,
   "metadata": {},
   "outputs": [
    {
     "data": {
      "text/plain": [
       "True"
      ]
     },
     "execution_count": 70,
     "metadata": {},
     "output_type": "execute_result"
    }
   ],
   "source": [
    "'XYZT' in hisseler"
   ]
  },
  {
   "cell_type": "code",
   "execution_count": 71,
   "metadata": {},
   "outputs": [
    {
     "data": {
      "text/plain": [
       "False"
      ]
     },
     "execution_count": 71,
     "metadata": {},
     "output_type": "execute_result"
    }
   ],
   "source": [
    "'ABXY' in hisseler"
   ]
  },
  {
   "cell_type": "markdown",
   "metadata": {},
   "source": [
    "Yukarıdaki ifadelerin tersini de `'anahtar' not in sozluk` ifadesi ile görmek mümkündür. Yani bu ifade, anahtar sözlükte değilse True, sözlükte ise False değerini alacaktır."
   ]
  },
  {
   "cell_type": "code",
   "execution_count": 72,
   "metadata": {},
   "outputs": [
    {
     "data": {
      "text/plain": [
       "True"
      ]
     },
     "execution_count": 72,
     "metadata": {},
     "output_type": "execute_result"
    }
   ],
   "source": [
    "'UVYZ' not in hisseler"
   ]
  },
  {
   "cell_type": "code",
   "execution_count": 73,
   "metadata": {},
   "outputs": [
    {
     "data": {
      "text/plain": [
       "False"
      ]
     },
     "execution_count": 73,
     "metadata": {},
     "output_type": "execute_result"
    }
   ],
   "source": [
    "'ABCD' not in hisseler"
   ]
  },
  {
   "cell_type": "markdown",
   "metadata": {},
   "source": [
    "Sözlükteki bir değere ulaşmak için bu değerin anahtarını yazmak gerekir. "
   ]
  },
  {
   "cell_type": "code",
   "execution_count": 74,
   "metadata": {},
   "outputs": [
    {
     "data": {
      "text/plain": [
       "17.7"
      ]
     },
     "execution_count": 74,
     "metadata": {},
     "output_type": "execute_result"
    }
   ],
   "source": [
    "hisseler['ABCD']"
   ]
  },
  {
   "cell_type": "code",
   "execution_count": 75,
   "metadata": {},
   "outputs": [
    {
     "data": {
      "text/plain": [
       "7.05"
      ]
     },
     "execution_count": 75,
     "metadata": {},
     "output_type": "execute_result"
    }
   ],
   "source": [
    "hisseler['XYZT']"
   ]
  },
  {
   "cell_type": "markdown",
   "metadata": {},
   "source": [
    "Sözlükte olmayan bir veriyi eklemek için de yukarıdaki yazım şekli kullanılabilir. Örneğin, hisseler sözlüğüne yeni bir hisse senedi ve fiyatını ekleyelim. "
   ]
  },
  {
   "cell_type": "code",
   "execution_count": 76,
   "metadata": {},
   "outputs": [
    {
     "name": "stdout",
     "output_type": "stream",
     "text": [
      "{'ABCD': 17.7, 'KLMN': 9.59, 'ZTLM': 28.7, 'XYZT': 7.05, 'DEFG': 18.75}\n"
     ]
    }
   ],
   "source": [
    "hisseler['DEFG'] = 18.75\n",
    "print(hisseler)"
   ]
  },
  {
   "cell_type": "markdown",
   "metadata": {},
   "source": [
    "Sözlükte olmayan bir anahtara erişmek istediğimizde hata mesajı ile karşılaşırız. \n",
    "\n",
    "```Python\n",
    "print(hisseler['UVYZ'])\n",
    "KeyError: 'UVYZ'\n",
    "```"
   ]
  },
  {
   "cell_type": "markdown",
   "metadata": {},
   "source": [
    "Aradığımız anahtar sözlükte olmasa dahi hata mesajı almamak ya da istediğimiz mesajı almak için `.get()` metodu kullanılabilir. "
   ]
  },
  {
   "cell_type": "code",
   "execution_count": 77,
   "metadata": {},
   "outputs": [
    {
     "name": "stdout",
     "output_type": "stream",
     "text": [
      "None\n"
     ]
    }
   ],
   "source": [
    "print(hisseler.get('UVYZ'))"
   ]
  },
  {
   "cell_type": "markdown",
   "metadata": {},
   "source": [
    "Get metoduna ikinci argüman olarak aranan nahtarın bulunamaması halinde istediğimiz mesajı da yazabiliriz. "
   ]
  },
  {
   "cell_type": "code",
   "execution_count": 78,
   "metadata": {},
   "outputs": [
    {
     "name": "stdout",
     "output_type": "stream",
     "text": [
      "Hisse Bulunamadı\n"
     ]
    }
   ],
   "source": [
    "print(hisseler.get('UVYZ', 'Hisse Bulunamadı'))"
   ]
  },
  {
   "cell_type": "code",
   "execution_count": 79,
   "metadata": {},
   "outputs": [
    {
     "name": "stdout",
     "output_type": "stream",
     "text": [
      "17.7\n"
     ]
    }
   ],
   "source": [
    "print(hisseler.get('ABCD', 'Hisse Bulunamadı'))"
   ]
  },
  {
   "cell_type": "markdown",
   "metadata": {},
   "source": [
    "Sözlüğe yeni veri eklemenin bir başka yolu da `.update()` metodunu kullanmaktır. "
   ]
  },
  {
   "cell_type": "code",
   "execution_count": 80,
   "metadata": {},
   "outputs": [
    {
     "name": "stdout",
     "output_type": "stream",
     "text": [
      "{'ABCD': 17.7, 'KLMN': 9.59, 'ZTLM': 28.7, 'XYZT': 7.05, 'DEFG': 18.75, 'UVYZ': 32.25, 'BRSM': 3.9}\n"
     ]
    }
   ],
   "source": [
    "yeni_hisse = {\n",
    "    'UVYZ' : 32.25,\n",
    "    'BRSM' : 3.90\n",
    "}\n",
    "\n",
    "hisseler.update(yeni_hisse)\n",
    "print(hisseler)"
   ]
  },
  {
   "cell_type": "markdown",
   "metadata": {},
   "source": [
    "Bu metodla eklediğimiz verilerin sözlük veri tipinde olması da şart değildir. Aynı yöntemle sözlüğe tuple veri tipinde de ekleme yapaibliriz. "
   ]
  },
  {
   "cell_type": "code",
   "execution_count": 81,
   "metadata": {},
   "outputs": [],
   "source": [
    "yeni_hisse = [('UVYZ', 32.25),('BRSM', 3.90)]\n",
    "hisseler.update(yeni_hisse)"
   ]
  },
  {
   "cell_type": "markdown",
   "metadata": {},
   "source": [
    "Sözlükte yer alan bir anahtarı silmek için yine `del()` fonksiyonu kullanılır. "
   ]
  },
  {
   "cell_type": "code",
   "execution_count": 82,
   "metadata": {},
   "outputs": [
    {
     "data": {
      "text/plain": [
       "{'ABCD': 17.7,\n",
       " 'KLMN': 9.59,\n",
       " 'XYZT': 7.05,\n",
       " 'DEFG': 18.75,\n",
       " 'UVYZ': 32.25,\n",
       " 'BRSM': 3.9}"
      ]
     },
     "execution_count": 82,
     "metadata": {},
     "output_type": "execute_result"
    }
   ],
   "source": [
    "del(hisseler['ZTLM'])\n",
    "hisseler"
   ]
  },
  {
   "cell_type": "markdown",
   "metadata": {},
   "source": [
    "Ancak, sözlükte olmayan bir anahtarı silmeye kalkarsanız hata mesajı ile karşılaşırsınız. \n",
    "\n",
    "```Python\n",
    "del(hisseler['ABXY'])\n",
    "KeyError: 'ABXY'\n",
    "```\n",
    "\n",
    "Sözlükten bir anahtarı güvenli şekilde silmenin yolu `.pop()` metodunu kullanmaktır. Bu metodla, istenen anahtar sözlükte yoksa herhangi bir hata mesajı alınmaz ya da istediğiniz uyarı mesajını alırsınız. "
   ]
  },
  {
   "cell_type": "code",
   "execution_count": 83,
   "metadata": {},
   "outputs": [
    {
     "name": "stdout",
     "output_type": "stream",
     "text": [
      "{'KLMN': 9.59, 'XYZT': 7.05, 'DEFG': 18.75, 'UVYZ': 32.25, 'BRSM': 3.9}\n"
     ]
    }
   ],
   "source": [
    "hisseler.pop('ABCD')\n",
    "\n",
    "print(hisseler)"
   ]
  },
  {
   "cell_type": "code",
   "execution_count": 84,
   "metadata": {},
   "outputs": [
    {
     "name": "stdout",
     "output_type": "stream",
     "text": [
      "Hisse bulunamadı.\n"
     ]
    }
   ],
   "source": [
    "print(hisseler.pop('ABXY', 'Hisse bulunamadı.'))"
   ]
  },
  {
   "cell_type": "markdown",
   "metadata": {},
   "source": [
    "Bu metodla silinen anahtarı bir değişkene atamak da mümkündür."
   ]
  },
  {
   "cell_type": "code",
   "execution_count": 85,
   "metadata": {},
   "outputs": [
    {
     "name": "stdout",
     "output_type": "stream",
     "text": [
      "9.59\n"
     ]
    }
   ],
   "source": [
    "silinen = hisseler.pop('KLMN')\n",
    "print(silinen)"
   ]
  },
  {
   "cell_type": "markdown",
   "metadata": {},
   "source": [
    "Biz sözlükte her anahtardan sadece bir tane bulunabilir. Sözlük tanımlarken bir anahtarı iki veya daha fazla yazarsanız, sadece en son yazılan anahtar ve buna ait değer dikkate alınır. "
   ]
  },
  {
   "cell_type": "code",
   "execution_count": 86,
   "metadata": {},
   "outputs": [
    {
     "data": {
      "text/plain": [
       "{'ABCD': 17.7, 'KLMN': 9.59, 'ZTLM': 28.7, 'XYZT': 7.05}"
      ]
     },
     "execution_count": 86,
     "metadata": {},
     "output_type": "execute_result"
    }
   ],
   "source": [
    "hisseler = {\n",
    "    'ABCD' : 12.35,\n",
    "    'KLMN' : 9.59,\n",
    "    'ZTLM' : 28.70,\n",
    "    'XYZT' : 7.05,\n",
    "    'ABCD' : 17.70\n",
    "}\n",
    "\n",
    "hisseler"
   ]
  },
  {
   "cell_type": "markdown",
   "metadata": {},
   "source": [
    "Bir sözlüğün anahtar : değer ikililerinden oluştuğunu biliyoruz. Sözlükteki anahtarlara, değerlere ve ikisine birlikte ulaşmak için metodlar bulunmaktadır. Bunlar sırasıyla, `.keys()`, `.values()` ve `.items()` metodlarıdır. "
   ]
  },
  {
   "cell_type": "code",
   "execution_count": 87,
   "metadata": {},
   "outputs": [
    {
     "name": "stdout",
     "output_type": "stream",
     "text": [
      "dict_items([('ABCD', 17.7), ('KLMN', 9.59), ('ZTLM', 28.7), ('XYZT', 7.05)])\n"
     ]
    }
   ],
   "source": [
    "print(hisseler.items())"
   ]
  },
  {
   "cell_type": "code",
   "execution_count": 88,
   "metadata": {},
   "outputs": [
    {
     "name": "stdout",
     "output_type": "stream",
     "text": [
      "dict_values([17.7, 9.59, 28.7, 7.05])\n"
     ]
    }
   ],
   "source": [
    "print(hisseler.values())"
   ]
  },
  {
   "cell_type": "code",
   "execution_count": 89,
   "metadata": {},
   "outputs": [
    {
     "name": "stdout",
     "output_type": "stream",
     "text": [
      "dict_items([('ABCD', 17.7), ('KLMN', 9.59), ('ZTLM', 28.7), ('XYZT', 7.05)])\n"
     ]
    }
   ],
   "source": [
    "print(hisseler.items())"
   ]
  },
  {
   "cell_type": "markdown",
   "metadata": {},
   "source": [
    "Şimdiye kadar kullandığımız hisseler sözlüğünde değerler hep sayısal veri tipindeydi. Ancak, bir sözlükte değerler her zaman sayısal olmak zorunda değildir. Sayısal olabileceği gibi metin ya da mantıksal veri tipinde olabilir her değer ayrı bir liste ya da sözlük de olabilir. "
   ]
  },
  {
   "cell_type": "code",
   "execution_count": 90,
   "metadata": {},
   "outputs": [
    {
     "data": {
      "text/plain": [
       "9.59"
      ]
     },
     "execution_count": 90,
     "metadata": {},
     "output_type": "execute_result"
    }
   ],
   "source": [
    "sektorel_hisseler = {\n",
    "    'banka'     : {'ABCD': 17.70, 'KLMN': 9.59},\n",
    "    'otomotiv'  : {'ZTLM': 28.70, 'XYZT': 7.05},\n",
    "    'teknoloji' : {'ABCD'}\n",
    "}\n",
    "\n",
    "sektorel_hisseler['banka']['KLMN']"
   ]
  },
  {
   "cell_type": "markdown",
   "metadata": {},
   "source": [
    "Sözlüklerden oluşan bir sözlükte bir anahtara bağlı alt sözlükteki bir değere ulaşmak için yukarıda görüldüğü gibi birbirini izleyen köşeli parantezler içinde anahtar değerlerini yazıyoruz. Yukarıdaki örnekte banka sektöründe yer alan KLMN hissesinin fiyatını görmek için önce [‘banka’] yazarak bu sektördeki hisselerin yer aldığı sözlüğe, daha sonra da yanına [‘KLMN’] yazarak bu sözlük içindeki KLMN hissesine ulaştık. \n",
    "\n",
    "Anahtarların karşılığı olan değerler farklı veri tiplerinde de olabilir."
   ]
  },
  {
   "cell_type": "code",
   "execution_count": 91,
   "metadata": {},
   "outputs": [
    {
     "data": {
      "text/plain": [
       "{'A': [1, 2, 3, 4], 'B': [3, 4, 5], 'C': {'ab': 34, 'cd': 36}, 'D': 'xyzt'}"
      ]
     },
     "execution_count": 91,
     "metadata": {},
     "output_type": "execute_result"
    }
   ],
   "source": [
    "karışık_sözlük = {\n",
    "    'A': [1,2,3,4],\n",
    "    'B': [3,4,5],\n",
    "    'C': {'ab': 34, 'cd':36},\n",
    "    'D': 'xyzt'    \n",
    "}\n",
    "\n",
    "karışık_sözlük"
   ]
  },
  {
   "cell_type": "markdown",
   "metadata": {},
   "source": [
    "## Alıştırmalar\n",
    "\n",
    "1.\tAşağıdaki şehirlerden oluşan bir liste oluşturun. Sonra, izleyen işlemleri adım adım gerçekleştirin \n",
    "\n",
    "Ankara, İzmir, İstanbul, Adana, Bursa, Kars, Iğdır\n",
    "\n",
    "- .extend() metodunu kullanarak oluşturduğunuz listeye, Edirne ve Aydın şehirlerini ekleyin.\n",
    "- İstanbul şehrinin listedeki sıra numarasını, .index() metodunu kullanarak bulun. Bulduğunuz konumu bir değişkene atayın.\n",
    "- Önceki adımda kullandığınız değişken yardımı ile İstanbul’u listeden çıkarın. \n",
    "- Listeyi alfabetik sırada yazdırın. "
   ]
  }
 ],
 "metadata": {
  "kernelspec": {
   "display_name": ".venv",
   "language": "python",
   "name": "python3"
  },
  "language_info": {
   "codemirror_mode": {
    "name": "ipython",
    "version": 3
   },
   "file_extension": ".py",
   "mimetype": "text/x-python",
   "name": "python",
   "nbconvert_exporter": "python",
   "pygments_lexer": "ipython3",
   "version": "3.11.4"
  }
 },
 "nbformat": 4,
 "nbformat_minor": 2
}