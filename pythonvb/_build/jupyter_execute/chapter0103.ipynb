{
 "cells": [
  {
   "cell_type": "markdown",
   "metadata": {},
   "source": [
    "# Veri Yapıları\n",
    "\n",
    "Önceki bölümde, integer, string gibi temel veri türlerini gördük. Bunlar tekil verilerin alabileceği türleri ifade ediyor. Yani bu veri türleri, tek bir verinin hangi tipte olabileceğini gösterir. Gerçekte, neredeyse hiçbir zaman tek tek verilerle uğraşmayız. Verilerin bir araya gelerek oluşturduğu veri yapıları ile çalışırız. Bu veri yapıları, dizi, tablo küme hatta yığın şeklinde olabilir. Bu nedenle, birden fazla veriyi bir arada tutmak için kullanılan veri yapıları vardır. Bunları basitçe veri dizileri olarak isimlendirebiliriz. Veri dizilerini çok sayıda veriyi bir arada tutmak ve bunlarla istediğimiz işlemleri gerçekleştirmek için kullanabiliriz. Veri dizilerinin bir kısmı oluşturulduktan sonra değiştirilebilirken (mutable) bazı veri dizileri ise bir defa oluşturulduktan sonra değiştirilemez (immutable). Örneğin, liste, küme ve  sözlük veri yapıları değiştirilebilir veri dizileri iken tuple veri yapıları değiştirilemez türde verilerdir. \n",
    "\n",
    "Bir sınıftaki öğrencilerin notlarını aşağıdaki gibi farklı değişkenlere atayarak saklayabiliriz. "
   ]
  },
  {
   "cell_type": "code",
   "execution_count": 1,
   "metadata": {},
   "outputs": [],
   "source": [
    "not_Eren = 100\n",
    "not_Ilhan = 99\n",
    "not_Ali = 98\n",
    "not_Erman = 97\n",
    "not_Mehmet = 96"
   ]
  },
  {
   "cell_type": "markdown",
   "metadata": {},
   "source": [
    "Tahmin edeceğiniz gibi verilerle bu şekilde işlem yapmak çok zor. Veri sayısı arttıkça zorluk da artacaktır. Sözgelimi 1000 öğrencinin notunu saklamak ve incelemek için 1000 farklı değişken tanımlamak son derece güç olacaktır. Bunun yerine, tüm notları bir arada tutacak bir veri yapısına ihtiyacımız var. Bu veri yapılarının belirli bir biçimde olması da gerçekleştireceğimiz işlem ve analizleri kolaylaştıracaktır. Örneğin, notları aşağıdaki gibi farklı biçimlerde saklamayı deneyebiliriz. "
   ]
  },
  {
   "cell_type": "code",
   "execution_count": 2,
   "metadata": {},
   "outputs": [],
   "source": [
    "notlar =(not_Eren, not_Ilhan, not_Ali, not_Erman, not_Mehmet)\n",
    "isimler = {\"Eren\", \"Ilhan\", \"Ali\", \"Erman\", \"Mehmet\"}\n",
    "notlar = [100, 99, 98, 97, 96]"
   ]
  },
  {
   "cell_type": "markdown",
   "metadata": {},
   "source": [
    "veya"
   ]
  },
  {
   "cell_type": "code",
   "execution_count": 3,
   "metadata": {},
   "outputs": [],
   "source": [
    "notlar = {\"Eren\": 100, \"Ilhan\": 99, \"Ali\": 98, \"Erman\":97, \"Mehmet\":96}"
   ]
  },
  {
   "cell_type": "markdown",
   "metadata": {},
   "source": [
    "ya da\n",
    "\n",
    "| İsim      |  Not    |\n",
    "|:----------|--------:|\n",
    "| Eren      | 100     |\n",
    "| Ilhan     | 99      |\n",
    "| Ali       | 98      |\n",
    "| Erman     | 97      |\n",
    "| Mehmet    | 96      |\n",
    "\n",
    "Verileri bu şekilde gruplayarak her bir veriye değişken atamak yerine tüm verilerin bir arada olduğu veri yapısına bir değişken ismi atayabiliriz. Ayrıca, veriler üzerindeki işlemleri her birine ayrı ayrı değil topluca gerçekleştirebiliriz.\n",
    "\n",
    "Her programlama dilinin kendine özgü veri yapıları vardır. Bu ve bundan sonraki bölümlerde Python’da kullanılan veri yapılarını tanıyacağız. Bunlardan ilki de list yani liste veri yapısıdır. \n",
    "\n",
    "## List (Liste) Veri Yapısı\n",
    "\n",
    "Liste, isminden de anlaşılacağı üzere sıralı nesnelerden oluşan liste ya da dizilerdir. Listelerde yer alan veriler köşeli parantez [ ] içinde ve virgülle ayrılarak gösterilir. Listeler veriyi eklenme sırasına göre tutan ve içeriği sonradan değiştirilebilen veri yapılarıdır. Bir listeyi tanımladıktan sonra listenin bir veya daha fazla elemanını güncellemek mümkündür. \n",
    "\n",
    "Listenin elemanları önceki bölümde gördüğümüz veri tiplerinden herhangi birisi olabilir. Bir listenin elemanları farklı veri tipinde de olabilir. Hatta, bir listenin elemanları farklı listeler de olabilir. "
   ]
  },
  {
   "cell_type": "code",
   "execution_count": 4,
   "metadata": {},
   "outputs": [
    {
     "data": {
      "text/plain": [
       "[41, 42, 43, 44, 45]"
      ]
     },
     "execution_count": 4,
     "metadata": {},
     "output_type": "execute_result"
    }
   ],
   "source": [
    "liste1 = [41, 42, 43, 44, 45]\n",
    "liste1"
   ]
  },
  {
   "cell_type": "code",
   "execution_count": 5,
   "metadata": {},
   "outputs": [
    {
     "data": {
      "text/plain": [
       "['abc', 'def', 'xyz', 'ijk']"
      ]
     },
     "execution_count": 5,
     "metadata": {},
     "output_type": "execute_result"
    }
   ],
   "source": [
    "liste2 = [\"abc\", \"def\", \"xyz\", \"ijk\"]\n",
    "liste2"
   ]
  },
  {
   "cell_type": "code",
   "execution_count": null,
   "metadata": {},
   "outputs": [],
   "source": []
  }
 ],
 "metadata": {
  "kernelspec": {
   "display_name": ".venv",
   "language": "python",
   "name": "python3"
  },
  "language_info": {
   "codemirror_mode": {
    "name": "ipython",
    "version": 3
   },
   "file_extension": ".py",
   "mimetype": "text/x-python",
   "name": "python",
   "nbconvert_exporter": "python",
   "pygments_lexer": "ipython3",
   "version": "3.11.4"
  }
 },
 "nbformat": 4,
 "nbformat_minor": 2
}