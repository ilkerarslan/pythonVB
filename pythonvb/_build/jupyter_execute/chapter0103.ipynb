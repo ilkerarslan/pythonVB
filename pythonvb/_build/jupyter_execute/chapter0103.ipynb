{
 "cells": [
  {
   "cell_type": "markdown",
   "metadata": {},
   "source": [
    "# Veri Yapıları\n",
    "\n",
    "Önceki bölümde, integer, string gibi temel veri türlerini gördük. Bunlar tekil verilerin alabileceği türleri ifade ediyor. Yani bu veri türleri, tek bir verinin hangi tipte olabileceğini gösterir. Gerçekte, neredeyse hiçbir zaman tek tek verilerle uğraşmayız. Verilerin bir araya gelerek oluşturduğu veri yapıları ile çalışırız. Bu veri yapıları, dizi, tablo küme hatta yığın şeklinde olabilir. Bu nedenle, birden fazla veriyi bir arada tutmak için kullanılan veri yapıları vardır. Bunları basitçe veri dizileri olarak isimlendirebiliriz. Veri dizilerini çok sayıda veriyi bir arada tutmak ve bunlarla istediğimiz işlemleri gerçekleştirmek için kullanabiliriz. Veri dizilerinin bir kısmı oluşturulduktan sonra değiştirilebilirken (mutable) bazı veri dizileri ise bir defa oluşturulduktan sonra değiştirilemez (immutable). Örneğin, liste, küme ve  sözlük veri yapıları değiştirilebilir veri dizileri iken tuple veri yapıları değiştirilemez türde verilerdir. \n",
    "\n",
    "Bir sınıftaki öğrencilerin notlarını aşağıdaki gibi farklı değişkenlere atayarak saklayabiliriz. "
   ]
  },
  {
   "cell_type": "code",
   "execution_count": 1,
   "metadata": {},
   "outputs": [],
   "source": [
    "not_Eren = 100\n",
    "not_Ilhan = 99\n",
    "not_Ali = 98\n",
    "not_Erman = 97\n",
    "not_Mehmet = 96"
   ]
  },
  {
   "cell_type": "markdown",
   "metadata": {},
   "source": [
    "Tahmin edeceğiniz gibi verilerle bu şekilde işlem yapmak çok zor. Veri sayısı arttıkça zorluk da artacaktır. Sözgelimi 1000 öğrencinin notunu saklamak ve incelemek için 1000 farklı değişken tanımlamak son derece güç olacaktır. Bunun yerine, tüm notları bir arada tutacak bir veri yapısına ihtiyacımız var. Bu veri yapılarının belirli bir biçimde olması da gerçekleştireceğimiz işlem ve analizleri kolaylaştıracaktır. Örneğin, notları aşağıdaki gibi farklı biçimlerde saklamayı deneyebiliriz. "
   ]
  },
  {
   "cell_type": "code",
   "execution_count": 2,
   "metadata": {},
   "outputs": [],
   "source": [
    "notlar =(not_Eren, not_Ilhan, not_Ali, not_Erman, not_Mehmet)\n",
    "isimler = {\"Eren\", \"Ilhan\", \"Ali\", \"Erman\", \"Mehmet\"}\n",
    "notlar = [100, 99, 98, 97, 96]"
   ]
  },
  {
   "cell_type": "markdown",
   "metadata": {},
   "source": [
    "veya"
   ]
  },
  {
   "cell_type": "code",
   "execution_count": 3,
   "metadata": {},
   "outputs": [],
   "source": [
    "notlar = {\"Eren\": 100, \"Ilhan\": 99, \"Ali\": 98, \"Erman\":97, \"Mehmet\":96}"
   ]
  },
  {
   "cell_type": "markdown",
   "metadata": {},
   "source": [
    "ya da\n",
    "\n",
    "| İsim      |  Not    |\n",
    "|:----------|--------:|\n",
    "| Eren      | 100     |\n",
    "| Ilhan     | 99      |\n",
    "| Ali       | 98      |\n",
    "| Erman     | 97      |\n",
    "| Mehmet    | 96      |\n",
    "\n",
    "Verileri bu şekilde gruplayarak her bir veriye değişken atamak yerine tüm verilerin bir arada olduğu veri yapısına bir değişken ismi atayabiliriz. Ayrıca, veriler üzerindeki işlemleri her birine ayrı ayrı değil topluca gerçekleştirebiliriz.\n",
    "\n",
    "Her programlama dilinin kendine özgü veri yapıları vardır. Bu ve bundan sonraki bölümlerde Python’da kullanılan veri yapılarını tanıyacağız. Bunlardan ilki de list yani liste veri yapısıdır. \n",
    "\n",
    "## List (Liste) Veri Yapısı\n",
    "\n",
    "Liste, isminden de anlaşılacağı üzere sıralı nesnelerden oluşan liste ya da dizilerdir. Listelerde yer alan veriler köşeli parantez [ ] içinde ve virgülle ayrılarak gösterilir. Listeler veriyi eklenme sırasına göre tutan ve içeriği sonradan değiştirilebilen veri yapılarıdır. Bir listeyi tanımladıktan sonra listenin bir veya daha fazla elemanını güncellemek mümkündür. \n",
    "\n",
    "Listenin elemanları önceki bölümde gördüğümüz veri tiplerinden herhangi birisi olabilir. Bir listenin elemanları farklı veri tipinde de olabilir. Hatta, bir listenin elemanları farklı listeler de olabilir. "
   ]
  },
  {
   "cell_type": "code",
   "execution_count": 4,
   "metadata": {},
   "outputs": [
    {
     "data": {
      "text/plain": [
       "[41, 42, 43, 44, 45]"
      ]
     },
     "execution_count": 4,
     "metadata": {},
     "output_type": "execute_result"
    }
   ],
   "source": [
    "liste1 = [41, 42, 43, 44, 45]\n",
    "liste1"
   ]
  },
  {
   "cell_type": "code",
   "execution_count": 5,
   "metadata": {},
   "outputs": [
    {
     "data": {
      "text/plain": [
       "['abc', 'def', 'xyz', 'ijk']"
      ]
     },
     "execution_count": 5,
     "metadata": {},
     "output_type": "execute_result"
    }
   ],
   "source": [
    "liste2 = [\"abc\", \"def\", \"xyz\", \"ijk\"]\n",
    "liste2"
   ]
  },
  {
   "cell_type": "code",
   "execution_count": 6,
   "metadata": {},
   "outputs": [
    {
     "data": {
      "text/plain": [
       "[123, 456, 'klm', 'xyz']"
      ]
     },
     "execution_count": 6,
     "metadata": {},
     "output_type": "execute_result"
    }
   ],
   "source": [
    "liste3 = [123, 456, \"klm\", \"xyz\"]\n",
    "liste3"
   ]
  },
  {
   "cell_type": "markdown",
   "metadata": {},
   "source": [
    "Bölüm başında verdiğimiz notlar örneğini bir liste içinde aşağıdaki şekillerde yazmak da mümkündür. "
   ]
  },
  {
   "cell_type": "code",
   "execution_count": 7,
   "metadata": {},
   "outputs": [
    {
     "data": {
      "text/plain": [
       "['Eren', 100, 'Ilhan', 99, 'Ali', 98, 'Erman', 97, 'Mehmet', 96]"
      ]
     },
     "execution_count": 7,
     "metadata": {},
     "output_type": "execute_result"
    }
   ],
   "source": [
    "notlar1 = [\"Eren\",100, \"Ilhan\",99, \"Ali\",98, \"Erman\",97, \"Mehmet\",96]\n",
    "notlar1"
   ]
  },
  {
   "cell_type": "code",
   "execution_count": 8,
   "metadata": {},
   "outputs": [
    {
     "data": {
      "text/plain": [
       "[['Eren', 100], ['Ilhan', 99], ['Ali', 98], ['Erman', 97], ['Mehmet', 96]]"
      ]
     },
     "execution_count": 8,
     "metadata": {},
     "output_type": "execute_result"
    }
   ],
   "source": [
    "notlar2 = [['Eren',100], \n",
    "          ['Ilhan',99],\n",
    "          ['Ali',98],\n",
    "          ['Erman',97],\n",
    "          ['Mehmet',96]]\n",
    "\n",
    "notlar2"
   ]
  },
  {
   "cell_type": "code",
   "execution_count": 9,
   "metadata": {},
   "outputs": [
    {
     "data": {
      "text/plain": [
       "[['Eren', 'Ilhan', 'Ali', 'Erman', 'Mehmet'], [100, 99, 98, 97, 96]]"
      ]
     },
     "execution_count": 9,
     "metadata": {},
     "output_type": "execute_result"
    }
   ],
   "source": [
    "notlar3 = [[\"Eren\", \"Ilhan\", \"Ali\", \"Erman\", \"Mehmet\"],\n",
    "           [100, 99, 98, 97, 96]]\n",
    "\n",
    "notlar3"
   ]
  },
  {
   "cell_type": "markdown",
   "metadata": {},
   "source": [
    "Yukarıda verilen örneklerde, birinci liste tamsayı, ikinci liste metin, üçüncü liste ise hem tamsayı hem de metin tipi verilerden oluşmaktadır. Boş bir liste oluşturmak için içi boş köşeli parantezler kullanılır: liste = [] gibi. \n",
    "\n",
    "Liste içinde değişken ismi de kullanabiliriz."
   ]
  },
  {
   "cell_type": "code",
   "execution_count": 10,
   "metadata": {},
   "outputs": [],
   "source": [
    "notlar = [not_Eren, not_Ilhan, not_Ali, not_Erman, not_Mehmet]"
   ]
  },
  {
   "cell_type": "code",
   "execution_count": 11,
   "metadata": {},
   "outputs": [],
   "source": [
    "notlar = [\"Eren\", not_Eren, \"Ilhan\", not_Ilhan, \"Ali\", not_Ali, \n",
    "          \"Erman\", not_Erman, \"Mehmet\", not_Mehmet]"
   ]
  },
  {
   "cell_type": "markdown",
   "metadata": {},
   "source": [
    "Bir listenin veri tipi list olarak belirtilir. Bunu `type()` fonksiyonu ile görebiliriz. "
   ]
  },
  {
   "cell_type": "code",
   "execution_count": 12,
   "metadata": {},
   "outputs": [
    {
     "name": "stdout",
     "output_type": "stream",
     "text": [
      "<class 'list'>\n",
      "9\n"
     ]
    }
   ],
   "source": [
    "liste = [12, 33, 45, 76, 35, 43, 18, 6, 7]\n",
    "print(type(liste))\n",
    "print(len(liste))\n"
   ]
  },
  {
   "cell_type": "markdown",
   "metadata": {},
   "source": [
    "Peki, listede yer alan verilerin bir kısmına nasıl erişebiliriz. Bir listenin elemanları sıfırdan başlayacak şekilde numaralandırılmıştır. Bir verinin listedeki sıra numarasına verinin indeksi de denir. \n",
    "\n",
    "Dikkat edilmesi gereken bir nokta, Python’da sıra numaralarının sıfır ile başlamasıdır. Bir listenin ilk elemanı 0, ikinci elemanı 1, üçüncü elemanı 2 sıra sayısını alır. Python’da sıfırla başlayan sıralama düzeni konusunda dikkatli olunmalıdır. Bir listenin herhangi bir sıradaki elemanını görmek için liste yanında köşeli parantez içinde sıra numarası yazılır. Yukarıdaki liste3 listesini ele alalım. "
   ]
  },
  {
   "cell_type": "code",
   "execution_count": 13,
   "metadata": {},
   "outputs": [
    {
     "data": {
      "text/plain": [
       "123"
      ]
     },
     "execution_count": 13,
     "metadata": {},
     "output_type": "execute_result"
    }
   ],
   "source": [
    "liste3[0]"
   ]
  },
  {
   "cell_type": "code",
   "execution_count": 14,
   "metadata": {},
   "outputs": [
    {
     "data": {
      "text/plain": [
       "456"
      ]
     },
     "execution_count": 14,
     "metadata": {},
     "output_type": "execute_result"
    }
   ],
   "source": [
    "liste3[1]"
   ]
  },
  {
   "cell_type": "code",
   "execution_count": 15,
   "metadata": {},
   "outputs": [
    {
     "data": {
      "text/plain": [
       "'klm'"
      ]
     },
     "execution_count": 15,
     "metadata": {},
     "output_type": "execute_result"
    }
   ],
   "source": [
    "liste3[2]"
   ]
  },
  {
   "cell_type": "code",
   "execution_count": 16,
   "metadata": {},
   "outputs": [
    {
     "data": {
      "text/plain": [
       "'xyz'"
      ]
     },
     "execution_count": 16,
     "metadata": {},
     "output_type": "execute_result"
    }
   ],
   "source": [
    "liste3[3]"
   ]
  },
  {
   "cell_type": "code",
   "execution_count": 17,
   "metadata": {},
   "outputs": [
    {
     "data": {
      "text/plain": [
       "int"
      ]
     },
     "execution_count": 17,
     "metadata": {},
     "output_type": "execute_result"
    }
   ],
   "source": [
    "type(liste3[0])"
   ]
  },
  {
   "cell_type": "code",
   "execution_count": 18,
   "metadata": {},
   "outputs": [
    {
     "data": {
      "text/plain": [
       "str"
      ]
     },
     "execution_count": 18,
     "metadata": {},
     "output_type": "execute_result"
    }
   ],
   "source": [
    "type(liste3[2])"
   ]
  },
  {
   "cell_type": "markdown",
   "metadata": {},
   "source": [
    "Bir listenin elemanlarına liste sonundan başlayarak da erişebiliriz. Listenin ilk elemanının sıra numarasının sıfır olduğunu söylemiştik. Liste elemanlarını sondan başa numaralandırmak içinse sondaki eleman -1, ondan bir önceki eleman -2, bir önceki -3 sıra numarası veririz."
   ]
  },
  {
   "cell_type": "code",
   "execution_count": 19,
   "metadata": {},
   "outputs": [
    {
     "data": {
      "text/plain": [
       "19"
      ]
     },
     "execution_count": 19,
     "metadata": {},
     "output_type": "execute_result"
    }
   ],
   "source": [
    "liste = [4, 7, 9, 12, 15, 19]\n",
    "liste[-1]"
   ]
  },
  {
   "cell_type": "code",
   "execution_count": 20,
   "metadata": {},
   "outputs": [
    {
     "data": {
      "text/plain": [
       "15"
      ]
     },
     "execution_count": 20,
     "metadata": {},
     "output_type": "execute_result"
    }
   ],
   "source": [
    "liste[-2]"
   ]
  },
  {
   "cell_type": "code",
   "execution_count": 21,
   "metadata": {},
   "outputs": [
    {
     "data": {
      "text/plain": [
       "12"
      ]
     },
     "execution_count": 21,
     "metadata": {},
     "output_type": "execute_result"
    }
   ],
   "source": [
    "liste[-3]"
   ]
  },
  {
   "cell_type": "markdown",
   "metadata": {},
   "source": [
    "Şimdiye kadar sadece listedeki bir elemana erişmek için gerekli yazım şeklini gördük. Peki birden fazla elemana erişmek için ne yazmamız gerekir? Örneğin, listedeki 2 ve 5 sıra sayısına sahip elemanları çekmek için ne yazmamız gerekir? Ardışık sıra numaralarını belirtmek için iki nokta (`:`) işareti kullanılır. \n",
    "\n",
    "Ancak, listede : işaretini kullanarak birden fazla elemana erişirken bir noktaya çok dikkat edilmelidir. Örneğin yukarıdaki listeyi ele alalım. Listenin 2, 3, ve 4 sıra numarasına sahip elemanlarını görmek için ne yazmalıyız? İlk verinin sıra numarasının 0 olduğunu unutmayın. Bu durumda listedeki 2,3 ve 4 sıra numarasına sahip veriler 9, 12 ve 15 oluyor? Akla gelen ilk cevap liste[2:4] yazmaktır. Ancak aşağıda liste[2:4] yazdığımızda ne çıktığına bakalım. "
   ]
  },
  {
   "cell_type": "code",
   "execution_count": 22,
   "metadata": {},
   "outputs": [
    {
     "data": {
      "text/plain": [
       "[9, 12]"
      ]
     },
     "execution_count": 22,
     "metadata": {},
     "output_type": "execute_result"
    }
   ],
   "source": [
    "liste = [4, 7, 9, 12, 15, 19]\n",
    "liste[2:4]"
   ]
  },
  {
   "cell_type": "markdown",
   "metadata": {},
   "source": [
    "Bir listeden ardışık elemanları çekerken liste[a:b] yazdığımızda a sıra numarası ile başlayan ve b sıra numarası ile biten verilerin gelmesini bekleriz. Ancak, b sıra numarasındaki veri işleme dahil edilmez. Ondan bir önceki veri alınır. Yani, liste[2:4] yazdığımızda 2. ve 3. sıradaki elemanlar gelir ama 4. sıradaki eleman dahil edilmez. Bu nedenle istediğimiz en son sıranın bir fazlasını yazmamız gerekir. Örneğin, yukarıdaki listenin ilk 3 elemanını almak için hangi indeks numaralarını yazmak gerekir? İlk üç elemanın indeks numaraları 0, 1 ve 2’dir. İstediğimiz ilk elemanın indeks numarasını ve son elemanın indeks numarasının bir fazlasını yazmamız gerektiğini hatırlayalım. "
   ]
  },
  {
   "cell_type": "code",
   "execution_count": 23,
   "metadata": {},
   "outputs": [
    {
     "data": {
      "text/plain": [
       "[4, 7, 9]"
      ]
     },
     "execution_count": 23,
     "metadata": {},
     "output_type": "execute_result"
    }
   ],
   "source": [
    "liste[0:3]"
   ]
  },
  {
   "cell_type": "markdown",
   "metadata": {},
   "source": [
    "(:) işaretinin soluna herhangi bir sayı yazılmazsa, burada sıfır olduğu varsayılır. Yani liste[:3] ile liste[0:3] aynı anlama gelmektedir. "
   ]
  },
  {
   "cell_type": "code",
   "execution_count": 24,
   "metadata": {},
   "outputs": [
    {
     "data": {
      "text/plain": [
       "True"
      ]
     },
     "execution_count": 24,
     "metadata": {},
     "output_type": "execute_result"
    }
   ],
   "source": [
    "liste[:3] == liste[0:3]"
   ]
  },
  {
   "cell_type": "markdown",
   "metadata": {},
   "source": [
    "Benzer şekilde (:) işaretinin sağına herhangi bir sayı yazılmazsa, listenin sonuna kadar bütün veriler alınır. Örneğin, liste[3: ] yazıldığında, 3 sıra numarasına sahip veriden başlayarak liste sonuna kadar tüm veriler çekilir. "
   ]
  },
  {
   "cell_type": "code",
   "execution_count": 25,
   "metadata": {},
   "outputs": [
    {
     "data": {
      "text/plain": [
       "[12, 15, 19]"
      ]
     },
     "execution_count": 25,
     "metadata": {},
     "output_type": "execute_result"
    }
   ],
   "source": [
    "liste[3:]"
   ]
  },
  {
   "cell_type": "markdown",
   "metadata": {},
   "source": [
    "Üçüncü olarak sayıların kaçar atlanarak seçileceğini gösteren bir sayı yazabiliriz. Örneğin, liste[a:b:k] yazdığımızda, a sıra numarasından başlayıp b-1 sıra numarasında biten ve k atlayarak giden bir seçim yapılmasını isteriz. Aşağıdaki örnekte, listede 3. sıra numarasında başlayıp 11. sıra numarasına kadar, ikişer atlayarak giden bir seçim yapıyoruz.  "
   ]
  },
  {
   "cell_type": "code",
   "execution_count": 26,
   "metadata": {},
   "outputs": [
    {
     "data": {
      "text/plain": [
       "[12, 19, 6, 12, 11]"
      ]
     },
     "execution_count": 26,
     "metadata": {},
     "output_type": "execute_result"
    }
   ],
   "source": [
    "liste = [4, 7, 9, 12, 15, 19, 3, 6, 8, 12, 13, 11, 2, 5, 9]\n",
    "liste[3:12:2]"
   ]
  },
  {
   "cell_type": "markdown",
   "metadata": {},
   "source": [
    "Şimdi de daha önceki örneklerde gördüğümüz listelerden oluşmuş listeyi dikkate alalım. Listenin içindeki listelerin elemanlarına nasıl erişebiliriz?"
   ]
  },
  {
   "cell_type": "code",
   "execution_count": 27,
   "metadata": {},
   "outputs": [
    {
     "data": {
      "text/plain": [
       "['Eren', 100]"
      ]
     },
     "execution_count": 27,
     "metadata": {},
     "output_type": "execute_result"
    }
   ],
   "source": [
    "notlar = [['Eren', 100],\n",
    "          ['Ilhan', 99],\n",
    "          ['Ali', 98],\n",
    "          ['Erman', 97],\n",
    "          ['Mehmet', 96]]\n",
    "\n",
    "notlar[0]"
   ]
  },
  {
   "cell_type": "code",
   "execution_count": 28,
   "metadata": {},
   "outputs": [
    {
     "data": {
      "text/plain": [
       "['Ali', 98]"
      ]
     },
     "execution_count": 28,
     "metadata": {},
     "output_type": "execute_result"
    }
   ],
   "source": [
    "notlar[2]"
   ]
  },
  {
   "cell_type": "code",
   "execution_count": 29,
   "metadata": {},
   "outputs": [
    {
     "data": {
      "text/plain": [
       "['Mehmet', 96]"
      ]
     },
     "execution_count": 29,
     "metadata": {},
     "output_type": "execute_result"
    }
   ],
   "source": [
    "notlar[-1]"
   ]
  },
  {
   "cell_type": "markdown",
   "metadata": {},
   "source": [
    "Liste ismi ile endekslediğimizde beklenen şekilde liste içindeki listelere erişiyoruz. Peki, örneğin 2. sıradaki listenin ikinci elemanına erişmek istersek ne yapmamız gerekir? Dikkat ederseniz, notlar[1] şeklinde belirtilen verinin kendisi de bir listedir. O halde bu listenin içindeki bir elemana erişmek için yanına bir [ ] daha getirmek gerekir. Diyelim ki ana listenin 2. sırasındaki alt listedeki ismi ve notu görmek istiyoruz. İkinci sıradaki elemanın indeks değerinin 1 olduğunu hatırlayalım. "
   ]
  },
  {
   "cell_type": "code",
   "execution_count": 30,
   "metadata": {},
   "outputs": [
    {
     "data": {
      "text/plain": [
       "'Ilhan'"
      ]
     },
     "execution_count": 30,
     "metadata": {},
     "output_type": "execute_result"
    }
   ],
   "source": [
    "notlar[1][0]"
   ]
  },
  {
   "cell_type": "code",
   "execution_count": 31,
   "metadata": {},
   "outputs": [
    {
     "data": {
      "text/plain": [
       "99"
      ]
     },
     "execution_count": 31,
     "metadata": {},
     "output_type": "execute_result"
    }
   ],
   "source": [
    "notlar[1][1]"
   ]
  },
  {
   "cell_type": "code",
   "execution_count": 32,
   "metadata": {},
   "outputs": [
    {
     "data": {
      "text/plain": [
       "'Ilhan'"
      ]
     },
     "execution_count": 32,
     "metadata": {},
     "output_type": "execute_result"
    }
   ],
   "source": [
    "(isim, puan) = (notlar[1][0], notlar[1][1])\n",
    "isim"
   ]
  },
  {
   "cell_type": "code",
   "execution_count": 33,
   "metadata": {},
   "outputs": [
    {
     "data": {
      "text/plain": [
       "99"
      ]
     },
     "execution_count": 33,
     "metadata": {},
     "output_type": "execute_result"
    }
   ],
   "source": [
    "puan"
   ]
  },
  {
   "cell_type": "markdown",
   "metadata": {},
   "source": [
    "Yukarıda da bahsettiğimiz gibi bir listenin elemanları değiştirilebilir. Yani, herhangi bir sıradaki değeri farklı bir değerle değiştirebiliriz. String ya da bytes veri tipinde bunun mümkün olmadığını hatırlayalım. Bir listenin herhangi bir elemanını değiştirmek için basitçe liste adı ile birlikte köşeli parantez içinde ilgili sıra numarasını yazdıktan sonra eşittir işareti kullanarak buraya atamak istediğimiz değeri yazarız. "
   ]
  },
  {
   "cell_type": "code",
   "execution_count": 34,
   "metadata": {},
   "outputs": [
    {
     "data": {
      "text/plain": [
       "[1, 2, 3, 10]"
      ]
     },
     "execution_count": 34,
     "metadata": {},
     "output_type": "execute_result"
    }
   ],
   "source": [
    "liste = [1, 2, 3, 4]\n",
    "liste[3] = 10\n",
    "liste"
   ]
  },
  {
   "cell_type": "code",
   "execution_count": 35,
   "metadata": {},
   "outputs": [
    {
     "data": {
      "text/plain": [
       "['sayılar', 2, 3, 10]"
      ]
     },
     "execution_count": 35,
     "metadata": {},
     "output_type": "execute_result"
    }
   ],
   "source": [
    "liste[0] = \"sayılar\"\n",
    "liste"
   ]
  },
  {
   "cell_type": "markdown",
   "metadata": {},
   "source": [
    "Bir listedeki herhangi bir elemanın hangi sırada olduğunu yani indeks numarasını öğrenmek için `.index()` metodunu kullanabiliriz. "
   ]
  },
  {
   "cell_type": "code",
   "execution_count": 36,
   "metadata": {},
   "outputs": [
    {
     "data": {
      "text/plain": [
       "4"
      ]
     },
     "execution_count": 36,
     "metadata": {},
     "output_type": "execute_result"
    }
   ],
   "source": [
    "notlar = ['Eren', 100, 'Ilhan', 99, \n",
    "          'Ali', 98, 'Erman', 97, \n",
    "          'Mehmet', 96]\n",
    "notlar.index('Ali')"
   ]
  },
  {
   "cell_type": "code",
   "execution_count": 37,
   "metadata": {},
   "outputs": [
    {
     "data": {
      "text/plain": [
       "5"
      ]
     },
     "execution_count": 37,
     "metadata": {},
     "output_type": "execute_result"
    }
   ],
   "source": [
    "notlar.index(98)"
   ]
  },
  {
   "cell_type": "markdown",
   "metadata": {},
   "source": [
    "Belirli bir sıradaki elemanı listeden silmenin bir yöntemi de .pop() yöntemini kullanmaktır. Bu metod istenen elemanı listeden çıkarırken aynı zamanda elemanı farklı bir değişken adı ile kaydetmeye de izin verir. "
   ]
  },
  {
   "cell_type": "code",
   "execution_count": 38,
   "metadata": {},
   "outputs": [
    {
     "name": "stdout",
     "output_type": "stream",
     "text": [
      "liste:  ['A', 'B', 'C', 'D', 'E']\n",
      "silinen değer:  D\n",
      "liste:  ['A', 'B', 'C', 'E']\n"
     ]
    }
   ],
   "source": [
    "liste = ['A', 'B', 'C', 'D', 'E']\n",
    "print(\"liste: \", liste)\n",
    "sil = liste.pop(3)\n",
    "print(\"silinen değer: \", sil)\n",
    "print(\"liste: \", liste)"
   ]
  },
  {
   "cell_type": "markdown",
   "metadata": {},
   "source": [
    "Bir listedeki herhangi bir elemanın sayısını görmek için `.count()` metodu kullanılabilir. Aşağıdaki örnekte, olçum_degerleri listesinde 3 adet 4 sayısının yer aldığı görülmektedir. "
   ]
  },
  {
   "cell_type": "code",
   "execution_count": 39,
   "metadata": {},
   "outputs": [
    {
     "data": {
      "text/plain": [
       "3"
      ]
     },
     "execution_count": 39,
     "metadata": {},
     "output_type": "execute_result"
    }
   ],
   "source": [
    "olcum = [1, 3, 6, 9, 3, 4, 4, 7, 8, 2, 4, 2, 1]\n",
    "olcum.count(4)"
   ]
  },
  {
   "cell_type": "markdown",
   "metadata": {},
   "source": [
    "Listede olmayan bir sıra numarasına atama yapmayı denerseniz aşağıdaki gibi bir hata mesajı alırsınız. \n",
    "\n",
    "```Python\n",
    "liste[4] = 15\n",
    "\n",
    "Traceback (most recent call last):\n",
    "  File \"<stdin>\", line 1, in <module>\n",
    "IndexError: list assignment index out of range\n",
    "```\n",
    "\n",
    "Bu örnekte gördüğümüz gibi listenin olmayan sıradaki elemanına doğrudan atama yapmak mümkün değildir. Bir listeye yeni eleman atamak için `.append()` metodu kullanılabilir. "
   ]
  },
  {
   "cell_type": "code",
   "execution_count": 40,
   "metadata": {},
   "outputs": [
    {
     "name": "stdout",
     "output_type": "stream",
     "text": [
      "liste:  ['A', 'B', 'C', 'E']\n",
      "liste:  ['A', 'B', 'C', 'E', 12]\n",
      "liste:  ['A', 'B', 'C', 'E', 12, 15]\n"
     ]
    }
   ],
   "source": [
    "print(\"liste: \", liste)\n",
    "liste.append (12)\n",
    "print(\"liste: \", liste)\n",
    "liste.append (15)\n",
    "print(\"liste: \", liste)"
   ]
  },
  {
   "cell_type": "code",
   "execution_count": null,
   "metadata": {},
   "outputs": [],
   "source": []
  }
 ],
 "metadata": {
  "kernelspec": {
   "display_name": ".venv",
   "language": "python",
   "name": "python3"
  },
  "language_info": {
   "codemirror_mode": {
    "name": "ipython",
    "version": 3
   },
   "file_extension": ".py",
   "mimetype": "text/x-python",
   "name": "python",
   "nbconvert_exporter": "python",
   "pygments_lexer": "ipython3",
   "version": "3.11.4"
  }
 },
 "nbformat": 4,
 "nbformat_minor": 2
}