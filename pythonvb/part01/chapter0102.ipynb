{
 "cells": [
  {
   "cell_type": "markdown",
   "metadata": {},
   "source": [
    "# Temel İşlemler ve Veri Tipleri\n",
    "## Temel Aritmetik İşlemler\n",
    "\n",
    "Python da tüm programlama dilleri gibi temelde bir hesap makinesidir. En basitinden başlayarak Python'da yapılabilecek matematiksel işlemlere göz atalım. Amacımız tabii ki Python’u bir hesap makinesi olarak kullanmak değil ancak kullandığınız editöre alışmak için alıştırma yapmak. "
   ]
  },
  {
   "cell_type": "code",
   "execution_count": 1,
   "metadata": {},
   "outputs": [
    {
     "data": {
      "text/plain": [
       "25"
      ]
     },
     "execution_count": 1,
     "metadata": {},
     "output_type": "execute_result"
    }
   ],
   "source": [
    "18 + 7"
   ]
  },
  {
   "cell_type": "code",
   "execution_count": 2,
   "metadata": {},
   "outputs": [
    {
     "data": {
      "text/plain": [
       "64"
      ]
     },
     "execution_count": 2,
     "metadata": {},
     "output_type": "execute_result"
    }
   ],
   "source": [
    "81 - 17"
   ]
  },
  {
   "cell_type": "code",
   "execution_count": 3,
   "metadata": {},
   "outputs": [
    {
     "data": {
      "text/plain": [
       "72"
      ]
     },
     "execution_count": 3,
     "metadata": {},
     "output_type": "execute_result"
    }
   ],
   "source": [
    "12 * 6"
   ]
  },
  {
   "cell_type": "code",
   "execution_count": 4,
   "metadata": {},
   "outputs": [
    {
     "data": {
      "text/plain": [
       "8.0"
      ]
     },
     "execution_count": 4,
     "metadata": {},
     "output_type": "execute_result"
    }
   ],
   "source": [
    "96 / 12"
   ]
  },
  {
   "cell_type": "markdown",
   "metadata": {},
   "source": [
    "Bir değeri her defasında tekrar tekrar kullanmak yerine bu değeri bir değişkene atayıp değişkeni kullanmak ve değiştirmek gerekebilir. "
   ]
  },
  {
   "cell_type": "code",
   "execution_count": 5,
   "metadata": {},
   "outputs": [
    {
     "data": {
      "text/plain": [
       "12"
      ]
     },
     "execution_count": 5,
     "metadata": {},
     "output_type": "execute_result"
    }
   ],
   "source": [
    "a = 12\n",
    "a"
   ]
  },
  {
   "cell_type": "code",
   "execution_count": 6,
   "metadata": {},
   "outputs": [
    {
     "data": {
      "text/plain": [
       "144"
      ]
     },
     "execution_count": 6,
     "metadata": {},
     "output_type": "execute_result"
    }
   ],
   "source": [
    "a ** 2"
   ]
  },
  {
   "cell_type": "markdown",
   "metadata": {},
   "source": [
    "Anlaşılacağı üzere \"**\" operatörü üs alma için kullanılır. En son geçerli (hesaplanmış) değeri göstermek ya da kullanmak için alt çizgi \"_\" kullanılır."
   ]
  },
  {
   "cell_type": "code",
   "execution_count": 7,
   "metadata": {},
   "outputs": [
    {
     "data": {
      "text/plain": [
       "144"
      ]
     },
     "execution_count": 7,
     "metadata": {},
     "output_type": "execute_result"
    }
   ],
   "source": [
    "_"
   ]
  },
  {
   "cell_type": "code",
   "execution_count": 8,
   "metadata": {},
   "outputs": [
    {
     "data": {
      "text/plain": [
       "6.0"
      ]
     },
     "execution_count": 8,
     "metadata": {},
     "output_type": "execute_result"
    }
   ],
   "source": [
    "_ / 24"
   ]
  },
  {
   "cell_type": "markdown",
   "metadata": {},
   "source": [
    "Ekrana herhangi bir şey yazdırmak için print () komutu kullanılır. "
   ]
  },
  {
   "cell_type": "code",
   "execution_count": 9,
   "metadata": {},
   "outputs": [
    {
     "name": "stdout",
     "output_type": "stream",
     "text": [
      "Python öğreniyorum\n"
     ]
    }
   ],
   "source": [
    "print(\"Python öğreniyorum\")"
   ]
  },
  {
   "cell_type": "markdown",
   "metadata": {},
   "source": [
    "Python 3'te, Python 2'den farklı olarak print() komutu mutlaka parantez ile birlikte kullanılmalıdır. Python’da kullanılan başlıca matematiksel işlem ve karşılaştırma işaretleri (operatörleri) aşağıdaki gibidir:\n",
    "\n",
    "| Operatör  | Açıklama       |\n",
    "|:---------:|:--------------:|\n",
    "|     +     |  Toplama       |\n",
    "|     -     |  Çıkarma       |\n",
    "|     /     |  Bölme         |\n",
    "|     *     |  Çarpma        |\n",
    "|     %     |  Mod alma      |\n",
    "|    **     |  Üs alma       |\n",
    "|     //    | Tamsayı bölme  |"
   ]
  },
  {
   "cell_type": "code",
   "execution_count": 10,
   "metadata": {},
   "outputs": [
    {
     "data": {
      "text/plain": [
       "49"
      ]
     },
     "execution_count": 10,
     "metadata": {},
     "output_type": "execute_result"
    }
   ],
   "source": [
    "7 ** 2"
   ]
  },
  {
   "cell_type": "code",
   "execution_count": 11,
   "metadata": {},
   "outputs": [
    {
     "data": {
      "text/plain": [
       "True"
      ]
     },
     "execution_count": 11,
     "metadata": {},
     "output_type": "execute_result"
    }
   ],
   "source": [
    "12 == 12"
   ]
  },
  {
   "cell_type": "code",
   "execution_count": 12,
   "metadata": {},
   "outputs": [
    {
     "data": {
      "text/plain": [
       "False"
      ]
     },
     "execution_count": 12,
     "metadata": {},
     "output_type": "execute_result"
    }
   ],
   "source": [
    "13.5 == 12.5"
   ]
  },
  {
   "cell_type": "code",
   "execution_count": 13,
   "metadata": {},
   "outputs": [
    {
     "data": {
      "text/plain": [
       "True"
      ]
     },
     "execution_count": 13,
     "metadata": {},
     "output_type": "execute_result"
    }
   ],
   "source": [
    "2.78 <= 3.14"
   ]
  },
  {
   "cell_type": "markdown",
   "metadata": {},
   "source": [
    "Python yazılan bir matematiksel işlemi değerlendirirken matematiksel kurallara uygun olarak önce parantez içini, sonra üs alma işlemini ve daha sonra da sırasıyla bölme ve çarpma işlemleri ile toplama ve çıkarma işlemlerini dikkate alır. "
   ]
  },
  {
   "cell_type": "code",
   "execution_count": 14,
   "metadata": {},
   "outputs": [
    {
     "data": {
      "text/plain": [
       "36"
      ]
     },
     "execution_count": 14,
     "metadata": {},
     "output_type": "execute_result"
    }
   ],
   "source": [
    "3**2 * 4"
   ]
  },
  {
   "cell_type": "code",
   "execution_count": 15,
   "metadata": {},
   "outputs": [
    {
     "data": {
      "text/plain": [
       "6561"
      ]
     },
     "execution_count": 15,
     "metadata": {},
     "output_type": "execute_result"
    }
   ],
   "source": [
    "3**(2*4)"
   ]
  },
  {
   "cell_type": "code",
   "execution_count": 16,
   "metadata": {},
   "outputs": [
    {
     "data": {
      "text/plain": [
       "7.0"
      ]
     },
     "execution_count": 16,
     "metadata": {},
     "output_type": "execute_result"
    }
   ],
   "source": [
    "5 + 4 / 2"
   ]
  },
  {
   "cell_type": "code",
   "execution_count": 17,
   "metadata": {},
   "outputs": [
    {
     "data": {
      "text/plain": [
       "4.5"
      ]
     },
     "execution_count": 17,
     "metadata": {},
     "output_type": "execute_result"
    }
   ],
   "source": [
    "(5 + 4) / 2"
   ]
  },
  {
   "cell_type": "markdown",
   "metadata": {},
   "source": [
    "Python terminalinde ya da IPython veya Jupyter gibi bir ortamda işlem yapıyorsanız, yazdığınız işlemin sonucu yukarıda olduğu gibi hemen alt satırda görünecektir. Ancak PyCharm gibi entegre bir Python ortamında kod yazıyorsanız, programı çalıştırdığınızda yazdığınız matematiksel işlemin sonucu çıktılar arasında görünmez. Python, işlemi hesaplar ancak çıktıyı yazması gerektiğini bilemez. İşlemin sonucunu yazmasını print() komutu ile söyleyebilirsiniz. \n",
    "\n",
    "```Python\n",
    "12 * 5\n",
    "Process finished with exit code 0\n",
    "print (12*5)\n",
    "60\n",
    "Process finished with exit code 0\n",
    "\n",
    "```"
   ]
  },
  {
   "cell_type": "code",
   "execution_count": 18,
   "metadata": {},
   "outputs": [
    {
     "data": {
      "text/plain": [
       "2.5"
      ]
     },
     "execution_count": 18,
     "metadata": {},
     "output_type": "execute_result"
    }
   ],
   "source": [
    "5 / 2"
   ]
  },
  {
   "cell_type": "code",
   "execution_count": 19,
   "metadata": {},
   "outputs": [
    {
     "data": {
      "text/plain": [
       "3"
      ]
     },
     "execution_count": 19,
     "metadata": {},
     "output_type": "execute_result"
    }
   ],
   "source": [
    "10 // 3"
   ]
  },
  {
   "cell_type": "code",
   "execution_count": 20,
   "metadata": {},
   "outputs": [
    {
     "data": {
      "text/plain": [
       "7"
      ]
     },
     "execution_count": 20,
     "metadata": {},
     "output_type": "execute_result"
    }
   ],
   "source": [
    "23 // 3"
   ]
  },
  {
   "cell_type": "markdown",
   "metadata": {},
   "source": [
    "Python’u terminalden ya da IPython veya Jupyter gibi bir editörden kullanıyorsanız herhangi bir matematiksel işlemin sonucunu görmek için doğrudan işlemi yazmanız yeterli olacaktır. Terminal ve IPython Shell’de işlemi yazdıktan sonra Enter tuşuna, Jupyter notebook dokümanında ise hücre içine kodu yazdıktan sonra Shift + Enter tuşlarına basmanız gerekir. Diğer taraftan PyCharm gibi bir entegre geliştirme ortamında (IDE: Integrated Development Environment) kod dosyası içinde işlemi yazarsanız, program çalıştırdığınızda hiçbir çıktı ile karşılaşmazsınız. Burada bir aritmetik işleminin sonucunu görmek için ilgili işlemi print() fonksiyonu içinde yazmak gerekir. Aşağıdaki örnekte, deneme.py dosyasının içine sadece 5**4 yazdığımızı düşünelim.\n",
    "\n",
    "\n",
    "```python\n",
    "5**4\n",
    "C:\\ProgramData\\Anaconda3\\python.exe \n",
    "C:/Users/PycharmProjects/deneme.py\n",
    "Process finished with exit code 0\n",
    "```"
   ]
  },
  {
   "cell_type": "markdown",
   "metadata": {},
   "source": [
    "Yukarıda deneme.py dosyası çalıştırıldığında çıktı da herhangi bir sonuç görünmemektedir. Aynı kodu print() fonksiyonu kullanarak çalıştırdığımızda ise aşağıdaki sonuç görünmektedir. \n",
    "\n",
    "```python\n",
    "print (5**4)\n",
    "C:\\ProgramData\\Anaconda3\\python.exe \n",
    "C:/Users/PycharmProjects/deneme.py\n",
    "625\n",
    "Process finished with exit code 0\t\n",
    "\n",
    "```\n",
    "Son olarak Python’da açıklama yazmayı görelim. Bütün programlama dillerinde kodların arasında açıklama yazabilmek için belirli kurallar vardır. Yazdığınız programları okuyanların daha kolay anlayabilmesi için kod satırları arasında açıklayıcı cümleler yazmak iyi bir uygulama şeklidir. Siz bile daha önce yazdığınız bir kodu incelerken “Acaba burada ne yapmak istemiştim?” diye düşünebilirsiniz. Yazılan bir açıklama cümlesinin kod parçası olmadığını anlatmanın bir yolu olmalıdır. Python’da bu cümlenin önüne # işareti getirmektir. Python’da, bu işaret görüldüğünde satırın geri kalan kısmı değerlendirmeye alınmaz. \n"
   ]
  },
  {
   "cell_type": "code",
   "execution_count": 21,
   "metadata": {},
   "outputs": [
    {
     "name": "stdout",
     "output_type": "stream",
     "text": [
      "25\n",
      "1\n",
      "3\n"
     ]
    }
   ],
   "source": [
    "print (5**2)  # Üs alma işlemi\n",
    "print(13 % 3) # Mod alma işlemi\n",
    "\n",
    "# Aşağıdaki işlemde tam sayı bölme örneği veriliyor\n",
    "print(15 // 4)"
   ]
  },
  {
   "cell_type": "markdown",
   "metadata": {},
   "source": [
    "Python’da açıklama cümlelerini birden fazla satıra yaymak da mümkündür. Açıklamanın başına ve sonuna üç tane tırnak işareti \"\"\" getirerek açıklamaları birden fazla satırda yazabilirsiniz. "
   ]
  },
  {
   "cell_type": "code",
   "execution_count": 23,
   "metadata": {},
   "outputs": [
    {
     "name": "stdout",
     "output_type": "stream",
     "text": [
      "1764.0\n"
     ]
    }
   ],
   "source": [
    "\"\"\" Birden fazla satıra\n",
    "yayılmış açıklama cümlesi örneği.\n",
    "Verilen sayının karesini yazdırma.\n",
    "\"\"\"\n",
    "x = \"42\"   \n",
    "print (float (x)**2)     # Kullanıcının 42 girdiği durumda"
   ]
  },
  {
   "cell_type": "markdown",
   "metadata": {},
   "source": [
    "## Değişkenler\n",
    "\n",
    "Tüm programlama dillerinin ortak bir özelliği de değişken kullanmalarıdır. Değişken, en basit tanımıyla bir değeri daha sonra da kullanabilmek için bu değere verilen isimdir. Örneğin, e = 2.71828183 yazarsam, bundan sonra her defasında sayıyı uzun uzun yazmak yerine e yazmam yeterli olacaktır. Program, e yazdığımda aslında neyi kast ettiğimi anlayacaktır. "
   ]
  },
  {
   "cell_type": "code",
   "execution_count": null,
   "metadata": {},
   "outputs": [],
   "source": []
  }
 ],
 "metadata": {
  "kernelspec": {
   "display_name": ".venv",
   "language": "python",
   "name": "python3"
  },
  "language_info": {
   "codemirror_mode": {
    "name": "ipython",
    "version": 3
   },
   "file_extension": ".py",
   "mimetype": "text/x-python",
   "name": "python",
   "nbconvert_exporter": "python",
   "pygments_lexer": "ipython3",
   "version": "3.11.4"
  },
  "orig_nbformat": 4
 },
 "nbformat": 4,
 "nbformat_minor": 2
}
